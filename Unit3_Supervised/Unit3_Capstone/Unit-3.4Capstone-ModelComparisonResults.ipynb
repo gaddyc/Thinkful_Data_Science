{
 "cells": [
  {
   "cell_type": "markdown",
   "metadata": {},
   "source": [
    "# Comparison of all the supervised models\n",
    "    All the hyperparmeters values were entered below.\n",
    "    The data was scaled for KNN and SVM.\n",
    "    The AUC/ROC was calculated.\n",
    "    The Accuracy was calculated for each.\n",
    "    The best model was picked and the Recall and Prcision was calculated.\n",
    "    The feature importance was also calculated.\n",
    "\n",
    "    1.) Naive Bayes\n",
    "    2.) KNN\n",
    "    3.) Logistic Regression\n",
    "    4.) Random Forest\n",
    "    5.) Support Vector Machine\n",
    "    6.) Extreme Gradient Boost"
   ]
  },
  {
   "cell_type": "code",
   "execution_count": 3,
   "metadata": {},
   "outputs": [],
   "source": [
    "import numpy as np\n",
    "import pandas as pd\n",
    "import seaborn as sns\n",
    "from pandas.tools.plotting import scatter_matrix\n",
    "import matplotlib.pyplot as plt\n",
    "from time import time\n",
    "from IPython.display import display\n",
    "from sklearn import model_selection\n",
    "from sklearn.metrics import accuracy_score,roc_auc_score, roc_curve\n",
    "from sklearn.metrics import classification_report\n",
    "from sklearn.metrics import confusion_matrix\n",
    "from sklearn.metrics import f1_score\n",
    "from sklearn.naive_bayes import BernoulliNB, GaussianNB\n",
    "from sklearn.model_selection import train_test_split\n",
    "from sklearn.linear_model import LogisticRegression\n",
    "from sklearn.tree import DecisionTreeClassifier\n",
    "from sklearn.neighbors import KNeighborsClassifier\n",
    "from sklearn.ensemble import RandomForestClassifier\n",
    "from sklearn.ensemble import AdaBoostClassifier\n",
    "import xgboost as xgb\n",
    "from xgboost import XGBClassifier\n",
    "from sklearn.pipeline import Pipeline\n",
    "\n",
    "from sklearn.pipeline import make_pipeline\n",
    "from sklearn import preprocessing\n",
    "from sklearn.svm import SVC\n",
    "from sklearn.preprocessing import StandardScaler\n",
    "\n",
    "%matplotlib inline\n",
    "import warnings\n",
    "warnings.filterwarnings('ignore')"
   ]
  },
  {
   "cell_type": "code",
   "execution_count": 4,
   "metadata": {},
   "outputs": [
    {
     "data": {
      "text/html": [
       "<div>\n",
       "<style scoped>\n",
       "    .dataframe tbody tr th:only-of-type {\n",
       "        vertical-align: middle;\n",
       "    }\n",
       "\n",
       "    .dataframe tbody tr th {\n",
       "        vertical-align: top;\n",
       "    }\n",
       "\n",
       "    .dataframe thead th {\n",
       "        text-align: right;\n",
       "    }\n",
       "</style>\n",
       "<table border=\"1\" class=\"dataframe\">\n",
       "  <thead>\n",
       "    <tr style=\"text-align: right;\">\n",
       "      <th></th>\n",
       "      <th>age</th>\n",
       "      <th>sex</th>\n",
       "      <th>resting_bp</th>\n",
       "      <th>cholesterol</th>\n",
       "      <th>fasting_blood_sugar</th>\n",
       "      <th>max_heart_rate</th>\n",
       "      <th>exercise_angina</th>\n",
       "      <th>oldpeak</th>\n",
       "      <th>num_major_vessels</th>\n",
       "      <th>chest_pain_1</th>\n",
       "      <th>chest_pain_2</th>\n",
       "      <th>chest_pain_3</th>\n",
       "      <th>resting_ecg_1</th>\n",
       "      <th>resting_ecg_2</th>\n",
       "      <th>thalium_stress_test_1</th>\n",
       "      <th>thalium_stress_test_2</th>\n",
       "      <th>thalium_stress_test_3</th>\n",
       "      <th>slope_1</th>\n",
       "      <th>slope_2</th>\n",
       "    </tr>\n",
       "  </thead>\n",
       "  <tbody>\n",
       "    <tr>\n",
       "      <th>0</th>\n",
       "      <td>63</td>\n",
       "      <td>1</td>\n",
       "      <td>145</td>\n",
       "      <td>233</td>\n",
       "      <td>1</td>\n",
       "      <td>150</td>\n",
       "      <td>0</td>\n",
       "      <td>2.3</td>\n",
       "      <td>0</td>\n",
       "      <td>0</td>\n",
       "      <td>0</td>\n",
       "      <td>1</td>\n",
       "      <td>0</td>\n",
       "      <td>0</td>\n",
       "      <td>1</td>\n",
       "      <td>0</td>\n",
       "      <td>0</td>\n",
       "      <td>0</td>\n",
       "      <td>0</td>\n",
       "    </tr>\n",
       "    <tr>\n",
       "      <th>1</th>\n",
       "      <td>37</td>\n",
       "      <td>1</td>\n",
       "      <td>130</td>\n",
       "      <td>250</td>\n",
       "      <td>0</td>\n",
       "      <td>187</td>\n",
       "      <td>0</td>\n",
       "      <td>3.5</td>\n",
       "      <td>0</td>\n",
       "      <td>0</td>\n",
       "      <td>1</td>\n",
       "      <td>0</td>\n",
       "      <td>1</td>\n",
       "      <td>0</td>\n",
       "      <td>0</td>\n",
       "      <td>1</td>\n",
       "      <td>0</td>\n",
       "      <td>0</td>\n",
       "      <td>0</td>\n",
       "    </tr>\n",
       "    <tr>\n",
       "      <th>2</th>\n",
       "      <td>41</td>\n",
       "      <td>0</td>\n",
       "      <td>130</td>\n",
       "      <td>204</td>\n",
       "      <td>0</td>\n",
       "      <td>172</td>\n",
       "      <td>0</td>\n",
       "      <td>1.4</td>\n",
       "      <td>0</td>\n",
       "      <td>1</td>\n",
       "      <td>0</td>\n",
       "      <td>0</td>\n",
       "      <td>0</td>\n",
       "      <td>0</td>\n",
       "      <td>0</td>\n",
       "      <td>1</td>\n",
       "      <td>0</td>\n",
       "      <td>0</td>\n",
       "      <td>1</td>\n",
       "    </tr>\n",
       "    <tr>\n",
       "      <th>3</th>\n",
       "      <td>56</td>\n",
       "      <td>1</td>\n",
       "      <td>120</td>\n",
       "      <td>236</td>\n",
       "      <td>0</td>\n",
       "      <td>178</td>\n",
       "      <td>0</td>\n",
       "      <td>0.8</td>\n",
       "      <td>0</td>\n",
       "      <td>1</td>\n",
       "      <td>0</td>\n",
       "      <td>0</td>\n",
       "      <td>1</td>\n",
       "      <td>0</td>\n",
       "      <td>0</td>\n",
       "      <td>1</td>\n",
       "      <td>0</td>\n",
       "      <td>0</td>\n",
       "      <td>1</td>\n",
       "    </tr>\n",
       "    <tr>\n",
       "      <th>4</th>\n",
       "      <td>57</td>\n",
       "      <td>0</td>\n",
       "      <td>120</td>\n",
       "      <td>354</td>\n",
       "      <td>0</td>\n",
       "      <td>163</td>\n",
       "      <td>1</td>\n",
       "      <td>0.6</td>\n",
       "      <td>0</td>\n",
       "      <td>0</td>\n",
       "      <td>0</td>\n",
       "      <td>0</td>\n",
       "      <td>1</td>\n",
       "      <td>0</td>\n",
       "      <td>0</td>\n",
       "      <td>1</td>\n",
       "      <td>0</td>\n",
       "      <td>0</td>\n",
       "      <td>1</td>\n",
       "    </tr>\n",
       "  </tbody>\n",
       "</table>\n",
       "</div>"
      ],
      "text/plain": [
       "   age  sex  resting_bp  cholesterol  fasting_blood_sugar  max_heart_rate  \\\n",
       "0   63    1         145          233                    1             150   \n",
       "1   37    1         130          250                    0             187   \n",
       "2   41    0         130          204                    0             172   \n",
       "3   56    1         120          236                    0             178   \n",
       "4   57    0         120          354                    0             163   \n",
       "\n",
       "   exercise_angina  oldpeak  num_major_vessels  chest_pain_1  chest_pain_2  \\\n",
       "0                0      2.3                  0             0             0   \n",
       "1                0      3.5                  0             0             1   \n",
       "2                0      1.4                  0             1             0   \n",
       "3                0      0.8                  0             1             0   \n",
       "4                1      0.6                  0             0             0   \n",
       "\n",
       "   chest_pain_3  resting_ecg_1  resting_ecg_2  thalium_stress_test_1  \\\n",
       "0             1              0              0                      1   \n",
       "1             0              1              0                      0   \n",
       "2             0              0              0                      0   \n",
       "3             0              1              0                      0   \n",
       "4             0              1              0                      0   \n",
       "\n",
       "   thalium_stress_test_2  thalium_stress_test_3  slope_1  slope_2  \n",
       "0                      0                      0        0        0  \n",
       "1                      1                      0        0        0  \n",
       "2                      1                      0        0        1  \n",
       "3                      1                      0        0        1  \n",
       "4                      1                      0        0        1  "
      ]
     },
     "execution_count": 4,
     "metadata": {},
     "output_type": "execute_result"
    }
   ],
   "source": [
    "X=pd.read_csv('cleaned_heart_data.csv',index_col=0)\n",
    "y=X['target']\n",
    "X=X.drop(['target'],axis=1)\n",
    "X.head()"
   ]
  },
  {
   "cell_type": "markdown",
   "metadata": {},
   "source": [
    "# Model comparison of ROC-AUC score"
   ]
  },
  {
   "cell_type": "code",
   "execution_count": 5,
   "metadata": {},
   "outputs": [
    {
     "name": "stdout",
     "output_type": "stream",
     "text": [
      "\t   ROC/AUC\n",
      "\t score\t  std\n",
      "NB:\t0.9047 (0.0129)\n",
      "KNN:\t0.9047 (0.0176)\n",
      "LR:\t0.9123 (0.0114)\n",
      "SVM:\t0.9057 (0.0026)\n",
      "RF:\t0.8810 (0.0262)\n",
      "XGB:\t0.9047 (0.0201)\n"
     ]
    }
   ],
   "source": [
    "#ROC-AUC scores for all of our models.\n",
    "print('\\t   ROC/AUC\\n\\t score\\t  std')\n",
    "results = []\n",
    "names = []\n",
    "models = []\n",
    "\n",
    "models.append(('NB', BernoulliNB()))\n",
    "models.append(('KNN', make_pipeline(preprocessing.StandardScaler(), \n",
    "                                    KNeighborsClassifier(n_neighbors=42))))\n",
    "models.append(('LR', LogisticRegression()))\n",
    "models.append(('SVM', make_pipeline(preprocessing.StandardScaler(), \n",
    "                                    SVC(kernel='linear',C=100,gamma=1e-05))))\n",
    "\n",
    "models.append(('RF', RandomForestClassifier(bootstrap=True,\n",
    "                                            max_depth=2,\n",
    "                                            min_samples_leaf=30,\n",
    "                                            min_samples_split=5,\n",
    "                                            max_features=4,\n",
    "                                            n_estimators=5)))\n",
    "models.append(('XGB',  XGBClassifier(bootstrap=True,subsample= 0.3,\n",
    "                                     n_estimators=30,max_depth=2,\n",
    "                                     learning_rate=0.3,\n",
    "                                     colsample_bytree=0.15,\n",
    "                                     colsample_bylevel=0.0001)))\n",
    "\n",
    "\n",
    "for name, model in models:\n",
    "    kfold = model_selection.KFold(n_splits = 3, random_state = 99)\n",
    "\n",
    "    cv_results = model_selection.cross_val_score(model, X, y,\n",
    "                                                cv = 3, \n",
    "                                                 scoring = 'roc_auc')\n",
    "    results.append(cv_results)\n",
    "    names.append(name)\n",
    "    msg = \"%s:\\t%.4f (%.4f)\" % (name, cv_results.mean(), cv_results.std())\n",
    "    print(msg)\n",
    "    "
   ]
  },
  {
   "cell_type": "code",
   "execution_count": 6,
   "metadata": {},
   "outputs": [
    {
     "data": {
      "image/png": "[encoded data removed]",
      "text/plain": [
       "<Figure size 432x288 with 1 Axes>"
      ]
     },
     "metadata": {
      "needs_background": "light"
     },
     "output_type": "display_data"
    }
   ],
   "source": [
    "#Let's take a look at these ROC-AUC scores on a box plot\n",
    "fig = plt.figure()\n",
    "fig.suptitle('Models\\n(ROC-AUC Score)')\n",
    "ax = fig.add_subplot(111)\n",
    "plt.boxplot(results)\n",
    "ax.set_xticklabels(names)\n",
    "plt.show()"
   ]
  },
  {
   "cell_type": "markdown",
   "metadata": {},
   "source": [
    "* LR has the best roc/auc score \n",
    "* SVM is the most stable for the ROC-AUC\n",
    "* RF has the worst score and stability"
   ]
  },
  {
   "cell_type": "markdown",
   "metadata": {},
   "source": [
    "------"
   ]
  },
  {
   "cell_type": "markdown",
   "metadata": {},
   "source": [
    "# Model comparison of accuracy score"
   ]
  },
  {
   "cell_type": "code",
   "execution_count": 7,
   "metadata": {},
   "outputs": [
    {
     "name": "stdout",
     "output_type": "stream",
     "text": [
      "\t   Accuracy\n",
      "\t score\t  std\n",
      "NB:\t0.8152 (0.0093)\n",
      "KNN:\t0.8350 (0.0260)\n",
      "LR:\t0.8218 (0.0214)\n",
      "SVM:\t0.8086 (0.0233)\n",
      "RF:\t0.7921 (0.0583)\n",
      "XGB:\t0.8482 (0.0373)\n"
     ]
    }
   ],
   "source": [
    "#Let's see the accuracy scores for all of our models. \n",
    "models = []\n",
    "results = []\n",
    "names = []\n",
    "print('\\t   Accuracy\\n\\t score\\t  std')\n",
    "\n",
    "models.append(('NB', BernoulliNB()))\n",
    "\n",
    "models.append(('KNN', make_pipeline(preprocessing.StandardScaler(), \n",
    "                                    KNeighborsClassifier(n_neighbors=42))))\n",
    "\n",
    "models.append(('LR', LogisticRegression()))\n",
    "\n",
    "models.append(('SVM', make_pipeline(preprocessing.StandardScaler(), \n",
    "                                    SVC(kernel='linear',C=100,gamma=1e-05))))\n",
    "\n",
    "models.append(('RF', RandomForestClassifier(bootstrap=True,\n",
    "                                            max_depth=2,\n",
    "                                            min_samples_leaf=30,\n",
    "                                            min_samples_split=5,\n",
    "                                            max_features=4,\n",
    "                                            n_estimators=5)))\n",
    "\n",
    "models.append(('XGB',  XGBClassifier(bootstrap=True,subsample= 0.3,\n",
    "                                     n_estimators=30,max_depth=2,\n",
    "                                     learning_rate=0.3,\n",
    "                                     colsample_bytree=0.15,\n",
    "                                     colsample_bylevel=0.0001)))\n",
    "\n",
    "\n",
    "for name, model in models:\n",
    "    kfold = model_selection.KFold(n_splits = 3, random_state = 99)\n",
    "    cv_results = model_selection.cross_val_score(model, X, y,\n",
    "                                                cv = 3, \n",
    "                                                 scoring = 'accuracy')\n",
    "    results.append(cv_results)\n",
    "    names.append(name)\n",
    "    msg = \"%s:\\t%.4f (%.4f)\" % (name, cv_results.mean(), cv_results.std())\n",
    "    print(msg)"
   ]
  },
  {
   "cell_type": "code",
   "execution_count": 8,
   "metadata": {},
   "outputs": [
    {
     "data": {
      "image/png": "[encoded data removed]",
      "text/plain": [
       "<Figure size 432x288 with 1 Axes>"
      ]
     },
     "metadata": {
      "needs_background": "light"
     },
     "output_type": "display_data"
    }
   ],
   "source": [
    "#Let's take a look at the Accuracy scores on a box plot\n",
    "fig = plt.figure()\n",
    "fig.suptitle('Models\\n(Accuracy Score)')\n",
    "ax = fig.add_subplot(111)\n",
    "plt.boxplot(results)\n",
    "ax.set_xticklabels(names)\n",
    "plt.show()"
   ]
  },
  {
   "cell_type": "markdown",
   "metadata": {},
   "source": [
    "* XGB has the highest accuracy score \n",
    "* NB is the most stable"
   ]
  },
  {
   "cell_type": "markdown",
   "metadata": {},
   "source": [
    "# Evaluation of the best model - XGB"
   ]
  },
  {
   "cell_type": "code",
   "execution_count": 9,
   "metadata": {},
   "outputs": [
    {
     "data": {
      "text/plain": [
       "XGBClassifier(base_score=0.5, booster='gbtree', bootstrap=True,\n",
       "       colsample_bylevel=0.0001, colsample_bytree=0.15, gamma=0,\n",
       "       learning_rate=0.3, max_delta_step=0, max_depth=2,\n",
       "       min_child_weight=1, missing=None, n_estimators=30, n_jobs=1,\n",
       "       nthread=None, objective='binary:logistic', random_state=0,\n",
       "       reg_alpha=0, reg_lambda=1, scale_pos_weight=1, seed=None,\n",
       "       silent=True, subsample=0.3)"
      ]
     },
     "execution_count": 9,
     "metadata": {},
     "output_type": "execute_result"
    }
   ],
   "source": [
    "best_model = XGBClassifier(bootstrap=True,subsample= 0.3,\n",
    "                                     n_estimators=30,max_depth=2,\n",
    "                                     learning_rate=0.3,\n",
    "                                     colsample_bytree=0.15,\n",
    "                                     colsample_bylevel=0.0001)\n",
    "best_model.fit(X,y)"
   ]
  },
  {
   "cell_type": "code",
   "execution_count": 10,
   "metadata": {},
   "outputs": [
    {
     "name": "stdout",
     "output_type": "stream",
     "text": [
      "\n",
      "\t precision \n",
      "\t score\t  stdev\n",
      "XGB:\t0.8552 (0.0735)\n",
      "\n",
      "\t recall \n",
      "\t score\t  stdev\n",
      "XGB:\t0.8788 (0.0171)\n"
     ]
    }
   ],
   "source": [
    "for var in ['precision','recall']:\n",
    "    print('\\n\\t {} \\n\\t score\\t  stdev'.format(var))\n",
    "    results = []\n",
    "    names = []\n",
    "    models = []\n",
    "\n",
    "    models.append(('XGB', XGBClassifier(bootstrap=True,\n",
    "                    subsample= 0.3,\n",
    "                           n_estimators=30,\n",
    "                           max_depth=2,\n",
    "                           learning_rate=0.3,\n",
    "                           colsample_bytree=0.15,\n",
    "                           colsample_bylevel=0.0001)))\n",
    "\n",
    "\n",
    "    for name, model in models:\n",
    "        kfold = model_selection.KFold(n_splits = 3, random_state = 99)\n",
    "\n",
    "        cv_results = model_selection.cross_val_score(model, X, y,cv = 3,scoring = var)\n",
    "        \n",
    "        results.append(cv_results)\n",
    "        names.append(name)\n",
    "        msg = \"%s:\\t%.4f (%.4f)\" % (name, cv_results.mean(), cv_results.std())\n",
    "        print(msg)"
   ]
  },
  {
   "cell_type": "markdown",
   "metadata": {},
   "source": [
    "*  Precision(positive predictive value) TP/(TP + FP) - What percent of positive predictions were correct?  85.52%   TP/(TP + FP)\n",
    "\n",
    "*  Recall(sensitivity) TP/(TP + FN) - What percent of the positive cases did you catch?  87.88%   "
   ]
  },
  {
   "cell_type": "code",
   "execution_count": 13,
   "metadata": {},
   "outputs": [
    {
     "name": "stdout",
     "output_type": "stream",
     "text": [
      "F1score =  86.68%\n"
     ]
    }
   ],
   "source": [
    "#F1score= 2 * (precision*recall) / (precision+recall)\n",
    "Fmeasure = 2*(0.8552 * 0.8788) / (0.8552 + 0.8788)\n",
    "print('F1score =  {0:.2%}'.format(Fmeasure))"
   ]
  },
  {
   "cell_type": "markdown",
   "metadata": {},
   "source": [
    "* Here are ROC curves for a holdout of 10%,15%,20%,25% percents"
   ]
  },
  {
   "cell_type": "code",
   "execution_count": 14,
   "metadata": {},
   "outputs": [],
   "source": [
    "#If we use a hold out of 10% we can plot the ROC curve\n",
    "X_train1, X_test1, y_train1, y_test1 = train_test_split(X, y, test_size=0.10)\n",
    "X_train2, X_test2, y_train2, y_test2 = train_test_split(X, y, test_size=0.15)\n",
    "X_train3, X_test3, y_train3, y_test3 = train_test_split(X, y, test_size=0.20)\n",
    "X_train4, X_test4, y_train4, y_test4 = train_test_split(X, y, test_size=0.25)\n",
    "\n",
    "best_model.fit(X_train1,y_train1)\n",
    "best_model.fit(X_train2,y_train2)\n",
    "best_model.fit(X_train3,y_train3)\n",
    "best_model.fit(X_train4,y_train4)\n",
    "\n",
    "ypred_train1 = best_model.predict_proba(X_train1)[:, 1]\n",
    "ypred_test1 = best_model.predict_proba(X_test1)[:, 1]\n",
    "ypred_train2 = best_model.predict_proba(X_train2)[:, 1]\n",
    "ypred_test2 = best_model.predict_proba(X_test2)[:, 1]\n",
    "ypred_train3 = best_model.predict_proba(X_train3)[:, 1]\n",
    "ypred_test3 = best_model.predict_proba(X_test3)[:, 1]\n",
    "ypred_train4 = best_model.predict_proba(X_train4)[:, 1]\n",
    "ypred_test4 = best_model.predict_proba(X_test4)[:, 1]\n",
    "\n",
    "fpr1, tpr1, thresholds = roc_curve(y_train1, ypred_train1)\n",
    "fpr_1, tpr_1, thresholds = roc_curve(y_test1, ypred_test1)\n",
    "\n",
    "fpr2, tpr2, thresholds = roc_curve(y_train2, ypred_train2)\n",
    "fpr_2, tpr_2, thresholds = roc_curve(y_test2, ypred_test2)\n",
    "\n",
    "fpr3, tpr3, thresholds = roc_curve(y_train3, ypred_train3)\n",
    "fpr_3, tpr_3, thresholds = roc_curve(y_test3, ypred_test3)\n",
    "\n",
    "fpr4, tpr4, thresholds = roc_curve(y_train4, ypred_train4)\n",
    "fpr_4, tpr_4, thresholds = roc_curve(y_test4, ypred_test4)\n",
    "\n"
   ]
  },
  {
   "cell_type": "code",
   "execution_count": 15,
   "metadata": {},
   "outputs": [
    {
     "data": {
      "text/plain": [
       "[<matplotlib.lines.Line2D at 0x117a1f518>]"
      ]
     },
     "execution_count": 15,
     "metadata": {},
     "output_type": "execute_result"
    },
    {
     "data": {
      "image/png": "[encoded data removed]",
      "text/plain": [
       "<Figure size 648x648 with 4 Axes>"
      ]
     },
     "metadata": {
      "needs_background": "light"
     },
     "output_type": "display_data"
    }
   ],
   "source": [
    "plt.rcParams['font.size'] = 12\n",
    "plt.figure(figsize=(9,9))\n",
    "\n",
    "plt.subplot(2, 2, 1)\n",
    "plt.plot(fpr1, tpr1,color='r')\n",
    "plt.plot(fpr_1, tpr_1,color='g',label=\"10%holdout\")\n",
    "plt.legend(['train', '10%holdout'])\n",
    "plt.title('ROC curve')\n",
    "plt.xlabel('Precision(positive predictive value)\\n TP/(TP + FP)')\n",
    "plt.ylabel('Recall(sensitivity) TP/(TP + FN)')\n",
    "plt.xlim([0.0, 1])\n",
    "plt.ylim([0.0, 1])\n",
    "plt.grid(True)\n",
    "plt.plot([0, 1], [0, 1],'b--')\n",
    "plt.tight_layout()\n",
    "\n",
    "plt.subplot(2, 2, 2)\n",
    "plt.plot(fpr2, tpr2,color='r')\n",
    "plt.plot(fpr_2, tpr_2,color='g', label=\"15%holdout\")\n",
    "plt.legend(['train', '15%holdout'])\n",
    "plt.title('ROC curve')\n",
    "plt.xlabel('Precision(positive predictive value)\\n TP/(TP + FP)')\n",
    "plt.ylabel('Recall(sensitivity) TP/(TP + FN)')\n",
    "plt.xlim([0.0, 1])\n",
    "plt.ylim([0.0, 1])\n",
    "plt.grid(True)\n",
    "plt.plot([0, 1], [0, 1],'b--')\n",
    "plt.tight_layout()\n",
    "\n",
    "plt.subplot(2, 2, 3)\n",
    "plt.plot(fpr3, tpr3,color='r')\n",
    "plt.plot(fpr_3, tpr_3,color='g', label=\"20%holdout\")\n",
    "plt.legend(['train', '20%holdout'])\n",
    "plt.title('ROC curve')\n",
    "plt.xlabel('Precision(positive predictive value)\\n TP/(TP + FP)')\n",
    "plt.ylabel('Recall(sensitivity) TP/(TP + FN)')\n",
    "plt.xlim([0.0, 1])\n",
    "plt.ylim([0.0, 1])\n",
    "plt.grid(True)\n",
    "plt.plot([0, 1], [0, 1],'b--')\n",
    "plt.tight_layout()\n",
    "\n",
    "plt.subplot(2, 2, 4)\n",
    "plt.plot(fpr4, tpr4,color='r')\n",
    "plt.plot(fpr_4, tpr_4,color='g', label=\"25%holdout\")\n",
    "plt.legend(['train', '25%holdout'])\n",
    "plt.title('ROC curve')\n",
    "plt.xlabel('Precision(positive predictive value)\\n TP/(TP + FP)')\n",
    "plt.ylabel('Recall(sensitivity) TP/(TP + FN)')\n",
    "plt.xlim([0.0, 1])\n",
    "plt.ylim([0.0, 1])\n",
    "plt.tight_layout()\n",
    "plt.grid(True)\n",
    "plt.plot([0, 1], [0, 1],'b--')\n",
    "ax.plot([0, 1], [0, 1], transform=ax.transAxes, ls=\"-\")"
   ]
  },
  {
   "cell_type": "markdown",
   "metadata": {},
   "source": [
    "---"
   ]
  },
  {
   "cell_type": "markdown",
   "metadata": {},
   "source": [
    "# Feature Importance for the best model, XGB"
   ]
  },
  {
   "cell_type": "code",
   "execution_count": 20,
   "metadata": {},
   "outputs": [],
   "source": [
    "best_model.fit(X,y)\n",
    "xgb_importance=pd.DataFrame(list(best_model.get_booster().get_score(importance_type='weight').items()))"
   ]
  },
  {
   "cell_type": "code",
   "execution_count": 21,
   "metadata": {},
   "outputs": [
    {
     "name": "stdout",
     "output_type": "stream",
     "text": [
      "                   feature  importance\n",
      "13                slope_1           5\n",
      "11                    sex           5\n",
      "9             cholesterol           5\n",
      "1            chest_pain_2           4\n",
      "4                 slope_2           4\n",
      "5                 oldpeak           4\n",
      "7          max_heart_rate           4\n",
      "0         exercise_angina           3\n",
      "16                    age           3\n",
      "2   thalium_stress_test_2           3\n",
      "10  thalium_stress_test_3           2\n",
      "3              resting_bp           2\n",
      "8       num_major_vessels           2\n",
      "6            chest_pain_3           1\n",
      "12    fasting_blood_sugar           1\n",
      "14           chest_pain_1           1\n",
      "15          resting_ecg_1           1\n"
     ]
    }
   ],
   "source": [
    "xgb_fea_imp=pd.DataFrame(list(best_model.get_booster().get_fscore().items()),\n",
    "columns=['feature','importance']).sort_values('importance', ascending=False)\n",
    "print('',xgb_fea_imp)"
   ]
  },
  {
   "cell_type": "code",
   "execution_count": 22,
   "metadata": {},
   "outputs": [
    {
     "data": {
      "text/plain": [
       "<Figure size 1152x432 with 0 Axes>"
      ]
     },
     "metadata": {},
     "output_type": "display_data"
    },
    {
     "data": {
      "image/png": "[encoded data removed]",
      "text/plain": [
       "<Figure size 432x288 with 1 Axes>"
      ]
     },
     "metadata": {
      "needs_background": "light"
     },
     "output_type": "display_data"
    },
    {
     "data": {
      "text/plain": [
       "''"
      ]
     },
     "execution_count": 22,
     "metadata": {},
     "output_type": "execute_result"
    }
   ],
   "source": [
    "plt.figure(figsize=(16,6))\n",
    "from xgboost import plot_importance\n",
    "plot_importance(best_model)\n",
    "plt.show()\n",
    ";"
   ]
  },
  {
   "cell_type": "markdown",
   "metadata": {},
   "source": [
    "The most significant features to predict heart disease for this model are slope1, sex and cholesterol. "
   ]
  },
  {
   "cell_type": "code",
   "execution_count": 23,
   "metadata": {
    "scrolled": false
   },
   "outputs": [
    {
     "data": {
      "image/png": "[encoded data removed]",
      "text/plain": [
       "<Figure size 576x720 with 1 Axes>"
      ]
     },
     "metadata": {
      "needs_background": "light"
     },
     "output_type": "display_data"
    }
   ],
   "source": [
    "index = np.arange(len(xgb_fea_imp))\n",
    "fig = plt.figure(figsize=(8, 10))\n",
    "plt.subplot('111')\n",
    "bar_width = 0.5\n",
    "plt.xticks(size = 12)\n",
    "plt.yticks(size = 12)\n",
    "rects = plt.barh(index, xgb_fea_imp[\"importance\"], bar_width, alpha=0.4, color='g', label='Main')\n",
    "plt.title('Feature Importance')\n",
    "plt.yticks(index, xgb_fea_imp[\"feature\"])\n",
    "\n",
    "plt.show()\n"
   ]
  }
 ],
 "metadata": {
  "kernelspec": {
   "display_name": "Python 3",
   "language": "python",
   "name": "python3"
  },
  "language_info": {
   "codemirror_mode": {
    "name": "ipython",
    "version": 3
   },
   "file_extension": ".py",
   "mimetype": "text/x-python",
   "name": "python",
   "nbconvert_exporter": "python",
   "pygments_lexer": "ipython3",
   "version": "3.7.1"
  }
 },
 "nbformat": 4,
 "nbformat_minor": 2
}
