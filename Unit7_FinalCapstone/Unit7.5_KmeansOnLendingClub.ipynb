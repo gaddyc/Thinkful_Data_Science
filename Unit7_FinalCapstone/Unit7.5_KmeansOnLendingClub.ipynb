{
 "cells": [
  {
   "cell_type": "markdown",
   "metadata": {},
   "source": [
    "# Unsupervised Learning on LendingClub data\n",
    "Can Kmeans, MiniBatch Kmeans and MeanShift predict a good vs a bad loan?"
   ]
  },
  {
   "cell_type": "code",
   "execution_count": 98,
   "metadata": {},
   "outputs": [],
   "source": [
    "import pandas as pd\n",
    "import numpy as np\n",
    "import matplotlib.pyplot as plt\n",
    "import math\n",
    "\n",
    "from sklearn.cluster import KMeans, MiniBatchKMeans, MeanShift, SpectralClustering\n",
    "from sklearn.decomposition import TruncatedSVD  # a form of PCA for NLP\n",
    "from sklearn.pipeline import make_pipeline\n",
    "from sklearn.preprocessing import Normalizer, normalize, scale\n",
    "\n",
    "from sklearn.cluster import estimate_bandwidth\n",
    "from sklearn.cluster import KMeans\n",
    "from sklearn.decomposition import PCA\n",
    "import seaborn as sns\n",
    "\n",
    "%matplotlib inline"
   ]
  },
  {
   "cell_type": "code",
   "execution_count": 2,
   "metadata": {},
   "outputs": [],
   "source": [
    "#import warnings\n",
    "# warnings.filterwarnings('ignore')"
   ]
  },
  {
   "cell_type": "code",
   "execution_count": 3,
   "metadata": {},
   "outputs": [],
   "source": [
    "df = pd.read_csv('lending_club_le.csv')"
   ]
  },
  {
   "cell_type": "code",
   "execution_count": 4,
   "metadata": {},
   "outputs": [],
   "source": [
    "df.drop('Unnamed: 0', axis=1, inplace=True)"
   ]
  },
  {
   "cell_type": "code",
   "execution_count": 5,
   "metadata": {},
   "outputs": [
    {
     "data": {
      "text/html": [
       "<div>\n",
       "<style scoped>\n",
       "    .dataframe tbody tr th:only-of-type {\n",
       "        vertical-align: middle;\n",
       "    }\n",
       "\n",
       "    .dataframe tbody tr th {\n",
       "        vertical-align: top;\n",
       "    }\n",
       "\n",
       "    .dataframe thead th {\n",
       "        text-align: right;\n",
       "    }\n",
       "</style>\n",
       "<table border=\"1\" class=\"dataframe\">\n",
       "  <thead>\n",
       "    <tr style=\"text-align: right;\">\n",
       "      <th></th>\n",
       "      <th>loan_amnt</th>\n",
       "      <th>installment</th>\n",
       "      <th>annual_inc</th>\n",
       "      <th>dti</th>\n",
       "      <th>inq_last_6mths</th>\n",
       "      <th>open_acc</th>\n",
       "      <th>pub_rec</th>\n",
       "      <th>revol_bal</th>\n",
       "      <th>total_acc</th>\n",
       "      <th>out_prncp</th>\n",
       "      <th>...</th>\n",
       "      <th>emp_length</th>\n",
       "      <th>home_ownership</th>\n",
       "      <th>verification_status</th>\n",
       "      <th>pymnt_plan</th>\n",
       "      <th>purpose</th>\n",
       "      <th>title</th>\n",
       "      <th>addr_state</th>\n",
       "      <th>revol_util</th>\n",
       "      <th>initial_list_status</th>\n",
       "      <th>application_type</th>\n",
       "    </tr>\n",
       "  </thead>\n",
       "  <tbody>\n",
       "    <tr>\n",
       "      <th>0</th>\n",
       "      <td>3000.0</td>\n",
       "      <td>93.10</td>\n",
       "      <td>52000.0</td>\n",
       "      <td>0.58</td>\n",
       "      <td>0.0</td>\n",
       "      <td>7.0</td>\n",
       "      <td>0.0</td>\n",
       "      <td>141.0</td>\n",
       "      <td>30.0</td>\n",
       "      <td>0.0</td>\n",
       "      <td>...</td>\n",
       "      <td>9</td>\n",
       "      <td>3</td>\n",
       "      <td>1</td>\n",
       "      <td>0</td>\n",
       "      <td>5</td>\n",
       "      <td>7</td>\n",
       "      <td>46</td>\n",
       "      <td>5</td>\n",
       "      <td>1</td>\n",
       "      <td>0</td>\n",
       "    </tr>\n",
       "    <tr>\n",
       "      <th>1</th>\n",
       "      <td>5000.0</td>\n",
       "      <td>166.03</td>\n",
       "      <td>55000.0</td>\n",
       "      <td>14.18</td>\n",
       "      <td>0.0</td>\n",
       "      <td>14.0</td>\n",
       "      <td>1.0</td>\n",
       "      <td>11449.0</td>\n",
       "      <td>24.0</td>\n",
       "      <td>0.0</td>\n",
       "      <td>...</td>\n",
       "      <td>1</td>\n",
       "      <td>2</td>\n",
       "      <td>0</td>\n",
       "      <td>0</td>\n",
       "      <td>8</td>\n",
       "      <td>10</td>\n",
       "      <td>10</td>\n",
       "      <td>334</td>\n",
       "      <td>1</td>\n",
       "      <td>0</td>\n",
       "    </tr>\n",
       "    <tr>\n",
       "      <th>2</th>\n",
       "      <td>20300.0</td>\n",
       "      <td>509.66</td>\n",
       "      <td>55000.0</td>\n",
       "      <td>26.63</td>\n",
       "      <td>0.0</td>\n",
       "      <td>10.0</td>\n",
       "      <td>0.0</td>\n",
       "      <td>17506.0</td>\n",
       "      <td>26.0</td>\n",
       "      <td>0.0</td>\n",
       "      <td>...</td>\n",
       "      <td>10</td>\n",
       "      <td>3</td>\n",
       "      <td>2</td>\n",
       "      <td>0</td>\n",
       "      <td>1</td>\n",
       "      <td>2</td>\n",
       "      <td>33</td>\n",
       "      <td>744</td>\n",
       "      <td>1</td>\n",
       "      <td>0</td>\n",
       "    </tr>\n",
       "    <tr>\n",
       "      <th>3</th>\n",
       "      <td>7000.0</td>\n",
       "      <td>232.44</td>\n",
       "      <td>40000.0</td>\n",
       "      <td>20.25</td>\n",
       "      <td>0.0</td>\n",
       "      <td>13.0</td>\n",
       "      <td>0.0</td>\n",
       "      <td>5004.0</td>\n",
       "      <td>29.0</td>\n",
       "      <td>0.0</td>\n",
       "      <td>...</td>\n",
       "      <td>10</td>\n",
       "      <td>1</td>\n",
       "      <td>2</td>\n",
       "      <td>0</td>\n",
       "      <td>3</td>\n",
       "      <td>6</td>\n",
       "      <td>42</td>\n",
       "      <td>355</td>\n",
       "      <td>1</td>\n",
       "      <td>0</td>\n",
       "    </tr>\n",
       "    <tr>\n",
       "      <th>4</th>\n",
       "      <td>10000.0</td>\n",
       "      <td>326.92</td>\n",
       "      <td>52320.0</td>\n",
       "      <td>12.87</td>\n",
       "      <td>1.0</td>\n",
       "      <td>6.0</td>\n",
       "      <td>1.0</td>\n",
       "      <td>1692.0</td>\n",
       "      <td>26.0</td>\n",
       "      <td>0.0</td>\n",
       "      <td>...</td>\n",
       "      <td>10</td>\n",
       "      <td>3</td>\n",
       "      <td>1</td>\n",
       "      <td>0</td>\n",
       "      <td>2</td>\n",
       "      <td>3</td>\n",
       "      <td>46</td>\n",
       "      <td>380</td>\n",
       "      <td>1</td>\n",
       "      <td>0</td>\n",
       "    </tr>\n",
       "  </tbody>\n",
       "</table>\n",
       "<p>5 rows × 69 columns</p>\n",
       "</div>"
      ],
      "text/plain": [
       "   loan_amnt  installment  annual_inc    dti  inq_last_6mths  open_acc  \\\n",
       "0     3000.0        93.10     52000.0   0.58             0.0       7.0   \n",
       "1     5000.0       166.03     55000.0  14.18             0.0      14.0   \n",
       "2    20300.0       509.66     55000.0  26.63             0.0      10.0   \n",
       "3     7000.0       232.44     40000.0  20.25             0.0      13.0   \n",
       "4    10000.0       326.92     52320.0  12.87             1.0       6.0   \n",
       "\n",
       "   pub_rec  revol_bal  total_acc  out_prncp        ...         emp_length  \\\n",
       "0      0.0      141.0       30.0        0.0        ...                  9   \n",
       "1      1.0    11449.0       24.0        0.0        ...                  1   \n",
       "2      0.0    17506.0       26.0        0.0        ...                 10   \n",
       "3      0.0     5004.0       29.0        0.0        ...                 10   \n",
       "4      1.0     1692.0       26.0        0.0        ...                 10   \n",
       "\n",
       "   home_ownership  verification_status  pymnt_plan  purpose  title  \\\n",
       "0               3                    1           0        5      7   \n",
       "1               2                    0           0        8     10   \n",
       "2               3                    2           0        1      2   \n",
       "3               1                    2           0        3      6   \n",
       "4               3                    1           0        2      3   \n",
       "\n",
       "   addr_state  revol_util  initial_list_status  application_type  \n",
       "0          46           5                    1                 0  \n",
       "1          10         334                    1                 0  \n",
       "2          33         744                    1                 0  \n",
       "3          42         355                    1                 0  \n",
       "4          46         380                    1                 0  \n",
       "\n",
       "[5 rows x 69 columns]"
      ]
     },
     "execution_count": 5,
     "metadata": {},
     "output_type": "execute_result"
    }
   ],
   "source": [
    "df.head()"
   ]
  },
  {
   "cell_type": "code",
   "execution_count": 6,
   "metadata": {},
   "outputs": [
    {
     "data": {
      "text/plain": [
       "(73318, 69)"
      ]
     },
     "execution_count": 6,
     "metadata": {},
     "output_type": "execute_result"
    }
   ],
   "source": [
    "df.shape"
   ]
  },
  {
   "cell_type": "code",
   "execution_count": 7,
   "metadata": {},
   "outputs": [
    {
     "data": {
      "text/plain": [
       "1    56725\n",
       "0    16593\n",
       "Name: good_loan_status, dtype: int64"
      ]
     },
     "execution_count": 7,
     "metadata": {},
     "output_type": "execute_result"
    }
   ],
   "source": [
    "df.good_loan_status.value_counts()"
   ]
  },
  {
   "cell_type": "code",
   "execution_count": 8,
   "metadata": {},
   "outputs": [
    {
     "data": {
      "text/plain": [
       "0.7736844976676942"
      ]
     },
     "execution_count": 8,
     "metadata": {},
     "output_type": "execute_result"
    }
   ],
   "source": [
    "56725/(16593+56725)"
   ]
  },
  {
   "cell_type": "markdown",
   "metadata": {},
   "source": [
    "---"
   ]
  },
  {
   "cell_type": "code",
   "execution_count": 9,
   "metadata": {},
   "outputs": [],
   "source": [
    "y = df['good_loan_status']\n",
    "X = df.drop(['good_loan_status'], axis=1)"
   ]
  },
  {
   "cell_type": "code",
   "execution_count": 10,
   "metadata": {},
   "outputs": [
    {
     "data": {
      "text/plain": [
       "'from sklearn.model_selection import train_test_split\\nX_train, X_test, y_train, y_test = train_test_split(X, y,\\n                                                    test_size=0.20, \\n                                                    random_state=42)'"
      ]
     },
     "execution_count": 10,
     "metadata": {},
     "output_type": "execute_result"
    }
   ],
   "source": [
    "#from sklearn.model_selection import train_test_split\n",
    "# X_train, X_test, y_train, y_test = train_test_split(X, y,\n",
    "#                                                    test_size=0.20,\n",
    "#                                                    random_state=42)'''"
   ]
  },
  {
   "cell_type": "code",
   "execution_count": 20,
   "metadata": {},
   "outputs": [
    {
     "data": {
      "text/plain": [
       "((73318, 68), (73318,))"
      ]
     },
     "execution_count": 20,
     "metadata": {},
     "output_type": "execute_result"
    }
   ],
   "source": [
    "X.shape, y.shape"
   ]
  },
  {
   "cell_type": "markdown",
   "metadata": {},
   "source": [
    "# Kmeans vs MiniBatchKmeans analysis\n",
    "\n",
    "How accurately will Kmeans cluster data into good and bad loan data?"
   ]
  },
  {
   "cell_type": "code",
   "execution_count": 99,
   "metadata": {},
   "outputs": [
    {
     "name": "stderr",
     "output_type": "stream",
     "text": [
      "/Library/Frameworks/Python.framework/Versions/3.7/lib/python3.7/site-packages/ipykernel_launcher.py:2: DataConversionWarning: Data with input dtype int64, float64 were all converted to float64 by the scale function.\n",
      "  \n"
     ]
    },
    {
     "data": {
      "image/png": "[encoded data removed]",
      "text/plain": [
       "<Figure size 432x288 with 1 Axes>"
      ]
     },
     "metadata": {
      "needs_background": "light"
     },
     "output_type": "display_data"
    }
   ],
   "source": [
    "colormap = np.array(['green', 'black'])\n",
    "X_norm = normalize(scale(X))\n",
    "X_pca = PCA(2).fit_transform(X_norm)\n",
    "y_pred = KMeans(n_clusters=2, random_state=42).fit_predict(X_pca)\n",
    "\n",
    "# Plot the solution.\n",
    "plt.title('Kmeans Cluster')\n",
    "plt.scatter(X_pca[:, 0], X_pca[:, 1], c=colormap[y_pred])\n",
    "plt.show()"
   ]
  },
  {
   "cell_type": "code",
   "execution_count": 100,
   "metadata": {},
   "outputs": [
    {
     "name": "stdout",
     "output_type": "stream",
     "text": [
      "Comparing k-means clusters against the data:\n",
      "good_loan_status     0      1\n",
      "row_0                        \n",
      "0                 6969  25136\n",
      "1                 9624  31589\n"
     ]
    }
   ],
   "source": [
    "# Check the solution against the data.\n",
    "print('Comparing k-means clusters against the data:')\n",
    "print(pd.crosstab(y_pred, y))"
   ]
  },
  {
   "cell_type": "markdown",
   "metadata": {},
   "source": [
    "_PCA is used to reduce the data to 2 components because we are looking to see if Kmeans can predict a good loan_\n",
    "\n",
    "_Looks like this model isn't doing very well. We're __correctly classifying 34,785 (9595+25190)__ cases, but __mis-classifying 38,533 (31535+6998)__ of the cases!_\n"
   ]
  },
  {
   "cell_type": "markdown",
   "metadata": {},
   "source": [
    "_Let's look at MiniBatch to see if that would be better_"
   ]
  },
  {
   "cell_type": "code",
   "execution_count": 101,
   "metadata": {},
   "outputs": [
    {
     "data": {
      "image/png": "[encoded data removed]",
      "text/plain": [
       "<Figure size 432x288 with 1 Axes>"
      ]
     },
     "metadata": {
      "needs_background": "light"
     },
     "output_type": "display_data"
    },
    {
     "name": "stdout",
     "output_type": "stream",
     "text": [
      "Comparing k-means and mini batch k-means solutions:\n",
      "good_loan_status     0      1\n",
      "row_0                        \n",
      "0                 9071  30050\n",
      "1                 7522  26675\n"
     ]
    }
   ],
   "source": [
    "# Each batch will be made up of 200 data points.\n",
    "minibatchkmeans = MiniBatchKMeans(\n",
    "    init='random',\n",
    "    n_clusters=2,\n",
    "    batch_size=1000)\n",
    "minibatchkmeans.fit(X_pca)\n",
    "\n",
    "# Add the new predicted cluster memberships to the data frame.\n",
    "predict_mini = minibatchkmeans.predict(X_pca)\n",
    "# Plot the solution.\n",
    "colormap = np.array(['green', 'black'])\n",
    "plt.title('MiniBatchKmeans Cluster')\n",
    "plt.scatter(X_pca[:, 0], X_pca[:, 1], c=colormap[predict_mini])\n",
    "plt.show()\n",
    "# MiniBatch model.\n",
    "print('Comparing k-means and mini batch k-means solutions:')\n",
    "print(pd.crosstab(predict_mini, y))"
   ]
  },
  {
   "cell_type": "markdown",
   "metadata": {},
   "source": [
    "MiniBatch Kmeans is able to __classify 34038 (9856+24182)___ and __mis-classify 39280(6737+32543)__ which is about the same as Kmeans."
   ]
  },
  {
   "cell_type": "code",
   "execution_count": 102,
   "metadata": {},
   "outputs": [
    {
     "data": {
      "image/png": "[encoded data removed]",
      "text/plain": [
       "<Figure size 432x288 with 1 Axes>"
      ]
     },
     "metadata": {
      "needs_background": "light"
     },
     "output_type": "display_data"
    },
    {
     "name": "stdout",
     "output_type": "stream",
     "text": [
      "Comparing k-means and mini batch k-means solutions:\n",
      "col_0      0      1\n",
      "row_0              \n",
      "0          0  39121\n",
      "1      32105   2092\n"
     ]
    }
   ],
   "source": [
    "colormap = np.array(['grey', 'black'])\n",
    "plt.title('Kmeans vs MiniBatchKmeans Clusters')\n",
    "plt.scatter(X_pca[:, 0], X_pca[:, 1], c=colormap[predict_mini])\n",
    "plt.show()\n",
    "# MiniBatch model.\n",
    "print('Comparing k-means and mini batch k-means solutions:')\n",
    "print(pd.crosstab(predict_mini, y_pred))"
   ]
  },
  {
   "cell_type": "markdown",
   "metadata": {},
   "source": [
    "# Kmeans analysis\n",
    "\n",
    "Without PCA how well will Kmeans predict good loans"
   ]
  },
  {
   "cell_type": "code",
   "execution_count": 28,
   "metadata": {},
   "outputs": [
    {
     "data": {
      "text/plain": [
       "KMeans(algorithm='auto', copy_x=True, init='k-means++', max_iter=300,\n",
       "    n_clusters=2, n_init=10, n_jobs=None, precompute_distances='auto',\n",
       "    random_state=None, tol=0.0001, verbose=0)"
      ]
     },
     "execution_count": 28,
     "metadata": {},
     "output_type": "execute_result"
    }
   ],
   "source": [
    "kmeans = KMeans(n_clusters=2)\n",
    "kmeans.fit(X)"
   ]
  },
  {
   "cell_type": "code",
   "execution_count": 29,
   "metadata": {},
   "outputs": [
    {
     "data": {
      "text/plain": [
       "array([[1.92294607e+04, 5.58138040e+02, 1.24154399e+05, 1.96676746e+01,\n",
       "        5.64993633e-01, 1.42445883e+01, 1.28342530e-01, 2.53639697e+04,\n",
       "        3.10848896e+01, 1.43117459e+03, 1.24151104e-02, 1.27674024e+00,\n",
       "        3.52016129e+00, 1.11269100e+00, 1.38414155e+01, 1.36598048e+00,\n",
       "        2.85961375e+00, 7.98001289e+03, 5.45634550e+01, 5.95598249e+04,\n",
       "        1.67200764e+00, 5.98015705e+00, 3.39304825e+04, 2.37693506e+04,\n",
       "        4.70153969e+01, 1.37126486e+02, 1.97260346e+02, 1.35374576e+01,\n",
       "        6.24050297e+00, 3.01644737e+00, 2.39373408e+01, 5.12308998e-01,\n",
       "        3.85154924e+00, 5.68346774e+00, 5.58000849e+00, 8.77663413e+00,\n",
       "        1.19936863e+01, 9.38778650e+00, 1.57974321e+01, 5.69699703e+00,\n",
       "        1.42304754e+01, 0.00000000e+00, 0.00000000e+00, 6.48875212e-02,\n",
       "        2.82327037e+00, 9.51244058e+01, 3.12320246e+01, 1.12584890e-01,\n",
       "        1.57045840e-02, 4.57638254e+05, 9.11230465e+04, 3.98285176e+04,\n",
       "        7.94401755e+04, 9.19340748e+00, 3.23539655e+00, 3.37277165e-01,\n",
       "        1.42747241e+00, 9.05294992e+00, 3.21864389e+00, 1.19041808e+00,\n",
       "        9.09804754e-01, 1.80390492e-03, 2.64478990e+00, 3.89065153e+00,\n",
       "        2.13973366e+01, 4.68712489e+02, 8.61099321e-01, 1.67816214e-01],\n",
       "       [1.41665307e+04, 4.28029868e+02, 6.95878153e+04, 1.82661937e+01,\n",
       "        5.37415091e-01, 1.08896090e+01, 1.65577382e-01, 1.10090583e+04,\n",
       "        2.22834955e+01, 1.47259934e+03, 1.78630439e-02, 1.03192583e+00,\n",
       "        2.61481549e+00, 8.42390307e-01, 1.86573710e+01, 1.39864145e+00,\n",
       "        2.94323481e+00, 4.58589611e+03, 5.35790160e+01, 3.08880509e+04,\n",
       "        1.34022398e+00, 4.96175877e+00, 8.55433525e+03, 1.36397507e+04,\n",
       "        4.47536607e+01, 1.15440169e+02, 1.56203874e+02, 1.32758766e+01,\n",
       "        7.55351570e+00, 9.74059115e-01, 2.25868551e+01, 5.15659996e-01,\n",
       "        3.18523958e+00, 4.71397099e+00, 4.52825408e+00, 6.95138608e+00,\n",
       "        8.37745548e+00, 7.83087938e+00, 1.27412337e+01, 4.72179181e+00,\n",
       "        1.08707913e+01, 0.00000000e+00, 0.00000000e+00, 6.05838076e-02,\n",
       "        2.33976501e+00, 9.45705930e+01, 2.86225610e+01, 1.49256471e-01,\n",
       "        1.61189646e-02, 1.11319881e+05, 4.15160252e+04, 2.19932717e+04,\n",
       "        3.84994300e+04, 9.40554674e+00, 3.04816006e+00, 2.58215531e-01,\n",
       "        1.66596292e+00, 1.03941619e+01, 3.52393978e+00, 2.08885625e+00,\n",
       "        8.04479530e-01, 1.90930788e-03, 2.79768680e+00, 3.93348632e+00,\n",
       "        2.25018909e+01, 4.40940499e+02, 8.30200110e-01, 1.06278686e-01]])"
      ]
     },
     "execution_count": 29,
     "metadata": {},
     "output_type": "execute_result"
    }
   ],
   "source": [
    "kmeans.cluster_centers_"
   ]
  },
  {
   "cell_type": "code",
   "execution_count": 30,
   "metadata": {},
   "outputs": [],
   "source": [
    "def converter(cluster):\n",
    "    if cluster == 1:\n",
    "        return 1\n",
    "    else:\n",
    "        return 0"
   ]
  },
  {
   "cell_type": "code",
   "execution_count": 34,
   "metadata": {},
   "outputs": [],
   "source": [
    "X['Cluster'] = df['good_loan_status'].apply(converter)"
   ]
  },
  {
   "cell_type": "code",
   "execution_count": 38,
   "metadata": {},
   "outputs": [
    {
     "name": "stdout",
     "output_type": "stream",
     "text": [
      "the baseline is : 77.37%\n"
     ]
    }
   ],
   "source": [
    "X.Cluster.value_counts()\n",
    "print('The baseline is : 77.37%')"
   ]
  },
  {
   "cell_type": "code",
   "execution_count": 94,
   "metadata": {},
   "outputs": [
    {
     "name": "stdout",
     "output_type": "stream",
     "text": [
      "[[ 3211 13382]\n",
      " [15641 41084]]\n",
      "              precision    recall  f1-score   support\n",
      "\n",
      "           0       0.17      0.19      0.18     16593\n",
      "           1       0.75      0.72      0.74     56725\n",
      "\n",
      "   micro avg       0.60      0.60      0.60     73318\n",
      "   macro avg       0.46      0.46      0.46     73318\n",
      "weighted avg       0.62      0.60      0.61     73318\n",
      "\n"
     ]
    }
   ],
   "source": [
    "print(confusion_matrix(X['Cluster'], kmeans.labels_))\n",
    "print(classification_report(X['Cluster'], kmeans.labels_))"
   ]
  },
  {
   "cell_type": "markdown",
   "metadata": {},
   "source": [
    "_When using 2 cluster, Kmeans weighted average is 62%, it doesn't beat the baseline of 77%.  It was able to __classify 44295__ and __mis-classify 29023__ loans._"
   ]
  },
  {
   "cell_type": "code",
   "execution_count": 40,
   "metadata": {},
   "outputs": [
    {
     "data": {
      "text/plain": [
       "-0.029390858102939194"
      ]
     },
     "execution_count": 40,
     "metadata": {},
     "output_type": "execute_result"
    }
   ],
   "source": [
    "from sklearn.metrics import adjusted_rand_score\n",
    "adjusted_rand_score(X['Cluster'], kmeans.labels_)"
   ]
  },
  {
   "cell_type": "markdown",
   "metadata": {},
   "source": [
    "_I will take the top 5 features from the supervised learning to see if it can cluster good loans based on the attributes_"
   ]
  },
  {
   "cell_type": "markdown",
   "metadata": {},
   "source": [
    "# MeanShift\n",
    "_I will take the top 5 features from the supervised learning to see if it can cluster good loans based on the attributes_"
   ]
  },
  {
   "cell_type": "code",
   "execution_count": 41,
   "metadata": {},
   "outputs": [
    {
     "data": {
      "text/plain": [
       "(73318, 69)"
      ]
     },
     "execution_count": 41,
     "metadata": {},
     "output_type": "execute_result"
    }
   ],
   "source": [
    "df1 = pd.read_csv('lending_club_le.csv')\n",
    "df1.drop('Unnamed: 0', axis=1, inplace=True)\n",
    "df1.shape"
   ]
  },
  {
   "cell_type": "code",
   "execution_count": 78,
   "metadata": {},
   "outputs": [],
   "source": [
    "top5Features = df1[['dti', 'max_bal_bc',\n",
    "                    'months_since_last_credit_pull_d',\n",
    "                    'mo_sin_old_rev_tl_op',\n",
    "                    'sub_grade']]\n",
    "#top5Features = top5Features.drop(['good_loan_status'], axis=1)"
   ]
  },
  {
   "cell_type": "code",
   "execution_count": 96,
   "metadata": {},
   "outputs": [
    {
     "data": {
      "text/html": [
       "<div>\n",
       "<style scoped>\n",
       "    .dataframe tbody tr th:only-of-type {\n",
       "        vertical-align: middle;\n",
       "    }\n",
       "\n",
       "    .dataframe tbody tr th {\n",
       "        vertical-align: top;\n",
       "    }\n",
       "\n",
       "    .dataframe thead th {\n",
       "        text-align: right;\n",
       "    }\n",
       "</style>\n",
       "<table border=\"1\" class=\"dataframe\">\n",
       "  <thead>\n",
       "    <tr style=\"text-align: right;\">\n",
       "      <th></th>\n",
       "      <th>dti</th>\n",
       "      <th>max_bal_bc</th>\n",
       "      <th>months_since_last_credit_pull_d</th>\n",
       "      <th>mo_sin_old_rev_tl_op</th>\n",
       "      <th>sub_grade</th>\n",
       "    </tr>\n",
       "  </thead>\n",
       "  <tbody>\n",
       "    <tr>\n",
       "      <th>0</th>\n",
       "      <td>0.58</td>\n",
       "      <td>141.0</td>\n",
       "      <td>6.950820</td>\n",
       "      <td>242.0</td>\n",
       "      <td>3</td>\n",
       "    </tr>\n",
       "    <tr>\n",
       "      <th>1</th>\n",
       "      <td>14.18</td>\n",
       "      <td>4829.0</td>\n",
       "      <td>9.967213</td>\n",
       "      <td>199.0</td>\n",
       "      <td>9</td>\n",
       "    </tr>\n",
       "    <tr>\n",
       "      <th>2</th>\n",
       "      <td>26.63</td>\n",
       "      <td>8215.0</td>\n",
       "      <td>1.016393</td>\n",
       "      <td>111.0</td>\n",
       "      <td>15</td>\n",
       "    </tr>\n",
       "    <tr>\n",
       "      <th>3</th>\n",
       "      <td>20.25</td>\n",
       "      <td>3944.0</td>\n",
       "      <td>3.016393</td>\n",
       "      <td>132.0</td>\n",
       "      <td>9</td>\n",
       "    </tr>\n",
       "    <tr>\n",
       "      <th>4</th>\n",
       "      <td>12.87</td>\n",
       "      <td>1692.0</td>\n",
       "      <td>1.016393</td>\n",
       "      <td>48.0</td>\n",
       "      <td>8</td>\n",
       "    </tr>\n",
       "  </tbody>\n",
       "</table>\n",
       "</div>"
      ],
      "text/plain": [
       "     dti  max_bal_bc  months_since_last_credit_pull_d  mo_sin_old_rev_tl_op  \\\n",
       "0   0.58       141.0                         6.950820                 242.0   \n",
       "1  14.18      4829.0                         9.967213                 199.0   \n",
       "2  26.63      8215.0                         1.016393                 111.0   \n",
       "3  20.25      3944.0                         3.016393                 132.0   \n",
       "4  12.87      1692.0                         1.016393                  48.0   \n",
       "\n",
       "   sub_grade  \n",
       "0          3  \n",
       "1          9  \n",
       "2         15  \n",
       "3          9  \n",
       "4          8  "
      ]
     },
     "execution_count": 96,
     "metadata": {},
     "output_type": "execute_result"
    }
   ],
   "source": [
    "top5Features.head()"
   ]
  },
  {
   "cell_type": "code",
   "execution_count": 80,
   "metadata": {},
   "outputs": [],
   "source": [
    "others = df1[~df1.index.isin(['dti',\n",
    "                              'max_bal_bc',\n",
    "                              'months_since_last_credit_pull_d',\n",
    "                              'mo_sin_old_rev_tl_op',\n",
    "                              'sub_grade'])]"
   ]
  },
  {
   "cell_type": "code",
   "execution_count": 81,
   "metadata": {},
   "outputs": [
    {
     "data": {
      "text/html": [
       "<div>\n",
       "<style scoped>\n",
       "    .dataframe tbody tr th:only-of-type {\n",
       "        vertical-align: middle;\n",
       "    }\n",
       "\n",
       "    .dataframe tbody tr th {\n",
       "        vertical-align: top;\n",
       "    }\n",
       "\n",
       "    .dataframe thead th {\n",
       "        text-align: right;\n",
       "    }\n",
       "</style>\n",
       "<table border=\"1\" class=\"dataframe\">\n",
       "  <thead>\n",
       "    <tr style=\"text-align: right;\">\n",
       "      <th></th>\n",
       "      <th>loan_amnt</th>\n",
       "      <th>installment</th>\n",
       "      <th>annual_inc</th>\n",
       "      <th>dti</th>\n",
       "      <th>inq_last_6mths</th>\n",
       "      <th>open_acc</th>\n",
       "      <th>pub_rec</th>\n",
       "      <th>revol_bal</th>\n",
       "      <th>total_acc</th>\n",
       "      <th>out_prncp</th>\n",
       "      <th>...</th>\n",
       "      <th>emp_length</th>\n",
       "      <th>home_ownership</th>\n",
       "      <th>verification_status</th>\n",
       "      <th>pymnt_plan</th>\n",
       "      <th>purpose</th>\n",
       "      <th>title</th>\n",
       "      <th>addr_state</th>\n",
       "      <th>revol_util</th>\n",
       "      <th>initial_list_status</th>\n",
       "      <th>application_type</th>\n",
       "    </tr>\n",
       "  </thead>\n",
       "  <tbody>\n",
       "    <tr>\n",
       "      <th>0</th>\n",
       "      <td>3000.0</td>\n",
       "      <td>93.10</td>\n",
       "      <td>52000.0</td>\n",
       "      <td>0.58</td>\n",
       "      <td>0.0</td>\n",
       "      <td>7.0</td>\n",
       "      <td>0.0</td>\n",
       "      <td>141.0</td>\n",
       "      <td>30.0</td>\n",
       "      <td>0.0</td>\n",
       "      <td>...</td>\n",
       "      <td>9</td>\n",
       "      <td>3</td>\n",
       "      <td>1</td>\n",
       "      <td>0</td>\n",
       "      <td>5</td>\n",
       "      <td>7</td>\n",
       "      <td>46</td>\n",
       "      <td>5</td>\n",
       "      <td>1</td>\n",
       "      <td>0</td>\n",
       "    </tr>\n",
       "    <tr>\n",
       "      <th>1</th>\n",
       "      <td>5000.0</td>\n",
       "      <td>166.03</td>\n",
       "      <td>55000.0</td>\n",
       "      <td>14.18</td>\n",
       "      <td>0.0</td>\n",
       "      <td>14.0</td>\n",
       "      <td>1.0</td>\n",
       "      <td>11449.0</td>\n",
       "      <td>24.0</td>\n",
       "      <td>0.0</td>\n",
       "      <td>...</td>\n",
       "      <td>1</td>\n",
       "      <td>2</td>\n",
       "      <td>0</td>\n",
       "      <td>0</td>\n",
       "      <td>8</td>\n",
       "      <td>10</td>\n",
       "      <td>10</td>\n",
       "      <td>334</td>\n",
       "      <td>1</td>\n",
       "      <td>0</td>\n",
       "    </tr>\n",
       "    <tr>\n",
       "      <th>2</th>\n",
       "      <td>20300.0</td>\n",
       "      <td>509.66</td>\n",
       "      <td>55000.0</td>\n",
       "      <td>26.63</td>\n",
       "      <td>0.0</td>\n",
       "      <td>10.0</td>\n",
       "      <td>0.0</td>\n",
       "      <td>17506.0</td>\n",
       "      <td>26.0</td>\n",
       "      <td>0.0</td>\n",
       "      <td>...</td>\n",
       "      <td>10</td>\n",
       "      <td>3</td>\n",
       "      <td>2</td>\n",
       "      <td>0</td>\n",
       "      <td>1</td>\n",
       "      <td>2</td>\n",
       "      <td>33</td>\n",
       "      <td>744</td>\n",
       "      <td>1</td>\n",
       "      <td>0</td>\n",
       "    </tr>\n",
       "    <tr>\n",
       "      <th>3</th>\n",
       "      <td>7000.0</td>\n",
       "      <td>232.44</td>\n",
       "      <td>40000.0</td>\n",
       "      <td>20.25</td>\n",
       "      <td>0.0</td>\n",
       "      <td>13.0</td>\n",
       "      <td>0.0</td>\n",
       "      <td>5004.0</td>\n",
       "      <td>29.0</td>\n",
       "      <td>0.0</td>\n",
       "      <td>...</td>\n",
       "      <td>10</td>\n",
       "      <td>1</td>\n",
       "      <td>2</td>\n",
       "      <td>0</td>\n",
       "      <td>3</td>\n",
       "      <td>6</td>\n",
       "      <td>42</td>\n",
       "      <td>355</td>\n",
       "      <td>1</td>\n",
       "      <td>0</td>\n",
       "    </tr>\n",
       "    <tr>\n",
       "      <th>4</th>\n",
       "      <td>10000.0</td>\n",
       "      <td>326.92</td>\n",
       "      <td>52320.0</td>\n",
       "      <td>12.87</td>\n",
       "      <td>1.0</td>\n",
       "      <td>6.0</td>\n",
       "      <td>1.0</td>\n",
       "      <td>1692.0</td>\n",
       "      <td>26.0</td>\n",
       "      <td>0.0</td>\n",
       "      <td>...</td>\n",
       "      <td>10</td>\n",
       "      <td>3</td>\n",
       "      <td>1</td>\n",
       "      <td>0</td>\n",
       "      <td>2</td>\n",
       "      <td>3</td>\n",
       "      <td>46</td>\n",
       "      <td>380</td>\n",
       "      <td>1</td>\n",
       "      <td>0</td>\n",
       "    </tr>\n",
       "  </tbody>\n",
       "</table>\n",
       "<p>5 rows × 69 columns</p>\n",
       "</div>"
      ],
      "text/plain": [
       "   loan_amnt  installment  annual_inc    dti  inq_last_6mths  open_acc  \\\n",
       "0     3000.0        93.10     52000.0   0.58             0.0       7.0   \n",
       "1     5000.0       166.03     55000.0  14.18             0.0      14.0   \n",
       "2    20300.0       509.66     55000.0  26.63             0.0      10.0   \n",
       "3     7000.0       232.44     40000.0  20.25             0.0      13.0   \n",
       "4    10000.0       326.92     52320.0  12.87             1.0       6.0   \n",
       "\n",
       "   pub_rec  revol_bal  total_acc  out_prncp        ...         emp_length  \\\n",
       "0      0.0      141.0       30.0        0.0        ...                  9   \n",
       "1      1.0    11449.0       24.0        0.0        ...                  1   \n",
       "2      0.0    17506.0       26.0        0.0        ...                 10   \n",
       "3      0.0     5004.0       29.0        0.0        ...                 10   \n",
       "4      1.0     1692.0       26.0        0.0        ...                 10   \n",
       "\n",
       "   home_ownership  verification_status  pymnt_plan  purpose  title  \\\n",
       "0               3                    1           0        5      7   \n",
       "1               2                    0           0        8     10   \n",
       "2               3                    2           0        1      2   \n",
       "3               1                    2           0        3      6   \n",
       "4               3                    1           0        2      3   \n",
       "\n",
       "   addr_state  revol_util  initial_list_status  application_type  \n",
       "0          46           5                    1                 0  \n",
       "1          10         334                    1                 0  \n",
       "2          33         744                    1                 0  \n",
       "3          42         355                    1                 0  \n",
       "4          46         380                    1                 0  \n",
       "\n",
       "[5 rows x 69 columns]"
      ]
     },
     "execution_count": 81,
     "metadata": {},
     "output_type": "execute_result"
    }
   ],
   "source": [
    "others.head()"
   ]
  },
  {
   "cell_type": "code",
   "execution_count": 82,
   "metadata": {},
   "outputs": [
    {
     "data": {
      "text/plain": [
       "(73318, 69)"
      ]
     },
     "execution_count": 82,
     "metadata": {},
     "output_type": "execute_result"
    }
   ],
   "source": [
    "others.shape"
   ]
  },
  {
   "cell_type": "code",
   "execution_count": 83,
   "metadata": {},
   "outputs": [],
   "source": [
    "bandwidth2 = estimate_bandwidth(others.drop('good_loan_status', axis=1),\n",
    "                                quantile=0.2, n_samples=70)\n",
    "# introduce the radius, also create bins to store the clusters.\n",
    "ms = MeanShift(bandwidth2, bin_seeding=True)"
   ]
  },
  {
   "cell_type": "code",
   "execution_count": 84,
   "metadata": {},
   "outputs": [],
   "source": [
    "ms.fit(others.drop('good_loan_status', axis=1))\n",
    "msLabels = ms.labels_"
   ]
  },
  {
   "cell_type": "code",
   "execution_count": 85,
   "metadata": {},
   "outputs": [
    {
     "data": {
      "text/plain": [
       "array([  0,   0,   0, ..., 142, 189,   0])"
      ]
     },
     "execution_count": 85,
     "metadata": {},
     "output_type": "execute_result"
    }
   ],
   "source": [
    "msLabels"
   ]
  },
  {
   "cell_type": "code",
   "execution_count": 86,
   "metadata": {},
   "outputs": [
    {
     "data": {
      "text/html": [
       "<div>\n",
       "<style scoped>\n",
       "    .dataframe tbody tr th:only-of-type {\n",
       "        vertical-align: middle;\n",
       "    }\n",
       "\n",
       "    .dataframe tbody tr th {\n",
       "        vertical-align: top;\n",
       "    }\n",
       "\n",
       "    .dataframe thead th {\n",
       "        text-align: right;\n",
       "    }\n",
       "</style>\n",
       "<table border=\"1\" class=\"dataframe\">\n",
       "  <thead>\n",
       "    <tr style=\"text-align: right;\">\n",
       "      <th></th>\n",
       "      <th>loan_amnt</th>\n",
       "      <th>installment</th>\n",
       "      <th>annual_inc</th>\n",
       "      <th>dti</th>\n",
       "      <th>inq_last_6mths</th>\n",
       "      <th>open_acc</th>\n",
       "      <th>pub_rec</th>\n",
       "      <th>revol_bal</th>\n",
       "      <th>total_acc</th>\n",
       "      <th>out_prncp</th>\n",
       "      <th>...</th>\n",
       "      <th>emp_length</th>\n",
       "      <th>home_ownership</th>\n",
       "      <th>verification_status</th>\n",
       "      <th>pymnt_plan</th>\n",
       "      <th>purpose</th>\n",
       "      <th>title</th>\n",
       "      <th>addr_state</th>\n",
       "      <th>revol_util</th>\n",
       "      <th>initial_list_status</th>\n",
       "      <th>application_type</th>\n",
       "    </tr>\n",
       "  </thead>\n",
       "  <tbody>\n",
       "    <tr>\n",
       "      <th>0</th>\n",
       "      <td>3000.0</td>\n",
       "      <td>93.10</td>\n",
       "      <td>52000.0</td>\n",
       "      <td>0.58</td>\n",
       "      <td>0.0</td>\n",
       "      <td>7.0</td>\n",
       "      <td>0.0</td>\n",
       "      <td>141.0</td>\n",
       "      <td>30.0</td>\n",
       "      <td>0.0</td>\n",
       "      <td>...</td>\n",
       "      <td>9</td>\n",
       "      <td>3</td>\n",
       "      <td>1</td>\n",
       "      <td>0</td>\n",
       "      <td>5</td>\n",
       "      <td>7</td>\n",
       "      <td>46</td>\n",
       "      <td>5</td>\n",
       "      <td>1</td>\n",
       "      <td>0</td>\n",
       "    </tr>\n",
       "    <tr>\n",
       "      <th>1</th>\n",
       "      <td>5000.0</td>\n",
       "      <td>166.03</td>\n",
       "      <td>55000.0</td>\n",
       "      <td>14.18</td>\n",
       "      <td>0.0</td>\n",
       "      <td>14.0</td>\n",
       "      <td>1.0</td>\n",
       "      <td>11449.0</td>\n",
       "      <td>24.0</td>\n",
       "      <td>0.0</td>\n",
       "      <td>...</td>\n",
       "      <td>1</td>\n",
       "      <td>2</td>\n",
       "      <td>0</td>\n",
       "      <td>0</td>\n",
       "      <td>8</td>\n",
       "      <td>10</td>\n",
       "      <td>10</td>\n",
       "      <td>334</td>\n",
       "      <td>1</td>\n",
       "      <td>0</td>\n",
       "    </tr>\n",
       "    <tr>\n",
       "      <th>2</th>\n",
       "      <td>20300.0</td>\n",
       "      <td>509.66</td>\n",
       "      <td>55000.0</td>\n",
       "      <td>26.63</td>\n",
       "      <td>0.0</td>\n",
       "      <td>10.0</td>\n",
       "      <td>0.0</td>\n",
       "      <td>17506.0</td>\n",
       "      <td>26.0</td>\n",
       "      <td>0.0</td>\n",
       "      <td>...</td>\n",
       "      <td>10</td>\n",
       "      <td>3</td>\n",
       "      <td>2</td>\n",
       "      <td>0</td>\n",
       "      <td>1</td>\n",
       "      <td>2</td>\n",
       "      <td>33</td>\n",
       "      <td>744</td>\n",
       "      <td>1</td>\n",
       "      <td>0</td>\n",
       "    </tr>\n",
       "    <tr>\n",
       "      <th>3</th>\n",
       "      <td>7000.0</td>\n",
       "      <td>232.44</td>\n",
       "      <td>40000.0</td>\n",
       "      <td>20.25</td>\n",
       "      <td>0.0</td>\n",
       "      <td>13.0</td>\n",
       "      <td>0.0</td>\n",
       "      <td>5004.0</td>\n",
       "      <td>29.0</td>\n",
       "      <td>0.0</td>\n",
       "      <td>...</td>\n",
       "      <td>10</td>\n",
       "      <td>1</td>\n",
       "      <td>2</td>\n",
       "      <td>0</td>\n",
       "      <td>3</td>\n",
       "      <td>6</td>\n",
       "      <td>42</td>\n",
       "      <td>355</td>\n",
       "      <td>1</td>\n",
       "      <td>0</td>\n",
       "    </tr>\n",
       "    <tr>\n",
       "      <th>4</th>\n",
       "      <td>10000.0</td>\n",
       "      <td>326.92</td>\n",
       "      <td>52320.0</td>\n",
       "      <td>12.87</td>\n",
       "      <td>1.0</td>\n",
       "      <td>6.0</td>\n",
       "      <td>1.0</td>\n",
       "      <td>1692.0</td>\n",
       "      <td>26.0</td>\n",
       "      <td>0.0</td>\n",
       "      <td>...</td>\n",
       "      <td>10</td>\n",
       "      <td>3</td>\n",
       "      <td>1</td>\n",
       "      <td>0</td>\n",
       "      <td>2</td>\n",
       "      <td>3</td>\n",
       "      <td>46</td>\n",
       "      <td>380</td>\n",
       "      <td>1</td>\n",
       "      <td>0</td>\n",
       "    </tr>\n",
       "  </tbody>\n",
       "</table>\n",
       "<p>5 rows × 69 columns</p>\n",
       "</div>"
      ],
      "text/plain": [
       "   loan_amnt  installment  annual_inc    dti  inq_last_6mths  open_acc  \\\n",
       "0     3000.0        93.10     52000.0   0.58             0.0       7.0   \n",
       "1     5000.0       166.03     55000.0  14.18             0.0      14.0   \n",
       "2    20300.0       509.66     55000.0  26.63             0.0      10.0   \n",
       "3     7000.0       232.44     40000.0  20.25             0.0      13.0   \n",
       "4    10000.0       326.92     52320.0  12.87             1.0       6.0   \n",
       "\n",
       "   pub_rec  revol_bal  total_acc  out_prncp        ...         emp_length  \\\n",
       "0      0.0      141.0       30.0        0.0        ...                  9   \n",
       "1      1.0    11449.0       24.0        0.0        ...                  1   \n",
       "2      0.0    17506.0       26.0        0.0        ...                 10   \n",
       "3      0.0     5004.0       29.0        0.0        ...                 10   \n",
       "4      1.0     1692.0       26.0        0.0        ...                 10   \n",
       "\n",
       "   home_ownership  verification_status  pymnt_plan  purpose  title  \\\n",
       "0               3                    1           0        5      7   \n",
       "1               2                    0           0        8     10   \n",
       "2               3                    2           0        1      2   \n",
       "3               1                    2           0        3      6   \n",
       "4               3                    1           0        2      3   \n",
       "\n",
       "   addr_state  revol_util  initial_list_status  application_type  \n",
       "0          46           5                    1                 0  \n",
       "1          10         334                    1                 0  \n",
       "2          33         744                    1                 0  \n",
       "3          42         355                    1                 0  \n",
       "4          46         380                    1                 0  \n",
       "\n",
       "[5 rows x 69 columns]"
      ]
     },
     "execution_count": 86,
     "metadata": {},
     "output_type": "execute_result"
    }
   ],
   "source": [
    "df1.head()"
   ]
  },
  {
   "cell_type": "code",
   "execution_count": 87,
   "metadata": {},
   "outputs": [
    {
     "data": {
      "text/html": [
       "<div>\n",
       "<style scoped>\n",
       "    .dataframe tbody tr th:only-of-type {\n",
       "        vertical-align: middle;\n",
       "    }\n",
       "\n",
       "    .dataframe tbody tr th {\n",
       "        vertical-align: top;\n",
       "    }\n",
       "\n",
       "    .dataframe thead th {\n",
       "        text-align: right;\n",
       "    }\n",
       "</style>\n",
       "<table border=\"1\" class=\"dataframe\">\n",
       "  <thead>\n",
       "    <tr style=\"text-align: right;\">\n",
       "      <th></th>\n",
       "      <th>loan_amnt</th>\n",
       "      <th>installment</th>\n",
       "      <th>annual_inc</th>\n",
       "      <th>dti</th>\n",
       "      <th>inq_last_6mths</th>\n",
       "      <th>open_acc</th>\n",
       "      <th>pub_rec</th>\n",
       "      <th>revol_bal</th>\n",
       "      <th>total_acc</th>\n",
       "      <th>out_prncp</th>\n",
       "      <th>...</th>\n",
       "      <th>emp_length</th>\n",
       "      <th>home_ownership</th>\n",
       "      <th>verification_status</th>\n",
       "      <th>pymnt_plan</th>\n",
       "      <th>purpose</th>\n",
       "      <th>title</th>\n",
       "      <th>addr_state</th>\n",
       "      <th>revol_util</th>\n",
       "      <th>initial_list_status</th>\n",
       "      <th>application_type</th>\n",
       "    </tr>\n",
       "  </thead>\n",
       "  <tbody>\n",
       "    <tr>\n",
       "      <th>0</th>\n",
       "      <td>3000.0</td>\n",
       "      <td>93.10</td>\n",
       "      <td>52000.0</td>\n",
       "      <td>0.58</td>\n",
       "      <td>0.0</td>\n",
       "      <td>7.0</td>\n",
       "      <td>0.0</td>\n",
       "      <td>141.0</td>\n",
       "      <td>30.0</td>\n",
       "      <td>0.0</td>\n",
       "      <td>...</td>\n",
       "      <td>9</td>\n",
       "      <td>3</td>\n",
       "      <td>1</td>\n",
       "      <td>0</td>\n",
       "      <td>5</td>\n",
       "      <td>7</td>\n",
       "      <td>46</td>\n",
       "      <td>5</td>\n",
       "      <td>1</td>\n",
       "      <td>0</td>\n",
       "    </tr>\n",
       "    <tr>\n",
       "      <th>1</th>\n",
       "      <td>5000.0</td>\n",
       "      <td>166.03</td>\n",
       "      <td>55000.0</td>\n",
       "      <td>14.18</td>\n",
       "      <td>0.0</td>\n",
       "      <td>14.0</td>\n",
       "      <td>1.0</td>\n",
       "      <td>11449.0</td>\n",
       "      <td>24.0</td>\n",
       "      <td>0.0</td>\n",
       "      <td>...</td>\n",
       "      <td>1</td>\n",
       "      <td>2</td>\n",
       "      <td>0</td>\n",
       "      <td>0</td>\n",
       "      <td>8</td>\n",
       "      <td>10</td>\n",
       "      <td>10</td>\n",
       "      <td>334</td>\n",
       "      <td>1</td>\n",
       "      <td>0</td>\n",
       "    </tr>\n",
       "    <tr>\n",
       "      <th>2</th>\n",
       "      <td>20300.0</td>\n",
       "      <td>509.66</td>\n",
       "      <td>55000.0</td>\n",
       "      <td>26.63</td>\n",
       "      <td>0.0</td>\n",
       "      <td>10.0</td>\n",
       "      <td>0.0</td>\n",
       "      <td>17506.0</td>\n",
       "      <td>26.0</td>\n",
       "      <td>0.0</td>\n",
       "      <td>...</td>\n",
       "      <td>10</td>\n",
       "      <td>3</td>\n",
       "      <td>2</td>\n",
       "      <td>0</td>\n",
       "      <td>1</td>\n",
       "      <td>2</td>\n",
       "      <td>33</td>\n",
       "      <td>744</td>\n",
       "      <td>1</td>\n",
       "      <td>0</td>\n",
       "    </tr>\n",
       "    <tr>\n",
       "      <th>3</th>\n",
       "      <td>7000.0</td>\n",
       "      <td>232.44</td>\n",
       "      <td>40000.0</td>\n",
       "      <td>20.25</td>\n",
       "      <td>0.0</td>\n",
       "      <td>13.0</td>\n",
       "      <td>0.0</td>\n",
       "      <td>5004.0</td>\n",
       "      <td>29.0</td>\n",
       "      <td>0.0</td>\n",
       "      <td>...</td>\n",
       "      <td>10</td>\n",
       "      <td>1</td>\n",
       "      <td>2</td>\n",
       "      <td>0</td>\n",
       "      <td>3</td>\n",
       "      <td>6</td>\n",
       "      <td>42</td>\n",
       "      <td>355</td>\n",
       "      <td>1</td>\n",
       "      <td>0</td>\n",
       "    </tr>\n",
       "    <tr>\n",
       "      <th>4</th>\n",
       "      <td>10000.0</td>\n",
       "      <td>326.92</td>\n",
       "      <td>52320.0</td>\n",
       "      <td>12.87</td>\n",
       "      <td>1.0</td>\n",
       "      <td>6.0</td>\n",
       "      <td>1.0</td>\n",
       "      <td>1692.0</td>\n",
       "      <td>26.0</td>\n",
       "      <td>0.0</td>\n",
       "      <td>...</td>\n",
       "      <td>10</td>\n",
       "      <td>3</td>\n",
       "      <td>1</td>\n",
       "      <td>0</td>\n",
       "      <td>2</td>\n",
       "      <td>3</td>\n",
       "      <td>46</td>\n",
       "      <td>380</td>\n",
       "      <td>1</td>\n",
       "      <td>0</td>\n",
       "    </tr>\n",
       "  </tbody>\n",
       "</table>\n",
       "<p>5 rows × 69 columns</p>\n",
       "</div>"
      ],
      "text/plain": [
       "   loan_amnt  installment  annual_inc    dti  inq_last_6mths  open_acc  \\\n",
       "0     3000.0        93.10     52000.0   0.58             0.0       7.0   \n",
       "1     5000.0       166.03     55000.0  14.18             0.0      14.0   \n",
       "2    20300.0       509.66     55000.0  26.63             0.0      10.0   \n",
       "3     7000.0       232.44     40000.0  20.25             0.0      13.0   \n",
       "4    10000.0       326.92     52320.0  12.87             1.0       6.0   \n",
       "\n",
       "   pub_rec  revol_bal  total_acc  out_prncp        ...         emp_length  \\\n",
       "0      0.0      141.0       30.0        0.0        ...                  9   \n",
       "1      1.0    11449.0       24.0        0.0        ...                  1   \n",
       "2      0.0    17506.0       26.0        0.0        ...                 10   \n",
       "3      0.0     5004.0       29.0        0.0        ...                 10   \n",
       "4      1.0     1692.0       26.0        0.0        ...                 10   \n",
       "\n",
       "   home_ownership  verification_status  pymnt_plan  purpose  title  \\\n",
       "0               3                    1           0        5      7   \n",
       "1               2                    0           0        8     10   \n",
       "2               3                    2           0        1      2   \n",
       "3               1                    2           0        3      6   \n",
       "4               3                    1           0        2      3   \n",
       "\n",
       "   addr_state  revol_util  initial_list_status  application_type  \n",
       "0          46           5                    1                 0  \n",
       "1          10         334                    1                 0  \n",
       "2          33         744                    1                 0  \n",
       "3          42         355                    1                 0  \n",
       "4          46         380                    1                 0  \n",
       "\n",
       "[5 rows x 69 columns]"
      ]
     },
     "execution_count": 87,
     "metadata": {},
     "output_type": "execute_result"
    }
   ],
   "source": [
    "others.head()"
   ]
  },
  {
   "cell_type": "code",
   "execution_count": 88,
   "metadata": {},
   "outputs": [],
   "source": [
    "dict = {}\n",
    "for var in zip(others, msLabels):\n",
    "    dict[var[0]] = var[1]"
   ]
  },
  {
   "cell_type": "code",
   "execution_count": 89,
   "metadata": {},
   "outputs": [
    {
     "data": {
      "text/plain": [
       "{'loan_amnt': 0,\n",
       " 'installment': 0,\n",
       " 'annual_inc': 0,\n",
       " 'dti': 0,\n",
       " 'inq_last_6mths': 0,\n",
       " 'open_acc': 0,\n",
       " 'pub_rec': 0,\n",
       " 'revol_bal': 0,\n",
       " 'total_acc': 0,\n",
       " 'out_prncp': 0,\n",
       " 'collections_12_mths_ex_med': 142,\n",
       " 'open_acc_6m': 0,\n",
       " 'open_act_il': 224,\n",
       " 'open_il_12m': 0,\n",
       " 'mths_since_rcnt_il': 0,\n",
       " 'open_rv_12m': 0,\n",
       " 'open_rv_24m': 0,\n",
       " 'max_bal_bc': 0,\n",
       " 'all_util': 0,\n",
       " 'total_rev_hi_lim': 0,\n",
       " 'inq_fi': 48,\n",
       " 'acc_open_past_24mths': 0,\n",
       " 'avg_cur_bal': 0,\n",
       " 'bc_open_to_buy': 0,\n",
       " 'bc_util': 0,\n",
       " 'mo_sin_old_il_acct': 0,\n",
       " 'mo_sin_old_rev_tl_op': 0,\n",
       " 'mo_sin_rcnt_rev_tl_op': 0,\n",
       " 'mo_sin_rcnt_tl': 0,\n",
       " 'mort_acc': 0,\n",
       " 'mths_since_recent_bc': 0,\n",
       " 'num_accts_ever_120_pd': 0,\n",
       " 'num_actv_bc_tl': 0,\n",
       " 'num_actv_rev_tl': 0,\n",
       " 'num_bc_sats': 0,\n",
       " 'num_bc_tl': 0,\n",
       " 'num_il_tl': 0,\n",
       " 'num_op_rev_tl': 0,\n",
       " 'num_rev_accts': 0,\n",
       " 'num_rev_tl_bal_gt_0': 0,\n",
       " 'num_sats': 0,\n",
       " 'num_tl_120dpd_2m': 142,\n",
       " 'num_tl_30dpd': 0,\n",
       " 'num_tl_90g_dpd_24m': 142,\n",
       " 'num_tl_op_past_12m': 0,\n",
       " 'pct_tl_nvr_dlq': 0,\n",
       " 'percent_bc_gt_75': 224,\n",
       " 'pub_rec_bankruptcies': 224,\n",
       " 'tax_liens': 0,\n",
       " 'tot_hi_cred_lim': 0,\n",
       " 'total_bal_ex_mort': 142,\n",
       " 'total_bc_limit': 0,\n",
       " 'total_il_high_credit_limit': 0,\n",
       " 'months_since_issue_d': 0,\n",
       " 'months_since_last_credit_pull_d': 0,\n",
       " 'good_loan_status': 0,\n",
       " 'term': 0,\n",
       " 'grade': 0,\n",
       " 'sub_grade': 142,\n",
       " 'emp_length': 38,\n",
       " 'home_ownership': 0,\n",
       " 'verification_status': 224,\n",
       " 'pymnt_plan': 0,\n",
       " 'purpose': 0,\n",
       " 'title': 62,\n",
       " 'addr_state': 0,\n",
       " 'revol_util': 5,\n",
       " 'initial_list_status': 0,\n",
       " 'application_type': 24}"
      ]
     },
     "execution_count": 89,
     "metadata": {},
     "output_type": "execute_result"
    }
   ],
   "source": [
    "dict"
   ]
  },
  {
   "cell_type": "code",
   "execution_count": 90,
   "metadata": {},
   "outputs": [],
   "source": [
    "clusters = pd.DataFrame(list(dict.items()), columns=[\n",
    "                        'Features', 'Cluster_MeanShift'])"
   ]
  },
  {
   "cell_type": "code",
   "execution_count": 113,
   "metadata": {},
   "outputs": [
    {
     "data": {
      "text/plain": [
       "0      55\n",
       "142     5\n",
       "224     4\n",
       "62      1\n",
       "48      1\n",
       "38      1\n",
       "24      1\n",
       "5       1\n",
       "Name: Cluster_MeanShift, dtype: int64"
      ]
     },
     "execution_count": 113,
     "metadata": {},
     "output_type": "execute_result"
    }
   ],
   "source": [
    "clusters['Cluster_MeanShift'].value_counts()"
   ]
  },
  {
   "cell_type": "markdown",
   "metadata": {},
   "source": [
    "_MeanShift was able to make 8 clusters.  Most of the the loans are in cluster 0_"
   ]
  },
  {
   "cell_type": "code",
   "execution_count": 91,
   "metadata": {},
   "outputs": [
    {
     "data": {
      "text/html": [
       "<div>\n",
       "<style scoped>\n",
       "    .dataframe tbody tr th:only-of-type {\n",
       "        vertical-align: middle;\n",
       "    }\n",
       "\n",
       "    .dataframe tbody tr th {\n",
       "        vertical-align: top;\n",
       "    }\n",
       "\n",
       "    .dataframe thead th {\n",
       "        text-align: right;\n",
       "    }\n",
       "</style>\n",
       "<table border=\"1\" class=\"dataframe\">\n",
       "  <thead>\n",
       "    <tr style=\"text-align: right;\">\n",
       "      <th></th>\n",
       "      <th>Features</th>\n",
       "      <th>Cluster_MeanShift</th>\n",
       "    </tr>\n",
       "  </thead>\n",
       "  <tbody>\n",
       "    <tr>\n",
       "      <th>49</th>\n",
       "      <td>tot_hi_cred_lim</td>\n",
       "      <td>0</td>\n",
       "    </tr>\n",
       "    <tr>\n",
       "      <th>50</th>\n",
       "      <td>total_bal_ex_mort</td>\n",
       "      <td>142</td>\n",
       "    </tr>\n",
       "    <tr>\n",
       "      <th>51</th>\n",
       "      <td>total_bc_limit</td>\n",
       "      <td>0</td>\n",
       "    </tr>\n",
       "    <tr>\n",
       "      <th>52</th>\n",
       "      <td>total_il_high_credit_limit</td>\n",
       "      <td>0</td>\n",
       "    </tr>\n",
       "    <tr>\n",
       "      <th>53</th>\n",
       "      <td>months_since_issue_d</td>\n",
       "      <td>0</td>\n",
       "    </tr>\n",
       "    <tr>\n",
       "      <th>54</th>\n",
       "      <td>months_since_last_credit_pull_d</td>\n",
       "      <td>0</td>\n",
       "    </tr>\n",
       "    <tr>\n",
       "      <th>55</th>\n",
       "      <td>good_loan_status</td>\n",
       "      <td>0</td>\n",
       "    </tr>\n",
       "    <tr>\n",
       "      <th>56</th>\n",
       "      <td>term</td>\n",
       "      <td>0</td>\n",
       "    </tr>\n",
       "    <tr>\n",
       "      <th>57</th>\n",
       "      <td>grade</td>\n",
       "      <td>0</td>\n",
       "    </tr>\n",
       "    <tr>\n",
       "      <th>58</th>\n",
       "      <td>sub_grade</td>\n",
       "      <td>142</td>\n",
       "    </tr>\n",
       "    <tr>\n",
       "      <th>59</th>\n",
       "      <td>emp_length</td>\n",
       "      <td>38</td>\n",
       "    </tr>\n",
       "    <tr>\n",
       "      <th>60</th>\n",
       "      <td>home_ownership</td>\n",
       "      <td>0</td>\n",
       "    </tr>\n",
       "    <tr>\n",
       "      <th>61</th>\n",
       "      <td>verification_status</td>\n",
       "      <td>224</td>\n",
       "    </tr>\n",
       "    <tr>\n",
       "      <th>62</th>\n",
       "      <td>pymnt_plan</td>\n",
       "      <td>0</td>\n",
       "    </tr>\n",
       "    <tr>\n",
       "      <th>63</th>\n",
       "      <td>purpose</td>\n",
       "      <td>0</td>\n",
       "    </tr>\n",
       "    <tr>\n",
       "      <th>64</th>\n",
       "      <td>title</td>\n",
       "      <td>62</td>\n",
       "    </tr>\n",
       "    <tr>\n",
       "      <th>65</th>\n",
       "      <td>addr_state</td>\n",
       "      <td>0</td>\n",
       "    </tr>\n",
       "    <tr>\n",
       "      <th>66</th>\n",
       "      <td>revol_util</td>\n",
       "      <td>5</td>\n",
       "    </tr>\n",
       "    <tr>\n",
       "      <th>67</th>\n",
       "      <td>initial_list_status</td>\n",
       "      <td>0</td>\n",
       "    </tr>\n",
       "    <tr>\n",
       "      <th>68</th>\n",
       "      <td>application_type</td>\n",
       "      <td>24</td>\n",
       "    </tr>\n",
       "  </tbody>\n",
       "</table>\n",
       "</div>"
      ],
      "text/plain": [
       "                           Features  Cluster_MeanShift\n",
       "49                  tot_hi_cred_lim                  0\n",
       "50                total_bal_ex_mort                142\n",
       "51                   total_bc_limit                  0\n",
       "52       total_il_high_credit_limit                  0\n",
       "53             months_since_issue_d                  0\n",
       "54  months_since_last_credit_pull_d                  0\n",
       "55                 good_loan_status                  0\n",
       "56                             term                  0\n",
       "57                            grade                  0\n",
       "58                        sub_grade                142\n",
       "59                       emp_length                 38\n",
       "60                   home_ownership                  0\n",
       "61              verification_status                224\n",
       "62                       pymnt_plan                  0\n",
       "63                          purpose                  0\n",
       "64                            title                 62\n",
       "65                       addr_state                  0\n",
       "66                       revol_util                  5\n",
       "67              initial_list_status                  0\n",
       "68                 application_type                 24"
      ]
     },
     "execution_count": 91,
     "metadata": {},
     "output_type": "execute_result"
    }
   ],
   "source": [
    "clusters.tail(20)"
   ]
  },
  {
   "cell_type": "markdown",
   "metadata": {},
   "source": [
    "# How many cluster does Kmeans actually find?  The elbow method is used to find the best k. "
   ]
  },
  {
   "cell_type": "code",
   "execution_count": 117,
   "metadata": {},
   "outputs": [],
   "source": [
    "# function to determine K\n",
    "def kClusters(X):\n",
    "    plt.rcParams['figure.figsize'] = [9, 5]\n",
    "\n",
    "    squaredSums = []\n",
    "    K = range(1, 45)\n",
    "    for k in K:\n",
    "        kmeanModel = KMeans(n_clusters=k)\n",
    "        kmeanModel = kmeanModel.fit(X)\n",
    "        squaredSums.append(kmeanModel.inertia_)\n",
    "\n",
    "    # Plot the elbow\n",
    "    plt.plot(K, squaredSums, 'bx-')\n",
    "    plt.xlabel('k')\n",
    "    plt.ylabel('squaredSums')\n",
    "    plt.title('The Elbow Method showing the optimal k')\n",
    "    plt.show()"
   ]
  },
  {
   "cell_type": "code",
   "execution_count": 128,
   "metadata": {},
   "outputs": [],
   "source": [
    "# Find the clusters and plot them\n",
    "sns.set(style=\"darkgrid\")\n",
    "def clusterModels(X, y, k):\n",
    "    fig, ax = plt.subplots(111, figsize=(9, 9))\n",
    "    plt.rcParams.update({'font.size': 15})\n",
    "    models = []\n",
    "    names = []\n",
    "    plt_num = []\n",
    "\n",
    "    # Normalize the data.\n",
    "    svd = TruncatedSVD(50)\n",
    "    lsa = make_pipeline(svd, Normalizer(copy=False))\n",
    "\n",
    "    # Run SVD on the training data, then project the training data.\n",
    "    X_lsa = lsa.fit_transform(X)\n",
    "\n",
    "    models.append((0, 'KMeans', KMeans(n_clusters=k, init='k-means++')))\n",
    "\n",
    "    for plt_num, name, model in models:\n",
    "        names.append(name)\n",
    "        model.fit(X_lsa)\n",
    "        labels = model.labels_\n",
    "        colormap=['green','black']\n",
    "        ax[plt_num].set_title(name)\n",
    "        ax[plt_num].scatter(X_lsa[:, 0], X_lsa[:, 1], c=colormap[labels])\n",
    "        print(name)\n",
    "        print(pd.crosstab(y, labels), '\\n\\n')"
   ]
  },
  {
   "cell_type": "code",
   "execution_count": 114,
   "metadata": {},
   "outputs": [
    {
     "data": {
      "image/png": "[encoded data removed]",
      "text/plain": [
       "<Figure size 648x360 with 1 Axes>"
      ]
     },
     "metadata": {
      "needs_background": "light"
     },
     "output_type": "display_data"
    }
   ],
   "source": [
    "# find k\n",
    "kClusters(X)"
   ]
  },
  {
   "cell_type": "markdown",
   "metadata": {},
   "source": [
    "_The elbow method predicts 7 clusters_"
   ]
  },
  {
   "cell_type": "code",
   "execution_count": 130,
   "metadata": {
    "scrolled": false
   },
   "outputs": [
    {
     "name": "stderr",
     "output_type": "stream",
     "text": [
      "/Library/Frameworks/Python.framework/Versions/3.7/lib/python3.7/site-packages/ipykernel_launcher.py:2: DataConversionWarning: Data with input dtype int64, float64 were all converted to float64 by the scale function.\n",
      "  \n"
     ]
    },
    {
     "data": {
      "image/png": "[encoded data removed]",
      "text/plain": [
       "<Figure size 648x360 with 1 Axes>"
      ]
     },
     "metadata": {},
     "output_type": "display_data"
    }
   ],
   "source": [
    "colormap = np.array(['green', 'black', 'red', 'yellow', 'blue', 'grey','white'])\n",
    "X_norm = normalize(scale(X))\n",
    "X_pca = PCA(2).fit_transform(X_norm)\n",
    "y_pred = KMeans(n_clusters=7, init='k-means++',random_state=42).fit_predict(X_pca)\n",
    "\n",
    "# Plot the solution.\n",
    "plt.title('Kmeans Cluster')\n",
    "plt.scatter(X_pca[:, 0], X_pca[:, 1], c=colormap[y_pred])\n",
    "plt.show()"
   ]
  }
 ],
 "metadata": {
  "kernelspec": {
   "display_name": "Python 3",
   "language": "python",
   "name": "python3"
  },
  "language_info": {
   "codemirror_mode": {
    "name": "ipython",
    "version": 3
   },
   "file_extension": ".py",
   "mimetype": "text/x-python",
   "name": "python",
   "nbconvert_exporter": "python",
   "pygments_lexer": "ipython3",
   "version": "3.7.1"
  }
 },
 "nbformat": 4,
 "nbformat_minor": 2
}
