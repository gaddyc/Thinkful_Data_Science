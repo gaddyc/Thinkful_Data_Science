{
 "cells": [
  {
   "cell_type": "markdown",
   "metadata": {},
   "source": [
    "# Unsupervised Learning on LendingClub data\n",
    "Can Kmeans, MiniBatch Kmeans and MeanShift predict a good vs a bad loan?\n",
    "\n",
    "1. Use 2 cluster to see how well Kmean and miniKmeans can predict good loans\n",
    "2. Use the top 10 features in Random Forest"
   ]
  },
  {
   "cell_type": "code",
   "execution_count": 1,
   "metadata": {},
   "outputs": [],
   "source": [
    "import pandas as pd\n",
    "import numpy as np\n",
    "import matplotlib.pyplot as plt\n",
    "import math\n",
    "\n",
    "from sklearn.cluster import KMeans, MiniBatchKMeans\n",
    "from sklearn.cluster import MeanShift, SpectralClustering\n",
    "from sklearn.decomposition import TruncatedSVD\n",
    "from sklearn.pipeline import make_pipeline\n",
    "from sklearn.preprocessing import Normalizer, normalize, scale\n",
    "from sklearn.metrics import confusion_matrix, classification_report\n",
    "\n",
    "from sklearn.cluster import estimate_bandwidth\n",
    "from sklearn.cluster import KMeans\n",
    "from sklearn.decomposition import PCA\n",
    "import seaborn as sns\n",
    "\n",
    "%matplotlib inline"
   ]
  },
  {
   "cell_type": "code",
   "execution_count": 2,
   "metadata": {},
   "outputs": [],
   "source": [
    "df = pd.read_csv('lending_club_le.csv')"
   ]
  },
  {
   "cell_type": "code",
   "execution_count": 3,
   "metadata": {},
   "outputs": [],
   "source": [
    "df.drop('Unnamed: 0', axis=1, inplace=True)"
   ]
  },
  {
   "cell_type": "code",
   "execution_count": 4,
   "metadata": {},
   "outputs": [
    {
     "data": {
      "text/html": [
       "<div>\n",
       "<style scoped>\n",
       "    .dataframe tbody tr th:only-of-type {\n",
       "        vertical-align: middle;\n",
       "    }\n",
       "\n",
       "    .dataframe tbody tr th {\n",
       "        vertical-align: top;\n",
       "    }\n",
       "\n",
       "    .dataframe thead th {\n",
       "        text-align: right;\n",
       "    }\n",
       "</style>\n",
       "<table border=\"1\" class=\"dataframe\">\n",
       "  <thead>\n",
       "    <tr style=\"text-align: right;\">\n",
       "      <th></th>\n",
       "      <th>loan_amnt</th>\n",
       "      <th>annual_inc</th>\n",
       "      <th>dti</th>\n",
       "      <th>delinq_2yrs</th>\n",
       "      <th>inq_last_6mths</th>\n",
       "      <th>out_prncp</th>\n",
       "      <th>collections_12_mths_ex_med</th>\n",
       "      <th>open_acc_6m</th>\n",
       "      <th>mths_since_rcnt_il</th>\n",
       "      <th>il_util</th>\n",
       "      <th>...</th>\n",
       "      <th>emp_length</th>\n",
       "      <th>home_ownership</th>\n",
       "      <th>verification_status</th>\n",
       "      <th>pymnt_plan</th>\n",
       "      <th>purpose</th>\n",
       "      <th>addr_state</th>\n",
       "      <th>earliest_cr_line</th>\n",
       "      <th>revol_util</th>\n",
       "      <th>initial_list_status</th>\n",
       "      <th>application_type</th>\n",
       "    </tr>\n",
       "  </thead>\n",
       "  <tbody>\n",
       "    <tr>\n",
       "      <th>0</th>\n",
       "      <td>3000.0</td>\n",
       "      <td>52000.0</td>\n",
       "      <td>0.58</td>\n",
       "      <td>0.0</td>\n",
       "      <td>0.0</td>\n",
       "      <td>0.0</td>\n",
       "      <td>0.0</td>\n",
       "      <td>0.0</td>\n",
       "      <td>7.0</td>\n",
       "      <td>67.990156</td>\n",
       "      <td>...</td>\n",
       "      <td>9</td>\n",
       "      <td>3</td>\n",
       "      <td>1</td>\n",
       "      <td>0</td>\n",
       "      <td>5</td>\n",
       "      <td>46</td>\n",
       "      <td>253</td>\n",
       "      <td>5</td>\n",
       "      <td>1</td>\n",
       "      <td>0</td>\n",
       "    </tr>\n",
       "    <tr>\n",
       "      <th>1</th>\n",
       "      <td>5000.0</td>\n",
       "      <td>55000.0</td>\n",
       "      <td>14.18</td>\n",
       "      <td>0.0</td>\n",
       "      <td>0.0</td>\n",
       "      <td>0.0</td>\n",
       "      <td>0.0</td>\n",
       "      <td>1.0</td>\n",
       "      <td>33.0</td>\n",
       "      <td>63.000000</td>\n",
       "      <td>...</td>\n",
       "      <td>1</td>\n",
       "      <td>2</td>\n",
       "      <td>0</td>\n",
       "      <td>0</td>\n",
       "      <td>8</td>\n",
       "      <td>10</td>\n",
       "      <td>90</td>\n",
       "      <td>346</td>\n",
       "      <td>1</td>\n",
       "      <td>0</td>\n",
       "    </tr>\n",
       "    <tr>\n",
       "      <th>2</th>\n",
       "      <td>20300.0</td>\n",
       "      <td>55000.0</td>\n",
       "      <td>26.63</td>\n",
       "      <td>0.0</td>\n",
       "      <td>0.0</td>\n",
       "      <td>0.0</td>\n",
       "      <td>0.0</td>\n",
       "      <td>0.0</td>\n",
       "      <td>24.0</td>\n",
       "      <td>74.000000</td>\n",
       "      <td>...</td>\n",
       "      <td>10</td>\n",
       "      <td>3</td>\n",
       "      <td>2</td>\n",
       "      <td>0</td>\n",
       "      <td>1</td>\n",
       "      <td>33</td>\n",
       "      <td>523</td>\n",
       "      <td>756</td>\n",
       "      <td>1</td>\n",
       "      <td>0</td>\n",
       "    </tr>\n",
       "  </tbody>\n",
       "</table>\n",
       "<p>3 rows × 46 columns</p>\n",
       "</div>"
      ],
      "text/plain": [
       "   loan_amnt  annual_inc    dti  delinq_2yrs  inq_last_6mths  out_prncp  \\\n",
       "0     3000.0     52000.0   0.58          0.0             0.0        0.0   \n",
       "1     5000.0     55000.0  14.18          0.0             0.0        0.0   \n",
       "2    20300.0     55000.0  26.63          0.0             0.0        0.0   \n",
       "\n",
       "   collections_12_mths_ex_med  open_acc_6m  mths_since_rcnt_il    il_util  \\\n",
       "0                         0.0          0.0                 7.0  67.990156   \n",
       "1                         0.0          1.0                33.0  63.000000   \n",
       "2                         0.0          0.0                24.0  74.000000   \n",
       "\n",
       "         ...         emp_length  home_ownership  verification_status  \\\n",
       "0        ...                  9               3                    1   \n",
       "1        ...                  1               2                    0   \n",
       "2        ...                 10               3                    2   \n",
       "\n",
       "   pymnt_plan  purpose  addr_state  earliest_cr_line  revol_util  \\\n",
       "0           0        5          46               253           5   \n",
       "1           0        8          10                90         346   \n",
       "2           0        1          33               523         756   \n",
       "\n",
       "   initial_list_status  application_type  \n",
       "0                    1                 0  \n",
       "1                    1                 0  \n",
       "2                    1                 0  \n",
       "\n",
       "[3 rows x 46 columns]"
      ]
     },
     "execution_count": 4,
     "metadata": {},
     "output_type": "execute_result"
    }
   ],
   "source": [
    "df.head(3)"
   ]
  },
  {
   "cell_type": "code",
   "execution_count": 5,
   "metadata": {},
   "outputs": [
    {
     "data": {
      "text/plain": [
       "(87923, 46)"
      ]
     },
     "execution_count": 5,
     "metadata": {},
     "output_type": "execute_result"
    }
   ],
   "source": [
    "df.shape"
   ]
  },
  {
   "cell_type": "code",
   "execution_count": 6,
   "metadata": {},
   "outputs": [
    {
     "data": {
      "text/plain": [
       "1    65793\n",
       "0    22130\n",
       "Name: good_loan_status, dtype: int64"
      ]
     },
     "execution_count": 6,
     "metadata": {},
     "output_type": "execute_result"
    }
   ],
   "source": [
    "df.good_loan_status.value_counts()"
   ]
  },
  {
   "cell_type": "markdown",
   "metadata": {},
   "source": [
    "---"
   ]
  },
  {
   "cell_type": "markdown",
   "metadata": {},
   "source": [
    "---"
   ]
  },
  {
   "cell_type": "markdown",
   "metadata": {},
   "source": [
    "# Kmeans vs MiniBatchKmeans analysis\n",
    "\n",
    "How accurately will Kmeans cluster data into good and bad loan data?"
   ]
  },
  {
   "cell_type": "markdown",
   "metadata": {},
   "source": [
    "## Kmeans"
   ]
  },
  {
   "cell_type": "code",
   "execution_count": 7,
   "metadata": {},
   "outputs": [
    {
     "name": "stderr",
     "output_type": "stream",
     "text": [
      "/Library/Frameworks/Python.framework/Versions/3.7/lib/python3.7/site-packages/ipykernel_launcher.py:2: DataConversionWarning: Data with input dtype int64, float64 were all converted to float64 by the scale function.\n",
      "  \n"
     ]
    },
    {
     "data": {
      "image/png": "[encoded data removed]",
      "text/plain": [
       "<Figure size 432x288 with 1 Axes>"
      ]
     },
     "metadata": {
      "needs_background": "light"
     },
     "output_type": "display_data"
    },
    {
     "name": "stdout",
     "output_type": "stream",
     "text": [
      "Comparing k-means clusters against the data:\n",
      "good_loan_status      0      1\n",
      "row_0                         \n",
      "0                 10540  27965\n",
      "1                 11590  37828\n"
     ]
    }
   ],
   "source": [
    "colormap = np.array(['black', 'Purple'])\n",
    "X_norm = normalize(scale(df.drop(['good_loan_status'], axis=1)))\n",
    "X_pca = PCA(2).fit_transform(X_norm)\n",
    "y_pred = KMeans(n_clusters=2, random_state=42, n_jobs=-1).fit_predict(X_pca)\n",
    "\n",
    "# Plot the solution.\n",
    "plt.title('Kmeans Cluster')\n",
    "plt.scatter(X_pca[:, 0], X_pca[:, 1], c=colormap[y_pred])\n",
    "plt.show()\n",
    "\n",
    "# Check the solution against the data.\n",
    "print('Comparing k-means clusters against the data:')\n",
    "print(pd.crosstab(y_pred, df['good_loan_status']))"
   ]
  },
  {
   "cell_type": "markdown",
   "metadata": {},
   "source": [
    "_PCA is used to reduce the data to 2 components because we are looking to see if Kmeans can predict a good loan_\n",
    "\n",
    "Looks like this model isn't doing very well. We're __correctly classifying 44,298 (33717+10581)__ cases, but __mis-classifying 43,625 (32076+11549)__ of the cases!\n",
    "\n",
    "Out of __87,923__ loan applicatons __33717__ were good loans which were predict correctly. There are way to many false positives(__32076__).\n"
   ]
  },
  {
   "cell_type": "markdown",
   "metadata": {},
   "source": [
    "-----"
   ]
  },
  {
   "cell_type": "markdown",
   "metadata": {},
   "source": [
    "## Kmeans Mini Batch"
   ]
  },
  {
   "cell_type": "markdown",
   "metadata": {},
   "source": [
    "_Let's look at MiniBatch to see if that would be better_"
   ]
  },
  {
   "cell_type": "code",
   "execution_count": 8,
   "metadata": {},
   "outputs": [
    {
     "data": {
      "image/png": "[encoded data removed]",
      "text/plain": [
       "<Figure size 432x288 with 1 Axes>"
      ]
     },
     "metadata": {
      "needs_background": "light"
     },
     "output_type": "display_data"
    },
    {
     "name": "stdout",
     "output_type": "stream",
     "text": [
      "Comparing k-means and mini batch k-means solutions:\n",
      "good_loan_status      0      1\n",
      "row_0                         \n",
      "0                 10201  27012\n",
      "1                 11929  38781\n"
     ]
    }
   ],
   "source": [
    "# Each batch will be made up of 200 data points.\n",
    "minibatchkmeans = MiniBatchKMeans(\n",
    "    init='random',\n",
    "    n_clusters=2,\n",
    "    batch_size=250)\n",
    "minibatchkmeans.fit(X_pca)\n",
    "\n",
    "# Add the new predicted cluster memberships to the data frame.\n",
    "predict_mini = minibatchkmeans.predict(X_pca)\n",
    "# Plot the solution.\n",
    "colormap = np.array(['black', 'Purple'])\n",
    "plt.title('MiniBatchKmeans Cluster')\n",
    "plt.scatter(X_pca[:, 0], X_pca[:, 1], c=colormap[predict_mini])\n",
    "plt.show()\n",
    "# MiniBatch model.\n",
    "print('Comparing k-means and mini batch k-means solutions:')\n",
    "print(pd.crosstab(predict_mini, df['good_loan_status']))"
   ]
  },
  {
   "cell_type": "markdown",
   "metadata": {},
   "source": [
    "MiniBatch Kmeans is able to __classify 43,207 (32263+10944)___ and __mis-classify 44,716 (11186+33530)__."
   ]
  },
  {
   "cell_type": "markdown",
   "metadata": {},
   "source": [
    "-----"
   ]
  },
  {
   "cell_type": "code",
   "execution_count": 9,
   "metadata": {},
   "outputs": [
    {
     "data": {
      "image/png": "[encoded data removed]",
      "text/plain": [
       "<Figure size 432x288 with 1 Axes>"
      ]
     },
     "metadata": {
      "needs_background": "light"
     },
     "output_type": "display_data"
    },
    {
     "name": "stdout",
     "output_type": "stream",
     "text": [
      "Comparing k-means and mini batch k-means solutions:\n",
      "col_0      0      1\n",
      "row_0              \n",
      "0      37213      0\n",
      "1       1292  49418\n"
     ]
    }
   ],
   "source": [
    "colormap = np.array(['black', 'Purple'])\n",
    "plt.title('Kmeans vs MiniBatchKmeans Clusters')\n",
    "plt.scatter(X_pca[:, 0], X_pca[:, 1], c=colormap[predict_mini])\n",
    "plt.show()\n",
    "# MiniBatch model.\n",
    "print('Comparing k-means and mini batch k-means solutions:')\n",
    "print(pd.crosstab(predict_mini, y_pred))"
   ]
  },
  {
   "cell_type": "markdown",
   "metadata": {},
   "source": [
    "Both KMeans and Kmeans minibatch were not able to cluster good loans.  They both had a high rate of false positives."
   ]
  },
  {
   "cell_type": "markdown",
   "metadata": {},
   "source": [
    "-------"
   ]
  },
  {
   "cell_type": "markdown",
   "metadata": {},
   "source": [
    "# Clustering the Top 10 Random Forest features\n",
    "_I will take the top 10 features from the Random Forest supervised learning\n",
    "I will run it on both Kmeans and MeanShift_"
   ]
  },
  {
   "cell_type": "code",
   "execution_count": 10,
   "metadata": {},
   "outputs": [],
   "source": [
    "from sklearn.decomposition import TruncatedSVD\n",
    "from sklearn.pipeline import make_pipeline\n",
    "\n",
    "df1 = pd.read_csv('lending_club_le.csv')\n",
    "df1.drop('Unnamed: 0', axis=1, inplace=True)"
   ]
  },
  {
   "cell_type": "markdown",
   "metadata": {},
   "source": [
    "_Create the dataframes of the top 10 features_"
   ]
  },
  {
   "cell_type": "code",
   "execution_count": 11,
   "metadata": {},
   "outputs": [],
   "source": [
    "topFeatures = df1[['out_prncp',\n",
    "                      'term',\n",
    "                      'loan_amnt',\n",
    "                      'months_since_issue_d',\n",
    "                      'loan_amnt',\n",
    "                      'tot_hi_cred_lim',\n",
    "                      'home_ownership',\n",
    "                      'avg_cur_bal',\n",
    "                      'verification_status',\n",
    "                      'bc_util',\n",
    "                      'dti',\n",
    "                      'good_loan_status']]"
   ]
  },
  {
   "cell_type": "markdown",
   "metadata": {},
   "source": [
    "_Elbow method to determine the number of clusters_"
   ]
  },
  {
   "cell_type": "code",
   "execution_count": 12,
   "metadata": {},
   "outputs": [],
   "source": [
    "# function to determine K\n",
    "def kClusters(X):\n",
    "    plt.rcParams['figure.figsize'] = [9, 5]\n",
    "\n",
    "    squaredSums = []\n",
    "    K = range(1, 15)\n",
    "    for k in K:\n",
    "        kmeanModel = KMeans(n_clusters=k)\n",
    "        kmeanModel = kmeanModel.fit(X)\n",
    "        squaredSums.append(kmeanModel.inertia_)\n",
    "\n",
    "    # Plot the elbow\n",
    "    plt.plot(K, squaredSums, 'bx-')\n",
    "    plt.xlabel('k')\n",
    "    plt.ylabel('squaredSums')\n",
    "    plt.title('The Elbow Method showing the optimal k')\n",
    "    plt.show()"
   ]
  },
  {
   "cell_type": "markdown",
   "metadata": {},
   "source": [
    "---"
   ]
  },
  {
   "cell_type": "markdown",
   "metadata": {},
   "source": [
    "## KMeans RFC top 10 feature analysis"
   ]
  },
  {
   "cell_type": "code",
   "execution_count": 13,
   "metadata": {},
   "outputs": [
    {
     "data": {
      "image/png": "[encoded data removed]",
      "text/plain": [
       "<Figure size 648x360 with 1 Axes>"
      ]
     },
     "metadata": {
      "needs_background": "light"
     },
     "output_type": "display_data"
    }
   ],
   "source": [
    "kClusters(topFeatures)"
   ]
  },
  {
   "cell_type": "code",
   "execution_count": 14,
   "metadata": {},
   "outputs": [
    {
     "name": "stderr",
     "output_type": "stream",
     "text": [
      "/Library/Frameworks/Python.framework/Versions/3.7/lib/python3.7/site-packages/ipykernel_launcher.py:13: SettingWithCopyWarning: \n",
      "A value is trying to be set on a copy of a slice from a DataFrame.\n",
      "Try using .loc[row_indexer,col_indexer] = value instead\n",
      "\n",
      "See the caveats in the documentation: http://pandas.pydata.org/pandas-docs/stable/indexing.html#indexing-view-versus-copy\n",
      "  del sys.path[0]\n"
     ]
    }
   ],
   "source": [
    "norm = Normalizer(copy=False)\n",
    "X_normalized = norm.fit_transform(topFeatures)\n",
    "\n",
    "km = KMeans(n_clusters=4,\n",
    "               init='k-means++')\n",
    "\n",
    "km_clusters = km.fit_predict(X_normalized)\n",
    "#ylabels = km.predict(topFeatures)\n",
    "\n",
    "centroids = km.cluster_centers_\n",
    "km_labels = km.labels_\n",
    "\n",
    "topFeatures['clusters'] = km_clusters"
   ]
  },
  {
   "cell_type": "code",
   "execution_count": 15,
   "metadata": {},
   "outputs": [
    {
     "name": "stdout",
     "output_type": "stream",
     "text": [
      "cluster0\n",
      "0.811275662859186\n",
      "cluster1\n",
      "0.6140350877192983\n",
      "cluster2\n",
      "0.6987325009458948\n",
      "cluster3\n",
      "0.4844703272323905\n"
     ]
    }
   ],
   "source": [
    "clusterList = [0, 1, 2, 3]\n",
    "for var in clusterList:\n",
    "    print('cluster'+str(var))\n",
    "    print(topFeatures[topFeatures['clusters'] == var]\n",
    "          ['good_loan_status'].mean())"
   ]
  },
  {
   "cell_type": "code",
   "execution_count": 36,
   "metadata": {
    "scrolled": false
   },
   "outputs": [
    {
     "name": "stdout",
     "output_type": "stream",
     "text": [
      "cluster0\n",
      "          out_prncp          term     loan_amnt  months_since_issue_d  \\\n",
      "count  53141.000000  53141.000000  53141.000000          53141.000000   \n",
      "mean     988.892349      0.237688  13410.204456              9.228853   \n",
      "std     4290.891807      0.425671   9772.564863              3.580936   \n",
      "min        0.000000      0.000000   1000.000000              0.000000   \n",
      "25%        0.000000      0.000000   6000.000000              6.950820   \n",
      "50%        0.000000      0.000000  10000.000000              9.967213   \n",
      "75%        0.000000      0.000000  19600.000000             11.967213   \n",
      "max    40000.000000      1.000000  40000.000000             13.901639   \n",
      "\n",
      "          loan_amnt  tot_hi_cred_lim  home_ownership    avg_cur_bal  \\\n",
      "count  53141.000000     5.314100e+04    53141.000000   53141.000000   \n",
      "mean   13410.204456     2.747694e+05        1.527333   21473.565684   \n",
      "std     9772.564863     2.019958e+05        0.818532   20582.837425   \n",
      "min     1000.000000     7.300000e+03        0.000000       0.000000   \n",
      "25%     6000.000000     1.298600e+05        1.000000    7536.000000   \n",
      "50%    10000.000000     2.401000e+05        1.000000   16651.000000   \n",
      "75%    19600.000000     3.676350e+05        2.000000   28722.000000   \n",
      "max    40000.000000     4.819402e+06        3.000000  466840.000000   \n",
      "\n",
      "       verification_status       bc_util           dti  good_loan_status  \\\n",
      "count         53141.000000  53141.000000  53141.000000      53141.000000   \n",
      "mean              0.825370     45.194808     19.961899          0.811276   \n",
      "std               0.768125     29.917125     20.985213          0.391293   \n",
      "min               0.000000      0.000000      0.000000          0.000000   \n",
      "25%               0.000000     19.300000     11.810000          1.000000   \n",
      "50%               1.000000     42.600000     18.000000          1.000000   \n",
      "75%               1.000000     69.700000     25.320000          1.000000   \n",
      "max               2.000000    146.600000    999.000000          1.000000   \n",
      "\n",
      "       clusters  \n",
      "count   53141.0  \n",
      "mean        0.0  \n",
      "std         0.0  \n",
      "min         0.0  \n",
      "25%         0.0  \n",
      "50%         0.0  \n",
      "75%         0.0  \n",
      "max         0.0  \n",
      "cluster1\n",
      "          out_prncp          term     loan_amnt  months_since_issue_d  \\\n",
      "count  10032.000000  10032.000000  10032.000000          10032.000000   \n",
      "mean    2664.442360      0.369119  19614.750299              9.550975   \n",
      "std     7274.914819      0.482590  10112.414631              3.402094   \n",
      "min        0.000000      0.000000   1000.000000              0.000000   \n",
      "25%        0.000000      0.000000  10000.000000              6.950820   \n",
      "50%        0.000000      0.000000  19000.000000              9.967213   \n",
      "75%        0.000000      1.000000  27500.000000             11.967213   \n",
      "max    40000.000000      1.000000  40000.000000             13.901639   \n",
      "\n",
      "          loan_amnt  tot_hi_cred_lim  home_ownership   avg_cur_bal  \\\n",
      "count  10032.000000     10032.000000    10032.000000  10032.000000   \n",
      "mean   19614.750299     42476.134868        2.503589   3148.973585   \n",
      "std    10112.414631     23903.677496        0.764575   2720.358347   \n",
      "min     1000.000000      1500.000000        0.000000      0.000000   \n",
      "25%    10000.000000     23700.000000        2.000000   1358.000000   \n",
      "50%    19000.000000     38672.500000        3.000000   2480.000000   \n",
      "75%    27500.000000     57595.500000        3.000000   4091.250000   \n",
      "max    40000.000000    124400.000000        3.000000  48926.000000   \n",
      "\n",
      "       verification_status       bc_util           dti  good_loan_status  \\\n",
      "count         10032.000000  10032.000000  10032.000000      10032.000000   \n",
      "mean              0.945275     48.169854     14.913691          0.614035   \n",
      "std               0.735946     29.638301     20.958335          0.486847   \n",
      "min               0.000000      0.000000      0.000000          0.000000   \n",
      "25%               0.000000     23.375000      7.600000          0.000000   \n",
      "50%               1.000000     49.000000     12.905000          1.000000   \n",
      "75%               1.000000     72.900000     19.192500          1.000000   \n",
      "max               2.000000    158.600000    999.000000          1.000000   \n",
      "\n",
      "       clusters  \n",
      "count   10032.0  \n",
      "mean        1.0  \n",
      "std         0.0  \n",
      "min         1.0  \n",
      "25%         1.0  \n",
      "50%         1.0  \n",
      "75%         1.0  \n",
      "max         1.0  \n",
      "cluster2\n",
      "          out_prncp          term     loan_amnt  months_since_issue_d  \\\n",
      "count  21144.000000  21144.000000  21144.000000          21144.000000   \n",
      "mean    1828.813829      0.301835  16635.521897              9.447416   \n",
      "std     5850.093789      0.459065   9683.221040              3.490490   \n",
      "min        0.000000      0.000000   1000.000000              0.000000   \n",
      "25%        0.000000      0.000000  10000.000000              6.950820   \n",
      "50%        0.000000      0.000000  15000.000000              9.967213   \n",
      "75%        0.000000      1.000000  22400.000000             11.967213   \n",
      "max    40000.000000      1.000000  40000.000000             13.901639   \n",
      "\n",
      "          loan_amnt  tot_hi_cred_lim  home_ownership    avg_cur_bal  \\\n",
      "count  21144.000000     21144.000000    21144.000000   21144.000000   \n",
      "mean   16635.521897     81623.697834        2.328367    5429.096907   \n",
      "std     9683.221040     53385.422412        0.859499    5804.785529   \n",
      "min     1000.000000      3000.000000        0.000000       0.000000   \n",
      "25%    10000.000000     43039.250000        1.000000    2148.000000   \n",
      "50%    15000.000000     67335.500000        3.000000    3739.500000   \n",
      "75%    22400.000000    106027.750000        3.000000    6499.000000   \n",
      "max    40000.000000    311710.000000        3.000000  108566.000000   \n",
      "\n",
      "       verification_status       bc_util           dti  good_loan_status  \\\n",
      "count         21144.000000  21144.000000  21144.000000      21144.000000   \n",
      "mean              0.840002     45.545730     19.437380          0.698733   \n",
      "std               0.745026     28.850924     17.592358          0.458820   \n",
      "min               0.000000      0.000000      0.000000          0.000000   \n",
      "25%               0.000000     21.500000     11.380000          0.000000   \n",
      "50%               1.000000     43.800000     17.700000          1.000000   \n",
      "75%               1.000000     68.700000     24.812500          1.000000   \n",
      "max               2.000000    119.300000    999.000000          1.000000   \n",
      "\n",
      "       clusters  \n",
      "count   21144.0  \n",
      "mean        2.0  \n",
      "std         0.0  \n",
      "min         2.0  \n",
      "25%         2.0  \n",
      "50%         2.0  \n",
      "75%         2.0  \n",
      "max         2.0  \n",
      "cluster3\n",
      "          out_prncp         term     loan_amnt  months_since_issue_d  \\\n",
      "count   3606.000000  3606.000000   3606.000000           3606.000000   \n",
      "mean    4454.102643     0.400166  20649.230449              9.721957   \n",
      "std     9278.217415     0.490000  10866.205769              3.296872   \n",
      "min        0.000000     0.000000   1000.000000              0.000000   \n",
      "25%        0.000000     0.000000  11000.000000              7.967213   \n",
      "50%        0.000000     0.000000  20000.000000              9.967213   \n",
      "75%        0.000000     1.000000  30000.000000             11.967213   \n",
      "max    40000.000000     1.000000  40000.000000             13.901639   \n",
      "\n",
      "          loan_amnt  tot_hi_cred_lim  home_ownership   avg_cur_bal  \\\n",
      "count   3606.000000      3606.000000     3606.000000   3606.000000   \n",
      "mean   20649.230449     17556.046589        2.518857   1872.428854   \n",
      "std    10866.205769     12125.036496        0.735888   2106.502069   \n",
      "min     1000.000000         0.000000        0.000000      0.000000   \n",
      "25%    11000.000000      7700.000000        2.000000    543.250000   \n",
      "50%    20000.000000     14900.000000        3.000000   1289.500000   \n",
      "75%    30000.000000     25093.250000        3.000000   2461.750000   \n",
      "max    40000.000000     56300.000000        3.000000  27960.000000   \n",
      "\n",
      "       verification_status      bc_util          dti  good_loan_status  \\\n",
      "count          3606.000000  3606.000000  3606.000000       3606.000000   \n",
      "mean              1.062673    45.824076     8.012769          0.484470   \n",
      "std               0.732036    31.700671    19.469220          0.499828   \n",
      "min               0.000000     0.000000     0.000000          0.000000   \n",
      "25%               1.000000    16.300000     2.460000          0.000000   \n",
      "50%               1.000000    47.350000     5.815000          0.000000   \n",
      "75%               2.000000    73.300000    10.430000          1.000000   \n",
      "max               2.000000   113.200000   999.000000          1.000000   \n",
      "\n",
      "       clusters  \n",
      "count    3606.0  \n",
      "mean        3.0  \n",
      "std         0.0  \n",
      "min         3.0  \n",
      "25%         3.0  \n",
      "50%         3.0  \n",
      "75%         3.0  \n",
      "max         3.0  \n"
     ]
    }
   ],
   "source": [
    "for var in clusterList:\n",
    "    print('cluster'+str(var))\n",
    "    print(topFeatures[topFeatures['clusters'] == var].describe())"
   ]
  },
  {
   "cell_type": "code",
   "execution_count": 17,
   "metadata": {},
   "outputs": [
    {
     "data": {
      "text/plain": [
       "{'out_prncp': 0,\n",
       " 'term': 0,\n",
       " 'loan_amnt': 0,\n",
       " 'months_since_issue_d': 0,\n",
       " 'tot_hi_cred_lim': 2,\n",
       " 'home_ownership': 1,\n",
       " 'avg_cur_bal': 2,\n",
       " 'verification_status': 0,\n",
       " 'bc_util': 0,\n",
       " 'dti': 0,\n",
       " 'good_loan_status': 1,\n",
       " 'clusters': 0}"
      ]
     },
     "execution_count": 17,
     "metadata": {},
     "output_type": "execute_result"
    }
   ],
   "source": [
    "dict = {}\n",
    "for var in zip(topFeatures, km_labels):\n",
    "    dict[var[0]] = var[1]\n",
    "dict    "
   ]
  },
  {
   "cell_type": "code",
   "execution_count": 18,
   "metadata": {},
   "outputs": [],
   "source": [
    "km_clusters = pd.DataFrame(list(dict.items()), \n",
    "                           columns=['Features', \n",
    "                                    'Cluster'])"
   ]
  },
  {
   "cell_type": "code",
   "execution_count": 19,
   "metadata": {},
   "outputs": [
    {
     "data": {
      "text/html": [
       "<div>\n",
       "<style scoped>\n",
       "    .dataframe tbody tr th:only-of-type {\n",
       "        vertical-align: middle;\n",
       "    }\n",
       "\n",
       "    .dataframe tbody tr th {\n",
       "        vertical-align: top;\n",
       "    }\n",
       "\n",
       "    .dataframe thead th {\n",
       "        text-align: right;\n",
       "    }\n",
       "</style>\n",
       "<table border=\"1\" class=\"dataframe\">\n",
       "  <thead>\n",
       "    <tr style=\"text-align: right;\">\n",
       "      <th></th>\n",
       "      <th>Features</th>\n",
       "      <th>Cluster</th>\n",
       "    </tr>\n",
       "  </thead>\n",
       "  <tbody>\n",
       "    <tr>\n",
       "      <th>0</th>\n",
       "      <td>out_prncp</td>\n",
       "      <td>0</td>\n",
       "    </tr>\n",
       "    <tr>\n",
       "      <th>1</th>\n",
       "      <td>term</td>\n",
       "      <td>0</td>\n",
       "    </tr>\n",
       "    <tr>\n",
       "      <th>2</th>\n",
       "      <td>loan_amnt</td>\n",
       "      <td>0</td>\n",
       "    </tr>\n",
       "    <tr>\n",
       "      <th>3</th>\n",
       "      <td>months_since_issue_d</td>\n",
       "      <td>0</td>\n",
       "    </tr>\n",
       "    <tr>\n",
       "      <th>7</th>\n",
       "      <td>verification_status</td>\n",
       "      <td>0</td>\n",
       "    </tr>\n",
       "    <tr>\n",
       "      <th>8</th>\n",
       "      <td>bc_util</td>\n",
       "      <td>0</td>\n",
       "    </tr>\n",
       "    <tr>\n",
       "      <th>9</th>\n",
       "      <td>dti</td>\n",
       "      <td>0</td>\n",
       "    </tr>\n",
       "    <tr>\n",
       "      <th>11</th>\n",
       "      <td>clusters</td>\n",
       "      <td>0</td>\n",
       "    </tr>\n",
       "    <tr>\n",
       "      <th>5</th>\n",
       "      <td>home_ownership</td>\n",
       "      <td>1</td>\n",
       "    </tr>\n",
       "    <tr>\n",
       "      <th>10</th>\n",
       "      <td>good_loan_status</td>\n",
       "      <td>1</td>\n",
       "    </tr>\n",
       "    <tr>\n",
       "      <th>4</th>\n",
       "      <td>tot_hi_cred_lim</td>\n",
       "      <td>2</td>\n",
       "    </tr>\n",
       "    <tr>\n",
       "      <th>6</th>\n",
       "      <td>avg_cur_bal</td>\n",
       "      <td>2</td>\n",
       "    </tr>\n",
       "  </tbody>\n",
       "</table>\n",
       "</div>"
      ],
      "text/plain": [
       "                Features  Cluster\n",
       "0              out_prncp        0\n",
       "1                   term        0\n",
       "2              loan_amnt        0\n",
       "3   months_since_issue_d        0\n",
       "7    verification_status        0\n",
       "8                bc_util        0\n",
       "9                    dti        0\n",
       "11              clusters        0\n",
       "5         home_ownership        1\n",
       "10      good_loan_status        1\n",
       "4        tot_hi_cred_lim        2\n",
       "6            avg_cur_bal        2"
      ]
     },
     "execution_count": 19,
     "metadata": {},
     "output_type": "execute_result"
    }
   ],
   "source": [
    "km_clusters.sort_values(by=['Cluster'], \n",
    "                        ascending=[True])"
   ]
  },
  {
   "cell_type": "code",
   "execution_count": 20,
   "metadata": {},
   "outputs": [
    {
     "data": {
      "text/plain": [
       "0    8\n",
       "2    2\n",
       "1    2\n",
       "Name: Cluster, dtype: int64"
      ]
     },
     "execution_count": 20,
     "metadata": {},
     "output_type": "execute_result"
    }
   ],
   "source": [
    "km_clusters.Cluster.value_counts()"
   ]
  },
  {
   "cell_type": "code",
   "execution_count": 21,
   "metadata": {},
   "outputs": [
    {
     "data": {
      "text/html": [
       "<div>\n",
       "<style scoped>\n",
       "    .dataframe tbody tr th:only-of-type {\n",
       "        vertical-align: middle;\n",
       "    }\n",
       "\n",
       "    .dataframe tbody tr th {\n",
       "        vertical-align: top;\n",
       "    }\n",
       "\n",
       "    .dataframe thead th {\n",
       "        text-align: right;\n",
       "    }\n",
       "</style>\n",
       "<table border=\"1\" class=\"dataframe\">\n",
       "  <thead>\n",
       "    <tr style=\"text-align: right;\">\n",
       "      <th></th>\n",
       "      <th>Features</th>\n",
       "      <th>Cluster</th>\n",
       "    </tr>\n",
       "  </thead>\n",
       "  <tbody>\n",
       "    <tr>\n",
       "      <th>0</th>\n",
       "      <td>out_prncp</td>\n",
       "      <td>0</td>\n",
       "    </tr>\n",
       "    <tr>\n",
       "      <th>1</th>\n",
       "      <td>term</td>\n",
       "      <td>0</td>\n",
       "    </tr>\n",
       "    <tr>\n",
       "      <th>2</th>\n",
       "      <td>loan_amnt</td>\n",
       "      <td>0</td>\n",
       "    </tr>\n",
       "    <tr>\n",
       "      <th>3</th>\n",
       "      <td>months_since_issue_d</td>\n",
       "      <td>0</td>\n",
       "    </tr>\n",
       "    <tr>\n",
       "      <th>7</th>\n",
       "      <td>verification_status</td>\n",
       "      <td>0</td>\n",
       "    </tr>\n",
       "    <tr>\n",
       "      <th>8</th>\n",
       "      <td>bc_util</td>\n",
       "      <td>0</td>\n",
       "    </tr>\n",
       "    <tr>\n",
       "      <th>9</th>\n",
       "      <td>dti</td>\n",
       "      <td>0</td>\n",
       "    </tr>\n",
       "    <tr>\n",
       "      <th>11</th>\n",
       "      <td>clusters</td>\n",
       "      <td>0</td>\n",
       "    </tr>\n",
       "  </tbody>\n",
       "</table>\n",
       "</div>"
      ],
      "text/plain": [
       "                Features  Cluster\n",
       "0              out_prncp        0\n",
       "1                   term        0\n",
       "2              loan_amnt        0\n",
       "3   months_since_issue_d        0\n",
       "7    verification_status        0\n",
       "8                bc_util        0\n",
       "9                    dti        0\n",
       "11              clusters        0"
      ]
     },
     "execution_count": 21,
     "metadata": {},
     "output_type": "execute_result"
    }
   ],
   "source": [
    "km_clusters[km_clusters['Cluster'] == 0]"
   ]
  },
  {
   "cell_type": "code",
   "execution_count": 33,
   "metadata": {},
   "outputs": [
    {
     "data": {
      "text/html": [
       "<div>\n",
       "<style scoped>\n",
       "    .dataframe tbody tr th:only-of-type {\n",
       "        vertical-align: middle;\n",
       "    }\n",
       "\n",
       "    .dataframe tbody tr th {\n",
       "        vertical-align: top;\n",
       "    }\n",
       "\n",
       "    .dataframe thead th {\n",
       "        text-align: right;\n",
       "    }\n",
       "</style>\n",
       "<table border=\"1\" class=\"dataframe\">\n",
       "  <thead>\n",
       "    <tr style=\"text-align: right;\">\n",
       "      <th></th>\n",
       "      <th>Features</th>\n",
       "      <th>Cluster</th>\n",
       "    </tr>\n",
       "  </thead>\n",
       "  <tbody>\n",
       "    <tr>\n",
       "      <th>5</th>\n",
       "      <td>home_ownership</td>\n",
       "      <td>1</td>\n",
       "    </tr>\n",
       "    <tr>\n",
       "      <th>10</th>\n",
       "      <td>good_loan_status</td>\n",
       "      <td>1</td>\n",
       "    </tr>\n",
       "  </tbody>\n",
       "</table>\n",
       "</div>"
      ],
      "text/plain": [
       "            Features  Cluster\n",
       "5     home_ownership        1\n",
       "10  good_loan_status        1"
      ]
     },
     "execution_count": 33,
     "metadata": {},
     "output_type": "execute_result"
    }
   ],
   "source": [
    "km_clusters[km_clusters['Cluster'] == 1]"
   ]
  },
  {
   "cell_type": "code",
   "execution_count": 34,
   "metadata": {},
   "outputs": [
    {
     "data": {
      "text/html": [
       "<div>\n",
       "<style scoped>\n",
       "    .dataframe tbody tr th:only-of-type {\n",
       "        vertical-align: middle;\n",
       "    }\n",
       "\n",
       "    .dataframe tbody tr th {\n",
       "        vertical-align: top;\n",
       "    }\n",
       "\n",
       "    .dataframe thead th {\n",
       "        text-align: right;\n",
       "    }\n",
       "</style>\n",
       "<table border=\"1\" class=\"dataframe\">\n",
       "  <thead>\n",
       "    <tr style=\"text-align: right;\">\n",
       "      <th></th>\n",
       "      <th>Features</th>\n",
       "      <th>Cluster</th>\n",
       "    </tr>\n",
       "  </thead>\n",
       "  <tbody>\n",
       "    <tr>\n",
       "      <th>4</th>\n",
       "      <td>tot_hi_cred_lim</td>\n",
       "      <td>2</td>\n",
       "    </tr>\n",
       "    <tr>\n",
       "      <th>6</th>\n",
       "      <td>avg_cur_bal</td>\n",
       "      <td>2</td>\n",
       "    </tr>\n",
       "  </tbody>\n",
       "</table>\n",
       "</div>"
      ],
      "text/plain": [
       "          Features  Cluster\n",
       "4  tot_hi_cred_lim        2\n",
       "6      avg_cur_bal        2"
      ]
     },
     "execution_count": 34,
     "metadata": {},
     "output_type": "execute_result"
    }
   ],
   "source": [
    "km_clusters[km_clusters['Cluster'] == 2]"
   ]
  },
  {
   "cell_type": "markdown",
   "metadata": {},
   "source": [
    "---------"
   ]
  },
  {
   "cell_type": "markdown",
   "metadata": {},
   "source": [
    "## Mean shift top 10 feature analysis"
   ]
  },
  {
   "cell_type": "code",
   "execution_count": 24,
   "metadata": {},
   "outputs": [],
   "source": [
    "topFeatures2 = topFeatures.drop(\n",
    "    ['good_loan_status', 'clusters'], axis=1)"
   ]
  },
  {
   "cell_type": "code",
   "execution_count": 25,
   "metadata": {},
   "outputs": [],
   "source": [
    "bandwidth2 = estimate_bandwidth(topFeatures2,\n",
    "                                quantile=0.2,\n",
    "                                n_samples=10)\n",
    "# introduce the radius, also create bins to store the clusters.\n",
    "ms = MeanShift(bandwidth2, \n",
    "               bin_seeding=True)"
   ]
  },
  {
   "cell_type": "code",
   "execution_count": 26,
   "metadata": {},
   "outputs": [],
   "source": [
    "ms.fit(topFeatures2)\n",
    "msLabels = ms.labels_"
   ]
  },
  {
   "cell_type": "code",
   "execution_count": 27,
   "metadata": {},
   "outputs": [
    {
     "data": {
      "text/plain": [
       "array([0, 0, 0, ..., 1, 0, 0])"
      ]
     },
     "execution_count": 27,
     "metadata": {},
     "output_type": "execute_result"
    }
   ],
   "source": [
    "msLabels"
   ]
  },
  {
   "cell_type": "code",
   "execution_count": 29,
   "metadata": {},
   "outputs": [],
   "source": [
    "dict1 = {}\n",
    "for var in zip(topFeatures2, msLabels):\n",
    "    dict1[var[0]] = var[1]\n",
    "    # if var[1] == 65:\n",
    "    # print(var)"
   ]
  },
  {
   "cell_type": "markdown",
   "metadata": {},
   "source": [
    "_This dictionary has the feature and the cluster number it belongs too_"
   ]
  },
  {
   "cell_type": "code",
   "execution_count": 30,
   "metadata": {},
   "outputs": [
    {
     "data": {
      "text/plain": [
       "{'out_prncp': 0,\n",
       " 'term': 0,\n",
       " 'loan_amnt': 0,\n",
       " 'months_since_issue_d': 0,\n",
       " 'tot_hi_cred_lim': 0,\n",
       " 'home_ownership': 0,\n",
       " 'avg_cur_bal': 0,\n",
       " 'verification_status': 0,\n",
       " 'bc_util': 0,\n",
       " 'dti': 33}"
      ]
     },
     "execution_count": 30,
     "metadata": {},
     "output_type": "execute_result"
    }
   ],
   "source": [
    "dict1"
   ]
  },
  {
   "cell_type": "code",
   "execution_count": 31,
   "metadata": {},
   "outputs": [
    {
     "data": {
      "text/html": [
       "<div>\n",
       "<style scoped>\n",
       "    .dataframe tbody tr th:only-of-type {\n",
       "        vertical-align: middle;\n",
       "    }\n",
       "\n",
       "    .dataframe tbody tr th {\n",
       "        vertical-align: top;\n",
       "    }\n",
       "\n",
       "    .dataframe thead th {\n",
       "        text-align: right;\n",
       "    }\n",
       "</style>\n",
       "<table border=\"1\" class=\"dataframe\">\n",
       "  <thead>\n",
       "    <tr style=\"text-align: right;\">\n",
       "      <th></th>\n",
       "      <th>Features</th>\n",
       "      <th>Cluster</th>\n",
       "    </tr>\n",
       "  </thead>\n",
       "  <tbody>\n",
       "    <tr>\n",
       "      <th>0</th>\n",
       "      <td>out_prncp</td>\n",
       "      <td>0</td>\n",
       "    </tr>\n",
       "    <tr>\n",
       "      <th>1</th>\n",
       "      <td>term</td>\n",
       "      <td>0</td>\n",
       "    </tr>\n",
       "    <tr>\n",
       "      <th>2</th>\n",
       "      <td>loan_amnt</td>\n",
       "      <td>0</td>\n",
       "    </tr>\n",
       "    <tr>\n",
       "      <th>3</th>\n",
       "      <td>months_since_issue_d</td>\n",
       "      <td>0</td>\n",
       "    </tr>\n",
       "    <tr>\n",
       "      <th>4</th>\n",
       "      <td>tot_hi_cred_lim</td>\n",
       "      <td>0</td>\n",
       "    </tr>\n",
       "    <tr>\n",
       "      <th>5</th>\n",
       "      <td>home_ownership</td>\n",
       "      <td>0</td>\n",
       "    </tr>\n",
       "    <tr>\n",
       "      <th>6</th>\n",
       "      <td>avg_cur_bal</td>\n",
       "      <td>0</td>\n",
       "    </tr>\n",
       "    <tr>\n",
       "      <th>7</th>\n",
       "      <td>verification_status</td>\n",
       "      <td>0</td>\n",
       "    </tr>\n",
       "    <tr>\n",
       "      <th>8</th>\n",
       "      <td>bc_util</td>\n",
       "      <td>0</td>\n",
       "    </tr>\n",
       "    <tr>\n",
       "      <th>9</th>\n",
       "      <td>dti</td>\n",
       "      <td>33</td>\n",
       "    </tr>\n",
       "  </tbody>\n",
       "</table>\n",
       "</div>"
      ],
      "text/plain": [
       "               Features  Cluster\n",
       "0             out_prncp        0\n",
       "1                  term        0\n",
       "2             loan_amnt        0\n",
       "3  months_since_issue_d        0\n",
       "4       tot_hi_cred_lim        0\n",
       "5        home_ownership        0\n",
       "6           avg_cur_bal        0\n",
       "7   verification_status        0\n",
       "8               bc_util        0\n",
       "9                   dti       33"
      ]
     },
     "execution_count": 31,
     "metadata": {},
     "output_type": "execute_result"
    }
   ],
   "source": [
    "clusters = pd.DataFrame(list(dict1.items()), columns=[\n",
    "                        'Features', 'Cluster'])\n",
    "clusters"
   ]
  },
  {
   "cell_type": "code",
   "execution_count": 32,
   "metadata": {},
   "outputs": [
    {
     "data": {
      "text/plain": [
       "0     9\n",
       "33    1\n",
       "Name: Cluster, dtype: int64"
      ]
     },
     "execution_count": 32,
     "metadata": {},
     "output_type": "execute_result"
    }
   ],
   "source": [
    "clusters['Cluster'].value_counts()"
   ]
  },
  {
   "cell_type": "markdown",
   "metadata": {},
   "source": [
    "_MeanShift grouped the 9 feautes in one cluster, cluster 0 and dti feature in a cluster._"
   ]
  }
 ],
 "metadata": {
  "kernelspec": {
   "display_name": "Python 3",
   "language": "python",
   "name": "python3"
  },
  "language_info": {
   "codemirror_mode": {
    "name": "ipython",
    "version": 3
   },
   "file_extension": ".py",
   "mimetype": "text/x-python",
   "name": "python",
   "nbconvert_exporter": "python",
   "pygments_lexer": "ipython3",
   "version": "3.7.1"
  }
 },
 "nbformat": 4,
 "nbformat_minor": 2
}
