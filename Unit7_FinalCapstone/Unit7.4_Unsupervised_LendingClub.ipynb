{
 "cells": [
  {
   "cell_type": "markdown",
   "metadata": {},
   "source": [
    "# Unsupervised Learning on LendingClub data\n",
    "Can Kmeans, MiniBatch Kmeans and MeanShift predict a good vs a bad loan?\n",
    "\n",
    "1. Use 2 cluster to see how well Kmean and miniKmeans can predict good loans\n",
    "2. Use the top 10 features in Random Forest"
   ]
  },
  {
   "cell_type": "code",
   "execution_count": 1,
   "metadata": {},
   "outputs": [],
   "source": [
    "import pandas as pd\n",
    "import numpy as np\n",
    "import matplotlib.pyplot as plt\n",
    "import math\n",
    "\n",
    "from sklearn.cluster import KMeans, MiniBatchKMeans\n",
    "from sklearn.cluster import MeanShift, SpectralClustering\n",
    "from sklearn.decomposition import TruncatedSVD\n",
    "from sklearn.pipeline import make_pipeline\n",
    "from sklearn.preprocessing import Normalizer, normalize, scale\n",
    "from sklearn.metrics import confusion_matrix, classification_report\n",
    "\n",
    "from sklearn.cluster import estimate_bandwidth\n",
    "from sklearn.cluster import KMeans\n",
    "from sklearn.decomposition import PCA\n",
    "import seaborn as sns\n",
    "\n",
    "%matplotlib inline"
   ]
  },
  {
   "cell_type": "code",
   "execution_count": 2,
   "metadata": {},
   "outputs": [],
   "source": [
    "df = pd.read_csv('lending_club_le.csv')"
   ]
  },
  {
   "cell_type": "code",
   "execution_count": 3,
   "metadata": {},
   "outputs": [],
   "source": [
    "df.drop('Unnamed: 0', axis=1, inplace=True)"
   ]
  },
  {
   "cell_type": "code",
   "execution_count": 4,
   "metadata": {},
   "outputs": [
    {
     "data": {
      "text/html": [
       "<div>\n",
       "<style scoped>\n",
       "    .dataframe tbody tr th:only-of-type {\n",
       "        vertical-align: middle;\n",
       "    }\n",
       "\n",
       "    .dataframe tbody tr th {\n",
       "        vertical-align: top;\n",
       "    }\n",
       "\n",
       "    .dataframe thead th {\n",
       "        text-align: right;\n",
       "    }\n",
       "</style>\n",
       "<table border=\"1\" class=\"dataframe\">\n",
       "  <thead>\n",
       "    <tr style=\"text-align: right;\">\n",
       "      <th></th>\n",
       "      <th>loan_amnt</th>\n",
       "      <th>annual_inc</th>\n",
       "      <th>dti</th>\n",
       "      <th>delinq_2yrs</th>\n",
       "      <th>inq_last_6mths</th>\n",
       "      <th>out_prncp</th>\n",
       "      <th>collections_12_mths_ex_med</th>\n",
       "      <th>open_acc_6m</th>\n",
       "      <th>mths_since_rcnt_il</th>\n",
       "      <th>il_util</th>\n",
       "      <th>...</th>\n",
       "      <th>emp_length</th>\n",
       "      <th>home_ownership</th>\n",
       "      <th>verification_status</th>\n",
       "      <th>pymnt_plan</th>\n",
       "      <th>purpose</th>\n",
       "      <th>addr_state</th>\n",
       "      <th>earliest_cr_line</th>\n",
       "      <th>revol_util</th>\n",
       "      <th>initial_list_status</th>\n",
       "      <th>application_type</th>\n",
       "    </tr>\n",
       "  </thead>\n",
       "  <tbody>\n",
       "    <tr>\n",
       "      <th>0</th>\n",
       "      <td>3000.0</td>\n",
       "      <td>52000.0</td>\n",
       "      <td>0.58</td>\n",
       "      <td>0.0</td>\n",
       "      <td>0.0</td>\n",
       "      <td>0.0</td>\n",
       "      <td>0.0</td>\n",
       "      <td>0.0</td>\n",
       "      <td>7.0</td>\n",
       "      <td>67.990156</td>\n",
       "      <td>...</td>\n",
       "      <td>9</td>\n",
       "      <td>3</td>\n",
       "      <td>1</td>\n",
       "      <td>0</td>\n",
       "      <td>5</td>\n",
       "      <td>46</td>\n",
       "      <td>253</td>\n",
       "      <td>5</td>\n",
       "      <td>1</td>\n",
       "      <td>0</td>\n",
       "    </tr>\n",
       "    <tr>\n",
       "      <th>1</th>\n",
       "      <td>5000.0</td>\n",
       "      <td>55000.0</td>\n",
       "      <td>14.18</td>\n",
       "      <td>0.0</td>\n",
       "      <td>0.0</td>\n",
       "      <td>0.0</td>\n",
       "      <td>0.0</td>\n",
       "      <td>1.0</td>\n",
       "      <td>33.0</td>\n",
       "      <td>63.000000</td>\n",
       "      <td>...</td>\n",
       "      <td>1</td>\n",
       "      <td>2</td>\n",
       "      <td>0</td>\n",
       "      <td>0</td>\n",
       "      <td>8</td>\n",
       "      <td>10</td>\n",
       "      <td>90</td>\n",
       "      <td>346</td>\n",
       "      <td>1</td>\n",
       "      <td>0</td>\n",
       "    </tr>\n",
       "    <tr>\n",
       "      <th>2</th>\n",
       "      <td>20300.0</td>\n",
       "      <td>55000.0</td>\n",
       "      <td>26.63</td>\n",
       "      <td>0.0</td>\n",
       "      <td>0.0</td>\n",
       "      <td>0.0</td>\n",
       "      <td>0.0</td>\n",
       "      <td>0.0</td>\n",
       "      <td>24.0</td>\n",
       "      <td>74.000000</td>\n",
       "      <td>...</td>\n",
       "      <td>10</td>\n",
       "      <td>3</td>\n",
       "      <td>2</td>\n",
       "      <td>0</td>\n",
       "      <td>1</td>\n",
       "      <td>33</td>\n",
       "      <td>523</td>\n",
       "      <td>756</td>\n",
       "      <td>1</td>\n",
       "      <td>0</td>\n",
       "    </tr>\n",
       "  </tbody>\n",
       "</table>\n",
       "<p>3 rows × 45 columns</p>\n",
       "</div>"
      ],
      "text/plain": [
       "   loan_amnt  annual_inc    dti  delinq_2yrs  inq_last_6mths  out_prncp  \\\n",
       "0     3000.0     52000.0   0.58          0.0             0.0        0.0   \n",
       "1     5000.0     55000.0  14.18          0.0             0.0        0.0   \n",
       "2    20300.0     55000.0  26.63          0.0             0.0        0.0   \n",
       "\n",
       "   collections_12_mths_ex_med  open_acc_6m  mths_since_rcnt_il    il_util  \\\n",
       "0                         0.0          0.0                 7.0  67.990156   \n",
       "1                         0.0          1.0                33.0  63.000000   \n",
       "2                         0.0          0.0                24.0  74.000000   \n",
       "\n",
       "         ...         emp_length  home_ownership  verification_status  \\\n",
       "0        ...                  9               3                    1   \n",
       "1        ...                  1               2                    0   \n",
       "2        ...                 10               3                    2   \n",
       "\n",
       "   pymnt_plan  purpose  addr_state  earliest_cr_line  revol_util  \\\n",
       "0           0        5          46               253           5   \n",
       "1           0        8          10                90         346   \n",
       "2           0        1          33               523         756   \n",
       "\n",
       "   initial_list_status  application_type  \n",
       "0                    1                 0  \n",
       "1                    1                 0  \n",
       "2                    1                 0  \n",
       "\n",
       "[3 rows x 45 columns]"
      ]
     },
     "execution_count": 4,
     "metadata": {},
     "output_type": "execute_result"
    }
   ],
   "source": [
    "df.head(3)"
   ]
  },
  {
   "cell_type": "code",
   "execution_count": 5,
   "metadata": {},
   "outputs": [
    {
     "data": {
      "text/plain": [
       "(87923, 45)"
      ]
     },
     "execution_count": 5,
     "metadata": {},
     "output_type": "execute_result"
    }
   ],
   "source": [
    "df.shape"
   ]
  },
  {
   "cell_type": "code",
   "execution_count": 6,
   "metadata": {},
   "outputs": [
    {
     "data": {
      "text/plain": [
       "1    65793\n",
       "0    22130\n",
       "Name: good_loan_status, dtype: int64"
      ]
     },
     "execution_count": 6,
     "metadata": {},
     "output_type": "execute_result"
    }
   ],
   "source": [
    "df.good_loan_status.value_counts()"
   ]
  },
  {
   "cell_type": "markdown",
   "metadata": {},
   "source": [
    "---"
   ]
  },
  {
   "cell_type": "markdown",
   "metadata": {},
   "source": [
    "---"
   ]
  },
  {
   "cell_type": "markdown",
   "metadata": {},
   "source": [
    "# Kmeans vs MiniBatchKmeans analysis\n",
    "\n",
    "How accurately will Kmeans cluster data into good and bad loan data?"
   ]
  },
  {
   "cell_type": "markdown",
   "metadata": {},
   "source": [
    "## Kmeans"
   ]
  },
  {
   "cell_type": "code",
   "execution_count": 7,
   "metadata": {},
   "outputs": [
    {
     "name": "stderr",
     "output_type": "stream",
     "text": [
      "/Library/Frameworks/Python.framework/Versions/3.7/lib/python3.7/site-packages/ipykernel_launcher.py:2: DataConversionWarning: Data with input dtype int64, float64 were all converted to float64 by the scale function.\n",
      "  \n"
     ]
    },
    {
     "data": {
      "image/png": "[encoded data removed]",
      "text/plain": [
       "<Figure size 432x288 with 1 Axes>"
      ]
     },
     "metadata": {
      "needs_background": "light"
     },
     "output_type": "display_data"
    },
    {
     "name": "stdout",
     "output_type": "stream",
     "text": [
      "Comparing k-means clusters against the data:\n",
      "good_loan_status      0      1\n",
      "row_0                         \n",
      "0                 10581  32076\n",
      "1                 11549  33717\n"
     ]
    }
   ],
   "source": [
    "colormap = np.array(['black', 'Purple'])\n",
    "X_norm = normalize(scale(df.drop(['good_loan_status'], axis=1)))\n",
    "X_pca = PCA(40).fit_transform(X_norm)\n",
    "y_pred = KMeans(n_clusters=2, random_state=42, n_jobs = -1).fit_predict(X_pca)\n",
    "\n",
    "# Plot the solution.\n",
    "plt.title('Kmeans Cluster')\n",
    "plt.scatter(X_pca[:, 0], X_pca[:, 1], c=colormap[y_pred])\n",
    "plt.show()\n",
    "\n",
    "# Check the solution against the data.\n",
    "print('Comparing k-means clusters against the data:')\n",
    "print(pd.crosstab(y_pred, df['good_loan_status']))"
   ]
  },
  {
   "cell_type": "markdown",
   "metadata": {},
   "source": [
    "_PCA is used to reduce the data to 2 components because we are looking to see if Kmeans can predict a good loan_\n",
    "\n",
    "Looks like this model isn't doing very well. We're __correctly classifying 44,298 (33717+10581)__ cases, but __mis-classifying 43,625 (32076+11549)__ of the cases!\n",
    "\n",
    "Out of __87,923__ loan applicatons __33717__ were good loans which were predict correctly. There are way to many false positives(__32076__).\n"
   ]
  },
  {
   "cell_type": "markdown",
   "metadata": {},
   "source": [
    "-----"
   ]
  },
  {
   "cell_type": "markdown",
   "metadata": {},
   "source": [
    "## Kmeans Mini Batch"
   ]
  },
  {
   "cell_type": "markdown",
   "metadata": {},
   "source": [
    "_Let's look at MiniBatch to see if that would be better_"
   ]
  },
  {
   "cell_type": "code",
   "execution_count": 8,
   "metadata": {},
   "outputs": [
    {
     "data": {
      "image/png": "[encoded data removed]",
      "text/plain": [
       "<Figure size 432x288 with 1 Axes>"
      ]
     },
     "metadata": {
      "needs_background": "light"
     },
     "output_type": "display_data"
    },
    {
     "name": "stdout",
     "output_type": "stream",
     "text": [
      "Comparing k-means and mini batch k-means solutions:\n",
      "good_loan_status      0      1\n",
      "row_0                         \n",
      "0                 11402  31196\n",
      "1                 10728  34597\n"
     ]
    }
   ],
   "source": [
    "# Each batch will be made up of 200 data points.\n",
    "minibatchkmeans = MiniBatchKMeans(\n",
    "    init='random',\n",
    "    n_clusters=2,\n",
    "    batch_size=250)\n",
    "minibatchkmeans.fit(X_pca)\n",
    "\n",
    "# Add the new predicted cluster memberships to the data frame.\n",
    "predict_mini = minibatchkmeans.predict(X_pca)\n",
    "# Plot the solution.\n",
    "colormap = np.array(['black', 'Purple'])\n",
    "plt.title('MiniBatchKmeans Cluster')\n",
    "plt.scatter(X_pca[:, 0], X_pca[:, 1], c=colormap[predict_mini])\n",
    "plt.show()\n",
    "# MiniBatch model.\n",
    "print('Comparing k-means and mini batch k-means solutions:')\n",
    "print(pd.crosstab(predict_mini, df['good_loan_status']))"
   ]
  },
  {
   "cell_type": "markdown",
   "metadata": {},
   "source": [
    "MiniBatch Kmeans is able to __classify 43,207 (32263+10944)___ and __mis-classify 44,716 (11186+33530)__."
   ]
  },
  {
   "cell_type": "markdown",
   "metadata": {},
   "source": [
    "-----"
   ]
  },
  {
   "cell_type": "code",
   "execution_count": 9,
   "metadata": {},
   "outputs": [
    {
     "data": {
      "image/png": "[encoded data removed]",
      "text/plain": [
       "<Figure size 432x288 with 1 Axes>"
      ]
     },
     "metadata": {
      "needs_background": "light"
     },
     "output_type": "display_data"
    },
    {
     "name": "stdout",
     "output_type": "stream",
     "text": [
      "Comparing k-means and mini batch k-means solutions:\n",
      "col_0      0      1\n",
      "row_0              \n",
      "0      10626  31972\n",
      "1      32031  13294\n"
     ]
    }
   ],
   "source": [
    "colormap = np.array(['black', 'Purple'])\n",
    "plt.title('Kmeans vs MiniBatchKmeans Clusters')\n",
    "plt.scatter(X_pca[:, 0], X_pca[:, 1], c=colormap[predict_mini])\n",
    "plt.show()\n",
    "# MiniBatch model.\n",
    "print('Comparing k-means and mini batch k-means solutions:')\n",
    "print(pd.crosstab(predict_mini, y_pred))"
   ]
  },
  {
   "cell_type": "markdown",
   "metadata": {},
   "source": [
    "Both KMeans and Kmeans minibatch were not able to cluster good loans.  They both had a high rate of false positives."
   ]
  },
  {
   "cell_type": "markdown",
   "metadata": {},
   "source": [
    "-------"
   ]
  },
  {
   "cell_type": "markdown",
   "metadata": {},
   "source": [
    "_I will take the top 10 features from the supervised learning to see if it can find new clusters that maybe used as new features_"
   ]
  },
  {
   "cell_type": "markdown",
   "metadata": {},
   "source": [
    "# Clustering the Top 10 Boosted Random Forest and Random Forest features\n",
    "_I will take the top 10 features from the Random Forest supervised learning\n",
    "I will run it on both Kmeans and MeanShift_"
   ]
  },
  {
   "cell_type": "code",
   "execution_count": 10,
   "metadata": {},
   "outputs": [],
   "source": [
    "from sklearn.decomposition import TruncatedSVD\n",
    "from sklearn.pipeline import make_pipeline\n",
    "\n",
    "df1 = pd.read_csv('lending_club_le.csv')\n",
    "df1.drop('Unnamed: 0', axis=1, inplace=True)"
   ]
  },
  {
   "cell_type": "markdown",
   "metadata": {},
   "source": [
    "_Create the dataframes of the top 10 features_"
   ]
  },
  {
   "cell_type": "code",
   "execution_count": 11,
   "metadata": {},
   "outputs": [],
   "source": [
    "topFeaturesADA = df1[['out_prncp',\n",
    "                   'num_bc_tl',\n",
    "                   'num_accts_ever_120_pd',\n",
    "                   'max_bal_bc',\n",
    "                   'all_util',\n",
    "                   'inq_last_6mths',\n",
    "                   'inq_fi',\n",
    "                   'open_acc_6m',\n",
    "                   'home_ownership',\n",
    "                   'num_actv_bc_tl',\n",
    "                   'good_loan_status']]\n",
    "\n",
    "otherFeaturesADA = df1[~df1.index.isin(['out_prncp',\n",
    "                   'num_bc_tl',\n",
    "                   'num_accts_ever_120_pd',\n",
    "                   'max_bal_bc',\n",
    "                   'all_util',\n",
    "                   'inq_last_6mths',\n",
    "                   'inq_fi',\n",
    "                   'open_acc_6m',\n",
    "                   'home_ownership',\n",
    "                   'num_actv_bc_tl'])]"
   ]
  },
  {
   "cell_type": "code",
   "execution_count": 12,
   "metadata": {},
   "outputs": [],
   "source": [
    "topFeaturesRFC = df1[['out_prncp',\n",
    "                      'term',\n",
    "                      'tot_hi_cred_lim',\n",
    "                      'months_since_issue_d',\n",
    "                      'loan_amnt',\n",
    "                      'home_ownership',\n",
    "                      'avg_cur_bal',\n",
    "                      'verification_status',\n",
    "                      'dti',\n",
    "                      'bc_util',\n",
    "                     'good_loan_status']]\n",
    "\n",
    "otherFeaturesRFC = df1[~df1.index.isin(['out_prncp',\n",
    "                      'term',\n",
    "                      'tot_hi_cred_lim',\n",
    "                      'months_since_issue_d',\n",
    "                      'loan_amnt',\n",
    "                      'home_ownership',\n",
    "                      'avg_cur_bal',\n",
    "                      'verification_status',\n",
    "                      'dti',\n",
    "                      'bc_util',\n",
    "                     'good_loan_status'])]"
   ]
  },
  {
   "cell_type": "markdown",
   "metadata": {},
   "source": [
    "_Elbow method to determine the number of clusters_"
   ]
  },
  {
   "cell_type": "code",
   "execution_count": 13,
   "metadata": {},
   "outputs": [],
   "source": [
    "# function to determine K\n",
    "def kClusters(X):\n",
    "    plt.rcParams['figure.figsize'] = [9, 5]\n",
    "\n",
    "    squaredSums = []\n",
    "    K = range(1, 15)\n",
    "    for k in K:\n",
    "        kmeanModel = KMeans(n_clusters=k)\n",
    "        kmeanModel = kmeanModel.fit(X)\n",
    "        squaredSums.append(kmeanModel.inertia_)\n",
    "\n",
    "    # Plot the elbow\n",
    "    plt.plot(K, squaredSums, 'bx-')\n",
    "    plt.xlabel('k')\n",
    "    plt.ylabel('squaredSums')\n",
    "    plt.title('The Elbow Method showing the optimal k')\n",
    "    plt.show()"
   ]
  },
  {
   "cell_type": "markdown",
   "metadata": {},
   "source": [
    "## ADA boosted RFC top 10 feature analysis"
   ]
  },
  {
   "cell_type": "code",
   "execution_count": 14,
   "metadata": {},
   "outputs": [
    {
     "data": {
      "image/png": "[encoded data removed]",
      "text/plain": [
       "<Figure size 648x360 with 1 Axes>"
      ]
     },
     "metadata": {
      "needs_background": "light"
     },
     "output_type": "display_data"
    }
   ],
   "source": [
    "kClusters(topFeaturesADA)"
   ]
  },
  {
   "cell_type": "code",
   "execution_count": 15,
   "metadata": {},
   "outputs": [],
   "source": [
    "norm = Normalizer(copy=False)\n",
    "X_norm= norm.fit_transform(topFeaturesADA)\n",
    "\n",
    "km = KMeans(n_clusters=4,\n",
    "            init='k-means++')"
   ]
  },
  {
   "cell_type": "code",
   "execution_count": 16,
   "metadata": {},
   "outputs": [],
   "source": [
    "clusters = km.fit_predict(X_norm)\n",
    "y_kmeans_labels = km.predict(topFeaturesADA)"
   ]
  },
  {
   "cell_type": "code",
   "execution_count": 17,
   "metadata": {},
   "outputs": [
    {
     "name": "stderr",
     "output_type": "stream",
     "text": [
      "/Library/Frameworks/Python.framework/Versions/3.7/lib/python3.7/site-packages/ipykernel_launcher.py:3: SettingWithCopyWarning: \n",
      "A value is trying to be set on a copy of a slice from a DataFrame.\n",
      "Try using .loc[row_indexer,col_indexer] = value instead\n",
      "\n",
      "See the caveats in the documentation: http://pandas.pydata.org/pandas-docs/stable/indexing.html#indexing-view-versus-copy\n",
      "  This is separate from the ipykernel package so we can avoid doing imports until\n"
     ]
    }
   ],
   "source": [
    "centroids = km.cluster_centers_\n",
    "kmlabels = km.labels_\n",
    "topFeaturesADA['clusters'] = clusters"
   ]
  },
  {
   "cell_type": "code",
   "execution_count": 18,
   "metadata": {
    "scrolled": false
   },
   "outputs": [
    {
     "name": "stdout",
     "output_type": "stream",
     "text": [
      "cluster 0\n",
      "0.8273370804390476\n",
      "cluster 1\n",
      "0.0\n",
      "cluster 2\n",
      "0.8172739541160594\n",
      "cluster 3\n",
      "0.778021978021978\n"
     ]
    }
   ],
   "source": [
    "clusterList = [0,1,2,3]\n",
    "for var in clusterList:\n",
    "    print('cluster '+str(var))\n",
    "    print(topFeaturesADA[topFeaturesADA['clusters']==var]['good_loan_status'].mean())"
   ]
  },
  {
   "cell_type": "code",
   "execution_count": 19,
   "metadata": {
    "scrolled": false
   },
   "outputs": [
    {
     "name": "stdout",
     "output_type": "stream",
     "text": [
      "cluster0\n",
      "          out_prncp     num_bc_tl  num_accts_ever_120_pd     max_bal_bc  \\\n",
      "count  75436.000000  75436.000000           75436.000000   75436.000000   \n",
      "mean      33.775715      7.542685               0.481839    5650.997667   \n",
      "std      560.709871      4.724666               1.379422    5663.427745   \n",
      "min        0.000000      1.000000               0.000000       4.000000   \n",
      "25%        0.000000      4.000000               0.000000    2083.000000   \n",
      "50%        0.000000      7.000000               0.000000    4217.000000   \n",
      "75%        0.000000     10.000000               0.000000    7416.000000   \n",
      "max    32405.870000     66.000000              36.000000  389468.000000   \n",
      "\n",
      "           all_util  inq_last_6mths        inq_fi   open_acc_6m  \\\n",
      "count  75436.000000    75436.000000  75436.000000  75436.000000   \n",
      "mean      52.905727        0.550493      1.335264      1.077178   \n",
      "std       21.774184        0.798908      1.676754      1.229704   \n",
      "min        0.000000        0.000000      0.000000      0.000000   \n",
      "25%       38.000000        0.000000      0.000000      0.000000   \n",
      "50%       54.000000        0.000000      1.000000      1.000000   \n",
      "75%       68.000000        1.000000      2.000000      2.000000   \n",
      "max      175.000000        5.000000     32.000000     13.000000   \n",
      "\n",
      "       home_ownership  num_actv_bc_tl  good_loan_status  clusters  \n",
      "count    75436.000000    75436.000000      75436.000000   75436.0  \n",
      "mean         1.851543        3.475622          0.827337       0.0  \n",
      "std          0.922146        2.241489          0.377958       0.0  \n",
      "min          0.000000        0.000000          0.000000       0.0  \n",
      "25%          1.000000        2.000000          1.000000       0.0  \n",
      "50%          1.000000        3.000000          1.000000       0.0  \n",
      "75%          3.000000        4.000000          1.000000       0.0  \n",
      "max          3.000000       50.000000          1.000000       0.0  \n",
      "cluster1\n",
      "          out_prncp    num_bc_tl  num_accts_ever_120_pd    max_bal_bc  \\\n",
      "count   8327.000000  8327.000000            8327.000000   8327.000000   \n",
      "mean   15787.491652     6.912093               0.544374   4828.974541   \n",
      "std     9230.487820     4.430769               1.452646   4509.765496   \n",
      "min      244.480000     0.000000               0.000000      0.000000   \n",
      "25%     8459.305000     4.000000               0.000000   1718.000000   \n",
      "50%    13957.620000     6.000000               0.000000   3733.000000   \n",
      "75%    22213.735000     9.000000               0.000000   6464.000000   \n",
      "max    40000.000000    48.000000              34.000000  47003.000000   \n",
      "\n",
      "          all_util  inq_last_6mths       inq_fi  open_acc_6m  home_ownership  \\\n",
      "count  8327.000000     8327.000000  8327.000000  8327.000000     8327.000000   \n",
      "mean     55.488558        0.618830     1.304792     1.093191        2.035787   \n",
      "std      21.572679        0.843805     1.692363     1.244333        0.937600   \n",
      "min       0.000000        0.000000     0.000000     0.000000        0.000000   \n",
      "25%      42.000000        0.000000     0.000000     0.000000        1.000000   \n",
      "50%      57.000000        0.000000     1.000000     1.000000        2.000000   \n",
      "75%      71.000000        1.000000     2.000000     2.000000        3.000000   \n",
      "max     139.000000        5.000000    17.000000     9.000000        3.000000   \n",
      "\n",
      "       num_actv_bc_tl  good_loan_status  clusters  \n",
      "count     8327.000000            8327.0    8327.0  \n",
      "mean         3.554942               0.0       1.0  \n",
      "std          2.414142               0.0       0.0  \n",
      "min          0.000000               0.0       1.0  \n",
      "25%          2.000000               0.0       1.0  \n",
      "50%          3.000000               0.0       1.0  \n",
      "75%          5.000000               0.0       1.0  \n",
      "max         22.000000               0.0       1.0  \n",
      "cluster2\n",
      "       out_prncp    num_bc_tl  num_accts_ever_120_pd   max_bal_bc  \\\n",
      "count     3705.0  3705.000000            3705.000000  3705.000000   \n",
      "mean         0.0     4.107962               0.656410     4.012955   \n",
      "std          0.0     3.474250               1.752783    12.213845   \n",
      "min          0.0     0.000000               0.000000     0.000000   \n",
      "25%          0.0     2.000000               0.000000     0.000000   \n",
      "50%          0.0     3.000000               0.000000     0.000000   \n",
      "75%          0.0     6.000000               1.000000     0.000000   \n",
      "max          0.0    29.000000              34.000000   129.000000   \n",
      "\n",
      "          all_util  inq_last_6mths       inq_fi  open_acc_6m  home_ownership  \\\n",
      "count  3705.000000     3705.000000  3705.000000   3705.00000     3705.000000   \n",
      "mean     54.923173        0.559784     1.421053      1.02888        1.897976   \n",
      "std      22.875347        0.792276     1.899269      1.18211        0.924737   \n",
      "min       2.000000        0.000000     0.000000      0.00000        0.000000   \n",
      "25%      39.000000        0.000000     0.000000      0.00000        1.000000   \n",
      "50%      56.000000        0.000000     1.000000      1.00000        2.000000   \n",
      "75%      72.000000        1.000000     2.000000      2.00000        3.000000   \n",
      "max     143.000000        4.000000    22.000000      9.00000        3.000000   \n",
      "\n",
      "       num_actv_bc_tl  good_loan_status  clusters  \n",
      "count     3705.000000       3705.000000    3705.0  \n",
      "mean         0.216464          0.817274       2.0  \n",
      "std          0.550475          0.386494       0.0  \n",
      "min          0.000000          0.000000       2.0  \n",
      "25%          0.000000          1.000000       2.0  \n",
      "50%          0.000000          1.000000       2.0  \n",
      "75%          0.000000          1.000000       2.0  \n",
      "max          6.000000          1.000000       2.0  \n",
      "cluster3\n",
      "       out_prncp   num_bc_tl  num_accts_ever_120_pd  max_bal_bc    all_util  \\\n",
      "count      455.0  455.000000             455.000000  455.000000  455.000000   \n",
      "mean         0.0    5.907692               0.349451    0.580220    1.268132   \n",
      "std          0.0    4.722736               0.974835    2.124341    2.792883   \n",
      "min          0.0    0.000000               0.000000    0.000000    0.000000   \n",
      "25%          0.0    3.000000               0.000000    0.000000    0.000000   \n",
      "50%          0.0    5.000000               0.000000    0.000000    0.000000   \n",
      "75%          0.0    8.000000               0.000000    0.000000    1.000000   \n",
      "max          0.0   32.000000               7.000000   24.000000   18.000000   \n",
      "\n",
      "       inq_last_6mths      inq_fi  open_acc_6m  home_ownership  \\\n",
      "count      455.000000  455.000000   455.000000      455.000000   \n",
      "mean         0.529670    0.843956     0.749451        2.059341   \n",
      "std          0.828125    1.355297     1.050946        0.889733   \n",
      "min          0.000000    0.000000     0.000000        0.000000   \n",
      "25%          0.000000    0.000000     0.000000        1.000000   \n",
      "50%          0.000000    0.000000     0.000000        2.000000   \n",
      "75%          1.000000    1.000000     1.000000        3.000000   \n",
      "max          5.000000   10.000000     6.000000        3.000000   \n",
      "\n",
      "       num_actv_bc_tl  good_loan_status  clusters  \n",
      "count      455.000000        455.000000     455.0  \n",
      "mean         0.178022          0.778022       3.0  \n",
      "std          0.605737          0.416034       0.0  \n",
      "min          0.000000          0.000000       3.0  \n",
      "25%          0.000000          1.000000       3.0  \n",
      "50%          0.000000          1.000000       3.0  \n",
      "75%          0.000000          1.000000       3.0  \n",
      "max          6.000000          1.000000       3.0  \n"
     ]
    }
   ],
   "source": [
    "for var in clusterList:\n",
    "    print('cluster'+str(var))\n",
    "    print(topFeaturesADA[topFeaturesADA['clusters']==var].describe())"
   ]
  },
  {
   "cell_type": "code",
   "execution_count": 47,
   "metadata": {},
   "outputs": [],
   "source": [
    "dict1 = {}\n",
    "for var in zip(topFeaturesADA, kmlabels):\n",
    "    dict1[var[0]] = var[1]"
   ]
  },
  {
   "cell_type": "code",
   "execution_count": 50,
   "metadata": {},
   "outputs": [
    {
     "data": {
      "text/html": [
       "<div>\n",
       "<style scoped>\n",
       "    .dataframe tbody tr th:only-of-type {\n",
       "        vertical-align: middle;\n",
       "    }\n",
       "\n",
       "    .dataframe tbody tr th {\n",
       "        vertical-align: top;\n",
       "    }\n",
       "\n",
       "    .dataframe thead th {\n",
       "        text-align: right;\n",
       "    }\n",
       "</style>\n",
       "<table border=\"1\" class=\"dataframe\">\n",
       "  <thead>\n",
       "    <tr style=\"text-align: right;\">\n",
       "      <th></th>\n",
       "      <th>Features</th>\n",
       "      <th>Cluster</th>\n",
       "    </tr>\n",
       "  </thead>\n",
       "  <tbody>\n",
       "    <tr>\n",
       "      <th>0</th>\n",
       "      <td>out_prncp</td>\n",
       "      <td>0</td>\n",
       "    </tr>\n",
       "    <tr>\n",
       "      <th>1</th>\n",
       "      <td>num_bc_tl</td>\n",
       "      <td>0</td>\n",
       "    </tr>\n",
       "    <tr>\n",
       "      <th>2</th>\n",
       "      <td>num_accts_ever_120_pd</td>\n",
       "      <td>0</td>\n",
       "    </tr>\n",
       "    <tr>\n",
       "      <th>3</th>\n",
       "      <td>max_bal_bc</td>\n",
       "      <td>0</td>\n",
       "    </tr>\n",
       "    <tr>\n",
       "      <th>4</th>\n",
       "      <td>all_util</td>\n",
       "      <td>0</td>\n",
       "    </tr>\n",
       "    <tr>\n",
       "      <th>5</th>\n",
       "      <td>inq_last_6mths</td>\n",
       "      <td>0</td>\n",
       "    </tr>\n",
       "    <tr>\n",
       "      <th>6</th>\n",
       "      <td>inq_fi</td>\n",
       "      <td>0</td>\n",
       "    </tr>\n",
       "    <tr>\n",
       "      <th>7</th>\n",
       "      <td>open_acc_6m</td>\n",
       "      <td>0</td>\n",
       "    </tr>\n",
       "    <tr>\n",
       "      <th>8</th>\n",
       "      <td>home_ownership</td>\n",
       "      <td>0</td>\n",
       "    </tr>\n",
       "    <tr>\n",
       "      <th>9</th>\n",
       "      <td>num_actv_bc_tl</td>\n",
       "      <td>0</td>\n",
       "    </tr>\n",
       "    <tr>\n",
       "      <th>10</th>\n",
       "      <td>good_loan_status</td>\n",
       "      <td>0</td>\n",
       "    </tr>\n",
       "    <tr>\n",
       "      <th>11</th>\n",
       "      <td>clusters</td>\n",
       "      <td>1</td>\n",
       "    </tr>\n",
       "  </tbody>\n",
       "</table>\n",
       "</div>"
      ],
      "text/plain": [
       "                 Features  Cluster\n",
       "0               out_prncp        0\n",
       "1               num_bc_tl        0\n",
       "2   num_accts_ever_120_pd        0\n",
       "3              max_bal_bc        0\n",
       "4                all_util        0\n",
       "5          inq_last_6mths        0\n",
       "6                  inq_fi        0\n",
       "7             open_acc_6m        0\n",
       "8          home_ownership        0\n",
       "9          num_actv_bc_tl        0\n",
       "10       good_loan_status        0\n",
       "11               clusters        1"
      ]
     },
     "execution_count": 50,
     "metadata": {},
     "output_type": "execute_result"
    }
   ],
   "source": [
    "kmclusters = pd.DataFrame(list(dict1.items()), columns=[\n",
    "                        'Features', 'Cluster'])\n",
    "kmclusters"
   ]
  },
  {
   "cell_type": "code",
   "execution_count": 22,
   "metadata": {},
   "outputs": [
    {
     "data": {
      "text/plain": [
       "0    11\n",
       "1     1\n",
       "Name: Cluster_KMeans, dtype: int64"
      ]
     },
     "execution_count": 22,
     "metadata": {},
     "output_type": "execute_result"
    }
   ],
   "source": [
    "kmclusters.Cluster_KMeans.value_counts()"
   ]
  },
  {
   "cell_type": "code",
   "execution_count": 51,
   "metadata": {},
   "outputs": [
    {
     "data": {
      "text/html": [
       "<div>\n",
       "<style scoped>\n",
       "    .dataframe tbody tr th:only-of-type {\n",
       "        vertical-align: middle;\n",
       "    }\n",
       "\n",
       "    .dataframe tbody tr th {\n",
       "        vertical-align: top;\n",
       "    }\n",
       "\n",
       "    .dataframe thead th {\n",
       "        text-align: right;\n",
       "    }\n",
       "</style>\n",
       "<table border=\"1\" class=\"dataframe\">\n",
       "  <thead>\n",
       "    <tr style=\"text-align: right;\">\n",
       "      <th></th>\n",
       "      <th>Features</th>\n",
       "      <th>Cluster</th>\n",
       "    </tr>\n",
       "  </thead>\n",
       "  <tbody>\n",
       "    <tr>\n",
       "      <th>0</th>\n",
       "      <td>out_prncp</td>\n",
       "      <td>0</td>\n",
       "    </tr>\n",
       "    <tr>\n",
       "      <th>1</th>\n",
       "      <td>num_bc_tl</td>\n",
       "      <td>0</td>\n",
       "    </tr>\n",
       "    <tr>\n",
       "      <th>2</th>\n",
       "      <td>num_accts_ever_120_pd</td>\n",
       "      <td>0</td>\n",
       "    </tr>\n",
       "    <tr>\n",
       "      <th>3</th>\n",
       "      <td>max_bal_bc</td>\n",
       "      <td>0</td>\n",
       "    </tr>\n",
       "    <tr>\n",
       "      <th>4</th>\n",
       "      <td>all_util</td>\n",
       "      <td>0</td>\n",
       "    </tr>\n",
       "    <tr>\n",
       "      <th>5</th>\n",
       "      <td>inq_last_6mths</td>\n",
       "      <td>0</td>\n",
       "    </tr>\n",
       "    <tr>\n",
       "      <th>6</th>\n",
       "      <td>inq_fi</td>\n",
       "      <td>0</td>\n",
       "    </tr>\n",
       "    <tr>\n",
       "      <th>7</th>\n",
       "      <td>open_acc_6m</td>\n",
       "      <td>0</td>\n",
       "    </tr>\n",
       "    <tr>\n",
       "      <th>8</th>\n",
       "      <td>home_ownership</td>\n",
       "      <td>0</td>\n",
       "    </tr>\n",
       "    <tr>\n",
       "      <th>9</th>\n",
       "      <td>num_actv_bc_tl</td>\n",
       "      <td>0</td>\n",
       "    </tr>\n",
       "    <tr>\n",
       "      <th>10</th>\n",
       "      <td>good_loan_status</td>\n",
       "      <td>0</td>\n",
       "    </tr>\n",
       "  </tbody>\n",
       "</table>\n",
       "</div>"
      ],
      "text/plain": [
       "                 Features  Cluster\n",
       "0               out_prncp        0\n",
       "1               num_bc_tl        0\n",
       "2   num_accts_ever_120_pd        0\n",
       "3              max_bal_bc        0\n",
       "4                all_util        0\n",
       "5          inq_last_6mths        0\n",
       "6                  inq_fi        0\n",
       "7             open_acc_6m        0\n",
       "8          home_ownership        0\n",
       "9          num_actv_bc_tl        0\n",
       "10       good_loan_status        0"
      ]
     },
     "execution_count": 51,
     "metadata": {},
     "output_type": "execute_result"
    }
   ],
   "source": [
    "kmclusters[kmclusters['Cluster'] == 0]"
   ]
  },
  {
   "cell_type": "code",
   "execution_count": 52,
   "metadata": {},
   "outputs": [
    {
     "data": {
      "text/html": [
       "<div>\n",
       "<style scoped>\n",
       "    .dataframe tbody tr th:only-of-type {\n",
       "        vertical-align: middle;\n",
       "    }\n",
       "\n",
       "    .dataframe tbody tr th {\n",
       "        vertical-align: top;\n",
       "    }\n",
       "\n",
       "    .dataframe thead th {\n",
       "        text-align: right;\n",
       "    }\n",
       "</style>\n",
       "<table border=\"1\" class=\"dataframe\">\n",
       "  <thead>\n",
       "    <tr style=\"text-align: right;\">\n",
       "      <th></th>\n",
       "      <th>Features</th>\n",
       "      <th>Cluster</th>\n",
       "    </tr>\n",
       "  </thead>\n",
       "  <tbody>\n",
       "    <tr>\n",
       "      <th>11</th>\n",
       "      <td>clusters</td>\n",
       "      <td>1</td>\n",
       "    </tr>\n",
       "  </tbody>\n",
       "</table>\n",
       "</div>"
      ],
      "text/plain": [
       "    Features  Cluster\n",
       "11  clusters        1"
      ]
     },
     "execution_count": 52,
     "metadata": {},
     "output_type": "execute_result"
    }
   ],
   "source": [
    "kmclusters[kmclusters['Cluster'] == 1]"
   ]
  },
  {
   "cell_type": "markdown",
   "metadata": {},
   "source": [
    "_KMeans was able to find 1 cluster from the top 10 features importance of Boosted Random Forest._"
   ]
  },
  {
   "cell_type": "markdown",
   "metadata": {},
   "source": [
    "---"
   ]
  },
  {
   "cell_type": "markdown",
   "metadata": {},
   "source": [
    "## RFC top 10 feature analysis"
   ]
  },
  {
   "cell_type": "code",
   "execution_count": 25,
   "metadata": {},
   "outputs": [
    {
     "data": {
      "image/png": "[encoded data removed]",
      "text/plain": [
       "<Figure size 648x360 with 1 Axes>"
      ]
     },
     "metadata": {
      "needs_background": "light"
     },
     "output_type": "display_data"
    }
   ],
   "source": [
    "kClusters(topFeaturesRFC)"
   ]
  },
  {
   "cell_type": "code",
   "execution_count": 53,
   "metadata": {},
   "outputs": [
    {
     "name": "stderr",
     "output_type": "stream",
     "text": [
      "/Library/Frameworks/Python.framework/Versions/3.7/lib/python3.7/site-packages/ipykernel_launcher.py:12: SettingWithCopyWarning: \n",
      "A value is trying to be set on a copy of a slice from a DataFrame.\n",
      "Try using .loc[row_indexer,col_indexer] = value instead\n",
      "\n",
      "See the caveats in the documentation: http://pandas.pydata.org/pandas-docs/stable/indexing.html#indexing-view-versus-copy\n",
      "  if sys.path[0] == '':\n"
     ]
    }
   ],
   "source": [
    "X_norm1= norm.fit_transform(topFeaturesRFC)\n",
    "\n",
    "kmRFC = KMeans(n_clusters=4,\n",
    "            init='k-means++')\n",
    "\n",
    "clusters1 = kmRFC.fit_predict(X_norm1)\n",
    "y_kmeansRFC_labels = kmRFC.predict(topFeaturesRFC)\n",
    "\n",
    "centroids = kmRFC.cluster_centers_\n",
    "kmRFClabels = kmRFC.labels_\n",
    "\n",
    "topFeaturesRFC['clusters'] = clusters1"
   ]
  },
  {
   "cell_type": "code",
   "execution_count": 54,
   "metadata": {},
   "outputs": [
    {
     "name": "stdout",
     "output_type": "stream",
     "text": [
      "cluster0\n",
      "0.7969404161161432\n",
      "cluster1\n",
      "0.6518847006651884\n",
      "cluster2\n",
      "0.6770854895466777\n",
      "cluster3\n",
      "0.0\n"
     ]
    }
   ],
   "source": [
    "clusterListRFC = [0,1,2,3]\n",
    "for var in clusterListRFC:\n",
    "    print('cluster'+str(var))\n",
    "    print(topFeaturesRFC[topFeaturesRFC['clusters']==var]['good_loan_status'].mean())"
   ]
  },
  {
   "cell_type": "code",
   "execution_count": 55,
   "metadata": {},
   "outputs": [
    {
     "name": "stdout",
     "output_type": "stream",
     "text": [
      "cluster0\n",
      "          out_prncp          term  tot_hi_cred_lim  months_since_issue_d  \\\n",
      "count  62819.000000  62819.000000     6.281900e+04          62819.000000   \n",
      "mean    1085.033630      0.244703     2.476151e+05              9.257268   \n",
      "std     4512.150114      0.429914     1.979282e+05              3.565464   \n",
      "min        0.000000      0.000000     5.000000e+03              0.000000   \n",
      "25%        0.000000      0.000000     9.933500e+04              6.950820   \n",
      "50%        0.000000      0.000000     2.074970e+05              9.967213   \n",
      "75%        0.000000      0.000000     3.401450e+05             11.967213   \n",
      "max    40000.000000      1.000000     4.819402e+06             13.901639   \n",
      "\n",
      "          loan_amnt  home_ownership    avg_cur_bal  verification_status  \\\n",
      "count  62819.000000    62819.000000   62819.000000         62819.000000   \n",
      "mean   13811.555421        1.634824   19195.152868             0.825164   \n",
      "std     9841.109898        0.867892   19872.405888             0.764918   \n",
      "min     1000.000000        0.000000       0.000000             0.000000   \n",
      "25%     6000.000000        1.000000    5397.000000             0.000000   \n",
      "50%    10400.000000        1.000000   14006.000000             1.000000   \n",
      "75%    20000.000000        3.000000   26249.500000             1.000000   \n",
      "max    40000.000000        3.000000  466840.000000             2.000000   \n",
      "\n",
      "                dti       bc_util  good_loan_status  clusters  \n",
      "count  62819.000000  62819.000000       62819.00000   62819.0  \n",
      "mean      19.972526     45.075174           0.79694       0.0  \n",
      "std       20.285540     29.764939           0.40228       0.0  \n",
      "min        0.000000      0.000000           0.00000       0.0  \n",
      "25%       11.850000     19.500000           1.00000       0.0  \n",
      "50%       18.070000     42.500000           1.00000       0.0  \n",
      "75%       25.360000     69.300000           1.00000       0.0  \n",
      "max      999.000000    146.600000           1.00000       0.0  \n",
      "cluster1\n",
      "         out_prncp         term  tot_hi_cred_lim  months_since_issue_d  \\\n",
      "count  4059.000000  4059.000000      4059.000000           4059.000000   \n",
      "mean      0.381042     0.380882     20488.382853              9.981955   \n",
      "std      24.276301     0.485663     14155.683339              3.216257   \n",
      "min       0.000000     0.000000         0.000000              0.000000   \n",
      "25%       0.000000     0.000000      9037.500000              7.967213   \n",
      "50%       0.000000     0.000000     17400.000000             10.950820   \n",
      "75%       0.000000     1.000000     29500.000000             12.885246   \n",
      "max    1546.650000     1.000000     62900.000000             13.901639   \n",
      "\n",
      "          loan_amnt  home_ownership   avg_cur_bal  verification_status  \\\n",
      "count   4059.000000     4059.000000   4059.000000          4059.000000   \n",
      "mean   20066.734417        2.495689   2035.506736             1.034738   \n",
      "std    10871.865724        0.750665   2125.539842             0.729594   \n",
      "min     1000.000000        0.000000      0.000000             0.000000   \n",
      "25%    10000.000000        2.000000    635.500000             1.000000   \n",
      "50%    20000.000000        3.000000   1440.000000             1.000000   \n",
      "75%    30000.000000        3.000000   2728.000000             2.000000   \n",
      "max    40000.000000        3.000000  20199.000000             2.000000   \n",
      "\n",
      "               dti      bc_util  good_loan_status  clusters  \n",
      "count  4059.000000  4059.000000       4059.000000    4059.0  \n",
      "mean      8.857952    46.352661          0.651885       1.0  \n",
      "std      18.534028    31.554794          0.476431       0.0  \n",
      "min       0.000000     0.000000          0.000000       1.0  \n",
      "25%       2.910000    17.050000          0.000000       1.0  \n",
      "50%       6.720000    48.600000          1.000000       1.0  \n",
      "75%      11.795000    73.400000          1.000000       1.0  \n",
      "max     999.000000   111.500000          1.000000       1.0  \n",
      "cluster2\n",
      "          out_prncp          term  tot_hi_cred_lim  months_since_issue_d  \\\n",
      "count  19324.000000  19324.000000     19324.000000          19324.000000   \n",
      "mean    1710.088198      0.333420     58175.753985              9.550035   \n",
      "std     5694.275847      0.471447     35192.520021              3.454330   \n",
      "min        0.000000      0.000000      1600.000000              0.000000   \n",
      "25%        0.000000      0.000000     32153.000000              6.950820   \n",
      "50%        0.000000      0.000000     50496.000000              9.967213   \n",
      "75%        0.000000      1.000000     76248.250000             11.967213   \n",
      "max    40000.000000      1.000000    210778.000000             13.901639   \n",
      "\n",
      "          loan_amnt  home_ownership   avg_cur_bal  verification_status  \\\n",
      "count  19324.000000    19324.000000  19324.000000         19324.000000   \n",
      "mean   18057.310857        2.449493   3910.360640             0.881495   \n",
      "std     9738.636264        0.799644   3578.709491             0.740886   \n",
      "min     1000.000000        0.000000      0.000000             0.000000   \n",
      "25%    10000.000000        2.000000   1693.750000             0.000000   \n",
      "50%    16000.000000        3.000000   3030.000000             1.000000   \n",
      "75%    25000.000000        3.000000   4956.250000             1.000000   \n",
      "max    40000.000000        3.000000  73286.000000             2.000000   \n",
      "\n",
      "                dti       bc_util  good_loan_status  clusters  \n",
      "count  19324.000000  19324.000000      19324.000000   19324.0  \n",
      "mean      17.541310     47.033544          0.677085       2.0  \n",
      "std       20.726329     29.035031          0.467602       0.0  \n",
      "min        0.000000      0.000000          0.000000       2.0  \n",
      "25%        9.520000     22.900000          0.000000       2.0  \n",
      "50%       15.610000     46.600000          1.000000       2.0  \n",
      "75%       22.302500     70.800000          1.000000       2.0  \n",
      "max      999.000000    158.600000          1.000000       2.0  \n",
      "cluster3\n",
      "          out_prncp         term  tot_hi_cred_lim  months_since_issue_d  \\\n",
      "count   1721.000000  1721.000000      1721.000000           1721.000000   \n",
      "mean   19060.040227     0.463684     31678.466008              8.405254   \n",
      "std     9259.969040     0.498824     20797.913764              3.460087   \n",
      "min     1075.290000     0.000000         0.000000              0.000000   \n",
      "25%    11472.370000     0.000000     15100.000000              5.934426   \n",
      "50%    18292.690000     0.000000     27500.000000              8.950820   \n",
      "75%    26560.950000     1.000000     44805.000000             10.950820   \n",
      "max    40000.000000     1.000000    102391.000000             13.901639   \n",
      "\n",
      "          loan_amnt  home_ownership   avg_cur_bal  verification_status  \\\n",
      "count   1721.000000     1721.000000   1721.000000          1721.000000   \n",
      "mean   21842.533411        2.575247   2682.057876             1.084834   \n",
      "std    10183.717740        0.722763   2526.802712             0.735169   \n",
      "min     1600.000000        0.000000      0.000000             0.000000   \n",
      "25%    14000.000000        2.000000   1035.000000             1.000000   \n",
      "50%    20000.000000        3.000000   2025.000000             1.000000   \n",
      "75%    30000.000000        3.000000   3619.000000             2.000000   \n",
      "max    40000.000000        3.000000  27960.000000             2.000000   \n",
      "\n",
      "               dti      bc_util  good_loan_status  clusters  \n",
      "count  1721.000000  1721.000000            1721.0    1721.0  \n",
      "mean     12.034054    49.156770               0.0       3.0  \n",
      "std      11.509841    30.550012               0.0       0.0  \n",
      "min       0.000000     0.000000               0.0       3.0  \n",
      "25%       5.270000    23.300000               0.0       3.0  \n",
      "50%       9.950000    49.857788               0.0       3.0  \n",
      "75%      16.490000    75.000000               0.0       3.0  \n",
      "max     261.540000   113.200000               0.0       3.0  \n"
     ]
    }
   ],
   "source": [
    "for var in clusterListRFC:\n",
    "    print('cluster'+str(var))\n",
    "    print(topFeaturesRFC[topFeaturesRFC['clusters']==var].describe())"
   ]
  },
  {
   "cell_type": "code",
   "execution_count": 56,
   "metadata": {},
   "outputs": [],
   "source": [
    "dict2 = {}\n",
    "for var in zip(topFeaturesRFC, kmRFClabels):\n",
    "    dict2[var[0]] = var[1]"
   ]
  },
  {
   "cell_type": "code",
   "execution_count": 61,
   "metadata": {},
   "outputs": [
    {
     "data": {
      "text/html": [
       "<div>\n",
       "<style scoped>\n",
       "    .dataframe tbody tr th:only-of-type {\n",
       "        vertical-align: middle;\n",
       "    }\n",
       "\n",
       "    .dataframe tbody tr th {\n",
       "        vertical-align: top;\n",
       "    }\n",
       "\n",
       "    .dataframe thead th {\n",
       "        text-align: right;\n",
       "    }\n",
       "</style>\n",
       "<table border=\"1\" class=\"dataframe\">\n",
       "  <thead>\n",
       "    <tr style=\"text-align: right;\">\n",
       "      <th></th>\n",
       "      <th>Features</th>\n",
       "      <th>Cluster</th>\n",
       "    </tr>\n",
       "  </thead>\n",
       "  <tbody>\n",
       "    <tr>\n",
       "      <th>0</th>\n",
       "      <td>out_prncp</td>\n",
       "      <td>0</td>\n",
       "    </tr>\n",
       "    <tr>\n",
       "      <th>1</th>\n",
       "      <td>term</td>\n",
       "      <td>0</td>\n",
       "    </tr>\n",
       "    <tr>\n",
       "      <th>2</th>\n",
       "      <td>tot_hi_cred_lim</td>\n",
       "      <td>2</td>\n",
       "    </tr>\n",
       "    <tr>\n",
       "      <th>3</th>\n",
       "      <td>months_since_issue_d</td>\n",
       "      <td>0</td>\n",
       "    </tr>\n",
       "    <tr>\n",
       "      <th>4</th>\n",
       "      <td>loan_amnt</td>\n",
       "      <td>0</td>\n",
       "    </tr>\n",
       "    <tr>\n",
       "      <th>5</th>\n",
       "      <td>home_ownership</td>\n",
       "      <td>0</td>\n",
       "    </tr>\n",
       "    <tr>\n",
       "      <th>6</th>\n",
       "      <td>avg_cur_bal</td>\n",
       "      <td>2</td>\n",
       "    </tr>\n",
       "    <tr>\n",
       "      <th>7</th>\n",
       "      <td>verification_status</td>\n",
       "      <td>0</td>\n",
       "    </tr>\n",
       "    <tr>\n",
       "      <th>8</th>\n",
       "      <td>dti</td>\n",
       "      <td>0</td>\n",
       "    </tr>\n",
       "    <tr>\n",
       "      <th>9</th>\n",
       "      <td>bc_util</td>\n",
       "      <td>0</td>\n",
       "    </tr>\n",
       "    <tr>\n",
       "      <th>10</th>\n",
       "      <td>good_loan_status</td>\n",
       "      <td>0</td>\n",
       "    </tr>\n",
       "    <tr>\n",
       "      <th>11</th>\n",
       "      <td>clusters</td>\n",
       "      <td>2</td>\n",
       "    </tr>\n",
       "  </tbody>\n",
       "</table>\n",
       "</div>"
      ],
      "text/plain": [
       "                Features  Cluster\n",
       "0              out_prncp        0\n",
       "1                   term        0\n",
       "2        tot_hi_cred_lim        2\n",
       "3   months_since_issue_d        0\n",
       "4              loan_amnt        0\n",
       "5         home_ownership        0\n",
       "6            avg_cur_bal        2\n",
       "7    verification_status        0\n",
       "8                    dti        0\n",
       "9                bc_util        0\n",
       "10      good_loan_status        0\n",
       "11              clusters        2"
      ]
     },
     "execution_count": 61,
     "metadata": {},
     "output_type": "execute_result"
    }
   ],
   "source": [
    "kmclustersRFC = pd.DataFrame(list(dict2.items()), columns=[\n",
    "                        'Features', 'Cluster'])\n",
    "kmclustersRFC"
   ]
  },
  {
   "cell_type": "code",
   "execution_count": 62,
   "metadata": {},
   "outputs": [
    {
     "data": {
      "text/plain": [
       "0    9\n",
       "2    3\n",
       "Name: Cluster, dtype: int64"
      ]
     },
     "execution_count": 62,
     "metadata": {},
     "output_type": "execute_result"
    }
   ],
   "source": [
    "kmclustersRFC.Cluster.value_counts()"
   ]
  },
  {
   "cell_type": "code",
   "execution_count": 63,
   "metadata": {},
   "outputs": [
    {
     "data": {
      "text/html": [
       "<div>\n",
       "<style scoped>\n",
       "    .dataframe tbody tr th:only-of-type {\n",
       "        vertical-align: middle;\n",
       "    }\n",
       "\n",
       "    .dataframe tbody tr th {\n",
       "        vertical-align: top;\n",
       "    }\n",
       "\n",
       "    .dataframe thead th {\n",
       "        text-align: right;\n",
       "    }\n",
       "</style>\n",
       "<table border=\"1\" class=\"dataframe\">\n",
       "  <thead>\n",
       "    <tr style=\"text-align: right;\">\n",
       "      <th></th>\n",
       "      <th>Features</th>\n",
       "      <th>Cluster</th>\n",
       "    </tr>\n",
       "  </thead>\n",
       "  <tbody>\n",
       "    <tr>\n",
       "      <th>0</th>\n",
       "      <td>out_prncp</td>\n",
       "      <td>0</td>\n",
       "    </tr>\n",
       "    <tr>\n",
       "      <th>1</th>\n",
       "      <td>term</td>\n",
       "      <td>0</td>\n",
       "    </tr>\n",
       "    <tr>\n",
       "      <th>3</th>\n",
       "      <td>months_since_issue_d</td>\n",
       "      <td>0</td>\n",
       "    </tr>\n",
       "    <tr>\n",
       "      <th>4</th>\n",
       "      <td>loan_amnt</td>\n",
       "      <td>0</td>\n",
       "    </tr>\n",
       "    <tr>\n",
       "      <th>5</th>\n",
       "      <td>home_ownership</td>\n",
       "      <td>0</td>\n",
       "    </tr>\n",
       "    <tr>\n",
       "      <th>7</th>\n",
       "      <td>verification_status</td>\n",
       "      <td>0</td>\n",
       "    </tr>\n",
       "    <tr>\n",
       "      <th>8</th>\n",
       "      <td>dti</td>\n",
       "      <td>0</td>\n",
       "    </tr>\n",
       "    <tr>\n",
       "      <th>9</th>\n",
       "      <td>bc_util</td>\n",
       "      <td>0</td>\n",
       "    </tr>\n",
       "    <tr>\n",
       "      <th>10</th>\n",
       "      <td>good_loan_status</td>\n",
       "      <td>0</td>\n",
       "    </tr>\n",
       "  </tbody>\n",
       "</table>\n",
       "</div>"
      ],
      "text/plain": [
       "                Features  Cluster\n",
       "0              out_prncp        0\n",
       "1                   term        0\n",
       "3   months_since_issue_d        0\n",
       "4              loan_amnt        0\n",
       "5         home_ownership        0\n",
       "7    verification_status        0\n",
       "8                    dti        0\n",
       "9                bc_util        0\n",
       "10      good_loan_status        0"
      ]
     },
     "execution_count": 63,
     "metadata": {},
     "output_type": "execute_result"
    }
   ],
   "source": [
    "kmclustersRFC[kmclustersRFC['Cluster'] == 0]"
   ]
  },
  {
   "cell_type": "code",
   "execution_count": 68,
   "metadata": {},
   "outputs": [
    {
     "data": {
      "text/html": [
       "<div>\n",
       "<style scoped>\n",
       "    .dataframe tbody tr th:only-of-type {\n",
       "        vertical-align: middle;\n",
       "    }\n",
       "\n",
       "    .dataframe tbody tr th {\n",
       "        vertical-align: top;\n",
       "    }\n",
       "\n",
       "    .dataframe thead th {\n",
       "        text-align: right;\n",
       "    }\n",
       "</style>\n",
       "<table border=\"1\" class=\"dataframe\">\n",
       "  <thead>\n",
       "    <tr style=\"text-align: right;\">\n",
       "      <th></th>\n",
       "      <th>Features</th>\n",
       "      <th>Cluster</th>\n",
       "    </tr>\n",
       "  </thead>\n",
       "  <tbody>\n",
       "    <tr>\n",
       "      <th>2</th>\n",
       "      <td>tot_hi_cred_lim</td>\n",
       "      <td>2</td>\n",
       "    </tr>\n",
       "    <tr>\n",
       "      <th>6</th>\n",
       "      <td>avg_cur_bal</td>\n",
       "      <td>2</td>\n",
       "    </tr>\n",
       "    <tr>\n",
       "      <th>11</th>\n",
       "      <td>clusters</td>\n",
       "      <td>2</td>\n",
       "    </tr>\n",
       "  </tbody>\n",
       "</table>\n",
       "</div>"
      ],
      "text/plain": [
       "           Features  Cluster\n",
       "2   tot_hi_cred_lim        2\n",
       "6       avg_cur_bal        2\n",
       "11         clusters        2"
      ]
     },
     "execution_count": 68,
     "metadata": {},
     "output_type": "execute_result"
    }
   ],
   "source": [
    "kmclustersRFC[kmclustersRFC['Cluster'] == 2]"
   ]
  },
  {
   "cell_type": "code",
   "execution_count": 69,
   "metadata": {},
   "outputs": [
    {
     "data": {
      "text/html": [
       "<div>\n",
       "<style scoped>\n",
       "    .dataframe tbody tr th:only-of-type {\n",
       "        vertical-align: middle;\n",
       "    }\n",
       "\n",
       "    .dataframe tbody tr th {\n",
       "        vertical-align: top;\n",
       "    }\n",
       "\n",
       "    .dataframe thead th {\n",
       "        text-align: right;\n",
       "    }\n",
       "</style>\n",
       "<table border=\"1\" class=\"dataframe\">\n",
       "  <thead>\n",
       "    <tr style=\"text-align: right;\">\n",
       "      <th></th>\n",
       "      <th>Features</th>\n",
       "      <th>Cluster</th>\n",
       "    </tr>\n",
       "  </thead>\n",
       "  <tbody>\n",
       "    <tr>\n",
       "      <th>0</th>\n",
       "      <td>out_prncp</td>\n",
       "      <td>0</td>\n",
       "    </tr>\n",
       "    <tr>\n",
       "      <th>1</th>\n",
       "      <td>term</td>\n",
       "      <td>0</td>\n",
       "    </tr>\n",
       "    <tr>\n",
       "      <th>2</th>\n",
       "      <td>tot_hi_cred_lim</td>\n",
       "      <td>2</td>\n",
       "    </tr>\n",
       "    <tr>\n",
       "      <th>3</th>\n",
       "      <td>months_since_issue_d</td>\n",
       "      <td>0</td>\n",
       "    </tr>\n",
       "    <tr>\n",
       "      <th>4</th>\n",
       "      <td>loan_amnt</td>\n",
       "      <td>0</td>\n",
       "    </tr>\n",
       "    <tr>\n",
       "      <th>5</th>\n",
       "      <td>home_ownership</td>\n",
       "      <td>0</td>\n",
       "    </tr>\n",
       "    <tr>\n",
       "      <th>6</th>\n",
       "      <td>avg_cur_bal</td>\n",
       "      <td>2</td>\n",
       "    </tr>\n",
       "    <tr>\n",
       "      <th>7</th>\n",
       "      <td>verification_status</td>\n",
       "      <td>0</td>\n",
       "    </tr>\n",
       "    <tr>\n",
       "      <th>8</th>\n",
       "      <td>dti</td>\n",
       "      <td>0</td>\n",
       "    </tr>\n",
       "    <tr>\n",
       "      <th>9</th>\n",
       "      <td>bc_util</td>\n",
       "      <td>0</td>\n",
       "    </tr>\n",
       "    <tr>\n",
       "      <th>10</th>\n",
       "      <td>good_loan_status</td>\n",
       "      <td>0</td>\n",
       "    </tr>\n",
       "    <tr>\n",
       "      <th>11</th>\n",
       "      <td>clusters</td>\n",
       "      <td>2</td>\n",
       "    </tr>\n",
       "  </tbody>\n",
       "</table>\n",
       "</div>"
      ],
      "text/plain": [
       "                Features  Cluster\n",
       "0              out_prncp        0\n",
       "1                   term        0\n",
       "2        tot_hi_cred_lim        2\n",
       "3   months_since_issue_d        0\n",
       "4              loan_amnt        0\n",
       "5         home_ownership        0\n",
       "6            avg_cur_bal        2\n",
       "7    verification_status        0\n",
       "8                    dti        0\n",
       "9                bc_util        0\n",
       "10      good_loan_status        0\n",
       "11              clusters        2"
      ]
     },
     "execution_count": 69,
     "metadata": {},
     "output_type": "execute_result"
    }
   ],
   "source": [
    "kmclustersRFC"
   ]
  },
  {
   "cell_type": "markdown",
   "metadata": {},
   "source": [
    "---------"
   ]
  },
  {
   "cell_type": "markdown",
   "metadata": {},
   "source": [
    "# Mean shift analysis on RFC"
   ]
  },
  {
   "cell_type": "code",
   "execution_count": 34,
   "metadata": {},
   "outputs": [],
   "source": [
    "topFeatures2norm = topFeaturesRFC.drop(['good_loan_status','clusters'], axis=1)"
   ]
  },
  {
   "cell_type": "code",
   "execution_count": 35,
   "metadata": {},
   "outputs": [],
   "source": [
    "bandwidth2 = estimate_bandwidth(topFeatures2norm,\n",
    "                                quantile=0.2,\n",
    "                                n_samples=10)\n",
    "# introduce the radius, also create bins to store the clusters.\n",
    "ms = MeanShift(bandwidth2, bin_seeding=True)"
   ]
  },
  {
   "cell_type": "code",
   "execution_count": 36,
   "metadata": {},
   "outputs": [],
   "source": [
    "ms.fit(topFeatures2norm)\n",
    "msLabels = ms.labels_"
   ]
  },
  {
   "cell_type": "code",
   "execution_count": 37,
   "metadata": {},
   "outputs": [
    {
     "data": {
      "text/plain": [
       "array([0, 0, 0, ..., 1, 0, 0])"
      ]
     },
     "execution_count": 37,
     "metadata": {},
     "output_type": "execute_result"
    }
   ],
   "source": [
    "msLabels"
   ]
  },
  {
   "cell_type": "code",
   "execution_count": 38,
   "metadata": {},
   "outputs": [],
   "source": [
    "dict = {}\n",
    "for var in zip(topFeatures2norm, msLabels):\n",
    "    dict[var[0]] = var[1]\n",
    "    # if var[1] == 65:\n",
    "    # print(var)"
   ]
  },
  {
   "cell_type": "markdown",
   "metadata": {},
   "source": [
    "_This dictionary has the feature and the cluster number it belongs too_"
   ]
  },
  {
   "cell_type": "code",
   "execution_count": 39,
   "metadata": {},
   "outputs": [
    {
     "data": {
      "text/plain": [
       "{'out_prncp': 0,\n",
       " 'term': 0,\n",
       " 'tot_hi_cred_lim': 0,\n",
       " 'months_since_issue_d': 0,\n",
       " 'loan_amnt': 0,\n",
       " 'home_ownership': 0,\n",
       " 'avg_cur_bal': 0,\n",
       " 'verification_status': 0,\n",
       " 'dti': 0,\n",
       " 'bc_util': 0}"
      ]
     },
     "execution_count": 39,
     "metadata": {},
     "output_type": "execute_result"
    }
   ],
   "source": [
    "dict"
   ]
  },
  {
   "cell_type": "code",
   "execution_count": 65,
   "metadata": {},
   "outputs": [
    {
     "data": {
      "text/html": [
       "<div>\n",
       "<style scoped>\n",
       "    .dataframe tbody tr th:only-of-type {\n",
       "        vertical-align: middle;\n",
       "    }\n",
       "\n",
       "    .dataframe tbody tr th {\n",
       "        vertical-align: top;\n",
       "    }\n",
       "\n",
       "    .dataframe thead th {\n",
       "        text-align: right;\n",
       "    }\n",
       "</style>\n",
       "<table border=\"1\" class=\"dataframe\">\n",
       "  <thead>\n",
       "    <tr style=\"text-align: right;\">\n",
       "      <th></th>\n",
       "      <th>Features</th>\n",
       "      <th>Cluster</th>\n",
       "    </tr>\n",
       "  </thead>\n",
       "  <tbody>\n",
       "    <tr>\n",
       "      <th>0</th>\n",
       "      <td>out_prncp</td>\n",
       "      <td>0</td>\n",
       "    </tr>\n",
       "    <tr>\n",
       "      <th>1</th>\n",
       "      <td>term</td>\n",
       "      <td>0</td>\n",
       "    </tr>\n",
       "    <tr>\n",
       "      <th>2</th>\n",
       "      <td>tot_hi_cred_lim</td>\n",
       "      <td>0</td>\n",
       "    </tr>\n",
       "    <tr>\n",
       "      <th>3</th>\n",
       "      <td>months_since_issue_d</td>\n",
       "      <td>0</td>\n",
       "    </tr>\n",
       "    <tr>\n",
       "      <th>4</th>\n",
       "      <td>loan_amnt</td>\n",
       "      <td>0</td>\n",
       "    </tr>\n",
       "    <tr>\n",
       "      <th>5</th>\n",
       "      <td>home_ownership</td>\n",
       "      <td>0</td>\n",
       "    </tr>\n",
       "    <tr>\n",
       "      <th>6</th>\n",
       "      <td>avg_cur_bal</td>\n",
       "      <td>0</td>\n",
       "    </tr>\n",
       "    <tr>\n",
       "      <th>7</th>\n",
       "      <td>verification_status</td>\n",
       "      <td>0</td>\n",
       "    </tr>\n",
       "    <tr>\n",
       "      <th>8</th>\n",
       "      <td>dti</td>\n",
       "      <td>0</td>\n",
       "    </tr>\n",
       "    <tr>\n",
       "      <th>9</th>\n",
       "      <td>bc_util</td>\n",
       "      <td>0</td>\n",
       "    </tr>\n",
       "  </tbody>\n",
       "</table>\n",
       "</div>"
      ],
      "text/plain": [
       "               Features  Cluster\n",
       "0             out_prncp        0\n",
       "1                  term        0\n",
       "2       tot_hi_cred_lim        0\n",
       "3  months_since_issue_d        0\n",
       "4             loan_amnt        0\n",
       "5        home_ownership        0\n",
       "6           avg_cur_bal        0\n",
       "7   verification_status        0\n",
       "8                   dti        0\n",
       "9               bc_util        0"
      ]
     },
     "execution_count": 65,
     "metadata": {},
     "output_type": "execute_result"
    }
   ],
   "source": [
    "clusters = pd.DataFrame(list(dict.items()), columns=[\n",
    "                        'Features', 'Cluster'])\n",
    "clusters"
   ]
  },
  {
   "cell_type": "code",
   "execution_count": 66,
   "metadata": {},
   "outputs": [
    {
     "data": {
      "text/plain": [
       "0    10\n",
       "Name: Cluster, dtype: int64"
      ]
     },
     "execution_count": 66,
     "metadata": {},
     "output_type": "execute_result"
    }
   ],
   "source": [
    "clusters['Cluster'].value_counts()"
   ]
  },
  {
   "cell_type": "markdown",
   "metadata": {},
   "source": [
    "_MeanShift grouped the 10 feautes in one cluster, cluster 0.  It wasn't able to find any new clusters._"
   ]
  },
  {
   "cell_type": "code",
   "execution_count": null,
   "metadata": {},
   "outputs": [],
   "source": []
  }
 ],
 "metadata": {
  "kernelspec": {
   "display_name": "Python 3",
   "language": "python",
   "name": "python3"
  },
  "language_info": {
   "codemirror_mode": {
    "name": "ipython",
    "version": 3
   },
   "file_extension": ".py",
   "mimetype": "text/x-python",
   "name": "python",
   "nbconvert_exporter": "python",
   "pygments_lexer": "ipython3",
   "version": "3.7.1"
  }
 },
 "nbformat": 4,
 "nbformat_minor": 2
}
