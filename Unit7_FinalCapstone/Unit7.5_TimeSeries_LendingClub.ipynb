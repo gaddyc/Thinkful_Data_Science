{
 "cells": [
  {
   "cell_type": "markdown",
   "metadata": {},
   "source": [
    "# Lending Club - Predicting loan application rejections\n",
    "\n",
    "_We are trying to forecast the number of loans rejected per month using Arima Time Series and LTSM models_\n",
    "\n",
    "https://www.lendingclub.com/info/download-data.action"
   ]
  },
  {
   "cell_type": "code",
   "execution_count": 1,
   "metadata": {},
   "outputs": [],
   "source": [
    "import numpy as np\n",
    "import pandas as pd\n",
    "import scipy\n",
    "from datetime import datetime\n",
    "import datetime as dt\n",
    "import matplotlib.pyplot as plt\n",
    "from statsmodels.formula.api import ols\n",
    "import seaborn as sns\n",
    "\n",
    "%matplotlib inline"
   ]
  },
  {
   "cell_type": "markdown",
   "metadata": {},
   "source": [
    "_Import the Lending Club rejection Application Datae from the Lending Club website_"
   ]
  },
  {
   "cell_type": "code",
   "execution_count": 2,
   "metadata": {},
   "outputs": [],
   "source": [
    "df2017Q1 = pd.read_csv('RejectStats_2017Q1.csv',\n",
    "                       low_memory=False, skiprows=[0]).iloc[:, [1]]\n",
    "df2017Q2 = pd.read_csv('RejectStats_2017Q2.csv',\n",
    "                       low_memory=False, skiprows=[0]).iloc[:, [1]]\n",
    "df2017Q3 = pd.read_csv('RejectStats_2017Q3.csv',\n",
    "                       low_memory=False, skiprows=[0]).iloc[:, [1]]\n",
    "df2017Q4 = pd.read_csv('RejectStats_2017Q4.csv',\n",
    "                       low_memory=False, skiprows=[0]).iloc[:, [1]]\n",
    "df2018Q1 = pd.read_csv('RejectStats_2018Q1.csv',\n",
    "                       low_memory=False, skiprows=[0]).iloc[:, [1]]\n",
    "df2018Q2 = pd.read_csv('RejectStats_2018Q2.csv',\n",
    "                       low_memory=False, skiprows=[0]).iloc[:, [1]]\n",
    "df2018Q3 = pd.read_csv('RejectStats_2018Q3.csv',\n",
    "                       low_memory=False, skiprows=[0]).iloc[:, [1]]\n",
    "df2018Q4 = pd.read_csv('RejectStats_2018Q4.csv',\n",
    "                       low_memory=False, skiprows=[0]).iloc[:, [1]]\n",
    "df2019Q1 = pd.read_csv('RejectStats_2019Q1.csv',\n",
    "                       low_memory=False, skiprows=[0]).iloc[:, [1]]"
   ]
  },
  {
   "cell_type": "code",
   "execution_count": 3,
   "metadata": {},
   "outputs": [],
   "source": [
    "loans = [df2017Q1, df2017Q2, df2017Q3, df2017Q4,\n",
    "         df2018Q1, df2018Q2, df2018Q3, df2018Q4, df2019Q1]\n",
    "df = pd.concat(loans)\n",
    "df.to_csv('RejectedLoans.csv')"
   ]
  },
  {
   "cell_type": "markdown",
   "metadata": {},
   "source": [
    "_Only import the application data as the data_"
   ]
  },
  {
   "cell_type": "code",
   "execution_count": 4,
   "metadata": {
    "scrolled": true
   },
   "outputs": [],
   "source": [
    "df = pd.read_csv('RejectedLoans.csv')\n",
    "df = df.drop('Unnamed: 0', axis=1)"
   ]
  },
  {
   "cell_type": "code",
   "execution_count": 5,
   "metadata": {},
   "outputs": [],
   "source": [
    "df = df.dropna()"
   ]
  },
  {
   "cell_type": "code",
   "execution_count": 6,
   "metadata": {},
   "outputs": [
    {
     "data": {
      "text/html": [
       "<div>\n",
       "<style scoped>\n",
       "    .dataframe tbody tr th:only-of-type {\n",
       "        vertical-align: middle;\n",
       "    }\n",
       "\n",
       "    .dataframe tbody tr th {\n",
       "        vertical-align: top;\n",
       "    }\n",
       "\n",
       "    .dataframe thead th {\n",
       "        text-align: right;\n",
       "    }\n",
       "</style>\n",
       "<table border=\"1\" class=\"dataframe\">\n",
       "  <thead>\n",
       "    <tr style=\"text-align: right;\">\n",
       "      <th></th>\n",
       "      <th>Application Date</th>\n",
       "    </tr>\n",
       "  </thead>\n",
       "  <tbody>\n",
       "    <tr>\n",
       "      <th>0</th>\n",
       "      <td>2017-01-01</td>\n",
       "    </tr>\n",
       "    <tr>\n",
       "      <th>1</th>\n",
       "      <td>2017-01-01</td>\n",
       "    </tr>\n",
       "    <tr>\n",
       "      <th>2</th>\n",
       "      <td>2017-01-01</td>\n",
       "    </tr>\n",
       "    <tr>\n",
       "      <th>3</th>\n",
       "      <td>2017-01-01</td>\n",
       "    </tr>\n",
       "    <tr>\n",
       "      <th>4</th>\n",
       "      <td>2017-01-01</td>\n",
       "    </tr>\n",
       "  </tbody>\n",
       "</table>\n",
       "</div>"
      ],
      "text/plain": [
       "  Application Date\n",
       "0       2017-01-01\n",
       "1       2017-01-01\n",
       "2       2017-01-01\n",
       "3       2017-01-01\n",
       "4       2017-01-01"
      ]
     },
     "execution_count": 6,
     "metadata": {},
     "output_type": "execute_result"
    }
   ],
   "source": [
    "df.head()"
   ]
  },
  {
   "cell_type": "code",
   "execution_count": 7,
   "metadata": {},
   "outputs": [
    {
     "name": "stdout",
     "output_type": "stream",
     "text": [
      "<class 'pandas.core.frame.DataFrame'>\n",
      "Int64Index: 19158655 entries, 0 to 19158654\n",
      "Data columns (total 1 columns):\n",
      "Application Date    object\n",
      "dtypes: object(1)\n",
      "memory usage: 292.3+ MB\n"
     ]
    },
    {
     "data": {
      "text/plain": [
       "((19158655, 1), None)"
      ]
     },
     "execution_count": 7,
     "metadata": {},
     "output_type": "execute_result"
    }
   ],
   "source": [
    "df.shape, df.info()"
   ]
  },
  {
   "cell_type": "markdown",
   "metadata": {},
   "source": [
    "_The forecast will be computed on a weekly basis_"
   ]
  },
  {
   "cell_type": "code",
   "execution_count": 8,
   "metadata": {},
   "outputs": [],
   "source": [
    "# https://stackoverflow.com/questions/45281297/group-by-week-in-pandas#45281439\n",
    "# http://pandas.pydata.org/pandas-docs/stable/user_guide/timeseries.html\n",
    "# https://pandas.pydata.org/pandas-docs/stable/reference/api/pandas.Grouper.html\n",
    "df.rename(columns={'Application Date': 'Application_Date'}, inplace=True)\n",
    "df['Count'] = 1\n",
    "df['Application_Date'] = pd.to_datetime(\n",
    "    df['Application_Date']) - pd.to_timedelta(7, unit='d')\n",
    "df = df.groupby([pd.Grouper(key='Application_Date', freq='W-MON')]\n",
    "                )['Count'].sum().reset_index().sort_values('Application_Date')"
   ]
  },
  {
   "cell_type": "code",
   "execution_count": 9,
   "metadata": {},
   "outputs": [
    {
     "name": "stdout",
     "output_type": "stream",
     "text": [
      "<class 'pandas.core.frame.DataFrame'>\n",
      "Int64Index: 118 entries, 0 to 117\n",
      "Data columns (total 2 columns):\n",
      "Application_Date    118 non-null datetime64[ns]\n",
      "Count               118 non-null int64\n",
      "dtypes: datetime64[ns](1), int64(1)\n",
      "memory usage: 2.8 KB\n"
     ]
    },
    {
     "data": {
      "text/plain": [
       "((118, 2), None)"
      ]
     },
     "execution_count": 9,
     "metadata": {},
     "output_type": "execute_result"
    }
   ],
   "source": [
    "df.shape, df.info()"
   ]
  },
  {
   "cell_type": "code",
   "execution_count": 10,
   "metadata": {},
   "outputs": [
    {
     "data": {
      "text/html": [
       "<div>\n",
       "<style scoped>\n",
       "    .dataframe tbody tr th:only-of-type {\n",
       "        vertical-align: middle;\n",
       "    }\n",
       "\n",
       "    .dataframe tbody tr th {\n",
       "        vertical-align: top;\n",
       "    }\n",
       "\n",
       "    .dataframe thead th {\n",
       "        text-align: right;\n",
       "    }\n",
       "</style>\n",
       "<table border=\"1\" class=\"dataframe\">\n",
       "  <thead>\n",
       "    <tr style=\"text-align: right;\">\n",
       "      <th></th>\n",
       "      <th>Application_Date</th>\n",
       "      <th>Count</th>\n",
       "    </tr>\n",
       "  </thead>\n",
       "  <tbody>\n",
       "    <tr>\n",
       "      <th>0</th>\n",
       "      <td>2016-12-26</td>\n",
       "      <td>19659</td>\n",
       "    </tr>\n",
       "    <tr>\n",
       "      <th>1</th>\n",
       "      <td>2017-01-02</td>\n",
       "      <td>119903</td>\n",
       "    </tr>\n",
       "    <tr>\n",
       "      <th>2</th>\n",
       "      <td>2017-01-09</td>\n",
       "      <td>112116</td>\n",
       "    </tr>\n",
       "    <tr>\n",
       "      <th>3</th>\n",
       "      <td>2017-01-16</td>\n",
       "      <td>110457</td>\n",
       "    </tr>\n",
       "    <tr>\n",
       "      <th>4</th>\n",
       "      <td>2017-01-23</td>\n",
       "      <td>108717</td>\n",
       "    </tr>\n",
       "  </tbody>\n",
       "</table>\n",
       "</div>"
      ],
      "text/plain": [
       "  Application_Date   Count\n",
       "0       2016-12-26   19659\n",
       "1       2017-01-02  119903\n",
       "2       2017-01-09  112116\n",
       "3       2017-01-16  110457\n",
       "4       2017-01-23  108717"
      ]
     },
     "execution_count": 10,
     "metadata": {},
     "output_type": "execute_result"
    }
   ],
   "source": [
    "df.head()"
   ]
  },
  {
   "cell_type": "code",
   "execution_count": 11,
   "metadata": {},
   "outputs": [],
   "source": [
    "# I will drop the 2016 date.\n",
    "df = df.loc[1:, :]"
   ]
  },
  {
   "cell_type": "code",
   "execution_count": 12,
   "metadata": {},
   "outputs": [
    {
     "data": {
      "text/html": [
       "<div>\n",
       "<style scoped>\n",
       "    .dataframe tbody tr th:only-of-type {\n",
       "        vertical-align: middle;\n",
       "    }\n",
       "\n",
       "    .dataframe tbody tr th {\n",
       "        vertical-align: top;\n",
       "    }\n",
       "\n",
       "    .dataframe thead th {\n",
       "        text-align: right;\n",
       "    }\n",
       "</style>\n",
       "<table border=\"1\" class=\"dataframe\">\n",
       "  <thead>\n",
       "    <tr style=\"text-align: right;\">\n",
       "      <th></th>\n",
       "      <th>Application_Date</th>\n",
       "      <th>Count</th>\n",
       "    </tr>\n",
       "  </thead>\n",
       "  <tbody>\n",
       "    <tr>\n",
       "      <th>1</th>\n",
       "      <td>2017-01-02</td>\n",
       "      <td>119903</td>\n",
       "    </tr>\n",
       "    <tr>\n",
       "      <th>2</th>\n",
       "      <td>2017-01-09</td>\n",
       "      <td>112116</td>\n",
       "    </tr>\n",
       "    <tr>\n",
       "      <th>3</th>\n",
       "      <td>2017-01-16</td>\n",
       "      <td>110457</td>\n",
       "    </tr>\n",
       "    <tr>\n",
       "      <th>4</th>\n",
       "      <td>2017-01-23</td>\n",
       "      <td>108717</td>\n",
       "    </tr>\n",
       "    <tr>\n",
       "      <th>5</th>\n",
       "      <td>2017-01-30</td>\n",
       "      <td>107435</td>\n",
       "    </tr>\n",
       "  </tbody>\n",
       "</table>\n",
       "</div>"
      ],
      "text/plain": [
       "  Application_Date   Count\n",
       "1       2017-01-02  119903\n",
       "2       2017-01-09  112116\n",
       "3       2017-01-16  110457\n",
       "4       2017-01-23  108717\n",
       "5       2017-01-30  107435"
      ]
     },
     "execution_count": 12,
     "metadata": {},
     "output_type": "execute_result"
    }
   ],
   "source": [
    "df.head()"
   ]
  },
  {
   "cell_type": "code",
   "execution_count": 13,
   "metadata": {},
   "outputs": [
    {
     "data": {
      "text/plain": [
       "(117, 2)"
      ]
     },
     "execution_count": 13,
     "metadata": {},
     "output_type": "execute_result"
    }
   ],
   "source": [
    "df.shape"
   ]
  },
  {
   "cell_type": "markdown",
   "metadata": {},
   "source": [
    "_Our dataset is not down to 117 rows, which is 117 weeks of loan data._"
   ]
  },
  {
   "cell_type": "code",
   "execution_count": 14,
   "metadata": {},
   "outputs": [],
   "source": [
    "df['Application_Date'] = pd.to_datetime(df['Application_Date'])"
   ]
  },
  {
   "cell_type": "markdown",
   "metadata": {},
   "source": [
    "_What is the time range of the data_"
   ]
  },
  {
   "cell_type": "code",
   "execution_count": 15,
   "metadata": {},
   "outputs": [
    {
     "name": "stdout",
     "output_type": "stream",
     "text": [
      "Starts date 2017-01-02 00:00:00\n",
      "Ends date 2019-03-25 00:00:00\n"
     ]
    }
   ],
   "source": [
    "print(\"Starts date {}\".format(df['Application_Date'].min()))\n",
    "print(\"Ends date {}\".format(df['Application_Date'].max()))"
   ]
  },
  {
   "cell_type": "code",
   "execution_count": 16,
   "metadata": {},
   "outputs": [
    {
     "data": {
      "text/plain": [
       "DatetimeIndex(['2017-01-02', '2017-01-09', '2017-01-16', '2017-01-23',\n",
       "               '2017-01-30', '2017-02-06', '2017-02-13', '2017-02-20',\n",
       "               '2017-02-27', '2017-03-06',\n",
       "               ...\n",
       "               '2019-01-21', '2019-01-28', '2019-02-04', '2019-02-11',\n",
       "               '2019-02-18', '2019-02-25', '2019-03-04', '2019-03-11',\n",
       "               '2019-03-18', '2019-03-25'],\n",
       "              dtype='datetime64[ns]', name='Application_Date', length=117, freq=None)"
      ]
     },
     "execution_count": 16,
     "metadata": {},
     "output_type": "execute_result"
    }
   ],
   "source": [
    "dfIndex = df.set_index('Application_Date')\n",
    "dfIndex.index"
   ]
  },
  {
   "cell_type": "code",
   "execution_count": 17,
   "metadata": {},
   "outputs": [
    {
     "data": {
      "image/png": "[encoded data removed]",
      "text/plain": [
       "<Figure size 432x288 with 1 Axes>"
      ]
     },
     "metadata": {
      "needs_background": "light"
     },
     "output_type": "display_data"
    }
   ],
   "source": [
    "dfIndex.plot()\n",
    "plt.title('Time Series - LendingClub')\n",
    "plt.xlabel('Application_Date')\n",
    "plt.ylabel('Count')\n",
    "plt.show()"
   ]
  },
  {
   "cell_type": "markdown",
   "metadata": {},
   "source": [
    "_The data is not stationary, therefore we have to take the difference_"
   ]
  },
  {
   "cell_type": "code",
   "execution_count": 69,
   "metadata": {},
   "outputs": [
    {
     "data": {
      "image/png": "[encoded data removed]",
      "text/plain": [
       "<Figure size 432x288 with 1 Axes>"
      ]
     },
     "metadata": {
      "needs_background": "light"
     },
     "output_type": "display_data"
    }
   ],
   "source": [
    "dfIndex['diff_1'] = dfIndex.Count - dfIndex.Count.shift()\n",
    "dfIndex.plot(y='diff_1')\n",
    "plt.title('DTime Series')\n",
    "plt.show()"
   ]
  },
  {
   "cell_type": "code",
   "execution_count": 19,
   "metadata": {},
   "outputs": [
    {
     "data": {
      "text/html": [
       "<div>\n",
       "<style scoped>\n",
       "    .dataframe tbody tr th:only-of-type {\n",
       "        vertical-align: middle;\n",
       "    }\n",
       "\n",
       "    .dataframe tbody tr th {\n",
       "        vertical-align: top;\n",
       "    }\n",
       "\n",
       "    .dataframe thead th {\n",
       "        text-align: right;\n",
       "    }\n",
       "</style>\n",
       "<table border=\"1\" class=\"dataframe\">\n",
       "  <thead>\n",
       "    <tr style=\"text-align: right;\">\n",
       "      <th></th>\n",
       "      <th>Count</th>\n",
       "      <th>diff_1</th>\n",
       "    </tr>\n",
       "    <tr>\n",
       "      <th>Application_Date</th>\n",
       "      <th></th>\n",
       "      <th></th>\n",
       "    </tr>\n",
       "  </thead>\n",
       "  <tbody>\n",
       "    <tr>\n",
       "      <th>2017-01-02</th>\n",
       "      <td>119903</td>\n",
       "      <td>NaN</td>\n",
       "    </tr>\n",
       "    <tr>\n",
       "      <th>2017-01-09</th>\n",
       "      <td>112116</td>\n",
       "      <td>-7787.0</td>\n",
       "    </tr>\n",
       "    <tr>\n",
       "      <th>2017-01-16</th>\n",
       "      <td>110457</td>\n",
       "      <td>-1659.0</td>\n",
       "    </tr>\n",
       "    <tr>\n",
       "      <th>2017-01-23</th>\n",
       "      <td>108717</td>\n",
       "      <td>-1740.0</td>\n",
       "    </tr>\n",
       "    <tr>\n",
       "      <th>2017-01-30</th>\n",
       "      <td>107435</td>\n",
       "      <td>-1282.0</td>\n",
       "    </tr>\n",
       "  </tbody>\n",
       "</table>\n",
       "</div>"
      ],
      "text/plain": [
       "                   Count  diff_1\n",
       "Application_Date                \n",
       "2017-01-02        119903     NaN\n",
       "2017-01-09        112116 -7787.0\n",
       "2017-01-16        110457 -1659.0\n",
       "2017-01-23        108717 -1740.0\n",
       "2017-01-30        107435 -1282.0"
      ]
     },
     "execution_count": 19,
     "metadata": {},
     "output_type": "execute_result"
    }
   ],
   "source": [
    "dfIndex.head()"
   ]
  },
  {
   "cell_type": "code",
   "execution_count": 20,
   "metadata": {},
   "outputs": [],
   "source": [
    "from statsmodels.tsa.seasonal import seasonal_decompose\n",
    "dfIndex = dfIndex.dropna()\n",
    "dfIndex = dfIndex.drop('diff_1', axis=1)\n",
    "decomposition = seasonal_decompose(dfIndex, model='additive')"
   ]
  },
  {
   "cell_type": "code",
   "execution_count": 21,
   "metadata": {},
   "outputs": [
    {
     "data": {
      "image/png": "[encoded data removed]",
      "text/plain": [
       "<Figure size 720x360 with 4 Axes>"
      ]
     },
     "metadata": {
      "needs_background": "light"
     },
     "output_type": "display_data"
    }
   ],
   "source": [
    "plt.figure(figsize=(10, 5))\n",
    "trend = decomposition.trend\n",
    "seasonal = decomposition.seasonal\n",
    "residuals = decomposition.resid\n",
    "\n",
    "\n",
    "plt.subplot(411)\n",
    "# plt.title('Original')\n",
    "plt.plot(dfIndex.Count, label='Original')\n",
    "#plt.plot(dfIndex.diff_1, label='Diff_1')\n",
    "plt.legend(loc='best')\n",
    "\n",
    "plt.subplot(412)\n",
    "# plt.title('Trend')\n",
    "plt.plot(trend, label='Trend')\n",
    "#plt.plot(dfIndex.diff_1, label='Diff_1')\n",
    "plt.legend(loc='best')\n",
    "\n",
    "plt.subplot(413)\n",
    "# plt.title('Seasonality')\n",
    "plt.plot(seasonal, label='Seasonality')\n",
    "#plt.plot(dfIndex.diff_1, label='Diff_1')\n",
    "plt.legend(loc='best')\n",
    "\n",
    "plt.subplot(414)\n",
    "# plt.title('Residuals')\n",
    "plt.plot(residuals, label='Residuals')\n",
    "#plt.plot(dfIndex.diff_1, label='Diff_1')\n",
    "plt.legend(loc='best')\n",
    "\n",
    "plt.tight_layout()\n",
    "plt.show()"
   ]
  },
  {
   "cell_type": "code",
   "execution_count": 22,
   "metadata": {},
   "outputs": [
    {
     "data": {
      "text/html": [
       "<div>\n",
       "<style scoped>\n",
       "    .dataframe tbody tr th:only-of-type {\n",
       "        vertical-align: middle;\n",
       "    }\n",
       "\n",
       "    .dataframe tbody tr th {\n",
       "        vertical-align: top;\n",
       "    }\n",
       "\n",
       "    .dataframe thead th {\n",
       "        text-align: right;\n",
       "    }\n",
       "</style>\n",
       "<table border=\"1\" class=\"dataframe\">\n",
       "  <thead>\n",
       "    <tr style=\"text-align: right;\">\n",
       "      <th></th>\n",
       "      <th>Count</th>\n",
       "    </tr>\n",
       "    <tr>\n",
       "      <th>Application_Date</th>\n",
       "      <th></th>\n",
       "    </tr>\n",
       "  </thead>\n",
       "  <tbody>\n",
       "    <tr>\n",
       "      <th>2017-01-09</th>\n",
       "      <td>112116</td>\n",
       "    </tr>\n",
       "    <tr>\n",
       "      <th>2017-01-16</th>\n",
       "      <td>110457</td>\n",
       "    </tr>\n",
       "    <tr>\n",
       "      <th>2017-01-23</th>\n",
       "      <td>108717</td>\n",
       "    </tr>\n",
       "    <tr>\n",
       "      <th>2017-01-30</th>\n",
       "      <td>107435</td>\n",
       "    </tr>\n",
       "    <tr>\n",
       "      <th>2017-02-06</th>\n",
       "      <td>104842</td>\n",
       "    </tr>\n",
       "  </tbody>\n",
       "</table>\n",
       "</div>"
      ],
      "text/plain": [
       "                   Count\n",
       "Application_Date        \n",
       "2017-01-09        112116\n",
       "2017-01-16        110457\n",
       "2017-01-23        108717\n",
       "2017-01-30        107435\n",
       "2017-02-06        104842"
      ]
     },
     "execution_count": 22,
     "metadata": {},
     "output_type": "execute_result"
    }
   ],
   "source": [
    "dfIndex.head()"
   ]
  },
  {
   "cell_type": "markdown",
   "metadata": {},
   "source": [
    "_PACF for both the initial and differenced time series._"
   ]
  },
  {
   "cell_type": "code",
   "execution_count": 23,
   "metadata": {},
   "outputs": [
    {
     "data": {
      "text/plain": [
       "Text(0.5, 1.0, 'Unrate PACF')"
      ]
     },
     "execution_count": 23,
     "metadata": {},
     "output_type": "execute_result"
    },
    {
     "data": {
      "image/png": "[encoded data removed]",
      "text/plain": [
       "<Figure size 432x288 with 1 Axes>"
      ]
     },
     "metadata": {
      "needs_background": "light"
     },
     "output_type": "display_data"
    }
   ],
   "source": [
    "from statsmodels.tsa.stattools import pacf\n",
    "x_acf = pd.DataFrame(pacf(dfIndex.Count))\n",
    "x_acf.plot(kind='bar')\n",
    "plt.title(\"Unrate PACF\")"
   ]
  },
  {
   "cell_type": "code",
   "execution_count": 24,
   "metadata": {},
   "outputs": [
    {
     "data": {
      "text/plain": [
       "<matplotlib.legend.Legend at 0x1202822e8>"
      ]
     },
     "execution_count": 24,
     "metadata": {},
     "output_type": "execute_result"
    },
    {
     "data": {
      "image/png": "[encoded data removed]",
      "text/plain": [
       "<Figure size 432x288 with 1 Axes>"
      ]
     },
     "metadata": {
      "needs_background": "light"
     },
     "output_type": "display_data"
    }
   ],
   "source": [
    "x_acf = pd.DataFrame(pacf(dfIndex.Count.iloc[1:]))\n",
    "x_acf.plot(kind='bar')\n",
    "plt.title(\"Diff PACF\")\n",
    "plt.legend(['difference'])"
   ]
  },
  {
   "cell_type": "markdown",
   "metadata": {},
   "source": [
    "So both the original and the difference time series has 1 strong autocorrelation. This indicates that we should look into a p of 1 for our models.  I will try modeling with using the auto arima to see what the model comes up with."
   ]
  },
  {
   "cell_type": "code",
   "execution_count": 25,
   "metadata": {
    "scrolled": false
   },
   "outputs": [
    {
     "name": "stdout",
     "output_type": "stream",
     "text": [
      "raw data\n",
      " Test Statistic     -1.653998\n",
      "p-value             0.454956\n",
      "#lags used          3.000000\n",
      "#nobs used        112.000000\n",
      "dtype: float64\n",
      "1% -3.4901313156261384\n",
      "5% -2.8877122815688776\n",
      "10% -2.5807296460459184\n"
     ]
    }
   ],
   "source": [
    "from statsmodels.tsa.stattools import adfuller\n",
    "\n",
    "# raw data\n",
    "acdf_test = adfuller(dfIndex['Count'], autolag='AIC')\n",
    "df_output = pd.Series(acdf_test[0:4], index=[\n",
    "                      'Test Statistic',\n",
    "                      'p-value',\n",
    "                      '#lags used',\n",
    "                      '#nobs used'])\n",
    "print('raw data\\n', df_output)\n",
    "for k, v in acdf_test[4].items():\n",
    "    print(k, v)"
   ]
  },
  {
   "cell_type": "markdown",
   "metadata": {},
   "source": [
    "_From this test, we see the time series is not stationary because the p-value is > 0.05_"
   ]
  },
  {
   "cell_type": "markdown",
   "metadata": {},
   "source": [
    "__Autocorrelation Function (ACF) and Partial Autocorrelation Function (PACF)__\n",
    "    * The ACF/PACF plots don't show a quick drop-off therefore it is not stationary.\n",
    "    * This data is non-stationary as a high number of previous observations are correlated with future values.\n",
    "    * Confidence intervals are the shaded area therefore any point outside is considered correlated."
   ]
  },
  {
   "cell_type": "code",
   "execution_count": 26,
   "metadata": {},
   "outputs": [
    {
     "data": {
      "image/png": "[encoded data removed]",
      "text/plain": [
       "<Figure size 432x288 with 1 Axes>"
      ]
     },
     "metadata": {
      "needs_background": "light"
     },
     "output_type": "display_data"
    },
    {
     "data": {
      "image/png": "[encoded data removed]",
      "text/plain": [
       "<Figure size 432x288 with 1 Axes>"
      ]
     },
     "metadata": {
      "needs_background": "light"
     },
     "output_type": "display_data"
    }
   ],
   "source": [
    "from statsmodels.graphics.tsaplots import plot_pacf, plot_acf\n",
    "plot_acf(dfIndex['Count'], lags=50)\n",
    "plot_pacf(dfIndex['Count'], lags=50)\n",
    "plt.xlabel('lags')\n",
    "plt.show()"
   ]
  },
  {
   "cell_type": "markdown",
   "metadata": {},
   "source": [
    "## Building models.\n",
    "\n",
    "So our both time series has 1 strong autocorrelation. Let's build some ARIMA models to experiment and see how we do!\n",
    "\n",
    "We're going to build a series of models to evaluate, each with slightly different parameters for the ARIMA. Note that the parameteres are passed in (p, d, q) order, corresponding to the AR, I, and MA portions respectively.\n",
    "\n",
    "Recall how we interpret those attributes. The AR is the past values, I is the level of differencing, and MA is adjusting to past errors."
   ]
  },
  {
   "cell_type": "markdown",
   "metadata": {},
   "source": [
    "_Now we need to find the best model, one which has the lowesr AIC._"
   ]
  },
  {
   "cell_type": "code",
   "execution_count": 71,
   "metadata": {},
   "outputs": [
    {
     "name": "stdout",
     "output_type": "stream",
     "text": [
      "Fit ARIMA: order=(0, 1, 0) seasonal_order=(0, 1, 0, 13); AIC=2337.103, BIC=2342.353, Fit time=0.025 seconds\n",
      "Fit ARIMA: order=(1, 1, 0) seasonal_order=(1, 1, 0, 13); AIC=2301.396, BIC=2311.896, Fit time=0.222 seconds\n",
      "Fit ARIMA: order=(0, 1, 1) seasonal_order=(0, 1, 1, 13); AIC=2287.446, BIC=2297.945, Fit time=0.652 seconds\n",
      "Fit ARIMA: order=(0, 1, 1) seasonal_order=(1, 1, 1, 13); AIC=2287.025, BIC=2300.150, Fit time=0.251 seconds\n",
      "Fit ARIMA: order=(0, 1, 1) seasonal_order=(1, 1, 0, 13); AIC=2294.004, BIC=2304.504, Fit time=0.183 seconds\n",
      "Fit ARIMA: order=(0, 1, 1) seasonal_order=(1, 1, 2, 13); AIC=nan, BIC=nan, Fit time=nan seconds\n",
      "Fit ARIMA: order=(0, 1, 1) seasonal_order=(0, 1, 0, 13); AIC=2328.712, BIC=2336.587, Fit time=0.037 seconds\n",
      "Fit ARIMA: order=(0, 1, 1) seasonal_order=(2, 1, 2, 13); AIC=nan, BIC=nan, Fit time=nan seconds\n",
      "Fit ARIMA: order=(1, 1, 1) seasonal_order=(1, 1, 1, 13); AIC=nan, BIC=nan, Fit time=nan seconds\n",
      "Fit ARIMA: order=(0, 1, 0) seasonal_order=(1, 1, 1, 13); AIC=2295.767, BIC=2306.267, Fit time=0.186 seconds\n",
      "Fit ARIMA: order=(0, 1, 2) seasonal_order=(1, 1, 1, 13); AIC=2281.713, BIC=2297.463, Fit time=0.305 seconds\n",
      "Fit ARIMA: order=(1, 1, 3) seasonal_order=(1, 1, 1, 13); AIC=2284.859, BIC=2305.859, Fit time=1.500 seconds\n",
      "Fit ARIMA: order=(0, 1, 2) seasonal_order=(0, 1, 1, 13); AIC=2281.726, BIC=2294.851, Fit time=0.613 seconds\n",
      "Fit ARIMA: order=(0, 1, 2) seasonal_order=(2, 1, 1, 13); AIC=2283.697, BIC=2302.071, Fit time=0.645 seconds\n",
      "Fit ARIMA: order=(0, 1, 2) seasonal_order=(1, 1, 0, 13); AIC=2289.213, BIC=2302.338, Fit time=0.206 seconds\n",
      "Fit ARIMA: order=(0, 1, 2) seasonal_order=(1, 1, 2, 13); AIC=nan, BIC=nan, Fit time=nan seconds\n",
      "Fit ARIMA: order=(0, 1, 2) seasonal_order=(0, 1, 0, 13); AIC=2323.002, BIC=2333.502, Fit time=0.081 seconds\n",
      "Fit ARIMA: order=(0, 1, 2) seasonal_order=(2, 1, 2, 13); AIC=nan, BIC=nan, Fit time=nan seconds\n",
      "Fit ARIMA: order=(1, 1, 2) seasonal_order=(1, 1, 1, 13); AIC=2283.683, BIC=2302.058, Fit time=0.578 seconds\n",
      "Fit ARIMA: order=(0, 1, 3) seasonal_order=(1, 1, 1, 13); AIC=2284.519, BIC=2302.894, Fit time=0.442 seconds\n",
      "Total fit time: 5.952 seconds\n"
     ]
    },
    {
     "data": {
      "text/html": [
       "<table class=\"simpletable\">\n",
       "<caption>Statespace Model Results</caption>\n",
       "<tr>\n",
       "  <th>Dep. Variable:</th>                  <td>y</td>               <th>  No. Observations:  </th>    <td>116</td>   \n",
       "</tr>\n",
       "<tr>\n",
       "  <th>Model:</th>           <td>SARIMAX(0, 1, 2)x(1, 1, 1, 13)</td> <th>  Log Likelihood     </th> <td>-1134.857</td>\n",
       "</tr>\n",
       "<tr>\n",
       "  <th>Date:</th>                   <td>Fri, 28 Jun 2019</td>        <th>  AIC                </th> <td>2281.713</td> \n",
       "</tr>\n",
       "<tr>\n",
       "  <th>Time:</th>                       <td>21:58:48</td>            <th>  BIC                </th> <td>2297.463</td> \n",
       "</tr>\n",
       "<tr>\n",
       "  <th>Sample:</th>                         <td>0</td>               <th>  HQIC               </th> <td>2288.091</td> \n",
       "</tr>\n",
       "<tr>\n",
       "  <th></th>                             <td> - 116</td>             <th>                     </th>     <td> </td>    \n",
       "</tr>\n",
       "<tr>\n",
       "  <th>Covariance Type:</th>               <td>opg</td>              <th>                     </th>     <td> </td>    \n",
       "</tr>\n",
       "</table>\n",
       "<table class=\"simpletable\">\n",
       "<tr>\n",
       "      <td></td>         <th>coef</th>     <th>std err</th>      <th>z</th>      <th>P>|z|</th>  <th>[0.025</th>    <th>0.975]</th>  \n",
       "</tr>\n",
       "<tr>\n",
       "  <th>intercept</th> <td> -315.9325</td> <td>  725.235</td> <td>   -0.436</td> <td> 0.663</td> <td>-1737.367</td> <td> 1105.502</td>\n",
       "</tr>\n",
       "<tr>\n",
       "  <th>ma.L1</th>     <td>   -0.3026</td> <td>    0.238</td> <td>   -1.272</td> <td> 0.204</td> <td>   -0.769</td> <td>    0.164</td>\n",
       "</tr>\n",
       "<tr>\n",
       "  <th>ma.L2</th>     <td>   -0.2153</td> <td>    0.198</td> <td>   -1.086</td> <td> 0.278</td> <td>   -0.604</td> <td>    0.173</td>\n",
       "</tr>\n",
       "<tr>\n",
       "  <th>ar.S.L13</th>  <td>   -0.2300</td> <td>    0.210</td> <td>   -1.096</td> <td> 0.273</td> <td>   -0.641</td> <td>    0.181</td>\n",
       "</tr>\n",
       "<tr>\n",
       "  <th>ma.S.L13</th>  <td>   -0.6329</td> <td>    0.261</td> <td>   -2.428</td> <td> 0.015</td> <td>   -1.144</td> <td>   -0.122</td>\n",
       "</tr>\n",
       "<tr>\n",
       "  <th>sigma2</th>    <td> 4.291e+08</td> <td>    0.001</td> <td> 7.23e+11</td> <td> 0.000</td> <td> 4.29e+08</td> <td> 4.29e+08</td>\n",
       "</tr>\n",
       "</table>\n",
       "<table class=\"simpletable\">\n",
       "<tr>\n",
       "  <th>Ljung-Box (Q):</th>          <td>38.70</td> <th>  Jarque-Bera (JB):  </th> <td>0.85</td>\n",
       "</tr>\n",
       "<tr>\n",
       "  <th>Prob(Q):</th>                <td>0.53</td>  <th>  Prob(JB):          </th> <td>0.65</td>\n",
       "</tr>\n",
       "<tr>\n",
       "  <th>Heteroskedasticity (H):</th> <td>1.30</td>  <th>  Skew:              </th> <td>0.14</td>\n",
       "</tr>\n",
       "<tr>\n",
       "  <th>Prob(H) (two-sided):</th>    <td>0.45</td>  <th>  Kurtosis:          </th> <td>3.34</td>\n",
       "</tr>\n",
       "</table><br/><br/>Warnings:<br/>[1] Covariance matrix calculated using the outer product of gradients (complex-step).<br/>[2] Covariance matrix is singular or near-singular, with condition number 7.64e+27. Standard errors may be unstable."
      ],
      "text/plain": [
       "<class 'statsmodels.iolib.summary.Summary'>\n",
       "\"\"\"\n",
       "                                 Statespace Model Results                                 \n",
       "==========================================================================================\n",
       "Dep. Variable:                                  y   No. Observations:                  116\n",
       "Model:             SARIMAX(0, 1, 2)x(1, 1, 1, 13)   Log Likelihood               -1134.857\n",
       "Date:                            Fri, 28 Jun 2019   AIC                           2281.713\n",
       "Time:                                    21:58:48   BIC                           2297.463\n",
       "Sample:                                         0   HQIC                          2288.091\n",
       "                                            - 116                                         \n",
       "Covariance Type:                              opg                                         \n",
       "==============================================================================\n",
       "                 coef    std err          z      P>|z|      [0.025      0.975]\n",
       "------------------------------------------------------------------------------\n",
       "intercept   -315.9325    725.235     -0.436      0.663   -1737.367    1105.502\n",
       "ma.L1         -0.3026      0.238     -1.272      0.204      -0.769       0.164\n",
       "ma.L2         -0.2153      0.198     -1.086      0.278      -0.604       0.173\n",
       "ar.S.L13      -0.2300      0.210     -1.096      0.273      -0.641       0.181\n",
       "ma.S.L13      -0.6329      0.261     -2.428      0.015      -1.144      -0.122\n",
       "sigma2      4.291e+08      0.001   7.23e+11      0.000    4.29e+08    4.29e+08\n",
       "===================================================================================\n",
       "Ljung-Box (Q):                       38.70   Jarque-Bera (JB):                 0.85\n",
       "Prob(Q):                              0.53   Prob(JB):                         0.65\n",
       "Heteroskedasticity (H):               1.30   Skew:                             0.14\n",
       "Prob(H) (two-sided):                  0.45   Kurtosis:                         3.34\n",
       "===================================================================================\n",
       "\n",
       "Warnings:\n",
       "[1] Covariance matrix calculated using the outer product of gradients (complex-step).\n",
       "[2] Covariance matrix is singular or near-singular, with condition number 7.64e+27. Standard errors may be unstable.\n",
       "\"\"\""
      ]
     },
     "execution_count": 71,
     "metadata": {},
     "output_type": "execute_result"
    }
   ],
   "source": [
    "# https://www.alkaline-ml.com/pmdarima/tips_and_tricks.html\n",
    "from pmdarima.arima import auto_arima\n",
    "stepwise_fit = auto_arima(dfIndex['Count'],\n",
    "                          start_p=0, start_q=0,\n",
    "                          max_p=13, max_q=13, m=13,\n",
    "                          start_P=0, start_Q=0,\n",
    "                          seasonal=True,\n",
    "                          d=1, D=1, trace=True,\n",
    "                          error_action='ignore',\n",
    "                          suppress_warnings=True,\n",
    "                          random_state=42,\n",
    "                          n_fits=3,\n",
    "                          stepwise=True) \n",
    "stepwise_fit.summary()"
   ]
  },
  {
   "cell_type": "code",
   "execution_count": 28,
   "metadata": {},
   "outputs": [
    {
     "data": {
      "text/plain": [
       "(116, 1)"
      ]
     },
     "execution_count": 28,
     "metadata": {},
     "output_type": "execute_result"
    }
   ],
   "source": [
    "dfIndex.shape"
   ]
  },
  {
   "cell_type": "markdown",
   "metadata": {},
   "source": [
    "_Separate out the train and test for modeling.  I will use 8 weeks of data for the test data which leaves 108 weeks for training._"
   ]
  },
  {
   "cell_type": "code",
   "execution_count": 29,
   "metadata": {},
   "outputs": [
    {
     "data": {
      "text/plain": [
       "((108, 1), (8, 1))"
      ]
     },
     "execution_count": 29,
     "metadata": {},
     "output_type": "execute_result"
    }
   ],
   "source": [
    "train, test = dfIndex[:108], dfIndex[108:]\n",
    "train.shape, test.shape"
   ]
  },
  {
   "cell_type": "code",
   "execution_count": 30,
   "metadata": {},
   "outputs": [
    {
     "data": {
      "image/png": "[encoded data removed]",
      "text/plain": [
       "<Figure size 1080x720 with 1 Axes>"
      ]
     },
     "metadata": {
      "needs_background": "light"
     },
     "output_type": "display_data"
    }
   ],
   "source": [
    "plt.figure(figsize=(15, 10))\n",
    "plt.plot(train, label='train')\n",
    "plt.plot(test, label='test')\n",
    "plt.title('Train & Test')\n",
    "plt.legend(loc='upper left')\n",
    "plt.show()"
   ]
  },
  {
   "cell_type": "code",
   "execution_count": 31,
   "metadata": {},
   "outputs": [
    {
     "name": "stderr",
     "output_type": "stream",
     "text": [
      "/Library/Frameworks/Python.framework/Versions/3.7/lib/python3.7/site-packages/statsmodels/tsa/base/tsa_model.py:171: ValueWarning: No frequency information was provided, so inferred frequency W-MON will be used.\n",
      "  % freq, ValueWarning)\n"
     ]
    },
    {
     "data": {
      "text/html": [
       "<table class=\"simpletable\">\n",
       "<caption>Statespace Model Results</caption>\n",
       "<tr>\n",
       "  <th>Dep. Variable:</th>                <td>Count</td>             <th>  No. Observations:  </th>    <td>108</td>   \n",
       "</tr>\n",
       "<tr>\n",
       "  <th>Model:</th>           <td>SARIMAX(0, 1, 2)x(1, 1, 1, 13)</td> <th>  Log Likelihood     </th> <td>-1044.654</td>\n",
       "</tr>\n",
       "<tr>\n",
       "  <th>Date:</th>                   <td>Fri, 28 Jun 2019</td>        <th>  AIC                </th> <td>2099.308</td> \n",
       "</tr>\n",
       "<tr>\n",
       "  <th>Time:</th>                       <td>16:08:47</td>            <th>  BIC                </th> <td>2112.025</td> \n",
       "</tr>\n",
       "<tr>\n",
       "  <th>Sample:</th>                    <td>01-09-2017</td>           <th>  HQIC               </th> <td>2104.445</td> \n",
       "</tr>\n",
       "<tr>\n",
       "  <th></th>                          <td>- 01-28-2019</td>          <th>                     </th>     <td> </td>    \n",
       "</tr>\n",
       "<tr>\n",
       "  <th>Covariance Type:</th>               <td>opg</td>              <th>                     </th>     <td> </td>    \n",
       "</tr>\n",
       "</table>\n",
       "<table class=\"simpletable\">\n",
       "<tr>\n",
       "      <td></td>        <th>coef</th>     <th>std err</th>      <th>z</th>      <th>P>|z|</th>  <th>[0.025</th>    <th>0.975]</th>  \n",
       "</tr>\n",
       "<tr>\n",
       "  <th>ma.L1</th>    <td>   -0.2829</td> <td>    0.204</td> <td>   -1.388</td> <td> 0.165</td> <td>   -0.682</td> <td>    0.117</td>\n",
       "</tr>\n",
       "<tr>\n",
       "  <th>ma.L2</th>    <td>   -0.1902</td> <td>    0.179</td> <td>   -1.061</td> <td> 0.289</td> <td>   -0.541</td> <td>    0.161</td>\n",
       "</tr>\n",
       "<tr>\n",
       "  <th>ar.S.L13</th> <td>   -0.1997</td> <td>    0.212</td> <td>   -0.944</td> <td> 0.345</td> <td>   -0.614</td> <td>    0.215</td>\n",
       "</tr>\n",
       "<tr>\n",
       "  <th>ma.S.L13</th> <td>   -0.5822</td> <td>    0.255</td> <td>   -2.280</td> <td> 0.023</td> <td>   -1.083</td> <td>   -0.082</td>\n",
       "</tr>\n",
       "<tr>\n",
       "  <th>sigma2</th>   <td>  3.93e+08</td> <td> 2.64e-10</td> <td> 1.49e+18</td> <td> 0.000</td> <td> 3.93e+08</td> <td> 3.93e+08</td>\n",
       "</tr>\n",
       "</table>\n",
       "<table class=\"simpletable\">\n",
       "<tr>\n",
       "  <th>Ljung-Box (Q):</th>          <td>38.78</td> <th>  Jarque-Bera (JB):  </th> <td>1.68</td>\n",
       "</tr>\n",
       "<tr>\n",
       "  <th>Prob(Q):</th>                <td>0.53</td>  <th>  Prob(JB):          </th> <td>0.43</td>\n",
       "</tr>\n",
       "<tr>\n",
       "  <th>Heteroskedasticity (H):</th> <td>1.56</td>  <th>  Skew:              </th> <td>0.14</td>\n",
       "</tr>\n",
       "<tr>\n",
       "  <th>Prob(H) (two-sided):</th>    <td>0.22</td>  <th>  Kurtosis:          </th> <td>3.59</td>\n",
       "</tr>\n",
       "</table><br/><br/>Warnings:<br/>[1] Covariance matrix calculated using the outer product of gradients (complex-step).<br/>[2] Covariance matrix is singular or near-singular, with condition number 6.24e+34. Standard errors may be unstable."
      ],
      "text/plain": [
       "<class 'statsmodels.iolib.summary.Summary'>\n",
       "\"\"\"\n",
       "                                 Statespace Model Results                                 \n",
       "==========================================================================================\n",
       "Dep. Variable:                              Count   No. Observations:                  108\n",
       "Model:             SARIMAX(0, 1, 2)x(1, 1, 1, 13)   Log Likelihood               -1044.654\n",
       "Date:                            Fri, 28 Jun 2019   AIC                           2099.308\n",
       "Time:                                    16:08:47   BIC                           2112.025\n",
       "Sample:                                01-09-2017   HQIC                          2104.445\n",
       "                                     - 01-28-2019                                         \n",
       "Covariance Type:                              opg                                         \n",
       "==============================================================================\n",
       "                 coef    std err          z      P>|z|      [0.025      0.975]\n",
       "------------------------------------------------------------------------------\n",
       "ma.L1         -0.2829      0.204     -1.388      0.165      -0.682       0.117\n",
       "ma.L2         -0.1902      0.179     -1.061      0.289      -0.541       0.161\n",
       "ar.S.L13      -0.1997      0.212     -0.944      0.345      -0.614       0.215\n",
       "ma.S.L13      -0.5822      0.255     -2.280      0.023      -1.083      -0.082\n",
       "sigma2       3.93e+08   2.64e-10   1.49e+18      0.000    3.93e+08    3.93e+08\n",
       "===================================================================================\n",
       "Ljung-Box (Q):                       38.78   Jarque-Bera (JB):                 1.68\n",
       "Prob(Q):                              0.53   Prob(JB):                         0.43\n",
       "Heteroskedasticity (H):               1.56   Skew:                             0.14\n",
       "Prob(H) (two-sided):                  0.22   Kurtosis:                         3.59\n",
       "===================================================================================\n",
       "\n",
       "Warnings:\n",
       "[1] Covariance matrix calculated using the outer product of gradients (complex-step).\n",
       "[2] Covariance matrix is singular or near-singular, with condition number 6.24e+34. Standard errors may be unstable.\n",
       "\"\"\""
      ]
     },
     "execution_count": 31,
     "metadata": {},
     "output_type": "execute_result"
    }
   ],
   "source": [
    "from statsmodels.tsa.statespace.sarimax import SARIMAX\n",
    "model = SARIMAX(train['Count'], order=(0, 1, 2), seasonal_order=(\n",
    "    1, 1, 1, 13), enforce_invertibility=True)\n",
    "results = model.fit()\n",
    "results.summary()"
   ]
  },
  {
   "cell_type": "code",
   "execution_count": 32,
   "metadata": {},
   "outputs": [],
   "source": [
    "pred = pd.DataFrame(stepwise_fit.predict(n_periods=8),\n",
    "                    index=test.index)\n",
    "pred.columns = ['Predicted_Num_Loans']"
   ]
  },
  {
   "cell_type": "code",
   "execution_count": 72,
   "metadata": {},
   "outputs": [
    {
     "data": {
      "image/png": "[encoded data removed]",
      "text/plain": [
       "<Figure size 1080x720 with 1 Axes>"
      ]
     },
     "metadata": {
      "needs_background": "light"
     },
     "output_type": "display_data"
    }
   ],
   "source": [
    "plt.figure(figsize=(15, 10))\n",
    "plt.title('Train & Test & Predicted')\n",
    "plt.plot(train, label='Train')\n",
    "plt.plot(test, label='Test')\n",
    "plt.plot(pred, label=' Predicted')\n",
    "plt.legend(loc='upper left')\n",
    "plt.show()"
   ]
  },
  {
   "cell_type": "code",
   "execution_count": 34,
   "metadata": {},
   "outputs": [
    {
     "name": "stderr",
     "output_type": "stream",
     "text": [
      "/Library/Frameworks/Python.framework/Versions/3.7/lib/python3.7/site-packages/ipykernel_launcher.py:1: SettingWithCopyWarning: \n",
      "A value is trying to be set on a copy of a slice from a DataFrame.\n",
      "Try using .loc[row_indexer,col_indexer] = value instead\n",
      "\n",
      "See the caveats in the documentation: http://pandas.pydata.org/pandas-docs/stable/indexing.html#indexing-view-versus-copy\n",
      "  \"\"\"Entry point for launching an IPython kernel.\n",
      "/Library/Frameworks/Python.framework/Versions/3.7/lib/python3.7/site-packages/ipykernel_launcher.py:2: SettingWithCopyWarning: \n",
      "A value is trying to be set on a copy of a slice from a DataFrame.\n",
      "Try using .loc[row_indexer,col_indexer] = value instead\n",
      "\n",
      "See the caveats in the documentation: http://pandas.pydata.org/pandas-docs/stable/indexing.html#indexing-view-versus-copy\n",
      "  \n"
     ]
    },
    {
     "data": {
      "text/html": [
       "<div>\n",
       "<style scoped>\n",
       "    .dataframe tbody tr th:only-of-type {\n",
       "        vertical-align: middle;\n",
       "    }\n",
       "\n",
       "    .dataframe tbody tr th {\n",
       "        vertical-align: top;\n",
       "    }\n",
       "\n",
       "    .dataframe thead th {\n",
       "        text-align: right;\n",
       "    }\n",
       "</style>\n",
       "<table border=\"1\" class=\"dataframe\">\n",
       "  <thead>\n",
       "    <tr style=\"text-align: right;\">\n",
       "      <th></th>\n",
       "      <th>Count</th>\n",
       "      <th>Predicted</th>\n",
       "      <th>Error</th>\n",
       "    </tr>\n",
       "    <tr>\n",
       "      <th>Application_Date</th>\n",
       "      <th></th>\n",
       "      <th></th>\n",
       "      <th></th>\n",
       "    </tr>\n",
       "  </thead>\n",
       "  <tbody>\n",
       "    <tr>\n",
       "      <th>2019-02-04</th>\n",
       "      <td>194570</td>\n",
       "      <td>190282.514309</td>\n",
       "      <td>4287.485691</td>\n",
       "    </tr>\n",
       "    <tr>\n",
       "      <th>2019-02-11</th>\n",
       "      <td>193545</td>\n",
       "      <td>207165.140204</td>\n",
       "      <td>-13620.140204</td>\n",
       "    </tr>\n",
       "    <tr>\n",
       "      <th>2019-02-18</th>\n",
       "      <td>196149</td>\n",
       "      <td>209330.691465</td>\n",
       "      <td>-13181.691465</td>\n",
       "    </tr>\n",
       "    <tr>\n",
       "      <th>2019-02-25</th>\n",
       "      <td>190241</td>\n",
       "      <td>204185.997558</td>\n",
       "      <td>-13944.997558</td>\n",
       "    </tr>\n",
       "    <tr>\n",
       "      <th>2019-03-04</th>\n",
       "      <td>189141</td>\n",
       "      <td>193419.028761</td>\n",
       "      <td>-4278.028761</td>\n",
       "    </tr>\n",
       "    <tr>\n",
       "      <th>2019-03-11</th>\n",
       "      <td>210487</td>\n",
       "      <td>201513.062827</td>\n",
       "      <td>8973.937173</td>\n",
       "    </tr>\n",
       "    <tr>\n",
       "      <th>2019-03-18</th>\n",
       "      <td>206549</td>\n",
       "      <td>207129.721024</td>\n",
       "      <td>-580.721024</td>\n",
       "    </tr>\n",
       "    <tr>\n",
       "      <th>2019-03-25</th>\n",
       "      <td>174618</td>\n",
       "      <td>186142.098573</td>\n",
       "      <td>-11524.098573</td>\n",
       "    </tr>\n",
       "  </tbody>\n",
       "</table>\n",
       "</div>"
      ],
      "text/plain": [
       "                   Count      Predicted         Error\n",
       "Application_Date                                     \n",
       "2019-02-04        194570  190282.514309   4287.485691\n",
       "2019-02-11        193545  207165.140204 -13620.140204\n",
       "2019-02-18        196149  209330.691465 -13181.691465\n",
       "2019-02-25        190241  204185.997558 -13944.997558\n",
       "2019-03-04        189141  193419.028761  -4278.028761\n",
       "2019-03-11        210487  201513.062827   8973.937173\n",
       "2019-03-18        206549  207129.721024   -580.721024\n",
       "2019-03-25        174618  186142.098573 -11524.098573"
      ]
     },
     "execution_count": 34,
     "metadata": {},
     "output_type": "execute_result"
    }
   ],
   "source": [
    "test['Predicted'] = pred\n",
    "test['Error'] = test['Count']-test['Predicted']\n",
    "test"
   ]
  },
  {
   "cell_type": "markdown",
   "metadata": {},
   "source": [
    "_Calculating the percent difference_\n",
    "\n",
    "count.sum()- predicted.sum() / num of loans"
   ]
  },
  {
   "cell_type": "code",
   "execution_count": 35,
   "metadata": {},
   "outputs": [
    {
     "name": "stdout",
     "output_type": "stream",
     "text": [
      "Root Mean Square Error 10025.50411957507\n",
      "mean squared error 100510732.85161667\n",
      "Percent Mean Error 5483.531840232434\n"
     ]
    }
   ],
   "source": [
    "from sklearn.metrics import mean_squared_error\n",
    "from statsmodels.tools.eval_measures import rmse\n",
    "\n",
    "rmse = rmse(test['Predicted'], test['Count'])\n",
    "mse = mean_squared_error(test['Predicted'], test['Count'])\n",
    "print('Root Mean Square Error {}'.format(rmse))\n",
    "print('mean squared error {}'.format(mse))\n",
    "\n",
    "percent_Mean_Error = (test['Count'].sum() - test['Predicted'].sum())/len(test)\n",
    "print('Percent Mean Error {}'.format(abs(percent_Mean_Error)))"
   ]
  },
  {
   "cell_type": "code",
   "execution_count": 36,
   "metadata": {
    "scrolled": false
   },
   "outputs": [
    {
     "data": {
      "image/png": "[encoded data removed]",
      "text/plain": [
       "<Figure size 1440x360 with 2 Axes>"
      ]
     },
     "metadata": {
      "needs_background": "light"
     },
     "output_type": "display_data"
    }
   ],
   "source": [
    "import pyramid as pm\n",
    "plt.figure(figsize=(20, 5))\n",
    "plt.subplot(121)\n",
    "plt.xticks(rotation=45)\n",
    "plt.plot(test.Error, color='blue')\n",
    "plt.title('Error Disttribution Over Time')\n",
    "plt.subplot(122)\n",
    "scipy.stats.probplot(test.Error, plot=plt)\n",
    "plt.show()"
   ]
  },
  {
   "cell_type": "code",
   "execution_count": 37,
   "metadata": {},
   "outputs": [],
   "source": [
    "# Obtain predicted values\n",
    "start = len(train)\n",
    "end = len(train)+len(test)-1\n",
    "predictions = results.predict(\n",
    "    start=start, end=end, dynamic=False, typ='levels').rename('Predictions')"
   ]
  },
  {
   "cell_type": "code",
   "execution_count": 38,
   "metadata": {},
   "outputs": [],
   "source": [
    "final = pd.DataFrame(predictions).join(test)"
   ]
  },
  {
   "cell_type": "code",
   "execution_count": 39,
   "metadata": {},
   "outputs": [
    {
     "data": {
      "text/html": [
       "<div>\n",
       "<style scoped>\n",
       "    .dataframe tbody tr th:only-of-type {\n",
       "        vertical-align: middle;\n",
       "    }\n",
       "\n",
       "    .dataframe tbody tr th {\n",
       "        vertical-align: top;\n",
       "    }\n",
       "\n",
       "    .dataframe thead th {\n",
       "        text-align: right;\n",
       "    }\n",
       "</style>\n",
       "<table border=\"1\" class=\"dataframe\">\n",
       "  <thead>\n",
       "    <tr style=\"text-align: right;\">\n",
       "      <th></th>\n",
       "      <th>Predictions</th>\n",
       "      <th>Count</th>\n",
       "      <th>Predicted</th>\n",
       "      <th>Error</th>\n",
       "    </tr>\n",
       "  </thead>\n",
       "  <tbody>\n",
       "    <tr>\n",
       "      <th>2019-02-04</th>\n",
       "      <td>200641.327599</td>\n",
       "      <td>194570</td>\n",
       "      <td>190282.514309</td>\n",
       "      <td>4287.485691</td>\n",
       "    </tr>\n",
       "    <tr>\n",
       "      <th>2019-02-11</th>\n",
       "      <td>212867.369212</td>\n",
       "      <td>193545</td>\n",
       "      <td>207165.140204</td>\n",
       "      <td>-13620.140204</td>\n",
       "    </tr>\n",
       "    <tr>\n",
       "      <th>2019-02-18</th>\n",
       "      <td>191871.735263</td>\n",
       "      <td>196149</td>\n",
       "      <td>209330.691465</td>\n",
       "      <td>-13181.691465</td>\n",
       "    </tr>\n",
       "    <tr>\n",
       "      <th>2019-02-25</th>\n",
       "      <td>202893.152409</td>\n",
       "      <td>190241</td>\n",
       "      <td>204185.997558</td>\n",
       "      <td>-13944.997558</td>\n",
       "    </tr>\n",
       "    <tr>\n",
       "      <th>2019-03-04</th>\n",
       "      <td>213443.527422</td>\n",
       "      <td>189141</td>\n",
       "      <td>193419.028761</td>\n",
       "      <td>-4278.028761</td>\n",
       "    </tr>\n",
       "  </tbody>\n",
       "</table>\n",
       "</div>"
      ],
      "text/plain": [
       "              Predictions   Count      Predicted         Error\n",
       "2019-02-04  200641.327599  194570  190282.514309   4287.485691\n",
       "2019-02-11  212867.369212  193545  207165.140204 -13620.140204\n",
       "2019-02-18  191871.735263  196149  209330.691465 -13181.691465\n",
       "2019-02-25  202893.152409  190241  204185.997558 -13944.997558\n",
       "2019-03-04  213443.527422  189141  193419.028761  -4278.028761"
      ]
     },
     "execution_count": 39,
     "metadata": {},
     "output_type": "execute_result"
    }
   ],
   "source": [
    "final.head()"
   ]
  },
  {
   "cell_type": "markdown",
   "metadata": {},
   "source": [
    "_What does the forecast look like?_"
   ]
  },
  {
   "cell_type": "code",
   "execution_count": 40,
   "metadata": {},
   "outputs": [
    {
     "name": "stderr",
     "output_type": "stream",
     "text": [
      "/Library/Frameworks/Python.framework/Versions/3.7/lib/python3.7/site-packages/statsmodels/tsa/base/tsa_model.py:171: ValueWarning: No frequency information was provided, so inferred frequency W-MON will be used.\n",
      "  % freq, ValueWarning)\n",
      "/Library/Frameworks/Python.framework/Versions/3.7/lib/python3.7/site-packages/statsmodels/tsa/statespace/representation.py:375: FutureWarning: Using a non-tuple sequence for multidimensional indexing is deprecated; use `arr[tuple(seq)]` instead of `arr[seq]`. In the future this will be interpreted as an array index, `arr[np.array(seq)]`, which will result either in an error or a different result.\n",
      "  return matrix[[slice(None)]*(matrix.ndim-1) + [0]]\n"
     ]
    }
   ],
   "source": [
    "from statsmodels.tsa.statespace.sarimax import SARIMAX\n",
    "model = SARIMAX(dfIndex['Count'], order=(0, 1, 2), seasonal_order=(\n",
    "    0, 1, 1, 13), enforce_invertibility=False)\n",
    "results = model.fit()\n",
    "fcast = results.predict(len(dfIndex), len(dfIndex)+24,\n",
    "                        typ='levels').rename('SARIMA Forecast')"
   ]
  },
  {
   "cell_type": "code",
   "execution_count": 41,
   "metadata": {},
   "outputs": [
    {
     "data": {
      "image/png": "[encoded data removed]",
      "text/plain": [
       "<Figure size 864x432 with 1 Axes>"
      ]
     },
     "metadata": {
      "needs_background": "light"
     },
     "output_type": "display_data"
    }
   ],
   "source": [
    "# Plot predictions against known values\n",
    "import matplotlib.ticker as ticker\n",
    "formatter = ticker.StrMethodFormatter('{x:,.0f}')\n",
    "title = 'LendingClub Loan Forecast'\n",
    "ylabel = 'Loans Per Week'\n",
    "xlabel = 'Months' \n",
    "ax = dfIndex['Count'].plot(legend=True, figsize=(12, 6), title=title)\n",
    "fcast.plot(legend=True)\n",
    "ax.autoscale(axis='x', tight=True)\n",
    "ax.set(xlabel=xlabel, ylabel=ylabel)\n",
    "ax.yaxis.set_major_formatter(formatter)"
   ]
  },
  {
   "cell_type": "markdown",
   "metadata": {},
   "source": [
    "--------------"
   ]
  },
  {
   "cell_type": "markdown",
   "metadata": {},
   "source": [
    "# LSTM\n",
    "We will use the same data for LSTM to predict 8 weeks of loans\n",
    "\n",
    "Capable of learning long-term dependencies.  Remembering information for long periods of time. Chain of repeated moduls of neural networks.\n",
    "\n",
    "sigmod funcion helps to determine what to keep, if it is a 1 keep other wise get rid of it."
   ]
  },
  {
   "cell_type": "code",
   "execution_count": 42,
   "metadata": {},
   "outputs": [
    {
     "data": {
      "text/plain": [
       "(19158655, 2)"
      ]
     },
     "execution_count": 42,
     "metadata": {},
     "output_type": "execute_result"
    }
   ],
   "source": [
    "import pandas as pd\n",
    "\n",
    "df = pd.read_csv('RejectedLoans.csv')\n",
    "df = df.dropna()\n",
    "df.shape"
   ]
  },
  {
   "cell_type": "code",
   "execution_count": 43,
   "metadata": {},
   "outputs": [],
   "source": [
    "df = df.drop('Unnamed: 0', axis=1)"
   ]
  },
  {
   "cell_type": "code",
   "execution_count": 44,
   "metadata": {},
   "outputs": [],
   "source": [
    "df.rename(columns={'Application Date': 'Application_Date'}, inplace=True)\n",
    "df['Count'] = 1\n",
    "df['Application_Date'] = pd.to_datetime(\n",
    "    df['Application_Date']) - pd.to_timedelta(7, unit='d')\n",
    "df = df.groupby([pd.Grouper(key='Application_Date', freq='W-MON')]\n",
    "                )['Count'].sum().reset_index().sort_values('Application_Date')"
   ]
  },
  {
   "cell_type": "code",
   "execution_count": 45,
   "metadata": {},
   "outputs": [
    {
     "data": {
      "text/plain": [
       "(117, 2)"
      ]
     },
     "execution_count": 45,
     "metadata": {},
     "output_type": "execute_result"
    }
   ],
   "source": [
    "#df = df.dropna()\n",
    "df = df.loc[1:,:]\n",
    "df.shape"
   ]
  },
  {
   "cell_type": "code",
   "execution_count": 46,
   "metadata": {},
   "outputs": [
    {
     "name": "stdout",
     "output_type": "stream",
     "text": [
      "<class 'pandas.core.frame.DataFrame'>\n",
      "Int64Index: 117 entries, 1 to 117\n",
      "Data columns (total 2 columns):\n",
      "Application_Date    117 non-null datetime64[ns]\n",
      "Count               117 non-null int64\n",
      "dtypes: datetime64[ns](1), int64(1)\n",
      "memory usage: 2.7 KB\n"
     ]
    }
   ],
   "source": [
    "df.info()"
   ]
  },
  {
   "cell_type": "code",
   "execution_count": 47,
   "metadata": {},
   "outputs": [
    {
     "data": {
      "text/html": [
       "<div>\n",
       "<style scoped>\n",
       "    .dataframe tbody tr th:only-of-type {\n",
       "        vertical-align: middle;\n",
       "    }\n",
       "\n",
       "    .dataframe tbody tr th {\n",
       "        vertical-align: top;\n",
       "    }\n",
       "\n",
       "    .dataframe thead th {\n",
       "        text-align: right;\n",
       "    }\n",
       "</style>\n",
       "<table border=\"1\" class=\"dataframe\">\n",
       "  <thead>\n",
       "    <tr style=\"text-align: right;\">\n",
       "      <th></th>\n",
       "      <th>Application_Date</th>\n",
       "      <th>Count</th>\n",
       "    </tr>\n",
       "  </thead>\n",
       "  <tbody>\n",
       "    <tr>\n",
       "      <th>1</th>\n",
       "      <td>2017-01-02</td>\n",
       "      <td>119903</td>\n",
       "    </tr>\n",
       "    <tr>\n",
       "      <th>2</th>\n",
       "      <td>2017-01-09</td>\n",
       "      <td>112116</td>\n",
       "    </tr>\n",
       "    <tr>\n",
       "      <th>3</th>\n",
       "      <td>2017-01-16</td>\n",
       "      <td>110457</td>\n",
       "    </tr>\n",
       "    <tr>\n",
       "      <th>4</th>\n",
       "      <td>2017-01-23</td>\n",
       "      <td>108717</td>\n",
       "    </tr>\n",
       "    <tr>\n",
       "      <th>5</th>\n",
       "      <td>2017-01-30</td>\n",
       "      <td>107435</td>\n",
       "    </tr>\n",
       "  </tbody>\n",
       "</table>\n",
       "</div>"
      ],
      "text/plain": [
       "  Application_Date   Count\n",
       "1       2017-01-02  119903\n",
       "2       2017-01-09  112116\n",
       "3       2017-01-16  110457\n",
       "4       2017-01-23  108717\n",
       "5       2017-01-30  107435"
      ]
     },
     "execution_count": 47,
     "metadata": {},
     "output_type": "execute_result"
    }
   ],
   "source": [
    "df.head()"
   ]
  },
  {
   "cell_type": "code",
   "execution_count": 48,
   "metadata": {},
   "outputs": [],
   "source": [
    "dataset = df.values\n"
   ]
  },
  {
   "cell_type": "markdown",
   "metadata": {},
   "source": [
    "_We will try to predict 8 weeks of loans_"
   ]
  },
  {
   "cell_type": "code",
   "execution_count": 49,
   "metadata": {},
   "outputs": [],
   "source": [
    "dataset_train, dataset_test = df[0:109], df[109:117]"
   ]
  },
  {
   "cell_type": "code",
   "execution_count": 50,
   "metadata": {},
   "outputs": [],
   "source": [
    "training_set = dataset_train.iloc[:, 1:2].values\n",
    "testing_set = dataset_test.iloc[:, 1:2].values"
   ]
  },
  {
   "cell_type": "code",
   "execution_count": 51,
   "metadata": {},
   "outputs": [
    {
     "name": "stdout",
     "output_type": "stream",
     "text": [
      "<class 'pandas.core.frame.DataFrame'>\n",
      "Int64Index: 109 entries, 1 to 109\n",
      "Data columns (total 2 columns):\n",
      "Application_Date    109 non-null datetime64[ns]\n",
      "Count               109 non-null int64\n",
      "dtypes: datetime64[ns](1), int64(1)\n",
      "memory usage: 2.6 KB\n"
     ]
    },
    {
     "data": {
      "text/plain": [
       "(None, (8, 2), (109, 1), (8, 1))"
      ]
     },
     "execution_count": 51,
     "metadata": {},
     "output_type": "execute_result"
    }
   ],
   "source": [
    "dataset_train.info(), dataset_test.shape, training_set.shape, testing_set.shape"
   ]
  },
  {
   "cell_type": "code",
   "execution_count": 52,
   "metadata": {},
   "outputs": [
    {
     "data": {
      "text/plain": [
       "Application_Date    0\n",
       "Count               0\n",
       "dtype: int64"
      ]
     },
     "execution_count": 52,
     "metadata": {},
     "output_type": "execute_result"
    }
   ],
   "source": [
    "dataset_train.isna().sum()\n",
    "dataset_test.isna().sum()"
   ]
  },
  {
   "cell_type": "code",
   "execution_count": 53,
   "metadata": {},
   "outputs": [
    {
     "data": {
      "text/html": [
       "<div>\n",
       "<style scoped>\n",
       "    .dataframe tbody tr th:only-of-type {\n",
       "        vertical-align: middle;\n",
       "    }\n",
       "\n",
       "    .dataframe tbody tr th {\n",
       "        vertical-align: top;\n",
       "    }\n",
       "\n",
       "    .dataframe thead th {\n",
       "        text-align: right;\n",
       "    }\n",
       "</style>\n",
       "<table border=\"1\" class=\"dataframe\">\n",
       "  <thead>\n",
       "    <tr style=\"text-align: right;\">\n",
       "      <th></th>\n",
       "      <th>Application_Date</th>\n",
       "      <th>Count</th>\n",
       "    </tr>\n",
       "  </thead>\n",
       "  <tbody>\n",
       "    <tr>\n",
       "      <th>110</th>\n",
       "      <td>2019-02-04</td>\n",
       "      <td>194570</td>\n",
       "    </tr>\n",
       "    <tr>\n",
       "      <th>111</th>\n",
       "      <td>2019-02-11</td>\n",
       "      <td>193545</td>\n",
       "    </tr>\n",
       "    <tr>\n",
       "      <th>112</th>\n",
       "      <td>2019-02-18</td>\n",
       "      <td>196149</td>\n",
       "    </tr>\n",
       "    <tr>\n",
       "      <th>113</th>\n",
       "      <td>2019-02-25</td>\n",
       "      <td>190241</td>\n",
       "    </tr>\n",
       "    <tr>\n",
       "      <th>114</th>\n",
       "      <td>2019-03-04</td>\n",
       "      <td>189141</td>\n",
       "    </tr>\n",
       "  </tbody>\n",
       "</table>\n",
       "</div>"
      ],
      "text/plain": [
       "    Application_Date   Count\n",
       "110       2019-02-04  194570\n",
       "111       2019-02-11  193545\n",
       "112       2019-02-18  196149\n",
       "113       2019-02-25  190241\n",
       "114       2019-03-04  189141"
      ]
     },
     "execution_count": 53,
     "metadata": {},
     "output_type": "execute_result"
    }
   ],
   "source": [
    "dataset_test.head()"
   ]
  },
  {
   "cell_type": "code",
   "execution_count": 54,
   "metadata": {},
   "outputs": [
    {
     "data": {
      "text/plain": [
       "(109, 1)"
      ]
     },
     "execution_count": 54,
     "metadata": {},
     "output_type": "execute_result"
    }
   ],
   "source": [
    "training_set.shape"
   ]
  },
  {
   "cell_type": "code",
   "execution_count": 55,
   "metadata": {},
   "outputs": [
    {
     "data": {
      "text/plain": [
       "(109, 2)"
      ]
     },
     "execution_count": 55,
     "metadata": {},
     "output_type": "execute_result"
    }
   ],
   "source": [
    "dataset_train.shape"
   ]
  },
  {
   "cell_type": "code",
   "execution_count": 56,
   "metadata": {},
   "outputs": [
    {
     "name": "stderr",
     "output_type": "stream",
     "text": [
      "/Library/Frameworks/Python.framework/Versions/3.7/lib/python3.7/site-packages/sklearn/utils/validation.py:595: DataConversionWarning: Data with input dtype int64 was converted to float64 by MinMaxScaler.\n",
      "  warnings.warn(msg, DataConversionWarning)\n",
      "/Library/Frameworks/Python.framework/Versions/3.7/lib/python3.7/site-packages/sklearn/utils/validation.py:595: DataConversionWarning: Data with input dtype int64 was converted to float64 by MinMaxScaler.\n",
      "  warnings.warn(msg, DataConversionWarning)\n"
     ]
    }
   ],
   "source": [
    "from sklearn.preprocessing import MinMaxScaler\n",
    "sc = MinMaxScaler(feature_range=(0, 1))\n",
    "training_set_scaled = sc.fit_transform(training_set)\n",
    "testing_set_scaled = sc.fit_transform(testing_set)"
   ]
  },
  {
   "cell_type": "markdown",
   "metadata": {},
   "source": [
    "I am predicting the next 2 months (8 weeks)\n",
    "\n",
    "I am predicting 109-8 because the first 8 I can't predict becasue there isn't anyting behind it to predict. therefore (101,8,1)"
   ]
  },
  {
   "cell_type": "code",
   "execution_count": 57,
   "metadata": {},
   "outputs": [],
   "source": [
    "#create matrix\n",
    "X_train = []\n",
    "y_train = []\n",
    "for i in range(8, 109):#8 time steps to figure out the next step\n",
    "    X_train.append(training_set_scaled[i-8:i, 0])\n",
    "    y_train.append(training_set_scaled[i, 0])\n",
    "X_train, y_train = np.array(X_train), np.array(y_train)\n",
    "\n",
    "X_train = np.reshape(X_train, (X_train.shape[0], X_train.shape[1], 1))"
   ]
  },
  {
   "cell_type": "code",
   "execution_count": 58,
   "metadata": {},
   "outputs": [],
   "source": [
    "X_test = []\n",
    "y_test = []\n",
    "for i in range(0,8):\n",
    "    X_test.append(testing_set_scaled[i-0:i, 0])\n",
    "    y_test.append(testing_set_scaled[i, 0])\n",
    "X_test, y_test = np.array(X_test), np.array(y_test)\n",
    "\n",
    "X_test = np.reshape(X_test, (X_test.shape[0], X_test.shape[1], 1))"
   ]
  },
  {
   "cell_type": "code",
   "execution_count": 59,
   "metadata": {},
   "outputs": [
    {
     "data": {
      "text/plain": [
       "((101, 8, 1), (8, 0, 1))"
      ]
     },
     "execution_count": 59,
     "metadata": {},
     "output_type": "execute_result"
    }
   ],
   "source": [
    "#matrix has 101 rows and 8 columns\n",
    "#and trying to figure out the next step\n",
    "#after the 8 time steps\n",
    "\n",
    "#I am using the previous 8 time step(week) to predict the 9th time step(week)\n",
    "X_train.shape,X_test.shape"
   ]
  },
  {
   "cell_type": "code",
   "execution_count": 60,
   "metadata": {},
   "outputs": [
    {
     "name": "stderr",
     "output_type": "stream",
     "text": [
      "Using TensorFlow backend.\n"
     ]
    }
   ],
   "source": [
    "#!pip install keras\n",
    "#!pip install tensorflow\n",
    "from keras.models import Sequential\n",
    "from keras.layers import Dense\n",
    "from keras.layers import LSTM\n",
    "from keras.layers import Dropout"
   ]
  },
  {
   "cell_type": "markdown",
   "metadata": {},
   "source": [
    "_To prevent overfitting(wrong connections) I will randomly disable some neurons. 3 layer with 1 output. Adam learning rate will be used and 10 epoch(back and forths that are done)__\n",
    "\n",
    "\n",
    "3 layers and outputing 1\n",
    "adam learning rate of NN\n",
    "\n",
    "epocs number of back and forths\n",
    "batch is 60"
   ]
  },
  {
   "cell_type": "code",
   "execution_count": 61,
   "metadata": {
    "scrolled": true
   },
   "outputs": [
    {
     "name": "stderr",
     "output_type": "stream",
     "text": [
      "WARNING: Logging before flag parsing goes to stderr.\n",
      "W0628 16:09:06.731936 4554114496 deprecation_wrapper.py:119] From /Library/Frameworks/Python.framework/Versions/3.7/lib/python3.7/site-packages/keras/backend/tensorflow_backend.py:74: The name tf.get_default_graph is deprecated. Please use tf.compat.v1.get_default_graph instead.\n",
      "\n",
      "W0628 16:09:06.757803 4554114496 deprecation_wrapper.py:119] From /Library/Frameworks/Python.framework/Versions/3.7/lib/python3.7/site-packages/keras/backend/tensorflow_backend.py:517: The name tf.placeholder is deprecated. Please use tf.compat.v1.placeholder instead.\n",
      "\n",
      "W0628 16:09:06.762686 4554114496 deprecation_wrapper.py:119] From /Library/Frameworks/Python.framework/Versions/3.7/lib/python3.7/site-packages/keras/backend/tensorflow_backend.py:4138: The name tf.random_uniform is deprecated. Please use tf.random.uniform instead.\n",
      "\n",
      "W0628 16:09:06.992039 4554114496 deprecation_wrapper.py:119] From /Library/Frameworks/Python.framework/Versions/3.7/lib/python3.7/site-packages/keras/backend/tensorflow_backend.py:133: The name tf.placeholder_with_default is deprecated. Please use tf.compat.v1.placeholder_with_default instead.\n",
      "\n",
      "W0628 16:09:07.010650 4554114496 deprecation.py:506] From /Library/Frameworks/Python.framework/Versions/3.7/lib/python3.7/site-packages/keras/backend/tensorflow_backend.py:3445: calling dropout (from tensorflow.python.ops.nn_ops) with keep_prob is deprecated and will be removed in a future version.\n",
      "Instructions for updating:\n",
      "Please use `rate` instead of `keep_prob`. Rate should be set to `rate = 1 - keep_prob`.\n",
      "W0628 16:09:07.752532 4554114496 deprecation_wrapper.py:119] From /Library/Frameworks/Python.framework/Versions/3.7/lib/python3.7/site-packages/keras/optimizers.py:790: The name tf.train.Optimizer is deprecated. Please use tf.compat.v1.train.Optimizer instead.\n",
      "\n",
      "W0628 16:09:08.078073 4554114496 deprecation.py:323] From /Library/Frameworks/Python.framework/Versions/3.7/lib/python3.7/site-packages/tensorflow/python/ops/math_grad.py:1250: add_dispatch_support.<locals>.wrapper (from tensorflow.python.ops.array_ops) is deprecated and will be removed in a future version.\n",
      "Instructions for updating:\n",
      "Use tf.where in 2.0, which has the same broadcast rule as np.where\n",
      "W0628 16:09:10.720118 4554114496 deprecation_wrapper.py:119] From /Library/Frameworks/Python.framework/Versions/3.7/lib/python3.7/site-packages/keras/backend/tensorflow_backend.py:986: The name tf.assign_add is deprecated. Please use tf.compat.v1.assign_add instead.\n",
      "\n"
     ]
    },
    {
     "name": "stdout",
     "output_type": "stream",
     "text": [
      "Epoch 1/500\n",
      "101/101 [==============================] - 3s 33ms/step - loss: 0.1094\n",
      "Epoch 2/500\n",
      "101/101 [==============================] - 1s 7ms/step - loss: 0.0348\n",
      "Epoch 3/500\n",
      "101/101 [==============================] - 1s 6ms/step - loss: 0.0344\n",
      "Epoch 4/500\n",
      "101/101 [==============================] - 1s 6ms/step - loss: 0.0412\n",
      "Epoch 5/500\n",
      "101/101 [==============================] - 1s 6ms/step - loss: 0.0313\n",
      "Epoch 6/500\n",
      "101/101 [==============================] - 1s 6ms/step - loss: 0.0239\n",
      "Epoch 7/500\n",
      "101/101 [==============================] - 1s 7ms/step - loss: 0.0294\n",
      "Epoch 8/500\n",
      "101/101 [==============================] - 1s 7ms/step - loss: 0.0235\n",
      "Epoch 9/500\n",
      "101/101 [==============================] - 1s 6ms/step - loss: 0.0241\n",
      "Epoch 10/500\n",
      "101/101 [==============================] - 1s 7ms/step - loss: 0.0254\n",
      "Epoch 11/500\n",
      "101/101 [==============================] - 1s 6ms/step - loss: 0.0299\n",
      "Epoch 12/500\n",
      "101/101 [==============================] - 1s 6ms/step - loss: 0.0375\n",
      "Epoch 13/500\n",
      "101/101 [==============================] - 1s 6ms/step - loss: 0.0226\n",
      "Epoch 14/500\n",
      "101/101 [==============================] - 1s 6ms/step - loss: 0.0214\n",
      "Epoch 15/500\n",
      "101/101 [==============================] - 1s 7ms/step - loss: 0.0307\n",
      "Epoch 16/500\n",
      "101/101 [==============================] - 1s 7ms/step - loss: 0.0253\n",
      "Epoch 17/500\n",
      "101/101 [==============================] - 1s 6ms/step - loss: 0.0288\n",
      "Epoch 18/500\n",
      "101/101 [==============================] - 1s 7ms/step - loss: 0.0203\n",
      "Epoch 19/500\n",
      "101/101 [==============================] - 1s 6ms/step - loss: 0.0215\n",
      "Epoch 20/500\n",
      "101/101 [==============================] - 1s 6ms/step - loss: 0.0242\n",
      "Epoch 21/500\n",
      "101/101 [==============================] - 1s 6ms/step - loss: 0.0241\n",
      "Epoch 22/500\n",
      "101/101 [==============================] - 1s 6ms/step - loss: 0.0212\n",
      "Epoch 23/500\n",
      "101/101 [==============================] - 1s 6ms/step - loss: 0.0272\n",
      "Epoch 24/500\n",
      "101/101 [==============================] - 1s 7ms/step - loss: 0.0234\n",
      "Epoch 25/500\n",
      "101/101 [==============================] - 1s 7ms/step - loss: 0.0231\n",
      "Epoch 26/500\n",
      "101/101 [==============================] - 1s 7ms/step - loss: 0.0235\n",
      "Epoch 27/500\n",
      "101/101 [==============================] - 1s 7ms/step - loss: 0.0238\n",
      "Epoch 28/500\n",
      "101/101 [==============================] - 1s 6ms/step - loss: 0.0322\n",
      "Epoch 29/500\n",
      "101/101 [==============================] - 1s 6ms/step - loss: 0.0291\n",
      "Epoch 30/500\n",
      "101/101 [==============================] - 1s 6ms/step - loss: 0.0211\n",
      "Epoch 31/500\n",
      "101/101 [==============================] - 1s 7ms/step - loss: 0.0270\n",
      "Epoch 32/500\n",
      "101/101 [==============================] - 1s 6ms/step - loss: 0.0238\n",
      "Epoch 33/500\n",
      "101/101 [==============================] - 1s 6ms/step - loss: 0.0278\n",
      "Epoch 34/500\n",
      "101/101 [==============================] - 1s 6ms/step - loss: 0.0258\n",
      "Epoch 35/500\n",
      "101/101 [==============================] - 1s 6ms/step - loss: 0.0245\n",
      "Epoch 36/500\n",
      "101/101 [==============================] - 1s 6ms/step - loss: 0.0280\n",
      "Epoch 37/500\n",
      "101/101 [==============================] - 1s 7ms/step - loss: 0.0239\n",
      "Epoch 38/500\n",
      "101/101 [==============================] - 1s 7ms/step - loss: 0.0235\n",
      "Epoch 39/500\n",
      "101/101 [==============================] - 1s 7ms/step - loss: 0.0231\n",
      "Epoch 40/500\n",
      "101/101 [==============================] - 1s 6ms/step - loss: 0.0228\n",
      "Epoch 41/500\n",
      "101/101 [==============================] - 1s 6ms/step - loss: 0.0280\n",
      "Epoch 42/500\n",
      "101/101 [==============================] - 1s 7ms/step - loss: 0.0242\n",
      "Epoch 43/500\n",
      "101/101 [==============================] - 1s 6ms/step - loss: 0.0235\n",
      "Epoch 44/500\n",
      "101/101 [==============================] - 1s 6ms/step - loss: 0.0265\n",
      "Epoch 45/500\n",
      "101/101 [==============================] - 1s 7ms/step - loss: 0.0241\n",
      "Epoch 46/500\n",
      "101/101 [==============================] - 1s 6ms/step - loss: 0.0244\n",
      "Epoch 47/500\n",
      "101/101 [==============================] - 1s 6ms/step - loss: 0.0207\n",
      "Epoch 48/500\n",
      "101/101 [==============================] - 1s 6ms/step - loss: 0.0207\n",
      "Epoch 49/500\n",
      "101/101 [==============================] - 1s 7ms/step - loss: 0.0232\n",
      "Epoch 50/500\n",
      "101/101 [==============================] - 1s 7ms/step - loss: 0.0234\n",
      "Epoch 51/500\n",
      "101/101 [==============================] - 1s 6ms/step - loss: 0.0203\n",
      "Epoch 52/500\n",
      "101/101 [==============================] - 1s 7ms/step - loss: 0.0223\n",
      "Epoch 53/500\n",
      "101/101 [==============================] - 1s 6ms/step - loss: 0.0218\n",
      "Epoch 54/500\n",
      "101/101 [==============================] - 1s 6ms/step - loss: 0.0258\n",
      "Epoch 55/500\n",
      "101/101 [==============================] - 1s 6ms/step - loss: 0.0253\n",
      "Epoch 56/500\n",
      "101/101 [==============================] - 1s 7ms/step - loss: 0.0208\n",
      "Epoch 57/500\n",
      "101/101 [==============================] - 1s 6ms/step - loss: 0.0207\n",
      "Epoch 58/500\n",
      "101/101 [==============================] - 1s 6ms/step - loss: 0.0205\n",
      "Epoch 59/500\n",
      "101/101 [==============================] - 1s 8ms/step - loss: 0.0188\n",
      "Epoch 60/500\n",
      "101/101 [==============================] - 1s 6ms/step - loss: 0.0202\n",
      "Epoch 61/500\n",
      "101/101 [==============================] - 1s 6ms/step - loss: 0.0251\n",
      "Epoch 62/500\n",
      "101/101 [==============================] - 1s 7ms/step - loss: 0.0222\n",
      "Epoch 63/500\n",
      "101/101 [==============================] - 1s 11ms/step - loss: 0.0233\n",
      "Epoch 64/500\n",
      "101/101 [==============================] - 1s 11ms/step - loss: 0.0270\n",
      "Epoch 65/500\n",
      "101/101 [==============================] - 1s 10ms/step - loss: 0.0270\n",
      "Epoch 66/500\n",
      "101/101 [==============================] - 1s 10ms/step - loss: 0.0173\n",
      "Epoch 67/500\n",
      "101/101 [==============================] - 1s 10ms/step - loss: 0.0217\n",
      "Epoch 68/500\n",
      "101/101 [==============================] - 1s 11ms/step - loss: 0.0211\n",
      "Epoch 69/500\n",
      "101/101 [==============================] - 1s 11ms/step - loss: 0.0195\n",
      "Epoch 70/500\n",
      "101/101 [==============================] - 1s 11ms/step - loss: 0.0205\n",
      "Epoch 71/500\n",
      "101/101 [==============================] - 1s 11ms/step - loss: 0.0203\n",
      "Epoch 72/500\n",
      "101/101 [==============================] - 1s 11ms/step - loss: 0.0184\n",
      "Epoch 73/500\n",
      "101/101 [==============================] - 1s 11ms/step - loss: 0.0202\n",
      "Epoch 74/500\n",
      "101/101 [==============================] - 1s 12ms/step - loss: 0.0196\n",
      "Epoch 75/500\n",
      "101/101 [==============================] - 1s 9ms/step - loss: 0.0215\n",
      "Epoch 76/500\n",
      "101/101 [==============================] - 1s 8ms/step - loss: 0.0219\n",
      "Epoch 77/500\n",
      "101/101 [==============================] - 1s 9ms/step - loss: 0.0233\n",
      "Epoch 78/500\n",
      "101/101 [==============================] - 1s 9ms/step - loss: 0.0214\n",
      "Epoch 79/500\n",
      "101/101 [==============================] - 1s 10ms/step - loss: 0.0185\n",
      "Epoch 80/500\n",
      "101/101 [==============================] - 1s 10ms/step - loss: 0.0244\n",
      "Epoch 81/500\n",
      "101/101 [==============================] - 1s 10ms/step - loss: 0.0224\n",
      "Epoch 82/500\n",
      "101/101 [==============================] - 1s 9ms/step - loss: 0.0213\n",
      "Epoch 83/500\n",
      "101/101 [==============================] - 1s 10ms/step - loss: 0.0223\n",
      "Epoch 84/500\n",
      "101/101 [==============================] - 1s 10ms/step - loss: 0.0273\n",
      "Epoch 85/500\n",
      "101/101 [==============================] - 1s 10ms/step - loss: 0.0217\n",
      "Epoch 86/500\n",
      "101/101 [==============================] - 1s 10ms/step - loss: 0.0189\n",
      "Epoch 87/500\n",
      "101/101 [==============================] - 1s 10ms/step - loss: 0.0195\n",
      "Epoch 88/500\n",
      "101/101 [==============================] - 1s 10ms/step - loss: 0.0186\n",
      "Epoch 89/500\n",
      "101/101 [==============================] - 1s 10ms/step - loss: 0.0201\n",
      "Epoch 90/500\n",
      "101/101 [==============================] - 1s 9ms/step - loss: 0.0204\n",
      "Epoch 91/500\n",
      "101/101 [==============================] - 1s 8ms/step - loss: 0.0262\n",
      "Epoch 92/500\n",
      "101/101 [==============================] - 1s 6ms/step - loss: 0.0248\n",
      "Epoch 93/500\n",
      "101/101 [==============================] - 1s 9ms/step - loss: 0.0189\n",
      "Epoch 94/500\n",
      "101/101 [==============================] - 1s 9ms/step - loss: 0.0217\n",
      "Epoch 95/500\n",
      "101/101 [==============================] - 1s 7ms/step - loss: 0.0191\n",
      "Epoch 96/500\n",
      "101/101 [==============================] - 1s 7ms/step - loss: 0.0244\n",
      "Epoch 97/500\n",
      "101/101 [==============================] - 1s 7ms/step - loss: 0.0196\n",
      "Epoch 98/500\n",
      "101/101 [==============================] - 1s 7ms/step - loss: 0.0215\n",
      "Epoch 99/500\n"
     ]
    },
    {
     "name": "stdout",
     "output_type": "stream",
     "text": [
      "101/101 [==============================] - 1s 8ms/step - loss: 0.0175\n",
      "Epoch 100/500\n",
      "101/101 [==============================] - 1s 8ms/step - loss: 0.0231\n",
      "Epoch 101/500\n",
      "101/101 [==============================] - 1s 7ms/step - loss: 0.0180\n",
      "Epoch 102/500\n",
      "101/101 [==============================] - 1s 7ms/step - loss: 0.0188\n",
      "Epoch 103/500\n",
      "101/101 [==============================] - 1s 7ms/step - loss: 0.0217\n",
      "Epoch 104/500\n",
      "101/101 [==============================] - 1s 7ms/step - loss: 0.0249\n",
      "Epoch 105/500\n",
      "101/101 [==============================] - 1s 7ms/step - loss: 0.0196\n",
      "Epoch 106/500\n",
      "101/101 [==============================] - 1s 7ms/step - loss: 0.0185\n",
      "Epoch 107/500\n",
      "101/101 [==============================] - 1s 6ms/step - loss: 0.0226\n",
      "Epoch 108/500\n",
      "101/101 [==============================] - 1s 6ms/step - loss: 0.0188\n",
      "Epoch 109/500\n",
      "101/101 [==============================] - 1s 8ms/step - loss: 0.0183\n",
      "Epoch 110/500\n",
      "101/101 [==============================] - 1s 7ms/step - loss: 0.0208\n",
      "Epoch 111/500\n",
      "101/101 [==============================] - 1s 7ms/step - loss: 0.0217\n",
      "Epoch 112/500\n",
      "101/101 [==============================] - 1s 7ms/step - loss: 0.0216\n",
      "Epoch 113/500\n",
      "101/101 [==============================] - 1s 7ms/step - loss: 0.0214\n",
      "Epoch 114/500\n",
      "101/101 [==============================] - 1s 10ms/step - loss: 0.0201\n",
      "Epoch 115/500\n",
      "101/101 [==============================] - 1s 8ms/step - loss: 0.0226\n",
      "Epoch 116/500\n",
      "101/101 [==============================] - 1s 8ms/step - loss: 0.0227\n",
      "Epoch 117/500\n",
      "101/101 [==============================] - 1s 7ms/step - loss: 0.0184\n",
      "Epoch 118/500\n",
      "101/101 [==============================] - 1s 7ms/step - loss: 0.0217\n",
      "Epoch 119/500\n",
      "101/101 [==============================] - 1s 7ms/step - loss: 0.0226\n",
      "Epoch 120/500\n",
      "101/101 [==============================] - 1s 6ms/step - loss: 0.0210\n",
      "Epoch 121/500\n",
      "101/101 [==============================] - 1s 6ms/step - loss: 0.0203\n",
      "Epoch 122/500\n",
      "101/101 [==============================] - 1s 7ms/step - loss: 0.0203\n",
      "Epoch 123/500\n",
      "101/101 [==============================] - 1s 7ms/step - loss: 0.0186\n",
      "Epoch 124/500\n",
      "101/101 [==============================] - 1s 6ms/step - loss: 0.0193\n",
      "Epoch 125/500\n",
      "101/101 [==============================] - 1s 6ms/step - loss: 0.0178\n",
      "Epoch 126/500\n",
      "101/101 [==============================] - 1s 6ms/step - loss: 0.0217\n",
      "Epoch 127/500\n",
      "101/101 [==============================] - 1s 7ms/step - loss: 0.0168\n",
      "Epoch 128/500\n",
      "101/101 [==============================] - 1s 6ms/step - loss: 0.0209\n",
      "Epoch 129/500\n",
      "101/101 [==============================] - 1s 6ms/step - loss: 0.0186\n",
      "Epoch 130/500\n",
      "101/101 [==============================] - 1s 6ms/step - loss: 0.0196\n",
      "Epoch 131/500\n",
      "101/101 [==============================] - 1s 6ms/step - loss: 0.0184\n",
      "Epoch 132/500\n",
      "101/101 [==============================] - 1s 6ms/step - loss: 0.0219\n",
      "Epoch 133/500\n",
      "101/101 [==============================] - 1s 7ms/step - loss: 0.0276\n",
      "Epoch 134/500\n",
      "101/101 [==============================] - 1s 6ms/step - loss: 0.0208\n",
      "Epoch 135/500\n",
      "101/101 [==============================] - 1s 6ms/step - loss: 0.0201\n",
      "Epoch 136/500\n",
      "101/101 [==============================] - 1s 6ms/step - loss: 0.0201\n",
      "Epoch 137/500\n",
      "101/101 [==============================] - 1s 6ms/step - loss: 0.0173\n",
      "Epoch 138/500\n",
      "101/101 [==============================] - 1s 6ms/step - loss: 0.0182\n",
      "Epoch 139/500\n",
      "101/101 [==============================] - 1s 6ms/step - loss: 0.0188\n",
      "Epoch 140/500\n",
      "101/101 [==============================] - 1s 6ms/step - loss: 0.0199\n",
      "Epoch 141/500\n",
      "101/101 [==============================] - 1s 6ms/step - loss: 0.0202\n",
      "Epoch 142/500\n",
      "101/101 [==============================] - 1s 6ms/step - loss: 0.0207\n",
      "Epoch 143/500\n",
      "101/101 [==============================] - 1s 7ms/step - loss: 0.0213\n",
      "Epoch 144/500\n",
      "101/101 [==============================] - 1s 6ms/step - loss: 0.0212\n",
      "Epoch 145/500\n",
      "101/101 [==============================] - 1s 7ms/step - loss: 0.0221\n",
      "Epoch 146/500\n",
      "101/101 [==============================] - 1s 7ms/step - loss: 0.0176\n",
      "Epoch 147/500\n",
      "101/101 [==============================] - 1s 6ms/step - loss: 0.0198\n",
      "Epoch 148/500\n",
      "101/101 [==============================] - 1s 6ms/step - loss: 0.0193\n",
      "Epoch 149/500\n",
      "101/101 [==============================] - 1s 6ms/step - loss: 0.0215\n",
      "Epoch 150/500\n",
      "101/101 [==============================] - 1s 6ms/step - loss: 0.0215\n",
      "Epoch 151/500\n",
      "101/101 [==============================] - 1s 6ms/step - loss: 0.0212\n",
      "Epoch 152/500\n",
      "101/101 [==============================] - 1s 6ms/step - loss: 0.0192\n",
      "Epoch 153/500\n",
      "101/101 [==============================] - 1s 6ms/step - loss: 0.0218\n",
      "Epoch 154/500\n",
      "101/101 [==============================] - 1s 6ms/step - loss: 0.0201\n",
      "Epoch 155/500\n",
      "101/101 [==============================] - 1s 6ms/step - loss: 0.0222\n",
      "Epoch 156/500\n",
      "101/101 [==============================] - 1s 6ms/step - loss: 0.0208\n",
      "Epoch 157/500\n",
      "101/101 [==============================] - 1s 6ms/step - loss: 0.0176\n",
      "Epoch 158/500\n",
      "101/101 [==============================] - 1s 8ms/step - loss: 0.0206\n",
      "Epoch 159/500\n",
      "101/101 [==============================] - 1s 9ms/step - loss: 0.0215\n",
      "Epoch 160/500\n",
      "101/101 [==============================] - 1s 7ms/step - loss: 0.0183\n",
      "Epoch 161/500\n",
      "101/101 [==============================] - 1s 6ms/step - loss: 0.0170\n",
      "Epoch 162/500\n",
      "101/101 [==============================] - 1s 6ms/step - loss: 0.0208\n",
      "Epoch 163/500\n",
      "101/101 [==============================] - 1s 9ms/step - loss: 0.0175\n",
      "Epoch 164/500\n",
      "101/101 [==============================] - 1s 7ms/step - loss: 0.0189\n",
      "Epoch 165/500\n",
      "101/101 [==============================] - 1s 7ms/step - loss: 0.0169\n",
      "Epoch 166/500\n",
      "101/101 [==============================] - 1s 6ms/step - loss: 0.0189\n",
      "Epoch 167/500\n",
      "101/101 [==============================] - 1s 6ms/step - loss: 0.0176\n",
      "Epoch 168/500\n",
      "101/101 [==============================] - 1s 6ms/step - loss: 0.0206\n",
      "Epoch 169/500\n",
      "101/101 [==============================] - 1s 6ms/step - loss: 0.0160\n",
      "Epoch 170/500\n",
      "101/101 [==============================] - 1s 7ms/step - loss: 0.0193\n",
      "Epoch 171/500\n",
      "101/101 [==============================] - 1s 6ms/step - loss: 0.0199\n",
      "Epoch 172/500\n",
      "101/101 [==============================] - 1s 6ms/step - loss: 0.0188\n",
      "Epoch 173/500\n",
      "101/101 [==============================] - 1s 6ms/step - loss: 0.0223\n",
      "Epoch 174/500\n",
      "101/101 [==============================] - 1s 6ms/step - loss: 0.0184\n",
      "Epoch 175/500\n",
      "101/101 [==============================] - 1s 6ms/step - loss: 0.0194\n",
      "Epoch 176/500\n",
      "101/101 [==============================] - 1s 6ms/step - loss: 0.0200\n",
      "Epoch 177/500\n",
      "101/101 [==============================] - 1s 6ms/step - loss: 0.0232\n",
      "Epoch 178/500\n",
      "101/101 [==============================] - 1s 6ms/step - loss: 0.0205\n",
      "Epoch 179/500\n",
      "101/101 [==============================] - 1s 6ms/step - loss: 0.0190\n",
      "Epoch 180/500\n",
      "101/101 [==============================] - 1s 6ms/step - loss: 0.0180\n",
      "Epoch 181/500\n",
      "101/101 [==============================] - 1s 6ms/step - loss: 0.0167\n",
      "Epoch 182/500\n",
      "101/101 [==============================] - 1s 6ms/step - loss: 0.0247\n",
      "Epoch 183/500\n",
      "101/101 [==============================] - 1s 6ms/step - loss: 0.0188\n",
      "Epoch 184/500\n",
      "101/101 [==============================] - 1s 6ms/step - loss: 0.0138\n",
      "Epoch 185/500\n",
      "101/101 [==============================] - 1s 6ms/step - loss: 0.0197\n",
      "Epoch 186/500\n",
      "101/101 [==============================] - 1s 6ms/step - loss: 0.0216\n",
      "Epoch 187/500\n",
      "101/101 [==============================] - 1s 6ms/step - loss: 0.0198\n",
      "Epoch 188/500\n",
      "101/101 [==============================] - 1s 7ms/step - loss: 0.0198\n",
      "Epoch 189/500\n",
      "101/101 [==============================] - 1s 7ms/step - loss: 0.0203\n",
      "Epoch 190/500\n",
      "101/101 [==============================] - 1s 6ms/step - loss: 0.0178\n",
      "Epoch 191/500\n",
      "101/101 [==============================] - 1s 7ms/step - loss: 0.0161\n",
      "Epoch 192/500\n",
      "101/101 [==============================] - 1s 6ms/step - loss: 0.0187\n",
      "Epoch 193/500\n",
      "101/101 [==============================] - 1s 6ms/step - loss: 0.0175\n",
      "Epoch 194/500\n",
      "101/101 [==============================] - 1s 6ms/step - loss: 0.0198\n",
      "Epoch 195/500\n",
      "101/101 [==============================] - 1s 6ms/step - loss: 0.0172\n",
      "Epoch 196/500\n"
     ]
    },
    {
     "name": "stdout",
     "output_type": "stream",
     "text": [
      "101/101 [==============================] - 1s 6ms/step - loss: 0.0148\n",
      "Epoch 197/500\n",
      "101/101 [==============================] - 1s 6ms/step - loss: 0.0164\n",
      "Epoch 198/500\n",
      "101/101 [==============================] - 1s 6ms/step - loss: 0.0185\n",
      "Epoch 199/500\n",
      "101/101 [==============================] - 1s 6ms/step - loss: 0.0170\n",
      "Epoch 200/500\n",
      "101/101 [==============================] - 1s 6ms/step - loss: 0.0165\n",
      "Epoch 201/500\n",
      "101/101 [==============================] - 1s 6ms/step - loss: 0.0201\n",
      "Epoch 202/500\n",
      "101/101 [==============================] - 1s 6ms/step - loss: 0.0190\n",
      "Epoch 203/500\n",
      "101/101 [==============================] - 1s 6ms/step - loss: 0.0183\n",
      "Epoch 204/500\n",
      "101/101 [==============================] - 1s 6ms/step - loss: 0.0163\n",
      "Epoch 205/500\n",
      "101/101 [==============================] - 1s 6ms/step - loss: 0.0204\n",
      "Epoch 206/500\n",
      "101/101 [==============================] - 1s 6ms/step - loss: 0.0167\n",
      "Epoch 207/500\n",
      "101/101 [==============================] - 1s 6ms/step - loss: 0.0188\n",
      "Epoch 208/500\n",
      "101/101 [==============================] - 1s 6ms/step - loss: 0.0165\n",
      "Epoch 209/500\n",
      "101/101 [==============================] - 1s 6ms/step - loss: 0.0170\n",
      "Epoch 210/500\n",
      "101/101 [==============================] - 1s 7ms/step - loss: 0.0190\n",
      "Epoch 211/500\n",
      "101/101 [==============================] - 1s 6ms/step - loss: 0.0177\n",
      "Epoch 212/500\n",
      "101/101 [==============================] - 1s 6ms/step - loss: 0.0188\n",
      "Epoch 213/500\n",
      "101/101 [==============================] - 1s 6ms/step - loss: 0.0166\n",
      "Epoch 214/500\n",
      "101/101 [==============================] - 1s 6ms/step - loss: 0.0157\n",
      "Epoch 215/500\n",
      "101/101 [==============================] - 1s 6ms/step - loss: 0.0178\n",
      "Epoch 216/500\n",
      "101/101 [==============================] - 1s 6ms/step - loss: 0.0148\n",
      "Epoch 217/500\n",
      "101/101 [==============================] - 1s 6ms/step - loss: 0.0173\n",
      "Epoch 218/500\n",
      "101/101 [==============================] - 1s 6ms/step - loss: 0.0176\n",
      "Epoch 219/500\n",
      "101/101 [==============================] - 1s 6ms/step - loss: 0.0164\n",
      "Epoch 220/500\n",
      "101/101 [==============================] - 1s 7ms/step - loss: 0.0195\n",
      "Epoch 221/500\n",
      "101/101 [==============================] - 1s 7ms/step - loss: 0.0196\n",
      "Epoch 222/500\n",
      "101/101 [==============================] - 1s 6ms/step - loss: 0.0160\n",
      "Epoch 223/500\n",
      "101/101 [==============================] - 1s 6ms/step - loss: 0.0178\n",
      "Epoch 224/500\n",
      "101/101 [==============================] - 1s 6ms/step - loss: 0.0180\n",
      "Epoch 225/500\n",
      "101/101 [==============================] - 1s 6ms/step - loss: 0.0181\n",
      "Epoch 226/500\n",
      "101/101 [==============================] - 1s 6ms/step - loss: 0.0203\n",
      "Epoch 227/500\n",
      "101/101 [==============================] - 1s 6ms/step - loss: 0.0164\n",
      "Epoch 228/500\n",
      "101/101 [==============================] - 1s 6ms/step - loss: 0.0148\n",
      "Epoch 229/500\n",
      "101/101 [==============================] - 1s 6ms/step - loss: 0.0209\n",
      "Epoch 230/500\n",
      "101/101 [==============================] - 1s 6ms/step - loss: 0.0151\n",
      "Epoch 231/500\n",
      "101/101 [==============================] - 1s 6ms/step - loss: 0.0156\n",
      "Epoch 232/500\n",
      "101/101 [==============================] - 1s 6ms/step - loss: 0.0161\n",
      "Epoch 233/500\n",
      "101/101 [==============================] - 1s 6ms/step - loss: 0.0165\n",
      "Epoch 234/500\n",
      "101/101 [==============================] - 1s 6ms/step - loss: 0.0146\n",
      "Epoch 235/500\n",
      "101/101 [==============================] - 1s 6ms/step - loss: 0.0157\n",
      "Epoch 236/500\n",
      "101/101 [==============================] - 1s 6ms/step - loss: 0.0219\n",
      "Epoch 237/500\n",
      "101/101 [==============================] - 1s 6ms/step - loss: 0.0203\n",
      "Epoch 238/500\n",
      "101/101 [==============================] - 1s 6ms/step - loss: 0.0189\n",
      "Epoch 239/500\n",
      "101/101 [==============================] - 1s 6ms/step - loss: 0.0158\n",
      "Epoch 240/500\n",
      "101/101 [==============================] - 1s 7ms/step - loss: 0.0139\n",
      "Epoch 241/500\n",
      "101/101 [==============================] - 1s 8ms/step - loss: 0.0139\n",
      "Epoch 242/500\n",
      "101/101 [==============================] - 1s 7ms/step - loss: 0.0160\n",
      "Epoch 243/500\n",
      "101/101 [==============================] - 1s 7ms/step - loss: 0.0187\n",
      "Epoch 244/500\n",
      "101/101 [==============================] - 1s 7ms/step - loss: 0.0162\n",
      "Epoch 245/500\n",
      "101/101 [==============================] - 1s 7ms/step - loss: 0.0163\n",
      "Epoch 246/500\n",
      "101/101 [==============================] - 1s 7ms/step - loss: 0.0151\n",
      "Epoch 247/500\n",
      "101/101 [==============================] - 1s 9ms/step - loss: 0.0166\n",
      "Epoch 248/500\n",
      "101/101 [==============================] - 1s 7ms/step - loss: 0.0147\n",
      "Epoch 249/500\n",
      "101/101 [==============================] - 1s 7ms/step - loss: 0.0172\n",
      "Epoch 250/500\n",
      "101/101 [==============================] - 1s 6ms/step - loss: 0.0186\n",
      "Epoch 251/500\n",
      "101/101 [==============================] - 1s 6ms/step - loss: 0.0145\n",
      "Epoch 252/500\n",
      "101/101 [==============================] - 1s 6ms/step - loss: 0.0169\n",
      "Epoch 253/500\n",
      "101/101 [==============================] - 1s 6ms/step - loss: 0.0184\n",
      "Epoch 254/500\n",
      "101/101 [==============================] - 1s 6ms/step - loss: 0.0173\n",
      "Epoch 255/500\n",
      "101/101 [==============================] - 1s 6ms/step - loss: 0.0183\n",
      "Epoch 256/500\n",
      "101/101 [==============================] - 1s 6ms/step - loss: 0.0170\n",
      "Epoch 257/500\n",
      "101/101 [==============================] - 1s 6ms/step - loss: 0.0175\n",
      "Epoch 258/500\n",
      "101/101 [==============================] - 1s 6ms/step - loss: 0.0159\n",
      "Epoch 259/500\n",
      "101/101 [==============================] - 1s 6ms/step - loss: 0.0160\n",
      "Epoch 260/500\n",
      "101/101 [==============================] - 1s 6ms/step - loss: 0.0189\n",
      "Epoch 261/500\n",
      "101/101 [==============================] - 1s 6ms/step - loss: 0.0181\n",
      "Epoch 262/500\n",
      "101/101 [==============================] - 1s 6ms/step - loss: 0.0160\n",
      "Epoch 263/500\n",
      "101/101 [==============================] - 1s 6ms/step - loss: 0.0180\n",
      "Epoch 264/500\n",
      "101/101 [==============================] - 1s 6ms/step - loss: 0.0174\n",
      "Epoch 265/500\n",
      "101/101 [==============================] - 1s 6ms/step - loss: 0.0173\n",
      "Epoch 266/500\n",
      "101/101 [==============================] - 1s 6ms/step - loss: 0.0157\n",
      "Epoch 267/500\n",
      "101/101 [==============================] - 1s 6ms/step - loss: 0.0199\n",
      "Epoch 268/500\n",
      "101/101 [==============================] - 1s 6ms/step - loss: 0.0169\n",
      "Epoch 269/500\n",
      "101/101 [==============================] - 1s 6ms/step - loss: 0.0147\n",
      "Epoch 270/500\n",
      "101/101 [==============================] - 1s 6ms/step - loss: 0.0161\n",
      "Epoch 271/500\n",
      "101/101 [==============================] - 1s 6ms/step - loss: 0.0156\n",
      "Epoch 272/500\n",
      "101/101 [==============================] - 1s 6ms/step - loss: 0.0153\n",
      "Epoch 273/500\n",
      "101/101 [==============================] - 1s 6ms/step - loss: 0.0157\n",
      "Epoch 274/500\n",
      "101/101 [==============================] - 1s 6ms/step - loss: 0.0150\n",
      "Epoch 275/500\n",
      "101/101 [==============================] - 1s 6ms/step - loss: 0.0181\n",
      "Epoch 276/500\n",
      "101/101 [==============================] - 1s 6ms/step - loss: 0.0161\n",
      "Epoch 277/500\n",
      "101/101 [==============================] - 1s 6ms/step - loss: 0.0148\n",
      "Epoch 278/500\n",
      "101/101 [==============================] - 1s 6ms/step - loss: 0.0144\n",
      "Epoch 279/500\n",
      "101/101 [==============================] - 1s 6ms/step - loss: 0.0136\n",
      "Epoch 280/500\n",
      "101/101 [==============================] - 1s 6ms/step - loss: 0.0170\n",
      "Epoch 281/500\n",
      "101/101 [==============================] - 1s 6ms/step - loss: 0.0156\n",
      "Epoch 282/500\n",
      "101/101 [==============================] - 1s 6ms/step - loss: 0.0152\n",
      "Epoch 283/500\n",
      "101/101 [==============================] - 1s 6ms/step - loss: 0.0136\n",
      "Epoch 284/500\n",
      "101/101 [==============================] - 1s 6ms/step - loss: 0.0158\n",
      "Epoch 285/500\n",
      "101/101 [==============================] - 1s 6ms/step - loss: 0.0164\n",
      "Epoch 286/500\n",
      "101/101 [==============================] - 1s 7ms/step - loss: 0.0138\n",
      "Epoch 287/500\n",
      "101/101 [==============================] - 1s 6ms/step - loss: 0.0142\n",
      "Epoch 288/500\n",
      "101/101 [==============================] - 1s 6ms/step - loss: 0.0163\n",
      "Epoch 289/500\n",
      "101/101 [==============================] - 1s 6ms/step - loss: 0.0186\n",
      "Epoch 290/500\n",
      "101/101 [==============================] - 1s 7ms/step - loss: 0.0165\n",
      "Epoch 291/500\n",
      "101/101 [==============================] - 1s 6ms/step - loss: 0.0164\n",
      "Epoch 292/500\n",
      "101/101 [==============================] - 1s 6ms/step - loss: 0.0177\n",
      "Epoch 293/500\n"
     ]
    },
    {
     "name": "stdout",
     "output_type": "stream",
     "text": [
      "101/101 [==============================] - 1s 6ms/step - loss: 0.0151\n",
      "Epoch 294/500\n",
      "101/101 [==============================] - 1s 6ms/step - loss: 0.0134\n",
      "Epoch 295/500\n",
      "101/101 [==============================] - 1s 6ms/step - loss: 0.0149\n",
      "Epoch 296/500\n",
      "101/101 [==============================] - 1s 6ms/step - loss: 0.0149\n",
      "Epoch 297/500\n",
      "101/101 [==============================] - 1s 6ms/step - loss: 0.0200\n",
      "Epoch 298/500\n",
      "101/101 [==============================] - 1s 6ms/step - loss: 0.0129\n",
      "Epoch 299/500\n",
      "101/101 [==============================] - 1s 6ms/step - loss: 0.0164\n",
      "Epoch 300/500\n",
      "101/101 [==============================] - 1s 6ms/step - loss: 0.0140\n",
      "Epoch 301/500\n",
      "101/101 [==============================] - 1s 6ms/step - loss: 0.0142\n",
      "Epoch 302/500\n",
      "101/101 [==============================] - 1s 6ms/step - loss: 0.0161\n",
      "Epoch 303/500\n",
      "101/101 [==============================] - 1s 6ms/step - loss: 0.0135\n",
      "Epoch 304/500\n",
      "101/101 [==============================] - 1s 6ms/step - loss: 0.0158\n",
      "Epoch 305/500\n",
      "101/101 [==============================] - 1s 6ms/step - loss: 0.0144\n",
      "Epoch 306/500\n",
      "101/101 [==============================] - 1s 6ms/step - loss: 0.0151\n",
      "Epoch 307/500\n",
      "101/101 [==============================] - 1s 6ms/step - loss: 0.0133\n",
      "Epoch 308/500\n",
      "101/101 [==============================] - 1s 6ms/step - loss: 0.0144\n",
      "Epoch 309/500\n",
      "101/101 [==============================] - 1s 6ms/step - loss: 0.0134\n",
      "Epoch 310/500\n",
      "101/101 [==============================] - 1s 6ms/step - loss: 0.0151\n",
      "Epoch 311/500\n",
      "101/101 [==============================] - 1s 6ms/step - loss: 0.0127\n",
      "Epoch 312/500\n",
      "101/101 [==============================] - 1s 6ms/step - loss: 0.0150\n",
      "Epoch 313/500\n",
      "101/101 [==============================] - 1s 6ms/step - loss: 0.0161\n",
      "Epoch 314/500\n",
      "101/101 [==============================] - 1s 6ms/step - loss: 0.0149\n",
      "Epoch 315/500\n",
      "101/101 [==============================] - 1s 6ms/step - loss: 0.0163\n",
      "Epoch 316/500\n",
      "101/101 [==============================] - 1s 6ms/step - loss: 0.0131\n",
      "Epoch 317/500\n",
      "101/101 [==============================] - 1s 6ms/step - loss: 0.0138\n",
      "Epoch 318/500\n",
      "101/101 [==============================] - 1s 6ms/step - loss: 0.0158\n",
      "Epoch 319/500\n",
      "101/101 [==============================] - 1s 6ms/step - loss: 0.0173\n",
      "Epoch 320/500\n",
      "101/101 [==============================] - 1s 6ms/step - loss: 0.0155\n",
      "Epoch 321/500\n",
      "101/101 [==============================] - 1s 6ms/step - loss: 0.0142\n",
      "Epoch 322/500\n",
      "101/101 [==============================] - 1s 6ms/step - loss: 0.0139\n",
      "Epoch 323/500\n",
      "101/101 [==============================] - 1s 6ms/step - loss: 0.0129\n",
      "Epoch 324/500\n",
      "101/101 [==============================] - 1s 6ms/step - loss: 0.0126\n",
      "Epoch 325/500\n",
      "101/101 [==============================] - 1s 6ms/step - loss: 0.0141\n",
      "Epoch 326/500\n",
      "101/101 [==============================] - 1s 6ms/step - loss: 0.0154\n",
      "Epoch 327/500\n",
      "101/101 [==============================] - 1s 6ms/step - loss: 0.0164\n",
      "Epoch 328/500\n",
      "101/101 [==============================] - 1s 6ms/step - loss: 0.0139\n",
      "Epoch 329/500\n",
      "101/101 [==============================] - 1s 6ms/step - loss: 0.0141\n",
      "Epoch 330/500\n",
      "101/101 [==============================] - 1s 6ms/step - loss: 0.0137\n",
      "Epoch 331/500\n",
      "101/101 [==============================] - 1s 6ms/step - loss: 0.0144\n",
      "Epoch 332/500\n",
      "101/101 [==============================] - 1s 6ms/step - loss: 0.0152\n",
      "Epoch 333/500\n",
      "101/101 [==============================] - 1s 6ms/step - loss: 0.0138\n",
      "Epoch 334/500\n",
      "101/101 [==============================] - 1s 6ms/step - loss: 0.0140\n",
      "Epoch 335/500\n",
      "101/101 [==============================] - 1s 6ms/step - loss: 0.0126\n",
      "Epoch 336/500\n",
      "101/101 [==============================] - 1s 8ms/step - loss: 0.0135\n",
      "Epoch 337/500\n",
      "101/101 [==============================] - 1s 7ms/step - loss: 0.0132\n",
      "Epoch 338/500\n",
      "101/101 [==============================] - 1s 8ms/step - loss: 0.0130\n",
      "Epoch 339/500\n",
      "101/101 [==============================] - 1s 8ms/step - loss: 0.0162\n",
      "Epoch 340/500\n",
      "101/101 [==============================] - 1s 7ms/step - loss: 0.0151\n",
      "Epoch 341/500\n",
      "101/101 [==============================] - 1s 7ms/step - loss: 0.0144\n",
      "Epoch 342/500\n",
      "101/101 [==============================] - 1s 8ms/step - loss: 0.0136\n",
      "Epoch 343/500\n",
      "101/101 [==============================] - 1s 7ms/step - loss: 0.0145\n",
      "Epoch 344/500\n",
      "101/101 [==============================] - 1s 6ms/step - loss: 0.0133\n",
      "Epoch 345/500\n",
      "101/101 [==============================] - 1s 6ms/step - loss: 0.0126\n",
      "Epoch 346/500\n",
      "101/101 [==============================] - 1s 7ms/step - loss: 0.0134\n",
      "Epoch 347/500\n",
      "101/101 [==============================] - 1s 7ms/step - loss: 0.0143\n",
      "Epoch 348/500\n",
      "101/101 [==============================] - 1s 6ms/step - loss: 0.0125\n",
      "Epoch 349/500\n",
      "101/101 [==============================] - 1s 6ms/step - loss: 0.0139\n",
      "Epoch 350/500\n",
      "101/101 [==============================] - 1s 6ms/step - loss: 0.0146\n",
      "Epoch 351/500\n",
      "101/101 [==============================] - 1s 7ms/step - loss: 0.0140\n",
      "Epoch 352/500\n",
      "101/101 [==============================] - 1s 6ms/step - loss: 0.0136\n",
      "Epoch 353/500\n",
      "101/101 [==============================] - 1s 7ms/step - loss: 0.0145\n",
      "Epoch 354/500\n",
      "101/101 [==============================] - 1s 6ms/step - loss: 0.0123\n",
      "Epoch 355/500\n",
      "101/101 [==============================] - 1s 7ms/step - loss: 0.0144\n",
      "Epoch 356/500\n",
      "101/101 [==============================] - 1s 7ms/step - loss: 0.0132\n",
      "Epoch 357/500\n",
      "101/101 [==============================] - 1s 6ms/step - loss: 0.0143\n",
      "Epoch 358/500\n",
      "101/101 [==============================] - 1s 7ms/step - loss: 0.0136\n",
      "Epoch 359/500\n",
      "101/101 [==============================] - 1s 12ms/step - loss: 0.0138\n",
      "Epoch 360/500\n",
      "101/101 [==============================] - 1s 11ms/step - loss: 0.0144\n",
      "Epoch 361/500\n",
      "101/101 [==============================] - 1s 10ms/step - loss: 0.0161\n",
      "Epoch 362/500\n",
      "101/101 [==============================] - 1s 8ms/step - loss: 0.0147\n",
      "Epoch 363/500\n",
      "101/101 [==============================] - 1s 10ms/step - loss: 0.0151\n",
      "Epoch 364/500\n",
      "101/101 [==============================] - 1s 10ms/step - loss: 0.0147\n",
      "Epoch 365/500\n",
      "101/101 [==============================] - 1s 9ms/step - loss: 0.0151\n",
      "Epoch 366/500\n",
      "101/101 [==============================] - 1s 9ms/step - loss: 0.0169\n",
      "Epoch 367/500\n",
      "101/101 [==============================] - 1s 8ms/step - loss: 0.0142\n",
      "Epoch 368/500\n",
      "101/101 [==============================] - 1s 7ms/step - loss: 0.0149\n",
      "Epoch 369/500\n",
      "101/101 [==============================] - 1s 7ms/step - loss: 0.0138\n",
      "Epoch 370/500\n",
      "101/101 [==============================] - 1s 8ms/step - loss: 0.0127\n",
      "Epoch 371/500\n",
      "101/101 [==============================] - 1s 8ms/step - loss: 0.0141\n",
      "Epoch 372/500\n",
      "101/101 [==============================] - 1s 6ms/step - loss: 0.0124\n",
      "Epoch 373/500\n",
      "101/101 [==============================] - 1s 7ms/step - loss: 0.0136\n",
      "Epoch 374/500\n",
      "101/101 [==============================] - 1s 7ms/step - loss: 0.0128\n",
      "Epoch 375/500\n",
      "101/101 [==============================] - 1s 8ms/step - loss: 0.0150\n",
      "Epoch 376/500\n",
      "101/101 [==============================] - 1s 8ms/step - loss: 0.0139\n",
      "Epoch 377/500\n",
      "101/101 [==============================] - 1s 6ms/step - loss: 0.0140\n",
      "Epoch 378/500\n",
      "101/101 [==============================] - 1s 8ms/step - loss: 0.0159\n",
      "Epoch 379/500\n",
      "101/101 [==============================] - 1s 7ms/step - loss: 0.0157\n",
      "Epoch 380/500\n",
      "101/101 [==============================] - 1s 8ms/step - loss: 0.0156\n",
      "Epoch 381/500\n",
      "101/101 [==============================] - 1s 8ms/step - loss: 0.0134\n",
      "Epoch 382/500\n",
      "101/101 [==============================] - 1s 6ms/step - loss: 0.0139\n",
      "Epoch 383/500\n",
      "101/101 [==============================] - 1s 8ms/step - loss: 0.0142\n",
      "Epoch 384/500\n",
      "101/101 [==============================] - 1s 7ms/step - loss: 0.0121\n",
      "Epoch 385/500\n",
      "101/101 [==============================] - 1s 6ms/step - loss: 0.0125\n",
      "Epoch 386/500\n",
      "101/101 [==============================] - 1s 6ms/step - loss: 0.0149\n",
      "Epoch 387/500\n",
      "101/101 [==============================] - 1s 7ms/step - loss: 0.0121\n",
      "Epoch 388/500\n",
      "101/101 [==============================] - 1s 6ms/step - loss: 0.0139\n",
      "Epoch 389/500\n",
      "101/101 [==============================] - 1s 6ms/step - loss: 0.0122\n",
      "Epoch 390/500\n"
     ]
    },
    {
     "name": "stdout",
     "output_type": "stream",
     "text": [
      "101/101 [==============================] - 1s 6ms/step - loss: 0.0124\n",
      "Epoch 391/500\n",
      "101/101 [==============================] - 1s 6ms/step - loss: 0.0104\n",
      "Epoch 392/500\n",
      "101/101 [==============================] - 1s 6ms/step - loss: 0.0139\n",
      "Epoch 393/500\n",
      "101/101 [==============================] - 1s 6ms/step - loss: 0.0112\n",
      "Epoch 394/500\n",
      "101/101 [==============================] - 1s 6ms/step - loss: 0.0134\n",
      "Epoch 395/500\n",
      "101/101 [==============================] - 1s 6ms/step - loss: 0.0121\n",
      "Epoch 396/500\n",
      "101/101 [==============================] - 1s 6ms/step - loss: 0.0111\n",
      "Epoch 397/500\n",
      "101/101 [==============================] - 1s 6ms/step - loss: 0.0122\n",
      "Epoch 398/500\n",
      "101/101 [==============================] - 1s 6ms/step - loss: 0.0121\n",
      "Epoch 399/500\n",
      "101/101 [==============================] - 1s 7ms/step - loss: 0.0122\n",
      "Epoch 400/500\n",
      "101/101 [==============================] - 1s 6ms/step - loss: 0.0112\n",
      "Epoch 401/500\n",
      "101/101 [==============================] - 1s 6ms/step - loss: 0.0125\n",
      "Epoch 402/500\n",
      "101/101 [==============================] - 1s 6ms/step - loss: 0.0123\n",
      "Epoch 403/500\n",
      "101/101 [==============================] - 1s 6ms/step - loss: 0.0111\n",
      "Epoch 404/500\n",
      "101/101 [==============================] - 1s 6ms/step - loss: 0.0111\n",
      "Epoch 405/500\n",
      "101/101 [==============================] - 1s 6ms/step - loss: 0.0129\n",
      "Epoch 406/500\n",
      "101/101 [==============================] - 1s 6ms/step - loss: 0.0130\n",
      "Epoch 407/500\n",
      "101/101 [==============================] - 1s 6ms/step - loss: 0.0117\n",
      "Epoch 408/500\n",
      "101/101 [==============================] - 1s 6ms/step - loss: 0.0118\n",
      "Epoch 409/500\n",
      "101/101 [==============================] - 1s 6ms/step - loss: 0.0137\n",
      "Epoch 410/500\n",
      "101/101 [==============================] - 1s 6ms/step - loss: 0.0117\n",
      "Epoch 411/500\n",
      "101/101 [==============================] - 1s 7ms/step - loss: 0.0122\n",
      "Epoch 412/500\n",
      "101/101 [==============================] - 1s 6ms/step - loss: 0.0100\n",
      "Epoch 413/500\n",
      "101/101 [==============================] - 1s 6ms/step - loss: 0.0124\n",
      "Epoch 414/500\n",
      "101/101 [==============================] - 1s 6ms/step - loss: 0.0124\n",
      "Epoch 415/500\n",
      "101/101 [==============================] - 1s 6ms/step - loss: 0.0120\n",
      "Epoch 416/500\n",
      "101/101 [==============================] - 1s 6ms/step - loss: 0.0112\n",
      "Epoch 417/500\n",
      "101/101 [==============================] - 1s 6ms/step - loss: 0.0130\n",
      "Epoch 418/500\n",
      "101/101 [==============================] - 1s 6ms/step - loss: 0.0118\n",
      "Epoch 419/500\n",
      "101/101 [==============================] - 1s 6ms/step - loss: 0.0097\n",
      "Epoch 420/500\n",
      "101/101 [==============================] - 1s 6ms/step - loss: 0.0121\n",
      "Epoch 421/500\n",
      "101/101 [==============================] - 1s 6ms/step - loss: 0.0122\n",
      "Epoch 422/500\n",
      "101/101 [==============================] - 1s 6ms/step - loss: 0.0091\n",
      "Epoch 423/500\n",
      "101/101 [==============================] - 1s 6ms/step - loss: 0.0114\n",
      "Epoch 424/500\n",
      "101/101 [==============================] - 1s 6ms/step - loss: 0.0105\n",
      "Epoch 425/500\n",
      "101/101 [==============================] - 1s 7ms/step - loss: 0.0104\n",
      "Epoch 426/500\n",
      "101/101 [==============================] - 1s 6ms/step - loss: 0.0106\n",
      "Epoch 427/500\n",
      "101/101 [==============================] - 1s 9ms/step - loss: 0.0122\n",
      "Epoch 428/500\n",
      "101/101 [==============================] - 1s 7ms/step - loss: 0.0083\n",
      "Epoch 429/500\n",
      "101/101 [==============================] - 1s 6ms/step - loss: 0.0117\n",
      "Epoch 430/500\n",
      "101/101 [==============================] - 1s 6ms/step - loss: 0.0110\n",
      "Epoch 431/500\n",
      "101/101 [==============================] - 1s 7ms/step - loss: 0.0090\n",
      "Epoch 432/500\n",
      "101/101 [==============================] - 1s 6ms/step - loss: 0.0112\n",
      "Epoch 433/500\n",
      "101/101 [==============================] - 1s 6ms/step - loss: 0.0092\n",
      "Epoch 434/500\n",
      "101/101 [==============================] - 1s 6ms/step - loss: 0.0118\n",
      "Epoch 435/500\n",
      "101/101 [==============================] - 1s 7ms/step - loss: 0.0106\n",
      "Epoch 436/500\n",
      "101/101 [==============================] - 1s 7ms/step - loss: 0.0098\n",
      "Epoch 437/500\n",
      "101/101 [==============================] - 1s 6ms/step - loss: 0.0098\n",
      "Epoch 438/500\n",
      "101/101 [==============================] - 1s 6ms/step - loss: 0.0107\n",
      "Epoch 439/500\n",
      "101/101 [==============================] - 1s 7ms/step - loss: 0.0117\n",
      "Epoch 440/500\n",
      "101/101 [==============================] - 1s 7ms/step - loss: 0.0101\n",
      "Epoch 441/500\n",
      "101/101 [==============================] - 1s 7ms/step - loss: 0.0095\n",
      "Epoch 442/500\n",
      "101/101 [==============================] - 1s 6ms/step - loss: 0.0100\n",
      "Epoch 443/500\n",
      "101/101 [==============================] - 1s 6ms/step - loss: 0.0110\n",
      "Epoch 444/500\n",
      "101/101 [==============================] - 1s 6ms/step - loss: 0.0103\n",
      "Epoch 445/500\n",
      "101/101 [==============================] - 1s 6ms/step - loss: 0.0107\n",
      "Epoch 446/500\n",
      "101/101 [==============================] - 1s 6ms/step - loss: 0.0090\n",
      "Epoch 447/500\n",
      "101/101 [==============================] - 1s 11ms/step - loss: 0.0102\n",
      "Epoch 448/500\n",
      "101/101 [==============================] - 1s 10ms/step - loss: 0.0116\n",
      "Epoch 449/500\n",
      "101/101 [==============================] - 1s 8ms/step - loss: 0.0089\n",
      "Epoch 450/500\n",
      "101/101 [==============================] - 1s 8ms/step - loss: 0.0092\n",
      "Epoch 451/500\n",
      "101/101 [==============================] - 1s 9ms/step - loss: 0.0109\n",
      "Epoch 452/500\n",
      "101/101 [==============================] - 1s 9ms/step - loss: 0.0082\n",
      "Epoch 453/500\n",
      "101/101 [==============================] - 1s 10ms/step - loss: 0.0087\n",
      "Epoch 454/500\n",
      "101/101 [==============================] - 1s 9ms/step - loss: 0.0084\n",
      "Epoch 455/500\n",
      "101/101 [==============================] - 1s 8ms/step - loss: 0.0101\n",
      "Epoch 456/500\n",
      "101/101 [==============================] - 1s 6ms/step - loss: 0.0103\n",
      "Epoch 457/500\n",
      "101/101 [==============================] - 1s 6ms/step - loss: 0.0098\n",
      "Epoch 458/500\n",
      "101/101 [==============================] - 1s 6ms/step - loss: 0.0103\n",
      "Epoch 459/500\n",
      "101/101 [==============================] - 1s 8ms/step - loss: 0.0099\n",
      "Epoch 460/500\n",
      "101/101 [==============================] - 1s 6ms/step - loss: 0.0115\n",
      "Epoch 461/500\n",
      "101/101 [==============================] - 1s 7ms/step - loss: 0.0097\n",
      "Epoch 462/500\n",
      "101/101 [==============================] - 1s 9ms/step - loss: 0.0087\n",
      "Epoch 463/500\n",
      "101/101 [==============================] - 1s 8ms/step - loss: 0.0090\n",
      "Epoch 464/500\n",
      "101/101 [==============================] - 1s 8ms/step - loss: 0.0102\n",
      "Epoch 465/500\n",
      "101/101 [==============================] - 1s 8ms/step - loss: 0.0084\n",
      "Epoch 466/500\n",
      "101/101 [==============================] - 1s 8ms/step - loss: 0.0095\n",
      "Epoch 467/500\n",
      "101/101 [==============================] - 1s 7ms/step - loss: 0.0113\n",
      "Epoch 468/500\n",
      "101/101 [==============================] - 1s 9ms/step - loss: 0.0096\n",
      "Epoch 469/500\n",
      "101/101 [==============================] - 1s 8ms/step - loss: 0.0099\n",
      "Epoch 470/500\n",
      "101/101 [==============================] - 1s 7ms/step - loss: 0.0095\n",
      "Epoch 471/500\n",
      "101/101 [==============================] - 1s 6ms/step - loss: 0.0093\n",
      "Epoch 472/500\n",
      "101/101 [==============================] - 1s 6ms/step - loss: 0.0083\n",
      "Epoch 473/500\n",
      "101/101 [==============================] - 1s 7ms/step - loss: 0.0086\n",
      "Epoch 474/500\n",
      "101/101 [==============================] - 1s 7ms/step - loss: 0.0095\n",
      "Epoch 475/500\n",
      "101/101 [==============================] - 1s 6ms/step - loss: 0.0097\n",
      "Epoch 476/500\n",
      "101/101 [==============================] - 1s 6ms/step - loss: 0.0109\n",
      "Epoch 477/500\n",
      "101/101 [==============================] - 1s 6ms/step - loss: 0.0095\n",
      "Epoch 478/500\n",
      "101/101 [==============================] - 1s 6ms/step - loss: 0.0096\n",
      "Epoch 479/500\n",
      "101/101 [==============================] - 1s 7ms/step - loss: 0.0084\n",
      "Epoch 480/500\n",
      "101/101 [==============================] - 1s 7ms/step - loss: 0.0087\n",
      "Epoch 481/500\n",
      "101/101 [==============================] - 1s 6ms/step - loss: 0.0078\n",
      "Epoch 482/500\n",
      "101/101 [==============================] - 1s 9ms/step - loss: 0.0087\n",
      "Epoch 483/500\n",
      "101/101 [==============================] - 1s 7ms/step - loss: 0.0105\n",
      "Epoch 484/500\n",
      "101/101 [==============================] - 1s 6ms/step - loss: 0.0074\n",
      "Epoch 485/500\n",
      "101/101 [==============================] - 1s 6ms/step - loss: 0.0091\n",
      "Epoch 486/500\n",
      "101/101 [==============================] - 1s 6ms/step - loss: 0.0083\n",
      "Epoch 487/500\n"
     ]
    },
    {
     "name": "stdout",
     "output_type": "stream",
     "text": [
      "101/101 [==============================] - 1s 6ms/step - loss: 0.0086\n",
      "Epoch 488/500\n",
      "101/101 [==============================] - 1s 6ms/step - loss: 0.0079\n",
      "Epoch 489/500\n",
      "101/101 [==============================] - 1s 6ms/step - loss: 0.0090\n",
      "Epoch 490/500\n",
      "101/101 [==============================] - 1s 6ms/step - loss: 0.0089\n",
      "Epoch 491/500\n",
      "101/101 [==============================] - 1s 6ms/step - loss: 0.0086\n",
      "Epoch 492/500\n",
      "101/101 [==============================] - 1s 6ms/step - loss: 0.0088\n",
      "Epoch 493/500\n",
      "101/101 [==============================] - 1s 7ms/step - loss: 0.0099\n",
      "Epoch 494/500\n",
      "101/101 [==============================] - 1s 7ms/step - loss: 0.0078\n",
      "Epoch 495/500\n",
      "101/101 [==============================] - 1s 6ms/step - loss: 0.0084\n",
      "Epoch 496/500\n",
      "101/101 [==============================] - 1s 6ms/step - loss: 0.0078\n",
      "Epoch 497/500\n",
      "101/101 [==============================] - 1s 6ms/step - loss: 0.0074\n",
      "Epoch 498/500\n",
      "101/101 [==============================] - 1s 8ms/step - loss: 0.0089\n",
      "Epoch 499/500\n",
      "101/101 [==============================] - 1s 8ms/step - loss: 0.0100\n",
      "Epoch 500/500\n",
      "101/101 [==============================] - 1s 7ms/step - loss: 0.0084\n"
     ]
    },
    {
     "data": {
      "text/plain": [
       "<keras.callbacks.History at 0x127f06b70>"
      ]
     },
     "execution_count": 61,
     "metadata": {},
     "output_type": "execute_result"
    }
   ],
   "source": [
    "regressor = Sequential()\n",
    "\n",
    "regressor.add(LSTM(units = 90, return_sequences = True, \n",
    "                   input_shape = (X_train.shape[1], 1)))\n",
    "regressor.add(Dropout(0.5))\n",
    "regressor.add(LSTM(units = 90, return_sequences = True))\n",
    "regressor.add(Dropout(0.5))\n",
    "\n",
    "regressor.add(LSTM(units = 90, return_sequences = True))\n",
    "regressor.add(Dropout(0.5))\n",
    "\n",
    "regressor.add(LSTM(units = 90))\n",
    "regressor.add(Dropout(0.5))\n",
    "\n",
    "regressor.add(Dense(units = 1))   \n",
    "              \n",
    "regressor.compile(optimizer = 'adam', \n",
    "                  loss = 'mean_squared_error')\n",
    "\n",
    "regressor.fit(X_train, y_train, epochs = 500, batch_size = 5)"
   ]
  },
  {
   "cell_type": "code",
   "execution_count": 62,
   "metadata": {},
   "outputs": [],
   "source": [
    "rejected_loan_count = dataset_test.iloc[:, 1:2].values"
   ]
  },
  {
   "cell_type": "code",
   "execution_count": 63,
   "metadata": {
    "scrolled": true
   },
   "outputs": [
    {
     "data": {
      "text/plain": [
       "array([[194570],\n",
       "       [193545],\n",
       "       [196149],\n",
       "       [190241],\n",
       "       [189141],\n",
       "       [210487],\n",
       "       [206549],\n",
       "       [174618]])"
      ]
     },
     "execution_count": 63,
     "metadata": {},
     "output_type": "execute_result"
    }
   ],
   "source": [
    "rejected_loan_count"
   ]
  },
  {
   "cell_type": "code",
   "execution_count": 64,
   "metadata": {},
   "outputs": [
    {
     "data": {
      "text/plain": [
       "((109, 2), (8, 2))"
      ]
     },
     "execution_count": 64,
     "metadata": {},
     "output_type": "execute_result"
    }
   ],
   "source": [
    "dataset_train.shape, dataset_test.shape"
   ]
  },
  {
   "cell_type": "code",
   "execution_count": 65,
   "metadata": {},
   "outputs": [
    {
     "data": {
      "text/plain": [
       "array([[ 0.88084418],\n",
       "       [-0.34832306],\n",
       "       [-0.52861803],\n",
       "       [ 1.00094789],\n",
       "       [ 1.19546126],\n",
       "       [ 1.04329644],\n",
       "       [ 0.87066827],\n",
       "       [ 0.37567259],\n",
       "       [ 0.55624634],\n",
       "       [ 0.52767013],\n",
       "       [ 0.60026764],\n",
       "       [ 0.43555717],\n",
       "       [ 0.40489002],\n",
       "       [ 1.        ],\n",
       "       [ 0.8902116 ],\n",
       "       [ 0.        ]])"
      ]
     },
     "execution_count": 65,
     "metadata": {},
     "output_type": "execute_result"
    }
   ],
   "source": [
    "dataset_total = pd.concat((dataset_train['Count'],\n",
    "                           dataset_test['Count']),\n",
    "                          axis=0)\n",
    "inputs = dataset_total[len(dataset_total) - len(dataset_test) - 8:].values\n",
    "inputs = inputs.reshape(-1, 1)\n",
    "inputs = sc.transform(inputs)\n",
    "inputs"
   ]
  },
  {
   "cell_type": "code",
   "execution_count": 66,
   "metadata": {},
   "outputs": [],
   "source": [
    "X_test = []\n",
    "for i in range(8, 16):\n",
    "    X_test.append(inputs[i-8:i, 0])\n",
    "X_test = np.array(X_test)\n",
    "X_test = np.reshape(X_test, (X_test.shape[0], X_test.shape[1], 1))\n",
    "predicted_loans = regressor.predict(X_test)\n",
    "predicted_loans = sc.inverse_transform(predicted_loans)"
   ]
  },
  {
   "cell_type": "code",
   "execution_count": 70,
   "metadata": {},
   "outputs": [
    {
     "data": {
      "image/png": "[encoded data removed]",
      "text/plain": [
       "<Figure size 432x288 with 1 Axes>"
      ]
     },
     "metadata": {
      "needs_background": "light"
     },
     "output_type": "display_data"
    },
    {
     "name": "stdout",
     "output_type": "stream",
     "text": [
      "RMSE Train Score: 2815.62 \n",
      "MSE Train Score: 7927718.85 \n",
      "\n",
      "RMSE Test Score: 10935.81 \n",
      "MSE Test Score: 119591873.43 \n"
     ]
    }
   ],
   "source": [
    "\n",
    "plt.plot(rejected_loan_count, color='black', label='True Count')\n",
    "plt.plot(predicted_loans, color='green', label='Predicted Count')\n",
    "plt.title('LendingClub Rejection Prediction')\n",
    "plt.xlabel('Time(weeks)')\n",
    "plt.ylabel('Loan Rejection Count')\n",
    "plt.legend()\n",
    "plt.show();\n",
    "\n",
    "# make predictions\n",
    "import math\n",
    "trainPredict = regressor.predict(X_train)\n",
    "testPredict = regressor.predict(X_test)\n",
    "# invert predictions\n",
    "trainPredict = sc.inverse_transform(trainPredict)\n",
    "trainY = sc.inverse_transform([y_train])\n",
    "testPredict = sc.inverse_transform(testPredict)\n",
    "testY = sc.inverse_transform([y_test])\n",
    "# calculate root mean squared error\n",
    "trainScore1 = math.sqrt(mean_squared_error(trainY[0], trainPredict[:,0]))\n",
    "print('RMSE Train Score: %.2f ' % (trainScore1))\n",
    "trainScore2 = mean_squared_error(trainY[0], trainPredict[:,0])\n",
    "print('MSE Train Score: %.2f ' % (trainScore2))\n",
    "\n",
    "testScore3 = math.sqrt(mean_squared_error(testY[0], testPredict[:,0]))\n",
    "print('\\nRMSE Test Score: %.2f ' % (testScore3))\n",
    "testScore4 = mean_squared_error(testY[0], testPredict[:,0])\n",
    "print('MSE Test Score: %.2f ' % (testScore4))\n"
   ]
  },
  {
   "cell_type": "markdown",
   "metadata": {},
   "source": [
    "_From the plot the model didn't do that well, it is overfitting.  It is predicting more rejections. The root mean square of the  actual and the predicted are not close at all._"
   ]
  },
  {
   "cell_type": "code",
   "execution_count": null,
   "metadata": {},
   "outputs": [],
   "source": []
  }
 ],
 "metadata": {
  "kernelspec": {
   "display_name": "Python 3",
   "language": "python",
   "name": "python3"
  },
  "language_info": {
   "codemirror_mode": {
    "name": "ipython",
    "version": 3
   },
   "file_extension": ".py",
   "mimetype": "text/x-python",
   "name": "python",
   "nbconvert_exporter": "python",
   "pygments_lexer": "ipython3",
   "version": "3.7.1"
  }
 },
 "nbformat": 4,
 "nbformat_minor": 2
}
