{
 "cells": [
  {
   "cell_type": "markdown",
   "metadata": {},
   "source": [
    "# Lending Club - Predicting loan application rejections\n",
    "\n",
    "_We are trying to forecast the number of loans rejected per month using Arima Time Series and LTSM models_\n",
    "\n",
    "https://www.lendingclub.com/info/download-data.action"
   ]
  },
  {
   "cell_type": "code",
   "execution_count": 1,
   "metadata": {},
   "outputs": [],
   "source": [
    "import numpy as np\n",
    "import pandas as pd\n",
    "import scipy\n",
    "from datetime import datetime\n",
    "import datetime as dt\n",
    "import matplotlib.pyplot as plt\n",
    "from statsmodels.formula.api import ols\n",
    "import seaborn as sns\n",
    "\n",
    "\n",
    "from sklearn.metrics import mean_squared_error\n",
    "from statsmodels.tools.eval_measures import rmse\n",
    "%matplotlib inline"
   ]
  },
  {
   "cell_type": "markdown",
   "metadata": {},
   "source": [
    "_Import the Lending Club rejection Application Datae from the Lending Club website_"
   ]
  },
  {
   "cell_type": "code",
   "execution_count": 2,
   "metadata": {},
   "outputs": [],
   "source": [
    "df2017Q1 = pd.read_csv('RejectStats_2017Q1.csv',\n",
    "                       low_memory=False, skiprows=[0]).iloc[:, [1]]\n",
    "df2017Q2 = pd.read_csv('RejectStats_2017Q2.csv',\n",
    "                       low_memory=False, skiprows=[0]).iloc[:, [1]]\n",
    "df2017Q3 = pd.read_csv('RejectStats_2017Q3.csv',\n",
    "                       low_memory=False, skiprows=[0]).iloc[:, [1]]\n",
    "df2017Q4 = pd.read_csv('RejectStats_2017Q4.csv',\n",
    "                       low_memory=False, skiprows=[0]).iloc[:, [1]]\n",
    "df2018Q1 = pd.read_csv('RejectStats_2018Q1.csv',\n",
    "                       low_memory=False, skiprows=[0]).iloc[:, [1]]\n",
    "df2018Q2 = pd.read_csv('RejectStats_2018Q2.csv',\n",
    "                       low_memory=False, skiprows=[0]).iloc[:, [1]]\n",
    "df2018Q3 = pd.read_csv('RejectStats_2018Q3.csv',\n",
    "                       low_memory=False, skiprows=[0]).iloc[:, [1]]\n",
    "df2018Q4 = pd.read_csv('RejectStats_2018Q4.csv',\n",
    "                       low_memory=False, skiprows=[0]).iloc[:, [1]]\n",
    "df2019Q1 = pd.read_csv('RejectStats_2019Q1.csv',\n",
    "                       low_memory=False, skiprows=[0]).iloc[:, [1]]"
   ]
  },
  {
   "cell_type": "code",
   "execution_count": 3,
   "metadata": {},
   "outputs": [],
   "source": [
    "loans = [df2017Q1, df2017Q2, df2017Q3, df2017Q4,\n",
    "         df2018Q1, df2018Q2, df2018Q3, df2018Q4, df2019Q1]\n",
    "df = pd.concat(loans)\n",
    "df.to_csv('RejectedLoans.csv')"
   ]
  },
  {
   "cell_type": "markdown",
   "metadata": {},
   "source": [
    "_Only import the application data as the data_"
   ]
  },
  {
   "cell_type": "code",
   "execution_count": 4,
   "metadata": {
    "scrolled": true
   },
   "outputs": [],
   "source": [
    "df = pd.read_csv('RejectedLoans.csv')\n",
    "df = df.drop('Unnamed: 0', axis=1)"
   ]
  },
  {
   "cell_type": "code",
   "execution_count": 5,
   "metadata": {},
   "outputs": [],
   "source": [
    "df = df.dropna()"
   ]
  },
  {
   "cell_type": "code",
   "execution_count": 6,
   "metadata": {},
   "outputs": [
    {
     "data": {
      "text/html": [
       "<div>\n",
       "<style scoped>\n",
       "    .dataframe tbody tr th:only-of-type {\n",
       "        vertical-align: middle;\n",
       "    }\n",
       "\n",
       "    .dataframe tbody tr th {\n",
       "        vertical-align: top;\n",
       "    }\n",
       "\n",
       "    .dataframe thead th {\n",
       "        text-align: right;\n",
       "    }\n",
       "</style>\n",
       "<table border=\"1\" class=\"dataframe\">\n",
       "  <thead>\n",
       "    <tr style=\"text-align: right;\">\n",
       "      <th></th>\n",
       "      <th>Application Date</th>\n",
       "    </tr>\n",
       "  </thead>\n",
       "  <tbody>\n",
       "    <tr>\n",
       "      <th>0</th>\n",
       "      <td>2017-01-01</td>\n",
       "    </tr>\n",
       "    <tr>\n",
       "      <th>1</th>\n",
       "      <td>2017-01-01</td>\n",
       "    </tr>\n",
       "    <tr>\n",
       "      <th>2</th>\n",
       "      <td>2017-01-01</td>\n",
       "    </tr>\n",
       "    <tr>\n",
       "      <th>3</th>\n",
       "      <td>2017-01-01</td>\n",
       "    </tr>\n",
       "    <tr>\n",
       "      <th>4</th>\n",
       "      <td>2017-01-01</td>\n",
       "    </tr>\n",
       "  </tbody>\n",
       "</table>\n",
       "</div>"
      ],
      "text/plain": [
       "  Application Date\n",
       "0       2017-01-01\n",
       "1       2017-01-01\n",
       "2       2017-01-01\n",
       "3       2017-01-01\n",
       "4       2017-01-01"
      ]
     },
     "execution_count": 6,
     "metadata": {},
     "output_type": "execute_result"
    }
   ],
   "source": [
    "df.head()"
   ]
  },
  {
   "cell_type": "code",
   "execution_count": 7,
   "metadata": {},
   "outputs": [
    {
     "name": "stdout",
     "output_type": "stream",
     "text": [
      "<class 'pandas.core.frame.DataFrame'>\n",
      "Int64Index: 19158655 entries, 0 to 19158654\n",
      "Data columns (total 1 columns):\n",
      "Application Date    object\n",
      "dtypes: object(1)\n",
      "memory usage: 292.3+ MB\n"
     ]
    },
    {
     "data": {
      "text/plain": [
       "((19158655, 1), None)"
      ]
     },
     "execution_count": 7,
     "metadata": {},
     "output_type": "execute_result"
    }
   ],
   "source": [
    "df.shape, df.info()"
   ]
  },
  {
   "cell_type": "markdown",
   "metadata": {},
   "source": [
    "_The forecast will be computed on a weekly basis_"
   ]
  },
  {
   "cell_type": "code",
   "execution_count": 8,
   "metadata": {},
   "outputs": [],
   "source": [
    "# https://stackoverflow.com/questions/45281297/group-by-week-in-pandas#45281439\n",
    "# http://pandas.pydata.org/pandas-docs/stable/user_guide/timeseries.html\n",
    "# https://pandas.pydata.org/pandas-docs/stable/reference/api/pandas.Grouper.html\n",
    "df.rename(columns={'Application Date': 'Application_Date'}, inplace=True)\n",
    "df['Count'] = 1\n",
    "df['Application_Date'] = pd.to_datetime(\n",
    "    df['Application_Date']) - pd.to_timedelta(7, unit='d')\n",
    "df = df.groupby([pd.Grouper(key='Application_Date', freq='W-MON')]\n",
    "                )['Count'].sum().reset_index().sort_values('Application_Date')"
   ]
  },
  {
   "cell_type": "code",
   "execution_count": 9,
   "metadata": {},
   "outputs": [
    {
     "name": "stdout",
     "output_type": "stream",
     "text": [
      "<class 'pandas.core.frame.DataFrame'>\n",
      "Int64Index: 118 entries, 0 to 117\n",
      "Data columns (total 2 columns):\n",
      "Application_Date    118 non-null datetime64[ns]\n",
      "Count               118 non-null int64\n",
      "dtypes: datetime64[ns](1), int64(1)\n",
      "memory usage: 2.8 KB\n"
     ]
    },
    {
     "data": {
      "text/plain": [
       "((118, 2), None)"
      ]
     },
     "execution_count": 9,
     "metadata": {},
     "output_type": "execute_result"
    }
   ],
   "source": [
    "df.shape, df.info()"
   ]
  },
  {
   "cell_type": "code",
   "execution_count": 10,
   "metadata": {},
   "outputs": [
    {
     "data": {
      "text/html": [
       "<div>\n",
       "<style scoped>\n",
       "    .dataframe tbody tr th:only-of-type {\n",
       "        vertical-align: middle;\n",
       "    }\n",
       "\n",
       "    .dataframe tbody tr th {\n",
       "        vertical-align: top;\n",
       "    }\n",
       "\n",
       "    .dataframe thead th {\n",
       "        text-align: right;\n",
       "    }\n",
       "</style>\n",
       "<table border=\"1\" class=\"dataframe\">\n",
       "  <thead>\n",
       "    <tr style=\"text-align: right;\">\n",
       "      <th></th>\n",
       "      <th>Application_Date</th>\n",
       "      <th>Count</th>\n",
       "    </tr>\n",
       "  </thead>\n",
       "  <tbody>\n",
       "    <tr>\n",
       "      <th>0</th>\n",
       "      <td>2016-12-26</td>\n",
       "      <td>19659</td>\n",
       "    </tr>\n",
       "    <tr>\n",
       "      <th>1</th>\n",
       "      <td>2017-01-02</td>\n",
       "      <td>119903</td>\n",
       "    </tr>\n",
       "    <tr>\n",
       "      <th>2</th>\n",
       "      <td>2017-01-09</td>\n",
       "      <td>112116</td>\n",
       "    </tr>\n",
       "    <tr>\n",
       "      <th>3</th>\n",
       "      <td>2017-01-16</td>\n",
       "      <td>110457</td>\n",
       "    </tr>\n",
       "    <tr>\n",
       "      <th>4</th>\n",
       "      <td>2017-01-23</td>\n",
       "      <td>108717</td>\n",
       "    </tr>\n",
       "  </tbody>\n",
       "</table>\n",
       "</div>"
      ],
      "text/plain": [
       "  Application_Date   Count\n",
       "0       2016-12-26   19659\n",
       "1       2017-01-02  119903\n",
       "2       2017-01-09  112116\n",
       "3       2017-01-16  110457\n",
       "4       2017-01-23  108717"
      ]
     },
     "execution_count": 10,
     "metadata": {},
     "output_type": "execute_result"
    }
   ],
   "source": [
    "df.head()"
   ]
  },
  {
   "cell_type": "code",
   "execution_count": 11,
   "metadata": {},
   "outputs": [],
   "source": [
    "# I will drop the 2016 date.\n",
    "df = df.loc[1:, :]"
   ]
  },
  {
   "cell_type": "code",
   "execution_count": 12,
   "metadata": {},
   "outputs": [
    {
     "data": {
      "text/html": [
       "<div>\n",
       "<style scoped>\n",
       "    .dataframe tbody tr th:only-of-type {\n",
       "        vertical-align: middle;\n",
       "    }\n",
       "\n",
       "    .dataframe tbody tr th {\n",
       "        vertical-align: top;\n",
       "    }\n",
       "\n",
       "    .dataframe thead th {\n",
       "        text-align: right;\n",
       "    }\n",
       "</style>\n",
       "<table border=\"1\" class=\"dataframe\">\n",
       "  <thead>\n",
       "    <tr style=\"text-align: right;\">\n",
       "      <th></th>\n",
       "      <th>Application_Date</th>\n",
       "      <th>Count</th>\n",
       "    </tr>\n",
       "  </thead>\n",
       "  <tbody>\n",
       "    <tr>\n",
       "      <th>1</th>\n",
       "      <td>2017-01-02</td>\n",
       "      <td>119903</td>\n",
       "    </tr>\n",
       "    <tr>\n",
       "      <th>2</th>\n",
       "      <td>2017-01-09</td>\n",
       "      <td>112116</td>\n",
       "    </tr>\n",
       "    <tr>\n",
       "      <th>3</th>\n",
       "      <td>2017-01-16</td>\n",
       "      <td>110457</td>\n",
       "    </tr>\n",
       "    <tr>\n",
       "      <th>4</th>\n",
       "      <td>2017-01-23</td>\n",
       "      <td>108717</td>\n",
       "    </tr>\n",
       "    <tr>\n",
       "      <th>5</th>\n",
       "      <td>2017-01-30</td>\n",
       "      <td>107435</td>\n",
       "    </tr>\n",
       "  </tbody>\n",
       "</table>\n",
       "</div>"
      ],
      "text/plain": [
       "  Application_Date   Count\n",
       "1       2017-01-02  119903\n",
       "2       2017-01-09  112116\n",
       "3       2017-01-16  110457\n",
       "4       2017-01-23  108717\n",
       "5       2017-01-30  107435"
      ]
     },
     "execution_count": 12,
     "metadata": {},
     "output_type": "execute_result"
    }
   ],
   "source": [
    "df.head()"
   ]
  },
  {
   "cell_type": "code",
   "execution_count": 13,
   "metadata": {},
   "outputs": [
    {
     "data": {
      "text/plain": [
       "(117, 2)"
      ]
     },
     "execution_count": 13,
     "metadata": {},
     "output_type": "execute_result"
    }
   ],
   "source": [
    "df.shape"
   ]
  },
  {
   "cell_type": "markdown",
   "metadata": {},
   "source": [
    "_Our dataset is not down to 117 rows, which is 117 weeks of loan data._"
   ]
  },
  {
   "cell_type": "code",
   "execution_count": 14,
   "metadata": {},
   "outputs": [],
   "source": [
    "df['Application_Date'] = pd.to_datetime(df['Application_Date'])"
   ]
  },
  {
   "cell_type": "markdown",
   "metadata": {},
   "source": [
    "_What is the time range of the data_"
   ]
  },
  {
   "cell_type": "code",
   "execution_count": 15,
   "metadata": {},
   "outputs": [
    {
     "name": "stdout",
     "output_type": "stream",
     "text": [
      "Starts date 2017-01-02 00:00:00\n",
      "Ends date 2019-03-25 00:00:00\n"
     ]
    }
   ],
   "source": [
    "print(\"Starts date {}\".format(df['Application_Date'].min()))\n",
    "print(\"Ends date {}\".format(df['Application_Date'].max()))"
   ]
  },
  {
   "cell_type": "code",
   "execution_count": 16,
   "metadata": {},
   "outputs": [
    {
     "data": {
      "text/plain": [
       "DatetimeIndex(['2017-01-02', '2017-01-09', '2017-01-16', '2017-01-23',\n",
       "               '2017-01-30', '2017-02-06', '2017-02-13', '2017-02-20',\n",
       "               '2017-02-27', '2017-03-06',\n",
       "               ...\n",
       "               '2019-01-21', '2019-01-28', '2019-02-04', '2019-02-11',\n",
       "               '2019-02-18', '2019-02-25', '2019-03-04', '2019-03-11',\n",
       "               '2019-03-18', '2019-03-25'],\n",
       "              dtype='datetime64[ns]', name='Application_Date', length=117, freq=None)"
      ]
     },
     "execution_count": 16,
     "metadata": {},
     "output_type": "execute_result"
    }
   ],
   "source": [
    "dfIndex = df.set_index('Application_Date')\n",
    "dfIndex.index"
   ]
  },
  {
   "cell_type": "code",
   "execution_count": 17,
   "metadata": {},
   "outputs": [
    {
     "data": {
      "image/png": "[encoded data removed]",
      "text/plain": [
       "<Figure size 432x288 with 1 Axes>"
      ]
     },
     "metadata": {
      "needs_background": "light"
     },
     "output_type": "display_data"
    }
   ],
   "source": [
    "dfIndex.plot()\n",
    "plt.title('Time Series - LendingClub')\n",
    "plt.xlabel('Application_Date')\n",
    "plt.ylabel('Count')\n",
    "plt.show()"
   ]
  },
  {
   "cell_type": "markdown",
   "metadata": {},
   "source": [
    "_The data is not stationary, therefore we have to take the difference_"
   ]
  },
  {
   "cell_type": "code",
   "execution_count": 18,
   "metadata": {},
   "outputs": [
    {
     "data": {
      "image/png": "[encoded data removed]",
      "text/plain": [
       "<Figure size 432x288 with 1 Axes>"
      ]
     },
     "metadata": {
      "needs_background": "light"
     },
     "output_type": "display_data"
    }
   ],
   "source": [
    "dfIndex['diff_1'] = dfIndex.Count - dfIndex.Count.shift()\n",
    "dfIndex.plot(y='diff_1')\n",
    "plt.title('DTime Series')\n",
    "plt.show()"
   ]
  },
  {
   "cell_type": "code",
   "execution_count": 19,
   "metadata": {},
   "outputs": [
    {
     "data": {
      "text/html": [
       "<div>\n",
       "<style scoped>\n",
       "    .dataframe tbody tr th:only-of-type {\n",
       "        vertical-align: middle;\n",
       "    }\n",
       "\n",
       "    .dataframe tbody tr th {\n",
       "        vertical-align: top;\n",
       "    }\n",
       "\n",
       "    .dataframe thead th {\n",
       "        text-align: right;\n",
       "    }\n",
       "</style>\n",
       "<table border=\"1\" class=\"dataframe\">\n",
       "  <thead>\n",
       "    <tr style=\"text-align: right;\">\n",
       "      <th></th>\n",
       "      <th>Count</th>\n",
       "      <th>diff_1</th>\n",
       "    </tr>\n",
       "    <tr>\n",
       "      <th>Application_Date</th>\n",
       "      <th></th>\n",
       "      <th></th>\n",
       "    </tr>\n",
       "  </thead>\n",
       "  <tbody>\n",
       "    <tr>\n",
       "      <th>2017-01-02</th>\n",
       "      <td>119903</td>\n",
       "      <td>NaN</td>\n",
       "    </tr>\n",
       "    <tr>\n",
       "      <th>2017-01-09</th>\n",
       "      <td>112116</td>\n",
       "      <td>-7787.0</td>\n",
       "    </tr>\n",
       "    <tr>\n",
       "      <th>2017-01-16</th>\n",
       "      <td>110457</td>\n",
       "      <td>-1659.0</td>\n",
       "    </tr>\n",
       "    <tr>\n",
       "      <th>2017-01-23</th>\n",
       "      <td>108717</td>\n",
       "      <td>-1740.0</td>\n",
       "    </tr>\n",
       "    <tr>\n",
       "      <th>2017-01-30</th>\n",
       "      <td>107435</td>\n",
       "      <td>-1282.0</td>\n",
       "    </tr>\n",
       "  </tbody>\n",
       "</table>\n",
       "</div>"
      ],
      "text/plain": [
       "                   Count  diff_1\n",
       "Application_Date                \n",
       "2017-01-02        119903     NaN\n",
       "2017-01-09        112116 -7787.0\n",
       "2017-01-16        110457 -1659.0\n",
       "2017-01-23        108717 -1740.0\n",
       "2017-01-30        107435 -1282.0"
      ]
     },
     "execution_count": 19,
     "metadata": {},
     "output_type": "execute_result"
    }
   ],
   "source": [
    "dfIndex.head()"
   ]
  },
  {
   "cell_type": "code",
   "execution_count": 20,
   "metadata": {},
   "outputs": [],
   "source": [
    "from statsmodels.tsa.seasonal import seasonal_decompose\n",
    "dfIndex = dfIndex.dropna()\n",
    "dfIndex = dfIndex.drop('diff_1', axis=1)\n",
    "decomposition = seasonal_decompose(dfIndex, model='additive')"
   ]
  },
  {
   "cell_type": "code",
   "execution_count": 21,
   "metadata": {},
   "outputs": [
    {
     "data": {
      "image/png": "[encoded data removed]",
      "text/plain": [
       "<Figure size 720x504 with 4 Axes>"
      ]
     },
     "metadata": {
      "needs_background": "light"
     },
     "output_type": "display_data"
    }
   ],
   "source": [
    "plt.figure(figsize=(10, 7))\n",
    "trend = decomposition.trend\n",
    "seasonal = decomposition.seasonal\n",
    "residuals = decomposition.resid\n",
    "\n",
    "plt.subplot(411)\n",
    "# plt.title('Original')\n",
    "plt.plot(dfIndex.Count, label='Original')\n",
    "#plt.plot(dfIndex.diff_1, label='Diff_1')\n",
    "plt.legend(loc='best')\n",
    "\n",
    "plt.subplot(412)\n",
    "# plt.title('Trend')\n",
    "plt.plot(trend, label='Trend')\n",
    "#plt.plot(dfIndex.diff_1, label='Diff_1')\n",
    "plt.legend(loc='best')\n",
    "\n",
    "plt.subplot(413)\n",
    "# plt.title('Seasonality')\n",
    "plt.plot(seasonal, label='Seasonality')\n",
    "#plt.plot(dfIndex.diff_1, label='Diff_1')\n",
    "plt.legend(loc='best')\n",
    "\n",
    "plt.subplot(414)\n",
    "# plt.title('Residuals')\n",
    "plt.plot(residuals, label='Residuals')\n",
    "#plt.plot(dfIndex.diff_1, label='Diff_1')\n",
    "plt.legend(loc='best')\n",
    "\n",
    "plt.tight_layout()\n",
    "plt.show()"
   ]
  },
  {
   "cell_type": "markdown",
   "metadata": {},
   "source": [
    "_There is definetly a trend and seasonality in the data.  To handle the seasonality SARIMA will be used to forecast._"
   ]
  },
  {
   "cell_type": "code",
   "execution_count": 22,
   "metadata": {},
   "outputs": [
    {
     "data": {
      "text/html": [
       "<div>\n",
       "<style scoped>\n",
       "    .dataframe tbody tr th:only-of-type {\n",
       "        vertical-align: middle;\n",
       "    }\n",
       "\n",
       "    .dataframe tbody tr th {\n",
       "        vertical-align: top;\n",
       "    }\n",
       "\n",
       "    .dataframe thead th {\n",
       "        text-align: right;\n",
       "    }\n",
       "</style>\n",
       "<table border=\"1\" class=\"dataframe\">\n",
       "  <thead>\n",
       "    <tr style=\"text-align: right;\">\n",
       "      <th></th>\n",
       "      <th>Count</th>\n",
       "    </tr>\n",
       "    <tr>\n",
       "      <th>Application_Date</th>\n",
       "      <th></th>\n",
       "    </tr>\n",
       "  </thead>\n",
       "  <tbody>\n",
       "    <tr>\n",
       "      <th>2017-01-09</th>\n",
       "      <td>112116</td>\n",
       "    </tr>\n",
       "    <tr>\n",
       "      <th>2017-01-16</th>\n",
       "      <td>110457</td>\n",
       "    </tr>\n",
       "    <tr>\n",
       "      <th>2017-01-23</th>\n",
       "      <td>108717</td>\n",
       "    </tr>\n",
       "    <tr>\n",
       "      <th>2017-01-30</th>\n",
       "      <td>107435</td>\n",
       "    </tr>\n",
       "    <tr>\n",
       "      <th>2017-02-06</th>\n",
       "      <td>104842</td>\n",
       "    </tr>\n",
       "  </tbody>\n",
       "</table>\n",
       "</div>"
      ],
      "text/plain": [
       "                   Count\n",
       "Application_Date        \n",
       "2017-01-09        112116\n",
       "2017-01-16        110457\n",
       "2017-01-23        108717\n",
       "2017-01-30        107435\n",
       "2017-02-06        104842"
      ]
     },
     "execution_count": 22,
     "metadata": {},
     "output_type": "execute_result"
    }
   ],
   "source": [
    "dfIndex.head()"
   ]
  },
  {
   "cell_type": "markdown",
   "metadata": {},
   "source": [
    "_PACF for both the initial and differenced time series._"
   ]
  },
  {
   "cell_type": "code",
   "execution_count": 23,
   "metadata": {},
   "outputs": [
    {
     "data": {
      "text/plain": [
       "Text(0, 0.5, 'PACF')"
      ]
     },
     "execution_count": 23,
     "metadata": {},
     "output_type": "execute_result"
    },
    {
     "data": {
      "image/png": "[encoded data removed]",
      "text/plain": [
       "<Figure size 1080x576 with 1 Axes>"
      ]
     },
     "metadata": {
      "needs_background": "light"
     },
     "output_type": "display_data"
    }
   ],
   "source": [
    "from statsmodels.tsa.stattools import pacf\n",
    "# Plot Parameters\n",
    "plt.rcParams['figure.figsize'] = (15.0, 8.0)\n",
    "plt.rcParams.update({'font.size': 15})\n",
    "x_acf = pd.DataFrame(pacf(dfIndex.Count))\n",
    "x_acf.plot(kind='bar')\n",
    "plt.title(\"Unrate PACF\")\n",
    "plt.xlabel('lag')\n",
    "plt.ylabel('PACF')"
   ]
  },
  {
   "cell_type": "code",
   "execution_count": 24,
   "metadata": {},
   "outputs": [
    {
     "data": {
      "text/plain": [
       "Text(0, 0.5, 'diff PACF')"
      ]
     },
     "execution_count": 24,
     "metadata": {},
     "output_type": "execute_result"
    },
    {
     "data": {
      "image/png": "[encoded data removed]",
      "text/plain": [
       "<Figure size 1080x576 with 1 Axes>"
      ]
     },
     "metadata": {
      "needs_background": "light"
     },
     "output_type": "display_data"
    }
   ],
   "source": [
    "x_acf = pd.DataFrame(pacf(dfIndex.Count.iloc[1:]))\n",
    "x_acf.plot(kind='bar')\n",
    "plt.title(\"Diff PACF\")\n",
    "plt.legend(['difference'])\n",
    "plt.xlabel('lag')\n",
    "plt.ylabel('diff PACF')"
   ]
  },
  {
   "cell_type": "markdown",
   "metadata": {},
   "source": [
    "So both the original and the difference time series has 1 strong autocorrelation. This indicates that we should look into a p of 1 for our models.  I will try modeling with using the auto arima to see what the model comes up with.\n",
    "\n",
    "\n",
    "Looking at the ACF and PACF plots of the differenced series we see our first significant value at lag 4 for ACF and at the same lag 4 for the PACF which suggest to use p = 4 and q = 4. We also have a big value at lag 12 in the ACF plot which suggests our season is S = 12 and since this lag is positive it suggests P = 1 and Q = 0. Since this is a differenced series for SARIMA we set d = 1, and since the seasonal pattern is not stable over time we set D = 0. All together this gives us a SARIMA(4,1,4)(1,0,0)[12] model. Next we run SARIMA with these values to fit a model on our training data."
   ]
  },
  {
   "cell_type": "code",
   "execution_count": 25,
   "metadata": {
    "scrolled": false
   },
   "outputs": [
    {
     "name": "stdout",
     "output_type": "stream",
     "text": [
      "raw data\n",
      " Test Statistic     -1.653998\n",
      "p-value             0.454956\n",
      "#lags used          3.000000\n",
      "#nobs used        112.000000\n",
      "dtype: float64\n",
      "1% -3.4901313156261384\n",
      "5% -2.8877122815688776\n",
      "10% -2.5807296460459184\n"
     ]
    }
   ],
   "source": [
    "from statsmodels.tsa.stattools import adfuller\n",
    "\n",
    "# raw data\n",
    "acdf_test = adfuller(dfIndex['Count'], autolag='AIC')\n",
    "df_output = pd.Series(acdf_test[0:4], index=[\n",
    "                      'Test Statistic',\n",
    "                      'p-value',\n",
    "                      '#lags used',\n",
    "                      '#nobs used'])\n",
    "print('raw data\\n', df_output)\n",
    "for k, v in acdf_test[4].items():\n",
    "    print(k, v)"
   ]
  },
  {
   "cell_type": "markdown",
   "metadata": {},
   "source": [
    "_From this test, we see the time series is not stationary because the p-value is > 0.05_"
   ]
  },
  {
   "cell_type": "markdown",
   "metadata": {},
   "source": [
    "__Autocorrelation Function (ACF) and Partial Autocorrelation Function (PACF)__\n",
    "    * The ACF/PACF plots don't show a quick drop-off therefore it is not stationary.\n",
    "    * This data is non-stationary as a high number of previous observations are correlated with future values.\n",
    "    * Confidence intervals are the shaded area therefore any point outside is considered correlated."
   ]
  },
  {
   "cell_type": "code",
   "execution_count": 26,
   "metadata": {
    "scrolled": false
   },
   "outputs": [
    {
     "data": {
      "image/png": "[encoded data removed]",
      "text/plain": [
       "<Figure size 1080x576 with 1 Axes>"
      ]
     },
     "metadata": {
      "needs_background": "light"
     },
     "output_type": "display_data"
    },
    {
     "data": {
      "image/png": "[encoded data removed]",
      "text/plain": [
       "<Figure size 1080x576 with 1 Axes>"
      ]
     },
     "metadata": {
      "needs_background": "light"
     },
     "output_type": "display_data"
    }
   ],
   "source": [
    "from statsmodels.graphics.tsaplots import plot_pacf, plot_acf\n",
    "plot_acf(dfIndex['Count'], lags=50)\n",
    "plot_pacf(dfIndex['Count'], lags=50)\n",
    "plt.xlabel('lags')\n",
    "plt.show()"
   ]
  },
  {
   "cell_type": "markdown",
   "metadata": {},
   "source": [
    "## Building models.\n",
    "\n",
    "So our both time series has 1 strong autocorrelation. Let's build some ARIMA models to experiment and see how we do!\n",
    "\n",
    "We're going to build a series of models to evaluate, each with slightly different parameters for the ARIMA. Note that the parameteres are passed in (p, d, q) order, corresponding to the AR, I, and MA portions respectively.\n",
    "\n",
    "Recall how we interpret those attributes. The AR is the past values, I is the level of differencing, and MA is adjusting to past errors."
   ]
  },
  {
   "cell_type": "markdown",
   "metadata": {},
   "source": [
    "_Now we need to find the best model, one which has the lowesr AIC._"
   ]
  },
  {
   "cell_type": "code",
   "execution_count": 27,
   "metadata": {
    "scrolled": true
   },
   "outputs": [
    {
     "name": "stdout",
     "output_type": "stream",
     "text": [
      "Fit ARIMA: order=(0, 1, 0) seasonal_order=(0, 1, 0, 13); AIC=2337.103, BIC=2342.353, Fit time=0.026 seconds\n",
      "Fit ARIMA: order=(1, 1, 0) seasonal_order=(1, 1, 0, 13); AIC=2301.396, BIC=2311.896, Fit time=0.137 seconds\n",
      "Fit ARIMA: order=(0, 1, 1) seasonal_order=(0, 1, 1, 13); AIC=2287.446, BIC=2297.945, Fit time=0.455 seconds\n",
      "Fit ARIMA: order=(0, 1, 1) seasonal_order=(1, 1, 1, 13); AIC=2287.025, BIC=2300.150, Fit time=0.239 seconds\n",
      "Fit ARIMA: order=(0, 1, 1) seasonal_order=(1, 1, 0, 13); AIC=2294.004, BIC=2304.504, Fit time=0.265 seconds\n",
      "Fit ARIMA: order=(0, 1, 1) seasonal_order=(1, 1, 2, 13); AIC=nan, BIC=nan, Fit time=nan seconds\n",
      "Fit ARIMA: order=(0, 1, 1) seasonal_order=(0, 1, 0, 13); AIC=2328.712, BIC=2336.587, Fit time=0.093 seconds\n",
      "Fit ARIMA: order=(0, 1, 1) seasonal_order=(2, 1, 2, 13); AIC=nan, BIC=nan, Fit time=nan seconds\n",
      "Fit ARIMA: order=(1, 1, 1) seasonal_order=(1, 1, 1, 13); AIC=nan, BIC=nan, Fit time=nan seconds\n",
      "Fit ARIMA: order=(0, 1, 0) seasonal_order=(1, 1, 1, 13); AIC=2295.767, BIC=2306.267, Fit time=0.327 seconds\n",
      "Fit ARIMA: order=(0, 1, 2) seasonal_order=(1, 1, 1, 13); AIC=2281.713, BIC=2297.463, Fit time=0.276 seconds\n",
      "Fit ARIMA: order=(1, 1, 3) seasonal_order=(1, 1, 1, 13); AIC=2284.859, BIC=2305.859, Fit time=1.609 seconds\n",
      "Fit ARIMA: order=(0, 1, 2) seasonal_order=(0, 1, 1, 13); AIC=2281.726, BIC=2294.851, Fit time=1.162 seconds\n",
      "Fit ARIMA: order=(0, 1, 2) seasonal_order=(2, 1, 1, 13); AIC=2283.697, BIC=2302.071, Fit time=1.149 seconds\n",
      "Fit ARIMA: order=(0, 1, 2) seasonal_order=(1, 1, 0, 13); AIC=2289.213, BIC=2302.338, Fit time=0.440 seconds\n",
      "Fit ARIMA: order=(0, 1, 2) seasonal_order=(1, 1, 2, 13); AIC=nan, BIC=nan, Fit time=nan seconds\n",
      "Fit ARIMA: order=(0, 1, 2) seasonal_order=(0, 1, 0, 13); AIC=2323.002, BIC=2333.502, Fit time=0.145 seconds\n",
      "Fit ARIMA: order=(0, 1, 2) seasonal_order=(2, 1, 2, 13); AIC=nan, BIC=nan, Fit time=nan seconds\n",
      "Fit ARIMA: order=(1, 1, 2) seasonal_order=(1, 1, 1, 13); AIC=2283.683, BIC=2302.058, Fit time=0.743 seconds\n",
      "Fit ARIMA: order=(0, 1, 3) seasonal_order=(1, 1, 1, 13); AIC=2284.519, BIC=2302.894, Fit time=0.709 seconds\n",
      "Total fit time: 7.817 seconds\n"
     ]
    },
    {
     "data": {
      "text/html": [
       "<table class=\"simpletable\">\n",
       "<caption>Statespace Model Results</caption>\n",
       "<tr>\n",
       "  <th>Dep. Variable:</th>                  <td>y</td>               <th>  No. Observations:  </th>    <td>116</td>   \n",
       "</tr>\n",
       "<tr>\n",
       "  <th>Model:</th>           <td>SARIMAX(0, 1, 2)x(1, 1, 1, 13)</td> <th>  Log Likelihood     </th> <td>-1134.857</td>\n",
       "</tr>\n",
       "<tr>\n",
       "  <th>Date:</th>                   <td>Mon, 08 Jul 2019</td>        <th>  AIC                </th> <td>2281.713</td> \n",
       "</tr>\n",
       "<tr>\n",
       "  <th>Time:</th>                       <td>02:17:06</td>            <th>  BIC                </th> <td>2297.463</td> \n",
       "</tr>\n",
       "<tr>\n",
       "  <th>Sample:</th>                         <td>0</td>               <th>  HQIC               </th> <td>2288.091</td> \n",
       "</tr>\n",
       "<tr>\n",
       "  <th></th>                             <td> - 116</td>             <th>                     </th>     <td> </td>    \n",
       "</tr>\n",
       "<tr>\n",
       "  <th>Covariance Type:</th>               <td>opg</td>              <th>                     </th>     <td> </td>    \n",
       "</tr>\n",
       "</table>\n",
       "<table class=\"simpletable\">\n",
       "<tr>\n",
       "      <td></td>         <th>coef</th>     <th>std err</th>      <th>z</th>      <th>P>|z|</th>  <th>[0.025</th>    <th>0.975]</th>  \n",
       "</tr>\n",
       "<tr>\n",
       "  <th>intercept</th> <td> -315.9325</td> <td>  725.235</td> <td>   -0.436</td> <td> 0.663</td> <td>-1737.367</td> <td> 1105.502</td>\n",
       "</tr>\n",
       "<tr>\n",
       "  <th>ma.L1</th>     <td>   -0.3026</td> <td>    0.238</td> <td>   -1.272</td> <td> 0.204</td> <td>   -0.769</td> <td>    0.164</td>\n",
       "</tr>\n",
       "<tr>\n",
       "  <th>ma.L2</th>     <td>   -0.2153</td> <td>    0.198</td> <td>   -1.086</td> <td> 0.278</td> <td>   -0.604</td> <td>    0.173</td>\n",
       "</tr>\n",
       "<tr>\n",
       "  <th>ar.S.L13</th>  <td>   -0.2300</td> <td>    0.210</td> <td>   -1.096</td> <td> 0.273</td> <td>   -0.641</td> <td>    0.181</td>\n",
       "</tr>\n",
       "<tr>\n",
       "  <th>ma.S.L13</th>  <td>   -0.6329</td> <td>    0.261</td> <td>   -2.428</td> <td> 0.015</td> <td>   -1.144</td> <td>   -0.122</td>\n",
       "</tr>\n",
       "<tr>\n",
       "  <th>sigma2</th>    <td> 4.291e+08</td> <td>    0.001</td> <td> 7.23e+11</td> <td> 0.000</td> <td> 4.29e+08</td> <td> 4.29e+08</td>\n",
       "</tr>\n",
       "</table>\n",
       "<table class=\"simpletable\">\n",
       "<tr>\n",
       "  <th>Ljung-Box (Q):</th>          <td>38.70</td> <th>  Jarque-Bera (JB):  </th> <td>0.85</td>\n",
       "</tr>\n",
       "<tr>\n",
       "  <th>Prob(Q):</th>                <td>0.53</td>  <th>  Prob(JB):          </th> <td>0.65</td>\n",
       "</tr>\n",
       "<tr>\n",
       "  <th>Heteroskedasticity (H):</th> <td>1.30</td>  <th>  Skew:              </th> <td>0.14</td>\n",
       "</tr>\n",
       "<tr>\n",
       "  <th>Prob(H) (two-sided):</th>    <td>0.45</td>  <th>  Kurtosis:          </th> <td>3.34</td>\n",
       "</tr>\n",
       "</table><br/><br/>Warnings:<br/>[1] Covariance matrix calculated using the outer product of gradients (complex-step).<br/>[2] Covariance matrix is singular or near-singular, with condition number 7.64e+27. Standard errors may be unstable."
      ],
      "text/plain": [
       "<class 'statsmodels.iolib.summary.Summary'>\n",
       "\"\"\"\n",
       "                                 Statespace Model Results                                 \n",
       "==========================================================================================\n",
       "Dep. Variable:                                  y   No. Observations:                  116\n",
       "Model:             SARIMAX(0, 1, 2)x(1, 1, 1, 13)   Log Likelihood               -1134.857\n",
       "Date:                            Mon, 08 Jul 2019   AIC                           2281.713\n",
       "Time:                                    02:17:06   BIC                           2297.463\n",
       "Sample:                                         0   HQIC                          2288.091\n",
       "                                            - 116                                         \n",
       "Covariance Type:                              opg                                         \n",
       "==============================================================================\n",
       "                 coef    std err          z      P>|z|      [0.025      0.975]\n",
       "------------------------------------------------------------------------------\n",
       "intercept   -315.9325    725.235     -0.436      0.663   -1737.367    1105.502\n",
       "ma.L1         -0.3026      0.238     -1.272      0.204      -0.769       0.164\n",
       "ma.L2         -0.2153      0.198     -1.086      0.278      -0.604       0.173\n",
       "ar.S.L13      -0.2300      0.210     -1.096      0.273      -0.641       0.181\n",
       "ma.S.L13      -0.6329      0.261     -2.428      0.015      -1.144      -0.122\n",
       "sigma2      4.291e+08      0.001   7.23e+11      0.000    4.29e+08    4.29e+08\n",
       "===================================================================================\n",
       "Ljung-Box (Q):                       38.70   Jarque-Bera (JB):                 0.85\n",
       "Prob(Q):                              0.53   Prob(JB):                         0.65\n",
       "Heteroskedasticity (H):               1.30   Skew:                             0.14\n",
       "Prob(H) (two-sided):                  0.45   Kurtosis:                         3.34\n",
       "===================================================================================\n",
       "\n",
       "Warnings:\n",
       "[1] Covariance matrix calculated using the outer product of gradients (complex-step).\n",
       "[2] Covariance matrix is singular or near-singular, with condition number 7.64e+27. Standard errors may be unstable.\n",
       "\"\"\""
      ]
     },
     "execution_count": 27,
     "metadata": {},
     "output_type": "execute_result"
    }
   ],
   "source": [
    "# https://www.alkaline-ml.com/pmdarima/tips_and_tricks.html\n",
    "from pmdarima.arima import auto_arima\n",
    "stepwise_model = auto_arima(dfIndex['Count'],\n",
    "                          start_p=0, start_q=0,\n",
    "                          max_p=13, max_q=13, m=13,\n",
    "                          start_P=0, start_Q=0,\n",
    "                          seasonal=True,\n",
    "                          d=1, D=1, trace=True,\n",
    "                          error_action='ignore',\n",
    "                          suppress_warnings=True,\n",
    "                          random_state=42,\n",
    "                          n_fits=3,\n",
    "                          stepwise=True) \n",
    "stepwise_model.summary()"
   ]
  },
  {
   "cell_type": "code",
   "execution_count": 28,
   "metadata": {},
   "outputs": [
    {
     "data": {
      "text/plain": [
       "(116, 1)"
      ]
     },
     "execution_count": 28,
     "metadata": {},
     "output_type": "execute_result"
    }
   ],
   "source": [
    "dfIndex.shape"
   ]
  },
  {
   "cell_type": "markdown",
   "metadata": {},
   "source": [
    "_Separate out the train and test for modeling.  I will use 8 weeks of data for the test data which leaves 108 weeks for training._"
   ]
  },
  {
   "cell_type": "code",
   "execution_count": 29,
   "metadata": {},
   "outputs": [
    {
     "data": {
      "text/plain": [
       "((108, 1), (8, 1))"
      ]
     },
     "execution_count": 29,
     "metadata": {},
     "output_type": "execute_result"
    }
   ],
   "source": [
    "train, test = dfIndex[:108], dfIndex[108:]\n",
    "train.shape, test.shape"
   ]
  },
  {
   "cell_type": "code",
   "execution_count": 30,
   "metadata": {},
   "outputs": [
    {
     "data": {
      "image/png": "[encoded data removed]",
      "text/plain": [
       "<Figure size 1080x576 with 1 Axes>"
      ]
     },
     "metadata": {
      "needs_background": "light"
     },
     "output_type": "display_data"
    }
   ],
   "source": [
    "plt.plot(train, label='train')\n",
    "plt.plot(test, label='test')\n",
    "plt.title('Train & Test')\n",
    "plt.legend(loc='upper left')\n",
    "plt.show()"
   ]
  },
  {
   "cell_type": "code",
   "execution_count": 31,
   "metadata": {},
   "outputs": [
    {
     "name": "stderr",
     "output_type": "stream",
     "text": [
      "/Library/Frameworks/Python.framework/Versions/3.7/lib/python3.7/site-packages/statsmodels/tsa/base/tsa_model.py:171: ValueWarning: No frequency information was provided, so inferred frequency W-MON will be used.\n",
      "  % freq, ValueWarning)\n"
     ]
    },
    {
     "data": {
      "text/html": [
       "<table class=\"simpletable\">\n",
       "<caption>Statespace Model Results</caption>\n",
       "<tr>\n",
       "  <th>Dep. Variable:</th>                <td>Count</td>             <th>  No. Observations:  </th>    <td>108</td>   \n",
       "</tr>\n",
       "<tr>\n",
       "  <th>Model:</th>           <td>SARIMAX(0, 1, 2)x(1, 1, 1, 13)</td> <th>  Log Likelihood     </th> <td>-1044.654</td>\n",
       "</tr>\n",
       "<tr>\n",
       "  <th>Date:</th>                   <td>Mon, 08 Jul 2019</td>        <th>  AIC                </th> <td>2099.308</td> \n",
       "</tr>\n",
       "<tr>\n",
       "  <th>Time:</th>                       <td>02:17:08</td>            <th>  BIC                </th> <td>2112.025</td> \n",
       "</tr>\n",
       "<tr>\n",
       "  <th>Sample:</th>                    <td>01-09-2017</td>           <th>  HQIC               </th> <td>2104.445</td> \n",
       "</tr>\n",
       "<tr>\n",
       "  <th></th>                          <td>- 01-28-2019</td>          <th>                     </th>     <td> </td>    \n",
       "</tr>\n",
       "<tr>\n",
       "  <th>Covariance Type:</th>               <td>opg</td>              <th>                     </th>     <td> </td>    \n",
       "</tr>\n",
       "</table>\n",
       "<table class=\"simpletable\">\n",
       "<tr>\n",
       "      <td></td>        <th>coef</th>     <th>std err</th>      <th>z</th>      <th>P>|z|</th>  <th>[0.025</th>    <th>0.975]</th>  \n",
       "</tr>\n",
       "<tr>\n",
       "  <th>ma.L1</th>    <td>   -0.2829</td> <td>    0.204</td> <td>   -1.388</td> <td> 0.165</td> <td>   -0.682</td> <td>    0.117</td>\n",
       "</tr>\n",
       "<tr>\n",
       "  <th>ma.L2</th>    <td>   -0.1902</td> <td>    0.179</td> <td>   -1.061</td> <td> 0.289</td> <td>   -0.541</td> <td>    0.161</td>\n",
       "</tr>\n",
       "<tr>\n",
       "  <th>ar.S.L13</th> <td>   -0.1997</td> <td>    0.212</td> <td>   -0.944</td> <td> 0.345</td> <td>   -0.614</td> <td>    0.215</td>\n",
       "</tr>\n",
       "<tr>\n",
       "  <th>ma.S.L13</th> <td>   -0.5822</td> <td>    0.255</td> <td>   -2.280</td> <td> 0.023</td> <td>   -1.083</td> <td>   -0.082</td>\n",
       "</tr>\n",
       "<tr>\n",
       "  <th>sigma2</th>   <td>  3.93e+08</td> <td> 2.64e-10</td> <td> 1.49e+18</td> <td> 0.000</td> <td> 3.93e+08</td> <td> 3.93e+08</td>\n",
       "</tr>\n",
       "</table>\n",
       "<table class=\"simpletable\">\n",
       "<tr>\n",
       "  <th>Ljung-Box (Q):</th>          <td>38.78</td> <th>  Jarque-Bera (JB):  </th> <td>1.68</td>\n",
       "</tr>\n",
       "<tr>\n",
       "  <th>Prob(Q):</th>                <td>0.53</td>  <th>  Prob(JB):          </th> <td>0.43</td>\n",
       "</tr>\n",
       "<tr>\n",
       "  <th>Heteroskedasticity (H):</th> <td>1.56</td>  <th>  Skew:              </th> <td>0.14</td>\n",
       "</tr>\n",
       "<tr>\n",
       "  <th>Prob(H) (two-sided):</th>    <td>0.22</td>  <th>  Kurtosis:          </th> <td>3.59</td>\n",
       "</tr>\n",
       "</table><br/><br/>Warnings:<br/>[1] Covariance matrix calculated using the outer product of gradients (complex-step).<br/>[2] Covariance matrix is singular or near-singular, with condition number 6.24e+34. Standard errors may be unstable."
      ],
      "text/plain": [
       "<class 'statsmodels.iolib.summary.Summary'>\n",
       "\"\"\"\n",
       "                                 Statespace Model Results                                 \n",
       "==========================================================================================\n",
       "Dep. Variable:                              Count   No. Observations:                  108\n",
       "Model:             SARIMAX(0, 1, 2)x(1, 1, 1, 13)   Log Likelihood               -1044.654\n",
       "Date:                            Mon, 08 Jul 2019   AIC                           2099.308\n",
       "Time:                                    02:17:08   BIC                           2112.025\n",
       "Sample:                                01-09-2017   HQIC                          2104.445\n",
       "                                     - 01-28-2019                                         \n",
       "Covariance Type:                              opg                                         \n",
       "==============================================================================\n",
       "                 coef    std err          z      P>|z|      [0.025      0.975]\n",
       "------------------------------------------------------------------------------\n",
       "ma.L1         -0.2829      0.204     -1.388      0.165      -0.682       0.117\n",
       "ma.L2         -0.1902      0.179     -1.061      0.289      -0.541       0.161\n",
       "ar.S.L13      -0.1997      0.212     -0.944      0.345      -0.614       0.215\n",
       "ma.S.L13      -0.5822      0.255     -2.280      0.023      -1.083      -0.082\n",
       "sigma2       3.93e+08   2.64e-10   1.49e+18      0.000    3.93e+08    3.93e+08\n",
       "===================================================================================\n",
       "Ljung-Box (Q):                       38.78   Jarque-Bera (JB):                 1.68\n",
       "Prob(Q):                              0.53   Prob(JB):                         0.43\n",
       "Heteroskedasticity (H):               1.56   Skew:                             0.14\n",
       "Prob(H) (two-sided):                  0.22   Kurtosis:                         3.59\n",
       "===================================================================================\n",
       "\n",
       "Warnings:\n",
       "[1] Covariance matrix calculated using the outer product of gradients (complex-step).\n",
       "[2] Covariance matrix is singular or near-singular, with condition number 6.24e+34. Standard errors may be unstable.\n",
       "\"\"\""
      ]
     },
     "execution_count": 31,
     "metadata": {},
     "output_type": "execute_result"
    }
   ],
   "source": [
    "from statsmodels.tsa.statespace.sarimax import SARIMAX\n",
    "model = SARIMAX(train['Count'], order=(0, 1, 2), seasonal_order=(\n",
    "    1, 1, 1, 13), enforce_invertibility=True)\n",
    "results = model.fit()\n",
    "results.summary()"
   ]
  },
  {
   "cell_type": "code",
   "execution_count": 32,
   "metadata": {},
   "outputs": [
    {
     "data": {
      "image/png": "[encoded data removed]",
      "text/plain": [
       "<Figure size 1080x576 with 4 Axes>"
      ]
     },
     "metadata": {
      "needs_background": "light"
     },
     "output_type": "display_data"
    }
   ],
   "source": [
    "results.plot_diagnostics()\n",
    "plt.show()"
   ]
  },
  {
   "cell_type": "markdown",
   "metadata": {},
   "source": [
    "_The residuals look random and normaly distributed_"
   ]
  },
  {
   "cell_type": "code",
   "execution_count": 33,
   "metadata": {},
   "outputs": [],
   "source": [
    "pred = pd.DataFrame(stepwise_model.predict(n_periods=8),\n",
    "                    index=test.index)\n",
    "pred.columns = ['Predicted_Num_Loans']"
   ]
  },
  {
   "cell_type": "code",
   "execution_count": 34,
   "metadata": {},
   "outputs": [
    {
     "data": {
      "image/png": "[encoded data removed]",
      "text/plain": [
       "<Figure size 1080x576 with 1 Axes>"
      ]
     },
     "metadata": {
      "needs_background": "light"
     },
     "output_type": "display_data"
    }
   ],
   "source": [
    "plt.title('Train - Test - Predicted')\n",
    "plt.plot(train, label='Train')\n",
    "plt.plot(test, label='Test')\n",
    "plt.plot(pred, label=' Predicted')\n",
    "plt.legend(loc='upper left')\n",
    "plt.show()"
   ]
  },
  {
   "cell_type": "code",
   "execution_count": 35,
   "metadata": {},
   "outputs": [
    {
     "name": "stderr",
     "output_type": "stream",
     "text": [
      "/Library/Frameworks/Python.framework/Versions/3.7/lib/python3.7/site-packages/ipykernel_launcher.py:1: SettingWithCopyWarning: \n",
      "A value is trying to be set on a copy of a slice from a DataFrame.\n",
      "Try using .loc[row_indexer,col_indexer] = value instead\n",
      "\n",
      "See the caveats in the documentation: http://pandas.pydata.org/pandas-docs/stable/indexing.html#indexing-view-versus-copy\n",
      "  \"\"\"Entry point for launching an IPython kernel.\n",
      "/Library/Frameworks/Python.framework/Versions/3.7/lib/python3.7/site-packages/ipykernel_launcher.py:2: SettingWithCopyWarning: \n",
      "A value is trying to be set on a copy of a slice from a DataFrame.\n",
      "Try using .loc[row_indexer,col_indexer] = value instead\n",
      "\n",
      "See the caveats in the documentation: http://pandas.pydata.org/pandas-docs/stable/indexing.html#indexing-view-versus-copy\n",
      "  \n"
     ]
    },
    {
     "data": {
      "text/html": [
       "<div>\n",
       "<style scoped>\n",
       "    .dataframe tbody tr th:only-of-type {\n",
       "        vertical-align: middle;\n",
       "    }\n",
       "\n",
       "    .dataframe tbody tr th {\n",
       "        vertical-align: top;\n",
       "    }\n",
       "\n",
       "    .dataframe thead th {\n",
       "        text-align: right;\n",
       "    }\n",
       "</style>\n",
       "<table border=\"1\" class=\"dataframe\">\n",
       "  <thead>\n",
       "    <tr style=\"text-align: right;\">\n",
       "      <th></th>\n",
       "      <th>Count</th>\n",
       "      <th>Predicted</th>\n",
       "      <th>Error</th>\n",
       "    </tr>\n",
       "    <tr>\n",
       "      <th>Application_Date</th>\n",
       "      <th></th>\n",
       "      <th></th>\n",
       "      <th></th>\n",
       "    </tr>\n",
       "  </thead>\n",
       "  <tbody>\n",
       "    <tr>\n",
       "      <th>2019-02-04</th>\n",
       "      <td>194570</td>\n",
       "      <td>190282.514309</td>\n",
       "      <td>4287.485691</td>\n",
       "    </tr>\n",
       "    <tr>\n",
       "      <th>2019-02-11</th>\n",
       "      <td>193545</td>\n",
       "      <td>207165.140204</td>\n",
       "      <td>-13620.140204</td>\n",
       "    </tr>\n",
       "    <tr>\n",
       "      <th>2019-02-18</th>\n",
       "      <td>196149</td>\n",
       "      <td>209330.691465</td>\n",
       "      <td>-13181.691465</td>\n",
       "    </tr>\n",
       "    <tr>\n",
       "      <th>2019-02-25</th>\n",
       "      <td>190241</td>\n",
       "      <td>204185.997558</td>\n",
       "      <td>-13944.997558</td>\n",
       "    </tr>\n",
       "    <tr>\n",
       "      <th>2019-03-04</th>\n",
       "      <td>189141</td>\n",
       "      <td>193419.028761</td>\n",
       "      <td>-4278.028761</td>\n",
       "    </tr>\n",
       "    <tr>\n",
       "      <th>2019-03-11</th>\n",
       "      <td>210487</td>\n",
       "      <td>201513.062827</td>\n",
       "      <td>8973.937173</td>\n",
       "    </tr>\n",
       "    <tr>\n",
       "      <th>2019-03-18</th>\n",
       "      <td>206549</td>\n",
       "      <td>207129.721024</td>\n",
       "      <td>-580.721024</td>\n",
       "    </tr>\n",
       "    <tr>\n",
       "      <th>2019-03-25</th>\n",
       "      <td>174618</td>\n",
       "      <td>186142.098573</td>\n",
       "      <td>-11524.098573</td>\n",
       "    </tr>\n",
       "  </tbody>\n",
       "</table>\n",
       "</div>"
      ],
      "text/plain": [
       "                   Count      Predicted         Error\n",
       "Application_Date                                     \n",
       "2019-02-04        194570  190282.514309   4287.485691\n",
       "2019-02-11        193545  207165.140204 -13620.140204\n",
       "2019-02-18        196149  209330.691465 -13181.691465\n",
       "2019-02-25        190241  204185.997558 -13944.997558\n",
       "2019-03-04        189141  193419.028761  -4278.028761\n",
       "2019-03-11        210487  201513.062827   8973.937173\n",
       "2019-03-18        206549  207129.721024   -580.721024\n",
       "2019-03-25        174618  186142.098573 -11524.098573"
      ]
     },
     "execution_count": 35,
     "metadata": {},
     "output_type": "execute_result"
    }
   ],
   "source": [
    "test['Predicted'] = pred\n",
    "test['Error'] = test['Count']-test['Predicted']\n",
    "test"
   ]
  },
  {
   "cell_type": "code",
   "execution_count": 36,
   "metadata": {},
   "outputs": [
    {
     "data": {
      "text/plain": [
       "((8, 3), 8)"
      ]
     },
     "execution_count": 36,
     "metadata": {},
     "output_type": "execute_result"
    }
   ],
   "source": [
    "test.shape, len(test)"
   ]
  },
  {
   "cell_type": "markdown",
   "metadata": {},
   "source": [
    "_Calculating the percent difference_\n",
    "\n",
    "count.sum()- predicted.sum() / num of loans"
   ]
  },
  {
   "cell_type": "code",
   "execution_count": 37,
   "metadata": {},
   "outputs": [
    {
     "name": "stdout",
     "output_type": "stream",
     "text": [
      "Root Mean Square Error 10025.50411957507\n",
      "mean squared error 100510732.85161667\n",
      "Percent Mean Error 5483.531840232434\n"
     ]
    }
   ],
   "source": [
    "from sklearn.metrics import mean_squared_error\n",
    "from statsmodels.tools.eval_measures import rmse\n",
    "\n",
    "rmse = rmse(test['Predicted'], test['Count'])\n",
    "mse = mean_squared_error(test['Predicted'], test['Count'])\n",
    "print('Root Mean Square Error {}'.format(rmse))\n",
    "print('mean squared error {}'.format(mse))\n",
    "\n",
    "percent_Mean_Error = (test['Count'].sum() - test['Predicted'].sum())/(test.shape[0])\n",
    "print('Percent Mean Error {}'.format(abs(percent_Mean_Error)))"
   ]
  },
  {
   "cell_type": "code",
   "execution_count": 38,
   "metadata": {
    "scrolled": false
   },
   "outputs": [
    {
     "data": {
      "image/png": "[encoded data removed]",
      "text/plain": [
       "<Figure size 1440x360 with 2 Axes>"
      ]
     },
     "metadata": {
      "needs_background": "light"
     },
     "output_type": "display_data"
    }
   ],
   "source": [
    "import pyramid as pm\n",
    "plt.figure(figsize=(20, 5))\n",
    "plt.subplot(121)\n",
    "plt.xticks(rotation=45)\n",
    "plt.plot(test.Error, color='blue')\n",
    "plt.title('Error Disttribution Over Time')\n",
    "plt.subplot(122)\n",
    "scipy.stats.probplot(test.Error, plot=plt)\n",
    "plt.show()"
   ]
  },
  {
   "cell_type": "code",
   "execution_count": 39,
   "metadata": {},
   "outputs": [],
   "source": [
    "# Obtain predicted values\n",
    "start = len(train)\n",
    "end = len(train)+len(test)-1\n",
    "predictions = results.predict(\n",
    "    start=start, end=end, dynamic=False, typ='levels').rename('Predictions')"
   ]
  },
  {
   "cell_type": "code",
   "execution_count": 40,
   "metadata": {},
   "outputs": [],
   "source": [
    "final = pd.DataFrame(predictions).join(test)"
   ]
  },
  {
   "cell_type": "code",
   "execution_count": 41,
   "metadata": {},
   "outputs": [
    {
     "data": {
      "text/html": [
       "<div>\n",
       "<style scoped>\n",
       "    .dataframe tbody tr th:only-of-type {\n",
       "        vertical-align: middle;\n",
       "    }\n",
       "\n",
       "    .dataframe tbody tr th {\n",
       "        vertical-align: top;\n",
       "    }\n",
       "\n",
       "    .dataframe thead th {\n",
       "        text-align: right;\n",
       "    }\n",
       "</style>\n",
       "<table border=\"1\" class=\"dataframe\">\n",
       "  <thead>\n",
       "    <tr style=\"text-align: right;\">\n",
       "      <th></th>\n",
       "      <th>Predictions</th>\n",
       "      <th>Count</th>\n",
       "      <th>Predicted</th>\n",
       "      <th>Error</th>\n",
       "    </tr>\n",
       "  </thead>\n",
       "  <tbody>\n",
       "    <tr>\n",
       "      <th>2019-02-04</th>\n",
       "      <td>200641.327599</td>\n",
       "      <td>194570</td>\n",
       "      <td>190282.514309</td>\n",
       "      <td>4287.485691</td>\n",
       "    </tr>\n",
       "    <tr>\n",
       "      <th>2019-02-11</th>\n",
       "      <td>212867.369212</td>\n",
       "      <td>193545</td>\n",
       "      <td>207165.140204</td>\n",
       "      <td>-13620.140204</td>\n",
       "    </tr>\n",
       "    <tr>\n",
       "      <th>2019-02-18</th>\n",
       "      <td>191871.735263</td>\n",
       "      <td>196149</td>\n",
       "      <td>209330.691465</td>\n",
       "      <td>-13181.691465</td>\n",
       "    </tr>\n",
       "    <tr>\n",
       "      <th>2019-02-25</th>\n",
       "      <td>202893.152409</td>\n",
       "      <td>190241</td>\n",
       "      <td>204185.997558</td>\n",
       "      <td>-13944.997558</td>\n",
       "    </tr>\n",
       "    <tr>\n",
       "      <th>2019-03-04</th>\n",
       "      <td>213443.527422</td>\n",
       "      <td>189141</td>\n",
       "      <td>193419.028761</td>\n",
       "      <td>-4278.028761</td>\n",
       "    </tr>\n",
       "  </tbody>\n",
       "</table>\n",
       "</div>"
      ],
      "text/plain": [
       "              Predictions   Count      Predicted         Error\n",
       "2019-02-04  200641.327599  194570  190282.514309   4287.485691\n",
       "2019-02-11  212867.369212  193545  207165.140204 -13620.140204\n",
       "2019-02-18  191871.735263  196149  209330.691465 -13181.691465\n",
       "2019-02-25  202893.152409  190241  204185.997558 -13944.997558\n",
       "2019-03-04  213443.527422  189141  193419.028761  -4278.028761"
      ]
     },
     "execution_count": 41,
     "metadata": {},
     "output_type": "execute_result"
    }
   ],
   "source": [
    "final.head()"
   ]
  },
  {
   "cell_type": "markdown",
   "metadata": {},
   "source": [
    "_What does the forecast look like?_"
   ]
  },
  {
   "cell_type": "code",
   "execution_count": 42,
   "metadata": {},
   "outputs": [
    {
     "name": "stderr",
     "output_type": "stream",
     "text": [
      "/Library/Frameworks/Python.framework/Versions/3.7/lib/python3.7/site-packages/statsmodels/tsa/base/tsa_model.py:171: ValueWarning: No frequency information was provided, so inferred frequency W-MON will be used.\n",
      "  % freq, ValueWarning)\n",
      "/Library/Frameworks/Python.framework/Versions/3.7/lib/python3.7/site-packages/statsmodels/tsa/statespace/representation.py:375: FutureWarning: Using a non-tuple sequence for multidimensional indexing is deprecated; use `arr[tuple(seq)]` instead of `arr[seq]`. In the future this will be interpreted as an array index, `arr[np.array(seq)]`, which will result either in an error or a different result.\n",
      "  return matrix[[slice(None)]*(matrix.ndim-1) + [0]]\n"
     ]
    }
   ],
   "source": [
    "from statsmodels.tsa.statespace.sarimax import SARIMAX\n",
    "model = SARIMAX(dfIndex['Count'], order=(0, 1, 2), seasonal_order=(\n",
    "    0, 1, 1, 13), enforce_invertibility=False)\n",
    "results = model.fit()\n",
    "fcast = results.predict(len(dfIndex), len(dfIndex)+24,\n",
    "                        typ='levels').rename('SARIMA Forecast')"
   ]
  },
  {
   "cell_type": "code",
   "execution_count": 43,
   "metadata": {},
   "outputs": [
    {
     "data": {
      "image/png": "[encoded data removed]",
      "text/plain": [
       "<Figure size 864x432 with 1 Axes>"
      ]
     },
     "metadata": {
      "needs_background": "light"
     },
     "output_type": "display_data"
    }
   ],
   "source": [
    "# Plot predictions against known values\n",
    "import matplotlib.ticker as ticker\n",
    "title = 'LendingClub Loan Forecast'\n",
    "ylabel = 'Loans Per Week'\n",
    "xlabel = 'Months'\n",
    "ax = dfIndex['Count'].plot(legend=True, figsize=(12, 6), title=title)\n",
    "fcast.plot(legend=True)\n",
    "ax.autoscale(axis='x', tight=True)\n",
    "ax.set(xlabel=xlabel, ylabel=ylabel);"
   ]
  },
  {
   "cell_type": "markdown",
   "metadata": {},
   "source": [
    "--------------"
   ]
  },
  {
   "cell_type": "markdown",
   "metadata": {},
   "source": [
    "# LSTM\n",
    "We will use the same data for LSTM to predict 8 weeks of loans\n",
    "\n",
    "Capable of learning long-term dependencies.  Remembering information for long periods of time. Chain of repeated moduls of neural networks.\n",
    "\n",
    "sigmod funcion helps to determine what to keep, if it is a 1 keep other wise get rid of it."
   ]
  },
  {
   "cell_type": "code",
   "execution_count": 44,
   "metadata": {},
   "outputs": [
    {
     "data": {
      "text/plain": [
       "(19158655, 2)"
      ]
     },
     "execution_count": 44,
     "metadata": {},
     "output_type": "execute_result"
    }
   ],
   "source": [
    "import pandas as pd\n",
    "\n",
    "df = pd.read_csv('RejectedLoans.csv')\n",
    "df = df.dropna()\n",
    "df.shape"
   ]
  },
  {
   "cell_type": "code",
   "execution_count": 45,
   "metadata": {},
   "outputs": [],
   "source": [
    "df = df.drop('Unnamed: 0', axis=1)"
   ]
  },
  {
   "cell_type": "code",
   "execution_count": 46,
   "metadata": {},
   "outputs": [],
   "source": [
    "df.rename(columns={'Application Date': 'Application_Date'}, inplace=True)\n",
    "df['Count'] = 1\n",
    "df['Application_Date'] = pd.to_datetime(\n",
    "    df['Application_Date']) - pd.to_timedelta(7, unit='d')\n",
    "df = df.groupby([pd.Grouper(key='Application_Date', freq='W-MON')]\n",
    "                )['Count'].sum().reset_index().sort_values('Application_Date')"
   ]
  },
  {
   "cell_type": "code",
   "execution_count": 47,
   "metadata": {},
   "outputs": [
    {
     "data": {
      "text/plain": [
       "(117, 2)"
      ]
     },
     "execution_count": 47,
     "metadata": {},
     "output_type": "execute_result"
    }
   ],
   "source": [
    "#df = df.dropna()\n",
    "df = df.loc[1:,:]\n",
    "df.shape"
   ]
  },
  {
   "cell_type": "code",
   "execution_count": 48,
   "metadata": {},
   "outputs": [
    {
     "name": "stdout",
     "output_type": "stream",
     "text": [
      "<class 'pandas.core.frame.DataFrame'>\n",
      "Int64Index: 117 entries, 1 to 117\n",
      "Data columns (total 2 columns):\n",
      "Application_Date    117 non-null datetime64[ns]\n",
      "Count               117 non-null int64\n",
      "dtypes: datetime64[ns](1), int64(1)\n",
      "memory usage: 2.7 KB\n"
     ]
    }
   ],
   "source": [
    "df.info()"
   ]
  },
  {
   "cell_type": "code",
   "execution_count": 49,
   "metadata": {},
   "outputs": [
    {
     "data": {
      "text/html": [
       "<div>\n",
       "<style scoped>\n",
       "    .dataframe tbody tr th:only-of-type {\n",
       "        vertical-align: middle;\n",
       "    }\n",
       "\n",
       "    .dataframe tbody tr th {\n",
       "        vertical-align: top;\n",
       "    }\n",
       "\n",
       "    .dataframe thead th {\n",
       "        text-align: right;\n",
       "    }\n",
       "</style>\n",
       "<table border=\"1\" class=\"dataframe\">\n",
       "  <thead>\n",
       "    <tr style=\"text-align: right;\">\n",
       "      <th></th>\n",
       "      <th>Application_Date</th>\n",
       "      <th>Count</th>\n",
       "    </tr>\n",
       "  </thead>\n",
       "  <tbody>\n",
       "    <tr>\n",
       "      <th>1</th>\n",
       "      <td>2017-01-02</td>\n",
       "      <td>119903</td>\n",
       "    </tr>\n",
       "    <tr>\n",
       "      <th>2</th>\n",
       "      <td>2017-01-09</td>\n",
       "      <td>112116</td>\n",
       "    </tr>\n",
       "    <tr>\n",
       "      <th>3</th>\n",
       "      <td>2017-01-16</td>\n",
       "      <td>110457</td>\n",
       "    </tr>\n",
       "    <tr>\n",
       "      <th>4</th>\n",
       "      <td>2017-01-23</td>\n",
       "      <td>108717</td>\n",
       "    </tr>\n",
       "    <tr>\n",
       "      <th>5</th>\n",
       "      <td>2017-01-30</td>\n",
       "      <td>107435</td>\n",
       "    </tr>\n",
       "  </tbody>\n",
       "</table>\n",
       "</div>"
      ],
      "text/plain": [
       "  Application_Date   Count\n",
       "1       2017-01-02  119903\n",
       "2       2017-01-09  112116\n",
       "3       2017-01-16  110457\n",
       "4       2017-01-23  108717\n",
       "5       2017-01-30  107435"
      ]
     },
     "execution_count": 49,
     "metadata": {},
     "output_type": "execute_result"
    }
   ],
   "source": [
    "df.head()"
   ]
  },
  {
   "cell_type": "code",
   "execution_count": 50,
   "metadata": {},
   "outputs": [],
   "source": [
    "dataset = df.values\n"
   ]
  },
  {
   "cell_type": "markdown",
   "metadata": {},
   "source": [
    "_We will try to predict 8 weeks of loans_"
   ]
  },
  {
   "cell_type": "code",
   "execution_count": 51,
   "metadata": {},
   "outputs": [],
   "source": [
    "dataset_train, dataset_test = df[0:109], df[109:117]"
   ]
  },
  {
   "cell_type": "code",
   "execution_count": 52,
   "metadata": {},
   "outputs": [],
   "source": [
    "training_set = dataset_train.iloc[:, 1:2].values\n",
    "testing_set = dataset_test.iloc[:, 1:2].values"
   ]
  },
  {
   "cell_type": "code",
   "execution_count": 53,
   "metadata": {},
   "outputs": [
    {
     "name": "stdout",
     "output_type": "stream",
     "text": [
      "<class 'pandas.core.frame.DataFrame'>\n",
      "Int64Index: 109 entries, 1 to 109\n",
      "Data columns (total 2 columns):\n",
      "Application_Date    109 non-null datetime64[ns]\n",
      "Count               109 non-null int64\n",
      "dtypes: datetime64[ns](1), int64(1)\n",
      "memory usage: 2.6 KB\n"
     ]
    },
    {
     "data": {
      "text/plain": [
       "(None, (8, 2), (109, 1), (8, 1))"
      ]
     },
     "execution_count": 53,
     "metadata": {},
     "output_type": "execute_result"
    }
   ],
   "source": [
    "dataset_train.info(), dataset_test.shape, training_set.shape, testing_set.shape"
   ]
  },
  {
   "cell_type": "code",
   "execution_count": 54,
   "metadata": {},
   "outputs": [
    {
     "data": {
      "text/plain": [
       "Application_Date    0\n",
       "Count               0\n",
       "dtype: int64"
      ]
     },
     "execution_count": 54,
     "metadata": {},
     "output_type": "execute_result"
    }
   ],
   "source": [
    "dataset_train.isna().sum()\n",
    "dataset_test.isna().sum()"
   ]
  },
  {
   "cell_type": "code",
   "execution_count": 55,
   "metadata": {},
   "outputs": [
    {
     "data": {
      "text/html": [
       "<div>\n",
       "<style scoped>\n",
       "    .dataframe tbody tr th:only-of-type {\n",
       "        vertical-align: middle;\n",
       "    }\n",
       "\n",
       "    .dataframe tbody tr th {\n",
       "        vertical-align: top;\n",
       "    }\n",
       "\n",
       "    .dataframe thead th {\n",
       "        text-align: right;\n",
       "    }\n",
       "</style>\n",
       "<table border=\"1\" class=\"dataframe\">\n",
       "  <thead>\n",
       "    <tr style=\"text-align: right;\">\n",
       "      <th></th>\n",
       "      <th>Application_Date</th>\n",
       "      <th>Count</th>\n",
       "    </tr>\n",
       "  </thead>\n",
       "  <tbody>\n",
       "    <tr>\n",
       "      <th>110</th>\n",
       "      <td>2019-02-04</td>\n",
       "      <td>194570</td>\n",
       "    </tr>\n",
       "    <tr>\n",
       "      <th>111</th>\n",
       "      <td>2019-02-11</td>\n",
       "      <td>193545</td>\n",
       "    </tr>\n",
       "    <tr>\n",
       "      <th>112</th>\n",
       "      <td>2019-02-18</td>\n",
       "      <td>196149</td>\n",
       "    </tr>\n",
       "    <tr>\n",
       "      <th>113</th>\n",
       "      <td>2019-02-25</td>\n",
       "      <td>190241</td>\n",
       "    </tr>\n",
       "    <tr>\n",
       "      <th>114</th>\n",
       "      <td>2019-03-04</td>\n",
       "      <td>189141</td>\n",
       "    </tr>\n",
       "  </tbody>\n",
       "</table>\n",
       "</div>"
      ],
      "text/plain": [
       "    Application_Date   Count\n",
       "110       2019-02-04  194570\n",
       "111       2019-02-11  193545\n",
       "112       2019-02-18  196149\n",
       "113       2019-02-25  190241\n",
       "114       2019-03-04  189141"
      ]
     },
     "execution_count": 55,
     "metadata": {},
     "output_type": "execute_result"
    }
   ],
   "source": [
    "dataset_test.head()"
   ]
  },
  {
   "cell_type": "code",
   "execution_count": 56,
   "metadata": {},
   "outputs": [
    {
     "data": {
      "text/plain": [
       "(109, 1)"
      ]
     },
     "execution_count": 56,
     "metadata": {},
     "output_type": "execute_result"
    }
   ],
   "source": [
    "training_set.shape"
   ]
  },
  {
   "cell_type": "code",
   "execution_count": 57,
   "metadata": {},
   "outputs": [
    {
     "data": {
      "text/plain": [
       "(109, 2)"
      ]
     },
     "execution_count": 57,
     "metadata": {},
     "output_type": "execute_result"
    }
   ],
   "source": [
    "dataset_train.shape"
   ]
  },
  {
   "cell_type": "code",
   "execution_count": 58,
   "metadata": {},
   "outputs": [
    {
     "name": "stderr",
     "output_type": "stream",
     "text": [
      "/Library/Frameworks/Python.framework/Versions/3.7/lib/python3.7/site-packages/sklearn/utils/validation.py:595: DataConversionWarning: Data with input dtype int64 was converted to float64 by MinMaxScaler.\n",
      "  warnings.warn(msg, DataConversionWarning)\n"
     ]
    }
   ],
   "source": [
    "from sklearn.preprocessing import MinMaxScaler\n",
    "sc = MinMaxScaler(feature_range=(0, 1))\n",
    "training_set_scaled = sc.fit_transform(training_set)\n",
    "testing_set_scaled = sc.transform(testing_set)"
   ]
  },
  {
   "cell_type": "markdown",
   "metadata": {},
   "source": [
    "I am predicting the next 2 months (8 weeks)\n",
    "\n",
    "I am predicting 109-8 because the first 8 I can't predict becasue there isn't anyting behind it to predict. therefore (101,8,1)"
   ]
  },
  {
   "cell_type": "code",
   "execution_count": 59,
   "metadata": {},
   "outputs": [],
   "source": [
    "#create matrix\n",
    "X_train = []\n",
    "y_train = []\n",
    "for i in range(8, 109):#8 time steps to figure out the next step\n",
    "    X_train.append(training_set_scaled[i-8:i, 0])\n",
    "    y_train.append(training_set_scaled[i, 0])\n",
    "X_train, y_train = np.array(X_train), np.array(y_train)\n",
    "\n",
    "X_train = np.reshape(X_train, (X_train.shape[0], X_train.shape[1], 1))"
   ]
  },
  {
   "cell_type": "code",
   "execution_count": 60,
   "metadata": {},
   "outputs": [],
   "source": [
    "X_test = []\n",
    "y_test = []\n",
    "for i in range(0,8):\n",
    "    X_test.append(testing_set_scaled[i-0:i, 0])\n",
    "    y_test.append(testing_set_scaled[i, 0])\n",
    "X_test, y_test = np.array(X_test), np.array(y_test)\n",
    "\n",
    "X_test = np.reshape(X_test, (X_test.shape[0], X_test.shape[1], 1))"
   ]
  },
  {
   "cell_type": "code",
   "execution_count": 61,
   "metadata": {},
   "outputs": [
    {
     "data": {
      "text/plain": [
       "((101, 8, 1), (8, 0, 1))"
      ]
     },
     "execution_count": 61,
     "metadata": {},
     "output_type": "execute_result"
    }
   ],
   "source": [
    "#matrix has 101 rows and 8 columns\n",
    "#and trying to figure out the next step\n",
    "#after the 8 time steps\n",
    "\n",
    "#I am using the previous 8 time step(week) to predict the 9th time step(week)\n",
    "X_train.shape,X_test.shape"
   ]
  },
  {
   "cell_type": "code",
   "execution_count": 62,
   "metadata": {},
   "outputs": [
    {
     "name": "stderr",
     "output_type": "stream",
     "text": [
      "Using TensorFlow backend.\n"
     ]
    }
   ],
   "source": [
    "#!pip install keras\n",
    "#!pip install tensorflow\n",
    "#!tensorboard --logdir=logs\n",
    "\n",
    "\n",
    "from keras.models import Sequential\n",
    "from keras.layers import Dense\n",
    "from keras.layers import Activation\n",
    "from keras.layers import LSTM\n",
    "from keras.layers import Dropout\n",
    "from tensorflow.keras.callbacks import TensorBoard\n",
    "from keras.optimizers import SGD\n",
    "\n",
    "'''import tensorflow as tf\n",
    "import time\n",
    "\n",
    "g = tf.Graph() with g.as_default():\n",
    "\n",
    "\n",
    "summaries = tf.summary.merge_all() log_writer =\n",
    "tf.summary.FileWriter(log_dir, graph = g)'''\n",
    "\n",
    "#NAME= 'LendingClub-LSTM-{}'.format(int(time.time()))\n",
    "tensorboard = TensorBoard()\n",
    "\n"
   ]
  },
  {
   "cell_type": "markdown",
   "metadata": {},
   "source": [
    "_To prevent overfitting(wrong connections) I will randomly disable some neurons. 3 layer with 1 output. Adam learning rate will be used and 10 epoch(back and forths that are done)__\n",
    "\n",
    "\n",
    "3 layers and outputing 1\n",
    "adam learning rate of NN\n",
    "\n",
    "epocs number of back and forths\n",
    "batch is 60"
   ]
  },
  {
   "cell_type": "code",
   "execution_count": 63,
   "metadata": {
    "scrolled": true
   },
   "outputs": [
    {
     "name": "stderr",
     "output_type": "stream",
     "text": [
      "WARNING: Logging before flag parsing goes to stderr.\n",
      "W0708 02:17:28.977895 4586948032 deprecation_wrapper.py:119] From /Library/Frameworks/Python.framework/Versions/3.7/lib/python3.7/site-packages/keras/backend/tensorflow_backend.py:74: The name tf.get_default_graph is deprecated. Please use tf.compat.v1.get_default_graph instead.\n",
      "\n",
      "W0708 02:17:29.007314 4586948032 deprecation_wrapper.py:119] From /Library/Frameworks/Python.framework/Versions/3.7/lib/python3.7/site-packages/keras/backend/tensorflow_backend.py:517: The name tf.placeholder is deprecated. Please use tf.compat.v1.placeholder instead.\n",
      "\n",
      "W0708 02:17:29.019309 4586948032 deprecation_wrapper.py:119] From /Library/Frameworks/Python.framework/Versions/3.7/lib/python3.7/site-packages/keras/backend/tensorflow_backend.py:4138: The name tf.random_uniform is deprecated. Please use tf.random.uniform instead.\n",
      "\n",
      "W0708 02:17:29.308710 4586948032 deprecation_wrapper.py:119] From /Library/Frameworks/Python.framework/Versions/3.7/lib/python3.7/site-packages/keras/backend/tensorflow_backend.py:133: The name tf.placeholder_with_default is deprecated. Please use tf.compat.v1.placeholder_with_default instead.\n",
      "\n",
      "W0708 02:17:29.316409 4586948032 deprecation.py:506] From /Library/Frameworks/Python.framework/Versions/3.7/lib/python3.7/site-packages/keras/backend/tensorflow_backend.py:3445: calling dropout (from tensorflow.python.ops.nn_ops) with keep_prob is deprecated and will be removed in a future version.\n",
      "Instructions for updating:\n",
      "Please use `rate` instead of `keep_prob`. Rate should be set to `rate = 1 - keep_prob`.\n",
      "W0708 02:17:29.317198 4586948032 nn_ops.py:4224] Large dropout rate: 0.7 (>0.5). In TensorFlow 2.x, dropout() uses dropout rate instead of keep_prob. Please ensure that this is intended.\n",
      "W0708 02:17:29.506769 4586948032 nn_ops.py:4224] Large dropout rate: 0.7 (>0.5). In TensorFlow 2.x, dropout() uses dropout rate instead of keep_prob. Please ensure that this is intended.\n",
      "W0708 02:17:29.772114 4586948032 nn_ops.py:4224] Large dropout rate: 0.7 (>0.5). In TensorFlow 2.x, dropout() uses dropout rate instead of keep_prob. Please ensure that this is intended.\n",
      "W0708 02:17:29.946736 4586948032 nn_ops.py:4224] Large dropout rate: 0.7 (>0.5). In TensorFlow 2.x, dropout() uses dropout rate instead of keep_prob. Please ensure that this is intended.\n",
      "W0708 02:17:29.969209 4586948032 deprecation_wrapper.py:119] From /Library/Frameworks/Python.framework/Versions/3.7/lib/python3.7/site-packages/keras/optimizers.py:790: The name tf.train.Optimizer is deprecated. Please use tf.compat.v1.train.Optimizer instead.\n",
      "\n",
      "W0708 02:17:30.241722 4586948032 deprecation.py:323] From /Library/Frameworks/Python.framework/Versions/3.7/lib/python3.7/site-packages/tensorflow/python/ops/math_grad.py:1250: add_dispatch_support.<locals>.wrapper (from tensorflow.python.ops.array_ops) is deprecated and will be removed in a future version.\n",
      "Instructions for updating:\n",
      "Use tf.where in 2.0, which has the same broadcast rule as np.where\n",
      "W0708 02:17:32.497881 4586948032 deprecation_wrapper.py:119] From /Library/Frameworks/Python.framework/Versions/3.7/lib/python3.7/site-packages/keras/backend/tensorflow_backend.py:986: The name tf.assign_add is deprecated. Please use tf.compat.v1.assign_add instead.\n",
      "\n"
     ]
    },
    {
     "name": "stdout",
     "output_type": "stream",
     "text": [
      "Epoch 1/900\n",
      "101/101 [==============================] - 5s 50ms/step - loss: 0.0733\n",
      "Epoch 2/900\n",
      "101/101 [==============================] - 3s 27ms/step - loss: 0.0444\n",
      "Epoch 3/900\n",
      "101/101 [==============================] - 4s 37ms/step - loss: 0.0436\n",
      "Epoch 4/900\n",
      "101/101 [==============================] - 4s 36ms/step - loss: 0.0506\n",
      "Epoch 5/900\n",
      "101/101 [==============================] - 4s 36ms/step - loss: 0.0449\n",
      "Epoch 6/900\n",
      "101/101 [==============================] - 4s 38ms/step - loss: 0.0449\n",
      "Epoch 7/900\n",
      "101/101 [==============================] - 4s 35ms/step - loss: 0.0538\n",
      "Epoch 8/900\n",
      "101/101 [==============================] - 3s 32ms/step - loss: 0.0340\n",
      "Epoch 9/900\n",
      "101/101 [==============================] - 3s 30ms/step - loss: 0.0367\n",
      "Epoch 10/900\n",
      "101/101 [==============================] - 3s 27ms/step - loss: 0.0381\n",
      "Epoch 11/900\n",
      "101/101 [==============================] - 3s 27ms/step - loss: 0.0375\n",
      "Epoch 12/900\n",
      "101/101 [==============================] - 3s 27ms/step - loss: 0.0480\n",
      "Epoch 13/900\n",
      "101/101 [==============================] - 3s 33ms/step - loss: 0.0321\n",
      "Epoch 14/900\n",
      "101/101 [==============================] - 3s 27ms/step - loss: 0.0304\n",
      "Epoch 15/900\n",
      "101/101 [==============================] - 4s 39ms/step - loss: 0.0270\n",
      "Epoch 16/900\n",
      "101/101 [==============================] - 3s 30ms/step - loss: 0.0294\n",
      "Epoch 17/900\n",
      "101/101 [==============================] - 3s 28ms/step - loss: 0.0296\n",
      "Epoch 18/900\n",
      "101/101 [==============================] - 3s 28ms/step - loss: 0.0245\n",
      "Epoch 19/900\n",
      "101/101 [==============================] - 3s 28ms/step - loss: 0.0362\n",
      "Epoch 20/900\n",
      "101/101 [==============================] - 3s 28ms/step - loss: 0.0314\n",
      "Epoch 21/900\n",
      "101/101 [==============================] - 3s 28ms/step - loss: 0.0297\n",
      "Epoch 22/900\n",
      "101/101 [==============================] - 3s 29ms/step - loss: 0.0304\n",
      "Epoch 23/900\n",
      "101/101 [==============================] - 3s 28ms/step - loss: 0.0240\n",
      "Epoch 24/900\n",
      "101/101 [==============================] - 3s 34ms/step - loss: 0.0263\n",
      "Epoch 25/900\n",
      "101/101 [==============================] - 3s 31ms/step - loss: 0.0252\n",
      "Epoch 26/900\n",
      "101/101 [==============================] - 4s 35ms/step - loss: 0.0337\n",
      "Epoch 27/900\n",
      "101/101 [==============================] - 3s 27ms/step - loss: 0.0267\n",
      "Epoch 28/900\n",
      "101/101 [==============================] - 3s 27ms/step - loss: 0.0302\n",
      "Epoch 29/900\n",
      "101/101 [==============================] - 3s 28ms/step - loss: 0.0304\n",
      "Epoch 30/900\n",
      "101/101 [==============================] - 3s 27ms/step - loss: 0.0265\n",
      "Epoch 31/900\n",
      "101/101 [==============================] - 3s 27ms/step - loss: 0.0297\n",
      "Epoch 32/900\n",
      "101/101 [==============================] - 3s 27ms/step - loss: 0.0291\n",
      "Epoch 33/900\n",
      "101/101 [==============================] - 3s 27ms/step - loss: 0.0282\n",
      "Epoch 34/900\n",
      "101/101 [==============================] - 3s 30ms/step - loss: 0.0311\n",
      "Epoch 35/900\n",
      "101/101 [==============================] - 3s 30ms/step - loss: 0.0261\n",
      "Epoch 36/900\n",
      "101/101 [==============================] - 3s 28ms/step - loss: 0.0277\n",
      "Epoch 37/900\n",
      "101/101 [==============================] - 3s 28ms/step - loss: 0.0439\n",
      "Epoch 38/900\n",
      "101/101 [==============================] - 3s 29ms/step - loss: 0.0255\n",
      "Epoch 39/900\n",
      "101/101 [==============================] - 3s 27ms/step - loss: 0.0316\n",
      "Epoch 40/900\n",
      "101/101 [==============================] - 3s 27ms/step - loss: 0.0248\n",
      "Epoch 41/900\n",
      "101/101 [==============================] - 3s 27ms/step - loss: 0.0258\n",
      "Epoch 42/900\n",
      "101/101 [==============================] - 4s 36ms/step - loss: 0.0285\n",
      "Epoch 43/900\n",
      "101/101 [==============================] - 3s 32ms/step - loss: 0.0251\n",
      "Epoch 44/900\n",
      "101/101 [==============================] - 3s 29ms/step - loss: 0.0329\n",
      "Epoch 45/900\n",
      "101/101 [==============================] - 3s 29ms/step - loss: 0.0297\n",
      "Epoch 46/900\n",
      "101/101 [==============================] - 3s 29ms/step - loss: 0.0294\n",
      "Epoch 47/900\n",
      "101/101 [==============================] - 3s 29ms/step - loss: 0.0241\n",
      "Epoch 48/900\n",
      "101/101 [==============================] - 3s 28ms/step - loss: 0.0274\n",
      "Epoch 49/900\n",
      "101/101 [==============================] - 3s 28ms/step - loss: 0.0230\n",
      "Epoch 50/900\n",
      "101/101 [==============================] - 3s 32ms/step - loss: 0.0248\n",
      "Epoch 51/900\n",
      "101/101 [==============================] - 4s 40ms/step - loss: 0.0264\n",
      "Epoch 52/900\n",
      "101/101 [==============================] - 3s 33ms/step - loss: 0.0252\n",
      "Epoch 53/900\n",
      "101/101 [==============================] - 3s 32ms/step - loss: 0.0231\n",
      "Epoch 54/900\n",
      "101/101 [==============================] - 3s 29ms/step - loss: 0.0253\n",
      "Epoch 55/900\n",
      "101/101 [==============================] - 3s 34ms/step - loss: 0.0269\n",
      "Epoch 56/900\n",
      "101/101 [==============================] - 3s 35ms/step - loss: 0.0205\n",
      "Epoch 57/900\n",
      "101/101 [==============================] - 3s 28ms/step - loss: 0.0306\n",
      "Epoch 58/900\n",
      "101/101 [==============================] - 3s 27ms/step - loss: 0.0242\n",
      "Epoch 59/900\n",
      "101/101 [==============================] - 4s 35ms/step - loss: 0.0285\n",
      "Epoch 60/900\n",
      "101/101 [==============================] - 3s 28ms/step - loss: 0.0253\n",
      "Epoch 61/900\n",
      "101/101 [==============================] - 3s 30ms/step - loss: 0.0272\n",
      "Epoch 62/900\n",
      "101/101 [==============================] - 3s 29ms/step - loss: 0.0265\n",
      "Epoch 63/900\n",
      "101/101 [==============================] - 3s 28ms/step - loss: 0.0225\n",
      "Epoch 64/900\n",
      "101/101 [==============================] - 3s 30ms/step - loss: 0.0258\n",
      "Epoch 65/900\n",
      "101/101 [==============================] - 3s 29ms/step - loss: 0.0256\n",
      "Epoch 66/900\n",
      "101/101 [==============================] - 3s 33ms/step - loss: 0.0254\n",
      "Epoch 67/900\n",
      "101/101 [==============================] - 3s 33ms/step - loss: 0.0181\n",
      "Epoch 68/900\n",
      "101/101 [==============================] - 3s 29ms/step - loss: 0.0227\n",
      "Epoch 69/900\n",
      "101/101 [==============================] - 3s 28ms/step - loss: 0.0222\n",
      "Epoch 70/900\n",
      "101/101 [==============================] - 3s 33ms/step - loss: 0.0221\n",
      "Epoch 71/900\n",
      "101/101 [==============================] - 3s 33ms/step - loss: 0.0226\n",
      "Epoch 72/900\n",
      "101/101 [==============================] - 4s 36ms/step - loss: 0.0189\n",
      "Epoch 73/900\n",
      "101/101 [==============================] - 3s 28ms/step - loss: 0.0258\n",
      "Epoch 74/900\n",
      "101/101 [==============================] - 3s 30ms/step - loss: 0.0220\n",
      "Epoch 75/900\n",
      "101/101 [==============================] - 3s 28ms/step - loss: 0.0207\n",
      "Epoch 76/900\n",
      "101/101 [==============================] - 3s 29ms/step - loss: 0.0279\n",
      "Epoch 77/900\n",
      "101/101 [==============================] - 3s 28ms/step - loss: 0.0250\n",
      "Epoch 78/900\n",
      "101/101 [==============================] - 3s 28ms/step - loss: 0.0262\n",
      "Epoch 79/900\n",
      "101/101 [==============================] - 3s 28ms/step - loss: 0.0243\n",
      "Epoch 80/900\n",
      "101/101 [==============================] - 3s 31ms/step - loss: 0.0212\n",
      "Epoch 81/900\n",
      "101/101 [==============================] - 3s 30ms/step - loss: 0.0252: 0s - loss: 0.025\n",
      "Epoch 82/900\n",
      "101/101 [==============================] - 3s 34ms/step - loss: 0.0219\n",
      "Epoch 83/900\n",
      "101/101 [==============================] - 3s 32ms/step - loss: 0.0194\n",
      "Epoch 84/900\n",
      "101/101 [==============================] - 3s 27ms/step - loss: 0.0213\n",
      "Epoch 85/900\n",
      "101/101 [==============================] - 3s 29ms/step - loss: 0.0287\n",
      "Epoch 86/900\n",
      "101/101 [==============================] - 3s 28ms/step - loss: 0.0206\n",
      "Epoch 87/900\n",
      "101/101 [==============================] - 3s 27ms/step - loss: 0.0282\n",
      "Epoch 88/900\n",
      "101/101 [==============================] - 3s 30ms/step - loss: 0.0227\n",
      "Epoch 89/900\n",
      "101/101 [==============================] - 3s 30ms/step - loss: 0.0236\n",
      "Epoch 90/900\n",
      "101/101 [==============================] - 3s 30ms/step - loss: 0.0230\n",
      "Epoch 91/900\n",
      "101/101 [==============================] - 3s 27ms/step - loss: 0.0205\n",
      "Epoch 92/900\n",
      "101/101 [==============================] - 3s 28ms/step - loss: 0.0240\n",
      "Epoch 93/900\n",
      "101/101 [==============================] - 3s 27ms/step - loss: 0.0211\n",
      "Epoch 94/900\n",
      "101/101 [==============================] - 3s 28ms/step - loss: 0.0207\n",
      "Epoch 95/900\n",
      "101/101 [==============================] - 3s 28ms/step - loss: 0.0214\n",
      "Epoch 96/900\n",
      "101/101 [==============================] - 3s 28ms/step - loss: 0.0227\n",
      "Epoch 97/900\n",
      "101/101 [==============================] - 3s 30ms/step - loss: 0.0240\n",
      "Epoch 98/900\n"
     ]
    },
    {
     "name": "stdout",
     "output_type": "stream",
     "text": [
      "101/101 [==============================] - 3s 28ms/step - loss: 0.0226\n",
      "Epoch 99/900\n",
      "101/101 [==============================] - 3s 27ms/step - loss: 0.0210\n",
      "Epoch 100/900\n",
      "101/101 [==============================] - 3s 28ms/step - loss: 0.0208\n",
      "Epoch 101/900\n",
      "101/101 [==============================] - 3s 28ms/step - loss: 0.0217\n",
      "Epoch 102/900\n",
      "101/101 [==============================] - 3s 29ms/step - loss: 0.0225\n",
      "Epoch 103/900\n",
      "101/101 [==============================] - 3s 29ms/step - loss: 0.0244\n",
      "Epoch 104/900\n",
      "101/101 [==============================] - 3s 29ms/step - loss: 0.0229\n",
      "Epoch 105/900\n",
      "101/101 [==============================] - 3s 30ms/step - loss: 0.0232\n",
      "Epoch 106/900\n",
      "101/101 [==============================] - 3s 28ms/step - loss: 0.0267\n",
      "Epoch 107/900\n",
      "101/101 [==============================] - 3s 28ms/step - loss: 0.0224\n",
      "Epoch 108/900\n",
      "101/101 [==============================] - 3s 29ms/step - loss: 0.0237\n",
      "Epoch 109/900\n",
      "101/101 [==============================] - 3s 33ms/step - loss: 0.0238\n",
      "Epoch 110/900\n",
      "101/101 [==============================] - 4s 37ms/step - loss: 0.0206\n",
      "Epoch 111/900\n",
      "101/101 [==============================] - 4s 43ms/step - loss: 0.0227\n",
      "Epoch 112/900\n",
      "101/101 [==============================] - 4s 40ms/step - loss: 0.0265\n",
      "Epoch 113/900\n",
      "101/101 [==============================] - 4s 39ms/step - loss: 0.0215\n",
      "Epoch 114/900\n",
      "101/101 [==============================] - 4s 39ms/step - loss: 0.0189\n",
      "Epoch 115/900\n",
      "101/101 [==============================] - 4s 38ms/step - loss: 0.0228\n",
      "Epoch 116/900\n",
      "101/101 [==============================] - 4s 38ms/step - loss: 0.0214\n",
      "Epoch 117/900\n",
      "101/101 [==============================] - 4s 38ms/step - loss: 0.0211\n",
      "Epoch 118/900\n",
      "101/101 [==============================] - 4s 38ms/step - loss: 0.0219\n",
      "Epoch 119/900\n",
      "101/101 [==============================] - 4s 38ms/step - loss: 0.0233\n",
      "Epoch 120/900\n",
      "101/101 [==============================] - 4s 38ms/step - loss: 0.0249\n",
      "Epoch 121/900\n",
      "101/101 [==============================] - 4s 38ms/step - loss: 0.0205\n",
      "Epoch 122/900\n",
      "101/101 [==============================] - 4s 38ms/step - loss: 0.0215\n",
      "Epoch 123/900\n",
      "101/101 [==============================] - 4s 38ms/step - loss: 0.0214\n",
      "Epoch 124/900\n",
      "101/101 [==============================] - 4s 38ms/step - loss: 0.0261\n",
      "Epoch 125/900\n",
      "101/101 [==============================] - 4s 38ms/step - loss: 0.0189\n",
      "Epoch 126/900\n",
      "101/101 [==============================] - 4s 39ms/step - loss: 0.0232\n",
      "Epoch 127/900\n",
      "101/101 [==============================] - 4s 38ms/step - loss: 0.0259\n",
      "Epoch 128/900\n",
      "101/101 [==============================] - 4s 39ms/step - loss: 0.0216\n",
      "Epoch 129/900\n",
      "101/101 [==============================] - 4s 39ms/step - loss: 0.0221\n",
      "Epoch 130/900\n",
      "101/101 [==============================] - 4s 39ms/step - loss: 0.0184\n",
      "Epoch 131/900\n",
      "101/101 [==============================] - 4s 39ms/step - loss: 0.0210\n",
      "Epoch 132/900\n",
      "101/101 [==============================] - 4s 39ms/step - loss: 0.0193\n",
      "Epoch 133/900\n",
      "101/101 [==============================] - 4s 38ms/step - loss: 0.0199\n",
      "Epoch 134/900\n",
      "101/101 [==============================] - 4s 39ms/step - loss: 0.0195\n",
      "Epoch 135/900\n",
      "101/101 [==============================] - 4s 38ms/step - loss: 0.0222\n",
      "Epoch 136/900\n",
      "101/101 [==============================] - 4s 38ms/step - loss: 0.0231\n",
      "Epoch 137/900\n",
      "101/101 [==============================] - 4s 38ms/step - loss: 0.0224\n",
      "Epoch 138/900\n",
      "101/101 [==============================] - 4s 38ms/step - loss: 0.0218\n",
      "Epoch 139/900\n",
      "101/101 [==============================] - 4s 38ms/step - loss: 0.0203\n",
      "Epoch 140/900\n",
      "101/101 [==============================] - 4s 38ms/step - loss: 0.0187\n",
      "Epoch 141/900\n",
      "101/101 [==============================] - 4s 38ms/step - loss: 0.0211\n",
      "Epoch 142/900\n",
      "101/101 [==============================] - 4s 38ms/step - loss: 0.0215\n",
      "Epoch 143/900\n",
      "101/101 [==============================] - 4s 38ms/step - loss: 0.0192\n",
      "Epoch 144/900\n",
      "101/101 [==============================] - 4s 38ms/step - loss: 0.0213\n",
      "Epoch 145/900\n",
      "101/101 [==============================] - 4s 38ms/step - loss: 0.0208\n",
      "Epoch 146/900\n",
      "101/101 [==============================] - 4s 38ms/step - loss: 0.0201\n",
      "Epoch 147/900\n",
      "101/101 [==============================] - 4s 39ms/step - loss: 0.0213\n",
      "Epoch 148/900\n",
      "101/101 [==============================] - 4s 38ms/step - loss: 0.0213\n",
      "Epoch 149/900\n",
      "101/101 [==============================] - 4s 38ms/step - loss: 0.0193\n",
      "Epoch 150/900\n",
      "101/101 [==============================] - 4s 38ms/step - loss: 0.0183\n",
      "Epoch 151/900\n",
      "101/101 [==============================] - 4s 38ms/step - loss: 0.0229\n",
      "Epoch 152/900\n",
      "101/101 [==============================] - 4s 39ms/step - loss: 0.0223\n",
      "Epoch 153/900\n",
      "101/101 [==============================] - 4s 38ms/step - loss: 0.0204\n",
      "Epoch 154/900\n",
      "101/101 [==============================] - 4s 38ms/step - loss: 0.0178\n",
      "Epoch 155/900\n",
      "101/101 [==============================] - 4s 38ms/step - loss: 0.0218\n",
      "Epoch 156/900\n",
      "101/101 [==============================] - 4s 38ms/step - loss: 0.0201\n",
      "Epoch 157/900\n",
      "101/101 [==============================] - 4s 38ms/step - loss: 0.0187\n",
      "Epoch 158/900\n",
      "101/101 [==============================] - 4s 38ms/step - loss: 0.0212\n",
      "Epoch 159/900\n",
      "101/101 [==============================] - 4s 38ms/step - loss: 0.0186\n",
      "Epoch 160/900\n",
      "101/101 [==============================] - 4s 38ms/step - loss: 0.0193\n",
      "Epoch 161/900\n",
      "101/101 [==============================] - 4s 38ms/step - loss: 0.0189\n",
      "Epoch 162/900\n",
      "101/101 [==============================] - 4s 38ms/step - loss: 0.0187\n",
      "Epoch 163/900\n",
      "101/101 [==============================] - 4s 38ms/step - loss: 0.0217\n",
      "Epoch 164/900\n",
      "101/101 [==============================] - 4s 38ms/step - loss: 0.0219\n",
      "Epoch 165/900\n",
      "101/101 [==============================] - 4s 39ms/step - loss: 0.0197\n",
      "Epoch 166/900\n",
      "101/101 [==============================] - 4s 40ms/step - loss: 0.0202\n",
      "Epoch 167/900\n",
      "101/101 [==============================] - 4s 38ms/step - loss: 0.0178\n",
      "Epoch 168/900\n",
      "101/101 [==============================] - 4s 38ms/step - loss: 0.0201\n",
      "Epoch 169/900\n",
      "101/101 [==============================] - 4s 38ms/step - loss: 0.0205\n",
      "Epoch 170/900\n",
      "101/101 [==============================] - 4s 39ms/step - loss: 0.0185\n",
      "Epoch 171/900\n",
      "101/101 [==============================] - 4s 38ms/step - loss: 0.0214\n",
      "Epoch 172/900\n",
      "101/101 [==============================] - 4s 38ms/step - loss: 0.0200\n",
      "Epoch 173/900\n",
      "101/101 [==============================] - 4s 38ms/step - loss: 0.0210\n",
      "Epoch 174/900\n",
      "101/101 [==============================] - 4s 38ms/step - loss: 0.0190\n",
      "Epoch 175/900\n",
      "101/101 [==============================] - 4s 38ms/step - loss: 0.0202\n",
      "Epoch 176/900\n",
      "101/101 [==============================] - 4s 38ms/step - loss: 0.0243\n",
      "Epoch 177/900\n",
      "101/101 [==============================] - 4s 38ms/step - loss: 0.0210\n",
      "Epoch 178/900\n",
      "101/101 [==============================] - 4s 38ms/step - loss: 0.0203\n",
      "Epoch 179/900\n",
      "101/101 [==============================] - 4s 38ms/step - loss: 0.0196\n",
      "Epoch 180/900\n",
      "101/101 [==============================] - 4s 38ms/step - loss: 0.0176\n",
      "Epoch 181/900\n",
      "101/101 [==============================] - 4s 38ms/step - loss: 0.0204\n",
      "Epoch 182/900\n",
      "101/101 [==============================] - 4s 38ms/step - loss: 0.0173\n",
      "Epoch 183/900\n",
      "101/101 [==============================] - 4s 38ms/step - loss: 0.0179\n",
      "Epoch 184/900\n",
      "101/101 [==============================] - 4s 38ms/step - loss: 0.0182\n",
      "Epoch 185/900\n",
      "101/101 [==============================] - 4s 38ms/step - loss: 0.0187\n",
      "Epoch 186/900\n",
      "101/101 [==============================] - 4s 38ms/step - loss: 0.0175\n",
      "Epoch 187/900\n",
      "101/101 [==============================] - 4s 38ms/step - loss: 0.0185\n",
      "Epoch 188/900\n",
      "101/101 [==============================] - 4s 38ms/step - loss: 0.0200\n",
      "Epoch 189/900\n",
      "101/101 [==============================] - 4s 39ms/step - loss: 0.0189\n",
      "Epoch 190/900\n",
      "101/101 [==============================] - 4s 38ms/step - loss: 0.0172\n",
      "Epoch 191/900\n",
      "101/101 [==============================] - 4s 38ms/step - loss: 0.0192\n",
      "Epoch 192/900\n",
      "101/101 [==============================] - 4s 39ms/step - loss: 0.0222\n",
      "Epoch 193/900\n",
      "101/101 [==============================] - 4s 38ms/step - loss: 0.0154\n",
      "Epoch 194/900\n"
     ]
    },
    {
     "name": "stdout",
     "output_type": "stream",
     "text": [
      "101/101 [==============================] - 4s 38ms/step - loss: 0.0184\n",
      "Epoch 195/900\n",
      "101/101 [==============================] - 4s 39ms/step - loss: 0.0183\n",
      "Epoch 196/900\n",
      "101/101 [==============================] - 4s 38ms/step - loss: 0.0177\n",
      "Epoch 197/900\n",
      "101/101 [==============================] - 4s 40ms/step - loss: 0.0213\n",
      "Epoch 198/900\n",
      "101/101 [==============================] - 4s 38ms/step - loss: 0.0190\n",
      "Epoch 199/900\n",
      "101/101 [==============================] - 4s 38ms/step - loss: 0.0180\n",
      "Epoch 200/900\n",
      "101/101 [==============================] - 4s 38ms/step - loss: 0.0224\n",
      "Epoch 201/900\n",
      "101/101 [==============================] - 4s 39ms/step - loss: 0.0209\n",
      "Epoch 202/900\n",
      "101/101 [==============================] - 4s 38ms/step - loss: 0.0154\n",
      "Epoch 203/900\n",
      "101/101 [==============================] - 4s 39ms/step - loss: 0.0187\n",
      "Epoch 204/900\n",
      "101/101 [==============================] - 4s 38ms/step - loss: 0.0159\n",
      "Epoch 205/900\n",
      "101/101 [==============================] - 4s 38ms/step - loss: 0.0170\n",
      "Epoch 206/900\n",
      "101/101 [==============================] - 4s 38ms/step - loss: 0.0146\n",
      "Epoch 207/900\n",
      "101/101 [==============================] - 4s 38ms/step - loss: 0.0215\n",
      "Epoch 208/900\n",
      "101/101 [==============================] - 4s 38ms/step - loss: 0.0198\n",
      "Epoch 209/900\n",
      "101/101 [==============================] - 4s 38ms/step - loss: 0.0183\n",
      "Epoch 210/900\n",
      "101/101 [==============================] - 4s 39ms/step - loss: 0.0185\n",
      "Epoch 211/900\n",
      "101/101 [==============================] - 4s 38ms/step - loss: 0.0152\n",
      "Epoch 212/900\n",
      "101/101 [==============================] - 4s 38ms/step - loss: 0.0215\n",
      "Epoch 213/900\n",
      "101/101 [==============================] - 4s 40ms/step - loss: 0.0162\n",
      "Epoch 214/900\n",
      "101/101 [==============================] - 4s 38ms/step - loss: 0.0183\n",
      "Epoch 215/900\n",
      "101/101 [==============================] - 4s 38ms/step - loss: 0.0195\n",
      "Epoch 216/900\n",
      "101/101 [==============================] - 4s 38ms/step - loss: 0.0186\n",
      "Epoch 217/900\n",
      "101/101 [==============================] - 4s 38ms/step - loss: 0.0149\n",
      "Epoch 218/900\n",
      "101/101 [==============================] - 4s 38ms/step - loss: 0.0156\n",
      "Epoch 219/900\n",
      "101/101 [==============================] - 4s 38ms/step - loss: 0.0194\n",
      "Epoch 220/900\n",
      "101/101 [==============================] - 4s 39ms/step - loss: 0.0168\n",
      "Epoch 221/900\n",
      "101/101 [==============================] - 4s 38ms/step - loss: 0.0178\n",
      "Epoch 222/900\n",
      "101/101 [==============================] - 4s 38ms/step - loss: 0.0156\n",
      "Epoch 223/900\n",
      "101/101 [==============================] - 4s 38ms/step - loss: 0.0197\n",
      "Epoch 224/900\n",
      "101/101 [==============================] - 4s 39ms/step - loss: 0.0169\n",
      "Epoch 225/900\n",
      "101/101 [==============================] - 4s 38ms/step - loss: 0.0195\n",
      "Epoch 226/900\n",
      "101/101 [==============================] - 4s 38ms/step - loss: 0.0182\n",
      "Epoch 227/900\n",
      "101/101 [==============================] - 4s 38ms/step - loss: 0.0167\n",
      "Epoch 228/900\n",
      "101/101 [==============================] - 4s 38ms/step - loss: 0.0163\n",
      "Epoch 229/900\n",
      "101/101 [==============================] - 4s 38ms/step - loss: 0.0143\n",
      "Epoch 230/900\n",
      "101/101 [==============================] - 4s 38ms/step - loss: 0.0152\n",
      "Epoch 231/900\n",
      "101/101 [==============================] - 4s 38ms/step - loss: 0.0191\n",
      "Epoch 232/900\n",
      "101/101 [==============================] - 4s 38ms/step - loss: 0.0163\n",
      "Epoch 233/900\n",
      "101/101 [==============================] - 4s 38ms/step - loss: 0.0194\n",
      "Epoch 234/900\n",
      "101/101 [==============================] - 4s 38ms/step - loss: 0.0166\n",
      "Epoch 235/900\n",
      "101/101 [==============================] - 4s 38ms/step - loss: 0.0149\n",
      "Epoch 236/900\n",
      "101/101 [==============================] - 4s 38ms/step - loss: 0.0175\n",
      "Epoch 237/900\n",
      "101/101 [==============================] - 4s 38ms/step - loss: 0.0172\n",
      "Epoch 238/900\n",
      "101/101 [==============================] - 4s 38ms/step - loss: 0.0169\n",
      "Epoch 239/900\n",
      "101/101 [==============================] - 4s 38ms/step - loss: 0.0156\n",
      "Epoch 240/900\n",
      "101/101 [==============================] - 4s 38ms/step - loss: 0.0144\n",
      "Epoch 241/900\n",
      "101/101 [==============================] - 4s 38ms/step - loss: 0.0148\n",
      "Epoch 242/900\n",
      "101/101 [==============================] - 4s 38ms/step - loss: 0.0165\n",
      "Epoch 243/900\n",
      "101/101 [==============================] - 4s 39ms/step - loss: 0.0171\n",
      "Epoch 244/900\n",
      "101/101 [==============================] - 4s 38ms/step - loss: 0.0140\n",
      "Epoch 245/900\n",
      "101/101 [==============================] - 4s 39ms/step - loss: 0.0176\n",
      "Epoch 246/900\n",
      "101/101 [==============================] - 4s 38ms/step - loss: 0.0113\n",
      "Epoch 247/900\n",
      "101/101 [==============================] - 4s 38ms/step - loss: 0.0186\n",
      "Epoch 248/900\n",
      "101/101 [==============================] - 4s 38ms/step - loss: 0.0161\n",
      "Epoch 249/900\n",
      "101/101 [==============================] - 4s 38ms/step - loss: 0.0153\n",
      "Epoch 250/900\n",
      "101/101 [==============================] - 4s 38ms/step - loss: 0.0189\n",
      "Epoch 251/900\n",
      "101/101 [==============================] - 4s 38ms/step - loss: 0.0160\n",
      "Epoch 252/900\n",
      "101/101 [==============================] - 4s 38ms/step - loss: 0.0153\n",
      "Epoch 253/900\n",
      "101/101 [==============================] - 4s 38ms/step - loss: 0.0171\n",
      "Epoch 254/900\n",
      "101/101 [==============================] - 4s 38ms/step - loss: 0.0188\n",
      "Epoch 255/900\n",
      "101/101 [==============================] - 4s 38ms/step - loss: 0.0163\n",
      "Epoch 256/900\n",
      "101/101 [==============================] - 4s 38ms/step - loss: 0.0151\n",
      "Epoch 257/900\n",
      "101/101 [==============================] - 4s 38ms/step - loss: 0.0149\n",
      "Epoch 258/900\n",
      "101/101 [==============================] - 4s 38ms/step - loss: 0.0171\n",
      "Epoch 259/900\n",
      "101/101 [==============================] - 4s 41ms/step - loss: 0.0189\n",
      "Epoch 260/900\n",
      "101/101 [==============================] - 4s 39ms/step - loss: 0.0160\n",
      "Epoch 261/900\n",
      "101/101 [==============================] - 4s 38ms/step - loss: 0.0144\n",
      "Epoch 262/900\n",
      "101/101 [==============================] - 4s 38ms/step - loss: 0.0140\n",
      "Epoch 263/900\n",
      "101/101 [==============================] - 4s 38ms/step - loss: 0.0138\n",
      "Epoch 264/900\n",
      "101/101 [==============================] - 4s 38ms/step - loss: 0.0177\n",
      "Epoch 265/900\n",
      "101/101 [==============================] - 4s 38ms/step - loss: 0.0157\n",
      "Epoch 266/900\n",
      "101/101 [==============================] - 4s 38ms/step - loss: 0.0174\n",
      "Epoch 267/900\n",
      "101/101 [==============================] - 4s 44ms/step - loss: 0.0145\n",
      "Epoch 268/900\n",
      "101/101 [==============================] - 5s 45ms/step - loss: 0.0168\n",
      "Epoch 269/900\n",
      "101/101 [==============================] - 4s 44ms/step - loss: 0.0142\n",
      "Epoch 270/900\n",
      "101/101 [==============================] - 5s 45ms/step - loss: 0.0151\n",
      "Epoch 271/900\n",
      "101/101 [==============================] - 5s 45ms/step - loss: 0.0137\n",
      "Epoch 272/900\n",
      "101/101 [==============================] - 4s 44ms/step - loss: 0.0134\n",
      "Epoch 273/900\n",
      "101/101 [==============================] - 5s 45ms/step - loss: 0.0160\n",
      "Epoch 274/900\n",
      "101/101 [==============================] - 5s 47ms/step - loss: 0.0135\n",
      "Epoch 275/900\n",
      "101/101 [==============================] - 4s 44ms/step - loss: 0.0166\n",
      "Epoch 276/900\n",
      "101/101 [==============================] - 4s 44ms/step - loss: 0.0186\n",
      "Epoch 277/900\n",
      "101/101 [==============================] - 4s 45ms/step - loss: 0.0185\n",
      "Epoch 278/900\n",
      "101/101 [==============================] - 4s 44ms/step - loss: 0.0177\n",
      "Epoch 279/900\n",
      "101/101 [==============================] - 4s 44ms/step - loss: 0.0151\n",
      "Epoch 280/900\n",
      "101/101 [==============================] - 5s 45ms/step - loss: 0.0151\n",
      "Epoch 281/900\n",
      "101/101 [==============================] - 4s 43ms/step - loss: 0.0141\n",
      "Epoch 282/900\n",
      "101/101 [==============================] - 4s 44ms/step - loss: 0.0173\n",
      "Epoch 283/900\n",
      "101/101 [==============================] - 4s 44ms/step - loss: 0.0123\n",
      "Epoch 284/900\n",
      "101/101 [==============================] - 5s 45ms/step - loss: 0.0184\n",
      "Epoch 285/900\n",
      "101/101 [==============================] - 5s 45ms/step - loss: 0.0185\n",
      "Epoch 286/900\n",
      "101/101 [==============================] - 5s 45ms/step - loss: 0.0161\n",
      "Epoch 287/900\n",
      "101/101 [==============================] - 4s 44ms/step - loss: 0.0177\n",
      "Epoch 288/900\n",
      "101/101 [==============================] - 5s 45ms/step - loss: 0.0104\n",
      "Epoch 289/900\n",
      "101/101 [==============================] - 4s 44ms/step - loss: 0.0153\n",
      "Epoch 290/900\n"
     ]
    },
    {
     "name": "stdout",
     "output_type": "stream",
     "text": [
      "101/101 [==============================] - 4s 44ms/step - loss: 0.0127\n",
      "Epoch 291/900\n",
      "101/101 [==============================] - 5s 45ms/step - loss: 0.0124\n",
      "Epoch 292/900\n",
      "101/101 [==============================] - 4s 44ms/step - loss: 0.0141\n",
      "Epoch 293/900\n",
      "101/101 [==============================] - 4s 44ms/step - loss: 0.0171\n",
      "Epoch 294/900\n",
      "101/101 [==============================] - 5s 45ms/step - loss: 0.0148\n",
      "Epoch 295/900\n",
      "101/101 [==============================] - 4s 44ms/step - loss: 0.0124\n",
      "Epoch 296/900\n",
      "101/101 [==============================] - 4s 44ms/step - loss: 0.0138\n",
      "Epoch 297/900\n",
      "101/101 [==============================] - 4s 44ms/step - loss: 0.0180\n",
      "Epoch 298/900\n",
      "101/101 [==============================] - 5s 45ms/step - loss: 0.0143\n",
      "Epoch 299/900\n",
      "101/101 [==============================] - 4s 44ms/step - loss: 0.0157\n",
      "Epoch 300/900\n",
      "101/101 [==============================] - 5s 45ms/step - loss: 0.0138\n",
      "Epoch 301/900\n",
      "101/101 [==============================] - 4s 44ms/step - loss: 0.0173\n",
      "Epoch 302/900\n",
      "101/101 [==============================] - 4s 45ms/step - loss: 0.0129\n",
      "Epoch 303/900\n",
      "101/101 [==============================] - 5s 45ms/step - loss: 0.0131\n",
      "Epoch 304/900\n",
      "101/101 [==============================] - 4s 44ms/step - loss: 0.0153\n",
      "Epoch 305/900\n",
      "101/101 [==============================] - 5s 45ms/step - loss: 0.0129\n",
      "Epoch 306/900\n",
      "101/101 [==============================] - 4s 43ms/step - loss: 0.0144\n",
      "Epoch 307/900\n",
      "101/101 [==============================] - 5s 45ms/step - loss: 0.0156\n",
      "Epoch 308/900\n",
      "101/101 [==============================] - 5s 45ms/step - loss: 0.0111\n",
      "Epoch 309/900\n",
      "101/101 [==============================] - 4s 44ms/step - loss: 0.0132\n",
      "Epoch 310/900\n",
      "101/101 [==============================] - 4s 44ms/step - loss: 0.0155\n",
      "Epoch 311/900\n",
      "101/101 [==============================] - 4s 44ms/step - loss: 0.0189\n",
      "Epoch 312/900\n",
      "101/101 [==============================] - 4s 44ms/step - loss: 0.0118\n",
      "Epoch 313/900\n",
      "101/101 [==============================] - 5s 45ms/step - loss: 0.0132\n",
      "Epoch 314/900\n",
      "101/101 [==============================] - 4s 44ms/step - loss: 0.0129\n",
      "Epoch 315/900\n",
      "101/101 [==============================] - 4s 44ms/step - loss: 0.0125\n",
      "Epoch 316/900\n",
      "101/101 [==============================] - 5s 45ms/step - loss: 0.0131\n",
      "Epoch 317/900\n",
      "101/101 [==============================] - 4s 44ms/step - loss: 0.0151\n",
      "Epoch 318/900\n",
      "101/101 [==============================] - 4s 44ms/step - loss: 0.0123\n",
      "Epoch 319/900\n",
      "101/101 [==============================] - 4s 44ms/step - loss: 0.0160\n",
      "Epoch 320/900\n",
      "101/101 [==============================] - 4s 44ms/step - loss: 0.0129\n",
      "Epoch 321/900\n",
      "101/101 [==============================] - 4s 44ms/step - loss: 0.0134\n",
      "Epoch 322/900\n",
      "101/101 [==============================] - 4s 44ms/step - loss: 0.0152\n",
      "Epoch 323/900\n",
      "101/101 [==============================] - 4s 44ms/step - loss: 0.0148\n",
      "Epoch 324/900\n",
      "101/101 [==============================] - 5s 45ms/step - loss: 0.0182\n",
      "Epoch 325/900\n",
      "101/101 [==============================] - 5s 45ms/step - loss: 0.0120\n",
      "Epoch 326/900\n",
      "101/101 [==============================] - 4s 43ms/step - loss: 0.0121\n",
      "Epoch 327/900\n",
      "101/101 [==============================] - 4s 44ms/step - loss: 0.0147\n",
      "Epoch 328/900\n",
      "101/101 [==============================] - 5s 46ms/step - loss: 0.0156\n",
      "Epoch 329/900\n",
      "101/101 [==============================] - 4s 44ms/step - loss: 0.0119\n",
      "Epoch 330/900\n",
      "101/101 [==============================] - 4s 44ms/step - loss: 0.0086\n",
      "Epoch 331/900\n",
      "101/101 [==============================] - 4s 44ms/step - loss: 0.0148\n",
      "Epoch 332/900\n",
      "101/101 [==============================] - 4s 44ms/step - loss: 0.0153\n",
      "Epoch 333/900\n",
      "101/101 [==============================] - 4s 45ms/step - loss: 0.0157\n",
      "Epoch 334/900\n",
      "101/101 [==============================] - 5s 45ms/step - loss: 0.0118\n",
      "Epoch 335/900\n",
      "101/101 [==============================] - 4s 44ms/step - loss: 0.0135\n",
      "Epoch 336/900\n",
      "101/101 [==============================] - 4s 44ms/step - loss: 0.0172\n",
      "Epoch 337/900\n",
      "101/101 [==============================] - 4s 43ms/step - loss: 0.0106\n",
      "Epoch 338/900\n",
      "101/101 [==============================] - 4s 44ms/step - loss: 0.0116\n",
      "Epoch 339/900\n",
      "101/101 [==============================] - 4s 44ms/step - loss: 0.0132\n",
      "Epoch 340/900\n",
      "101/101 [==============================] - 4s 44ms/step - loss: 0.0128\n",
      "Epoch 341/900\n",
      "101/101 [==============================] - 3s 34ms/step - loss: 0.0102\n",
      "Epoch 342/900\n",
      "101/101 [==============================] - 3s 31ms/step - loss: 0.0129\n",
      "Epoch 343/900\n",
      "101/101 [==============================] - 3s 31ms/step - loss: 0.0123\n",
      "Epoch 344/900\n",
      "101/101 [==============================] - 3s 31ms/step - loss: 0.0129\n",
      "Epoch 345/900\n",
      "101/101 [==============================] - 3s 33ms/step - loss: 0.0151\n",
      "Epoch 346/900\n",
      "101/101 [==============================] - 3s 31ms/step - loss: 0.0125\n",
      "Epoch 347/900\n",
      "101/101 [==============================] - 3s 31ms/step - loss: 0.0129\n",
      "Epoch 348/900\n",
      "101/101 [==============================] - 3s 31ms/step - loss: 0.0155\n",
      "Epoch 349/900\n",
      "101/101 [==============================] - 3s 31ms/step - loss: 0.0117\n",
      "Epoch 350/900\n",
      "101/101 [==============================] - 3s 31ms/step - loss: 0.0124\n",
      "Epoch 351/900\n",
      "101/101 [==============================] - 3s 31ms/step - loss: 0.0116\n",
      "Epoch 352/900\n",
      "101/101 [==============================] - 3s 31ms/step - loss: 0.0124\n",
      "Epoch 353/900\n",
      "101/101 [==============================] - 3s 31ms/step - loss: 0.0113\n",
      "Epoch 354/900\n",
      "101/101 [==============================] - 3s 31ms/step - loss: 0.0107\n",
      "Epoch 355/900\n",
      "101/101 [==============================] - 3s 31ms/step - loss: 0.0113\n",
      "Epoch 356/900\n",
      "101/101 [==============================] - 3s 31ms/step - loss: 0.0132\n",
      "Epoch 357/900\n",
      "101/101 [==============================] - 3s 31ms/step - loss: 0.0115\n",
      "Epoch 358/900\n",
      "101/101 [==============================] - 3s 31ms/step - loss: 0.0112\n",
      "Epoch 359/900\n",
      "101/101 [==============================] - 3s 31ms/step - loss: 0.0138\n",
      "Epoch 360/900\n",
      "101/101 [==============================] - 3s 32ms/step - loss: 0.0104\n",
      "Epoch 361/900\n",
      "101/101 [==============================] - 3s 31ms/step - loss: 0.0135\n",
      "Epoch 362/900\n",
      "101/101 [==============================] - 3s 31ms/step - loss: 0.0124\n",
      "Epoch 363/900\n",
      "101/101 [==============================] - 3s 31ms/step - loss: 0.0127\n",
      "Epoch 364/900\n",
      "101/101 [==============================] - 3s 31ms/step - loss: 0.0109\n",
      "Epoch 365/900\n",
      "101/101 [==============================] - 3s 31ms/step - loss: 0.0121\n",
      "Epoch 366/900\n",
      "101/101 [==============================] - 3s 31ms/step - loss: 0.0103\n",
      "Epoch 367/900\n",
      "101/101 [==============================] - 3s 31ms/step - loss: 0.0108\n",
      "Epoch 368/900\n",
      "101/101 [==============================] - 3s 30ms/step - loss: 0.0117\n",
      "Epoch 369/900\n",
      "101/101 [==============================] - 3s 31ms/step - loss: 0.0146\n",
      "Epoch 370/900\n",
      "101/101 [==============================] - 3s 32ms/step - loss: 0.0139\n",
      "Epoch 371/900\n",
      "101/101 [==============================] - 3s 31ms/step - loss: 0.0133\n",
      "Epoch 372/900\n",
      "101/101 [==============================] - 3s 31ms/step - loss: 0.0145\n",
      "Epoch 373/900\n",
      "101/101 [==============================] - 3s 31ms/step - loss: 0.0114\n",
      "Epoch 374/900\n",
      "101/101 [==============================] - 3s 31ms/step - loss: 0.0135\n",
      "Epoch 375/900\n",
      "101/101 [==============================] - 3s 31ms/step - loss: 0.0172\n",
      "Epoch 376/900\n",
      "101/101 [==============================] - 3s 31ms/step - loss: 0.0136\n",
      "Epoch 377/900\n",
      "101/101 [==============================] - 3s 31ms/step - loss: 0.0116\n",
      "Epoch 378/900\n",
      "101/101 [==============================] - 3s 31ms/step - loss: 0.0128\n",
      "Epoch 379/900\n",
      "101/101 [==============================] - 3s 31ms/step - loss: 0.0117\n",
      "Epoch 380/900\n",
      "101/101 [==============================] - 3s 31ms/step - loss: 0.0116\n",
      "Epoch 381/900\n",
      "101/101 [==============================] - 3s 31ms/step - loss: 0.0114\n",
      "Epoch 382/900\n",
      "101/101 [==============================] - 3s 32ms/step - loss: 0.0123\n",
      "Epoch 383/900\n",
      "101/101 [==============================] - 3s 31ms/step - loss: 0.0144\n",
      "Epoch 384/900\n",
      "101/101 [==============================] - 3s 32ms/step - loss: 0.0101\n",
      "Epoch 385/900\n",
      "101/101 [==============================] - 3s 31ms/step - loss: 0.0119\n",
      "Epoch 386/900\n"
     ]
    },
    {
     "name": "stdout",
     "output_type": "stream",
     "text": [
      "101/101 [==============================] - 3s 31ms/step - loss: 0.0142\n",
      "Epoch 387/900\n",
      "101/101 [==============================] - 3s 31ms/step - loss: 0.0114\n",
      "Epoch 388/900\n",
      "101/101 [==============================] - 3s 31ms/step - loss: 0.0121\n",
      "Epoch 389/900\n",
      "101/101 [==============================] - 3s 31ms/step - loss: 0.0104\n",
      "Epoch 390/900\n",
      "101/101 [==============================] - 3s 31ms/step - loss: 0.0118\n",
      "Epoch 391/900\n",
      "101/101 [==============================] - 3s 31ms/step - loss: 0.0134\n",
      "Epoch 392/900\n",
      "101/101 [==============================] - 3s 31ms/step - loss: 0.0107\n",
      "Epoch 393/900\n",
      "101/101 [==============================] - 3s 31ms/step - loss: 0.0120\n",
      "Epoch 394/900\n",
      "101/101 [==============================] - 3s 31ms/step - loss: 0.0125\n",
      "Epoch 395/900\n",
      "101/101 [==============================] - 3s 31ms/step - loss: 0.0123\n",
      "Epoch 396/900\n",
      "101/101 [==============================] - 3s 31ms/step - loss: 0.0161\n",
      "Epoch 397/900\n",
      "101/101 [==============================] - 3s 31ms/step - loss: 0.0101\n",
      "Epoch 398/900\n",
      "101/101 [==============================] - 3s 31ms/step - loss: 0.0125\n",
      "Epoch 399/900\n",
      "101/101 [==============================] - 3s 31ms/step - loss: 0.0113\n",
      "Epoch 400/900\n",
      "101/101 [==============================] - 3s 31ms/step - loss: 0.0137\n",
      "Epoch 401/900\n",
      "101/101 [==============================] - 3s 31ms/step - loss: 0.0101\n",
      "Epoch 402/900\n",
      "101/101 [==============================] - 3s 31ms/step - loss: 0.0122\n",
      "Epoch 403/900\n",
      "101/101 [==============================] - 3s 31ms/step - loss: 0.0129\n",
      "Epoch 404/900\n",
      "101/101 [==============================] - 3s 31ms/step - loss: 0.0112\n",
      "Epoch 405/900\n",
      "101/101 [==============================] - 3s 31ms/step - loss: 0.0097\n",
      "Epoch 406/900\n",
      "101/101 [==============================] - 3s 31ms/step - loss: 0.0101\n",
      "Epoch 407/900\n",
      "101/101 [==============================] - 3s 31ms/step - loss: 0.0124\n",
      "Epoch 408/900\n",
      "101/101 [==============================] - 3s 31ms/step - loss: 0.0099\n",
      "Epoch 409/900\n",
      "101/101 [==============================] - 3s 32ms/step - loss: 0.0128\n",
      "Epoch 410/900\n",
      "101/101 [==============================] - 3s 31ms/step - loss: 0.0116\n",
      "Epoch 411/900\n",
      "101/101 [==============================] - 3s 31ms/step - loss: 0.0132\n",
      "Epoch 412/900\n",
      "101/101 [==============================] - 3s 31ms/step - loss: 0.0130\n",
      "Epoch 413/900\n",
      "101/101 [==============================] - 3s 31ms/step - loss: 0.0122\n",
      "Epoch 414/900\n",
      "101/101 [==============================] - 3s 31ms/step - loss: 0.0084\n",
      "Epoch 415/900\n",
      "101/101 [==============================] - 3s 31ms/step - loss: 0.0159\n",
      "Epoch 416/900\n",
      "101/101 [==============================] - 3s 32ms/step - loss: 0.0130\n",
      "Epoch 417/900\n",
      "101/101 [==============================] - 3s 31ms/step - loss: 0.0115\n",
      "Epoch 418/900\n",
      "101/101 [==============================] - 3s 31ms/step - loss: 0.0093\n",
      "Epoch 419/900\n",
      "101/101 [==============================] - 3s 31ms/step - loss: 0.0103\n",
      "Epoch 420/900\n",
      "101/101 [==============================] - 3s 31ms/step - loss: 0.0137\n",
      "Epoch 421/900\n",
      "101/101 [==============================] - 3s 31ms/step - loss: 0.0114\n",
      "Epoch 422/900\n",
      "101/101 [==============================] - 3s 31ms/step - loss: 0.0100\n",
      "Epoch 423/900\n",
      "101/101 [==============================] - 3s 30ms/step - loss: 0.0118\n",
      "Epoch 424/900\n",
      "101/101 [==============================] - 3s 31ms/step - loss: 0.0117\n",
      "Epoch 425/900\n",
      "101/101 [==============================] - 3s 31ms/step - loss: 0.0135\n",
      "Epoch 426/900\n",
      "101/101 [==============================] - 3s 31ms/step - loss: 0.0123\n",
      "Epoch 427/900\n",
      "101/101 [==============================] - 3s 31ms/step - loss: 0.0127\n",
      "Epoch 428/900\n",
      "101/101 [==============================] - 3s 31ms/step - loss: 0.0108\n",
      "Epoch 429/900\n",
      "101/101 [==============================] - 3s 33ms/step - loss: 0.0127\n",
      "Epoch 430/900\n",
      "101/101 [==============================] - 3s 31ms/step - loss: 0.0123\n",
      "Epoch 431/900\n",
      "101/101 [==============================] - 3s 31ms/step - loss: 0.0123\n",
      "Epoch 432/900\n",
      "101/101 [==============================] - 3s 31ms/step - loss: 0.0099\n",
      "Epoch 433/900\n",
      "101/101 [==============================] - 3s 31ms/step - loss: 0.0093\n",
      "Epoch 434/900\n",
      "101/101 [==============================] - 3s 31ms/step - loss: 0.0109\n",
      "Epoch 435/900\n",
      "101/101 [==============================] - 3s 31ms/step - loss: 0.0092\n",
      "Epoch 436/900\n",
      "101/101 [==============================] - 3s 32ms/step - loss: 0.0127\n",
      "Epoch 437/900\n",
      "101/101 [==============================] - 3s 31ms/step - loss: 0.0118\n",
      "Epoch 438/900\n",
      "101/101 [==============================] - 3s 31ms/step - loss: 0.0126\n",
      "Epoch 439/900\n",
      "101/101 [==============================] - 3s 31ms/step - loss: 0.0135\n",
      "Epoch 440/900\n",
      "101/101 [==============================] - 3s 31ms/step - loss: 0.0147\n",
      "Epoch 441/900\n",
      "101/101 [==============================] - 3s 31ms/step - loss: 0.0128\n",
      "Epoch 442/900\n",
      "101/101 [==============================] - 3s 31ms/step - loss: 0.0106\n",
      "Epoch 443/900\n",
      "101/101 [==============================] - 3s 31ms/step - loss: 0.0118\n",
      "Epoch 444/900\n",
      "101/101 [==============================] - 3s 31ms/step - loss: 0.0087\n",
      "Epoch 445/900\n",
      "101/101 [==============================] - 3s 31ms/step - loss: 0.0110\n",
      "Epoch 446/900\n",
      "101/101 [==============================] - 3s 31ms/step - loss: 0.0109\n",
      "Epoch 447/900\n",
      "101/101 [==============================] - 3s 31ms/step - loss: 0.0101\n",
      "Epoch 448/900\n",
      "101/101 [==============================] - 3s 31ms/step - loss: 0.0085\n",
      "Epoch 449/900\n",
      "101/101 [==============================] - 3s 31ms/step - loss: 0.0124\n",
      "Epoch 450/900\n",
      "101/101 [==============================] - 3s 31ms/step - loss: 0.0109\n",
      "Epoch 451/900\n",
      "101/101 [==============================] - 3s 31ms/step - loss: 0.0109\n",
      "Epoch 452/900\n",
      "101/101 [==============================] - 3s 31ms/step - loss: 0.0124\n",
      "Epoch 453/900\n",
      "101/101 [==============================] - 3s 30ms/step - loss: 0.0104\n",
      "Epoch 454/900\n",
      "101/101 [==============================] - 3s 31ms/step - loss: 0.0104\n",
      "Epoch 455/900\n",
      "101/101 [==============================] - 3s 31ms/step - loss: 0.0136\n",
      "Epoch 456/900\n",
      "101/101 [==============================] - 3s 31ms/step - loss: 0.0098\n",
      "Epoch 457/900\n",
      "101/101 [==============================] - 3s 30ms/step - loss: 0.0107\n",
      "Epoch 458/900\n",
      "101/101 [==============================] - 3s 31ms/step - loss: 0.0101\n",
      "Epoch 459/900\n",
      "101/101 [==============================] - 3s 32ms/step - loss: 0.0113\n",
      "Epoch 460/900\n",
      "101/101 [==============================] - 3s 31ms/step - loss: 0.0101\n",
      "Epoch 461/900\n",
      "101/101 [==============================] - 3s 31ms/step - loss: 0.0105\n",
      "Epoch 462/900\n",
      "101/101 [==============================] - 3s 31ms/step - loss: 0.0084\n",
      "Epoch 463/900\n",
      "101/101 [==============================] - 3s 31ms/step - loss: 0.0119\n",
      "Epoch 464/900\n",
      "101/101 [==============================] - 3s 31ms/step - loss: 0.0121\n",
      "Epoch 465/900\n",
      "101/101 [==============================] - 3s 31ms/step - loss: 0.0128\n",
      "Epoch 466/900\n",
      "101/101 [==============================] - 3s 31ms/step - loss: 0.0103\n",
      "Epoch 467/900\n",
      "101/101 [==============================] - 3s 30ms/step - loss: 0.0098\n",
      "Epoch 468/900\n",
      "101/101 [==============================] - 3s 31ms/step - loss: 0.0141\n",
      "Epoch 469/900\n",
      "101/101 [==============================] - 3s 31ms/step - loss: 0.0102\n",
      "Epoch 470/900\n",
      "101/101 [==============================] - 3s 31ms/step - loss: 0.0125\n",
      "Epoch 471/900\n",
      "101/101 [==============================] - 3s 31ms/step - loss: 0.0112: 0s - loss: 0.01\n",
      "Epoch 472/900\n",
      "101/101 [==============================] - 3s 31ms/step - loss: 0.0125\n",
      "Epoch 473/900\n",
      "101/101 [==============================] - 3s 31ms/step - loss: 0.0145\n",
      "Epoch 474/900\n",
      "101/101 [==============================] - 3s 31ms/step - loss: 0.0107\n",
      "Epoch 475/900\n",
      "101/101 [==============================] - 3s 31ms/step - loss: 0.0101\n",
      "Epoch 476/900\n",
      "101/101 [==============================] - 3s 31ms/step - loss: 0.0112\n",
      "Epoch 477/900\n",
      "101/101 [==============================] - 3s 31ms/step - loss: 0.0118\n",
      "Epoch 478/900\n",
      "101/101 [==============================] - 3s 31ms/step - loss: 0.0118\n",
      "Epoch 479/900\n",
      "101/101 [==============================] - 3s 31ms/step - loss: 0.0103\n",
      "Epoch 480/900\n",
      "101/101 [==============================] - 3s 31ms/step - loss: 0.0118\n",
      "Epoch 481/900\n",
      "101/101 [==============================] - 3s 31ms/step - loss: 0.0087\n",
      "Epoch 482/900\n"
     ]
    },
    {
     "name": "stdout",
     "output_type": "stream",
     "text": [
      "101/101 [==============================] - 3s 31ms/step - loss: 0.0121\n",
      "Epoch 483/900\n",
      "101/101 [==============================] - 3s 31ms/step - loss: 0.0099\n",
      "Epoch 484/900\n",
      "101/101 [==============================] - 3s 31ms/step - loss: 0.0104\n",
      "Epoch 485/900\n",
      "101/101 [==============================] - 3s 32ms/step - loss: 0.0132\n",
      "Epoch 486/900\n",
      "101/101 [==============================] - 3s 31ms/step - loss: 0.0094\n",
      "Epoch 487/900\n",
      "101/101 [==============================] - 3s 31ms/step - loss: 0.0095\n",
      "Epoch 488/900\n",
      "101/101 [==============================] - 3s 31ms/step - loss: 0.0087\n",
      "Epoch 489/900\n",
      "101/101 [==============================] - 3s 31ms/step - loss: 0.0106\n",
      "Epoch 490/900\n",
      "101/101 [==============================] - 3s 31ms/step - loss: 0.0120\n",
      "Epoch 491/900\n",
      "101/101 [==============================] - 3s 31ms/step - loss: 0.0125\n",
      "Epoch 492/900\n",
      "101/101 [==============================] - 3s 31ms/step - loss: 0.0121\n",
      "Epoch 493/900\n",
      "101/101 [==============================] - 3s 31ms/step - loss: 0.0096\n",
      "Epoch 494/900\n",
      "101/101 [==============================] - 3s 31ms/step - loss: 0.0112\n",
      "Epoch 495/900\n",
      "101/101 [==============================] - 3s 31ms/step - loss: 0.0104\n",
      "Epoch 496/900\n",
      "101/101 [==============================] - 3s 31ms/step - loss: 0.0103\n",
      "Epoch 497/900\n",
      "101/101 [==============================] - 3s 31ms/step - loss: 0.0080\n",
      "Epoch 498/900\n",
      "101/101 [==============================] - 3s 31ms/step - loss: 0.0108\n",
      "Epoch 499/900\n",
      "101/101 [==============================] - 3s 31ms/step - loss: 0.0125\n",
      "Epoch 500/900\n",
      "101/101 [==============================] - 3s 31ms/step - loss: 0.0098\n",
      "Epoch 501/900\n",
      "101/101 [==============================] - 3s 31ms/step - loss: 0.0108\n",
      "Epoch 502/900\n",
      "101/101 [==============================] - 3s 31ms/step - loss: 0.0092\n",
      "Epoch 503/900\n",
      "101/101 [==============================] - 3s 31ms/step - loss: 0.0125\n",
      "Epoch 504/900\n",
      "101/101 [==============================] - 3s 31ms/step - loss: 0.0122\n",
      "Epoch 505/900\n",
      "101/101 [==============================] - 3s 31ms/step - loss: 0.0097\n",
      "Epoch 506/900\n",
      "101/101 [==============================] - 3s 31ms/step - loss: 0.0124\n",
      "Epoch 507/900\n",
      "101/101 [==============================] - 3s 31ms/step - loss: 0.0084\n",
      "Epoch 508/900\n",
      "101/101 [==============================] - 3s 31ms/step - loss: 0.0110\n",
      "Epoch 509/900\n",
      "101/101 [==============================] - 3s 31ms/step - loss: 0.0087\n",
      "Epoch 510/900\n",
      "101/101 [==============================] - 3s 31ms/step - loss: 0.0083\n",
      "Epoch 511/900\n",
      "101/101 [==============================] - 3s 31ms/step - loss: 0.0095\n",
      "Epoch 512/900\n",
      "101/101 [==============================] - 3s 31ms/step - loss: 0.0094\n",
      "Epoch 513/900\n",
      "101/101 [==============================] - 3s 32ms/step - loss: 0.0093\n",
      "Epoch 514/900\n",
      "101/101 [==============================] - 3s 33ms/step - loss: 0.0094\n",
      "Epoch 515/900\n",
      "101/101 [==============================] - 3s 31ms/step - loss: 0.0090\n",
      "Epoch 516/900\n",
      "101/101 [==============================] - 3s 31ms/step - loss: 0.0098\n",
      "Epoch 517/900\n",
      "101/101 [==============================] - 3s 31ms/step - loss: 0.0105\n",
      "Epoch 518/900\n",
      "101/101 [==============================] - 3s 31ms/step - loss: 0.0077\n",
      "Epoch 519/900\n",
      "101/101 [==============================] - 3s 31ms/step - loss: 0.0109\n",
      "Epoch 520/900\n",
      "101/101 [==============================] - 3s 32ms/step - loss: 0.0106\n",
      "Epoch 521/900\n",
      "101/101 [==============================] - 3s 31ms/step - loss: 0.0104\n",
      "Epoch 522/900\n",
      "101/101 [==============================] - 3s 31ms/step - loss: 0.0101\n",
      "Epoch 523/900\n",
      "101/101 [==============================] - 3s 31ms/step - loss: 0.0115\n",
      "Epoch 524/900\n",
      "101/101 [==============================] - 3s 31ms/step - loss: 0.0104\n",
      "Epoch 525/900\n",
      "101/101 [==============================] - 3s 31ms/step - loss: 0.0086\n",
      "Epoch 526/900\n",
      "101/101 [==============================] - 3s 31ms/step - loss: 0.0106\n",
      "Epoch 527/900\n",
      "101/101 [==============================] - 3s 31ms/step - loss: 0.0084\n",
      "Epoch 528/900\n",
      "101/101 [==============================] - 3s 31ms/step - loss: 0.0113\n",
      "Epoch 529/900\n",
      "101/101 [==============================] - 3s 31ms/step - loss: 0.0114\n",
      "Epoch 530/900\n",
      "101/101 [==============================] - 3s 31ms/step - loss: 0.0106\n",
      "Epoch 531/900\n",
      "101/101 [==============================] - 3s 31ms/step - loss: 0.0081\n",
      "Epoch 532/900\n",
      "101/101 [==============================] - 3s 32ms/step - loss: 0.0107\n",
      "Epoch 533/900\n",
      "101/101 [==============================] - 3s 31ms/step - loss: 0.0075\n",
      "Epoch 534/900\n",
      "101/101 [==============================] - 3s 31ms/step - loss: 0.0073\n",
      "Epoch 535/900\n",
      "101/101 [==============================] - 3s 31ms/step - loss: 0.0122\n",
      "Epoch 536/900\n",
      "101/101 [==============================] - 3s 32ms/step - loss: 0.0112\n",
      "Epoch 537/900\n",
      "101/101 [==============================] - 3s 32ms/step - loss: 0.0101\n",
      "Epoch 538/900\n",
      "101/101 [==============================] - 3s 31ms/step - loss: 0.0170\n",
      "Epoch 539/900\n",
      "101/101 [==============================] - 3s 31ms/step - loss: 0.0097\n",
      "Epoch 540/900\n",
      "101/101 [==============================] - 3s 31ms/step - loss: 0.0099\n",
      "Epoch 541/900\n",
      "101/101 [==============================] - 3s 31ms/step - loss: 0.0084\n",
      "Epoch 542/900\n",
      "101/101 [==============================] - 3s 31ms/step - loss: 0.0104\n",
      "Epoch 543/900\n",
      "101/101 [==============================] - 3s 31ms/step - loss: 0.0101\n",
      "Epoch 544/900\n",
      "101/101 [==============================] - 3s 31ms/step - loss: 0.0081\n",
      "Epoch 545/900\n",
      "101/101 [==============================] - 3s 31ms/step - loss: 0.0116\n",
      "Epoch 546/900\n",
      "101/101 [==============================] - 3s 31ms/step - loss: 0.0124\n",
      "Epoch 547/900\n",
      "101/101 [==============================] - 3s 31ms/step - loss: 0.0095\n",
      "Epoch 548/900\n",
      "101/101 [==============================] - 3s 31ms/step - loss: 0.0103\n",
      "Epoch 549/900\n",
      "101/101 [==============================] - 3s 31ms/step - loss: 0.0092\n",
      "Epoch 550/900\n",
      "101/101 [==============================] - 3s 31ms/step - loss: 0.0092\n",
      "Epoch 551/900\n",
      "101/101 [==============================] - 3s 31ms/step - loss: 0.0089\n",
      "Epoch 552/900\n",
      "101/101 [==============================] - 3s 31ms/step - loss: 0.0088\n",
      "Epoch 553/900\n",
      "101/101 [==============================] - 3s 31ms/step - loss: 0.0080\n",
      "Epoch 554/900\n",
      "101/101 [==============================] - 3s 31ms/step - loss: 0.0070\n",
      "Epoch 555/900\n",
      "101/101 [==============================] - 3s 31ms/step - loss: 0.0095\n",
      "Epoch 556/900\n",
      "101/101 [==============================] - 3s 31ms/step - loss: 0.0079\n",
      "Epoch 557/900\n",
      "101/101 [==============================] - 3s 31ms/step - loss: 0.0114\n",
      "Epoch 558/900\n",
      "101/101 [==============================] - 3s 31ms/step - loss: 0.0096\n",
      "Epoch 559/900\n",
      "101/101 [==============================] - 3s 31ms/step - loss: 0.0096\n",
      "Epoch 560/900\n",
      "101/101 [==============================] - 3s 31ms/step - loss: 0.0090\n",
      "Epoch 561/900\n",
      "101/101 [==============================] - 3s 31ms/step - loss: 0.0099\n",
      "Epoch 562/900\n",
      "101/101 [==============================] - 3s 31ms/step - loss: 0.0100\n",
      "Epoch 563/900\n",
      "101/101 [==============================] - 3s 31ms/step - loss: 0.0082\n",
      "Epoch 564/900\n",
      "101/101 [==============================] - 3s 31ms/step - loss: 0.0103\n",
      "Epoch 565/900\n",
      "101/101 [==============================] - 3s 31ms/step - loss: 0.0107\n",
      "Epoch 566/900\n",
      "101/101 [==============================] - 3s 31ms/step - loss: 0.0163\n",
      "Epoch 567/900\n",
      "101/101 [==============================] - 3s 31ms/step - loss: 0.0098\n",
      "Epoch 568/900\n",
      "101/101 [==============================] - 3s 31ms/step - loss: 0.0100\n",
      "Epoch 569/900\n",
      "101/101 [==============================] - 3s 30ms/step - loss: 0.0100\n",
      "Epoch 570/900\n",
      "101/101 [==============================] - 3s 31ms/step - loss: 0.0108\n",
      "Epoch 571/900\n",
      "101/101 [==============================] - 3s 31ms/step - loss: 0.0100\n",
      "Epoch 572/900\n",
      "101/101 [==============================] - 3s 31ms/step - loss: 0.0113\n",
      "Epoch 573/900\n",
      "101/101 [==============================] - 3s 31ms/step - loss: 0.0112\n",
      "Epoch 574/900\n",
      "101/101 [==============================] - 3s 31ms/step - loss: 0.0104\n",
      "Epoch 575/900\n",
      "101/101 [==============================] - 3s 31ms/step - loss: 0.0099\n",
      "Epoch 576/900\n",
      "101/101 [==============================] - 3s 32ms/step - loss: 0.0099\n",
      "Epoch 577/900\n",
      "101/101 [==============================] - 3s 31ms/step - loss: 0.0086\n",
      "Epoch 578/900\n"
     ]
    },
    {
     "name": "stdout",
     "output_type": "stream",
     "text": [
      "101/101 [==============================] - 3s 31ms/step - loss: 0.0112\n",
      "Epoch 579/900\n",
      "101/101 [==============================] - 3s 31ms/step - loss: 0.0087\n",
      "Epoch 580/900\n",
      "101/101 [==============================] - 3s 31ms/step - loss: 0.0098\n",
      "Epoch 581/900\n",
      "101/101 [==============================] - 3s 31ms/step - loss: 0.0088\n",
      "Epoch 582/900\n",
      "101/101 [==============================] - 3s 31ms/step - loss: 0.0104\n",
      "Epoch 583/900\n",
      "101/101 [==============================] - 3s 31ms/step - loss: 0.0114\n",
      "Epoch 584/900\n",
      "101/101 [==============================] - 3s 31ms/step - loss: 0.0098\n",
      "Epoch 585/900\n",
      "101/101 [==============================] - 3s 31ms/step - loss: 0.0095\n",
      "Epoch 586/900\n",
      "101/101 [==============================] - 3s 31ms/step - loss: 0.0108\n",
      "Epoch 587/900\n",
      "101/101 [==============================] - 3s 31ms/step - loss: 0.0083\n",
      "Epoch 588/900\n",
      "101/101 [==============================] - 3s 31ms/step - loss: 0.0097\n",
      "Epoch 589/900\n",
      "101/101 [==============================] - 3s 31ms/step - loss: 0.0101\n",
      "Epoch 590/900\n",
      "101/101 [==============================] - 3s 31ms/step - loss: 0.0083\n",
      "Epoch 591/900\n",
      "101/101 [==============================] - 3s 31ms/step - loss: 0.0125\n",
      "Epoch 592/900\n",
      "101/101 [==============================] - 3s 31ms/step - loss: 0.0094\n",
      "Epoch 593/900\n",
      "101/101 [==============================] - 3s 31ms/step - loss: 0.0126\n",
      "Epoch 594/900\n",
      "101/101 [==============================] - 3s 31ms/step - loss: 0.0098\n",
      "Epoch 595/900\n",
      "101/101 [==============================] - 3s 31ms/step - loss: 0.0093\n",
      "Epoch 596/900\n",
      "101/101 [==============================] - 3s 31ms/step - loss: 0.0092\n",
      "Epoch 597/900\n",
      "101/101 [==============================] - 3s 31ms/step - loss: 0.0091\n",
      "Epoch 598/900\n",
      "101/101 [==============================] - 3s 31ms/step - loss: 0.0113\n",
      "Epoch 599/900\n",
      "101/101 [==============================] - 3s 31ms/step - loss: 0.0102\n",
      "Epoch 600/900\n",
      "101/101 [==============================] - 3s 30ms/step - loss: 0.0073\n",
      "Epoch 601/900\n",
      "101/101 [==============================] - 3s 31ms/step - loss: 0.0105\n",
      "Epoch 602/900\n",
      "101/101 [==============================] - 3s 31ms/step - loss: 0.0113\n",
      "Epoch 603/900\n",
      "101/101 [==============================] - 3s 31ms/step - loss: 0.0075\n",
      "Epoch 604/900\n",
      "101/101 [==============================] - 3s 31ms/step - loss: 0.0075\n",
      "Epoch 605/900\n",
      "101/101 [==============================] - 3s 31ms/step - loss: 0.0093\n",
      "Epoch 606/900\n",
      "101/101 [==============================] - 3s 31ms/step - loss: 0.0108\n",
      "Epoch 607/900\n",
      "101/101 [==============================] - 3s 31ms/step - loss: 0.0098\n",
      "Epoch 608/900\n",
      "101/101 [==============================] - 3s 31ms/step - loss: 0.0094\n",
      "Epoch 609/900\n",
      "101/101 [==============================] - 3s 31ms/step - loss: 0.0084\n",
      "Epoch 610/900\n",
      "101/101 [==============================] - 3s 31ms/step - loss: 0.0095\n",
      "Epoch 611/900\n",
      "101/101 [==============================] - 3s 31ms/step - loss: 0.0078\n",
      "Epoch 612/900\n",
      "101/101 [==============================] - 3s 31ms/step - loss: 0.0091\n",
      "Epoch 613/900\n",
      "101/101 [==============================] - 3s 31ms/step - loss: 0.0085\n",
      "Epoch 614/900\n",
      "101/101 [==============================] - 3s 31ms/step - loss: 0.0065\n",
      "Epoch 615/900\n",
      "101/101 [==============================] - 3s 31ms/step - loss: 0.0082\n",
      "Epoch 616/900\n",
      "101/101 [==============================] - 3s 31ms/step - loss: 0.0076\n",
      "Epoch 617/900\n",
      "101/101 [==============================] - 3s 32ms/step - loss: 0.0103\n",
      "Epoch 618/900\n",
      "101/101 [==============================] - 3s 31ms/step - loss: 0.0082\n",
      "Epoch 619/900\n",
      "101/101 [==============================] - 3s 31ms/step - loss: 0.0084: 0s - loss: 0.00\n",
      "Epoch 620/900\n",
      "101/101 [==============================] - 3s 31ms/step - loss: 0.0074\n",
      "Epoch 621/900\n",
      "101/101 [==============================] - 3s 31ms/step - loss: 0.0106\n",
      "Epoch 622/900\n",
      "101/101 [==============================] - 3s 31ms/step - loss: 0.0095\n",
      "Epoch 623/900\n",
      "101/101 [==============================] - 3s 31ms/step - loss: 0.0090\n",
      "Epoch 624/900\n",
      "101/101 [==============================] - 3s 31ms/step - loss: 0.0102\n",
      "Epoch 625/900\n",
      "101/101 [==============================] - 3s 31ms/step - loss: 0.0099\n",
      "Epoch 626/900\n",
      "101/101 [==============================] - 3s 31ms/step - loss: 0.0071\n",
      "Epoch 627/900\n",
      "101/101 [==============================] - 3s 31ms/step - loss: 0.0078\n",
      "Epoch 628/900\n",
      "101/101 [==============================] - 3s 31ms/step - loss: 0.0078\n",
      "Epoch 629/900\n",
      "101/101 [==============================] - 3s 34ms/step - loss: 0.0086\n",
      "Epoch 630/900\n",
      "101/101 [==============================] - 3s 31ms/step - loss: 0.0093\n",
      "Epoch 631/900\n",
      "101/101 [==============================] - 3s 31ms/step - loss: 0.0094\n",
      "Epoch 632/900\n",
      "101/101 [==============================] - 3s 31ms/step - loss: 0.0094\n",
      "Epoch 633/900\n",
      "101/101 [==============================] - 3s 31ms/step - loss: 0.0086\n",
      "Epoch 634/900\n",
      "101/101 [==============================] - 3s 31ms/step - loss: 0.0103\n",
      "Epoch 635/900\n",
      "101/101 [==============================] - 3s 31ms/step - loss: 0.0094\n",
      "Epoch 636/900\n",
      "101/101 [==============================] - 3s 31ms/step - loss: 0.0084\n",
      "Epoch 637/900\n",
      "101/101 [==============================] - 3s 31ms/step - loss: 0.0092\n",
      "Epoch 638/900\n",
      "101/101 [==============================] - 3s 32ms/step - loss: 0.0081\n",
      "Epoch 639/900\n",
      "101/101 [==============================] - 3s 31ms/step - loss: 0.0088\n",
      "Epoch 640/900\n",
      "101/101 [==============================] - 3s 31ms/step - loss: 0.0086\n",
      "Epoch 641/900\n",
      "101/101 [==============================] - 3s 31ms/step - loss: 0.0091\n",
      "Epoch 642/900\n",
      "101/101 [==============================] - 3s 31ms/step - loss: 0.0095\n",
      "Epoch 643/900\n",
      "101/101 [==============================] - 3s 31ms/step - loss: 0.0073\n",
      "Epoch 644/900\n",
      "101/101 [==============================] - 3s 31ms/step - loss: 0.0105\n",
      "Epoch 645/900\n",
      "101/101 [==============================] - 3s 31ms/step - loss: 0.0083\n",
      "Epoch 646/900\n",
      "101/101 [==============================] - 3s 31ms/step - loss: 0.0091\n",
      "Epoch 647/900\n",
      "101/101 [==============================] - 3s 31ms/step - loss: 0.0085\n",
      "Epoch 648/900\n",
      "101/101 [==============================] - 3s 31ms/step - loss: 0.0100\n",
      "Epoch 649/900\n",
      "101/101 [==============================] - 3s 31ms/step - loss: 0.0084\n",
      "Epoch 650/900\n",
      "101/101 [==============================] - 3s 30ms/step - loss: 0.0078\n",
      "Epoch 651/900\n",
      "101/101 [==============================] - 3s 31ms/step - loss: 0.0105\n",
      "Epoch 652/900\n",
      "101/101 [==============================] - 3s 31ms/step - loss: 0.0077\n",
      "Epoch 653/900\n",
      "101/101 [==============================] - 3s 31ms/step - loss: 0.0076\n",
      "Epoch 654/900\n",
      "101/101 [==============================] - 3s 31ms/step - loss: 0.0075\n",
      "Epoch 655/900\n",
      "101/101 [==============================] - 3s 31ms/step - loss: 0.0106\n",
      "Epoch 656/900\n",
      "101/101 [==============================] - 3s 31ms/step - loss: 0.0088\n",
      "Epoch 657/900\n",
      "101/101 [==============================] - 3s 31ms/step - loss: 0.0098\n",
      "Epoch 658/900\n",
      "101/101 [==============================] - 3s 31ms/step - loss: 0.0103\n",
      "Epoch 659/900\n",
      "101/101 [==============================] - 3s 31ms/step - loss: 0.0123\n",
      "Epoch 660/900\n",
      "101/101 [==============================] - 3s 31ms/step - loss: 0.0095\n",
      "Epoch 661/900\n",
      "101/101 [==============================] - 3s 31ms/step - loss: 0.0116\n",
      "Epoch 662/900\n",
      "101/101 [==============================] - 3s 31ms/step - loss: 0.0122\n",
      "Epoch 663/900\n",
      "101/101 [==============================] - 3s 31ms/step - loss: 0.0070\n",
      "Epoch 664/900\n",
      "101/101 [==============================] - 3s 31ms/step - loss: 0.0079\n",
      "Epoch 665/900\n",
      "101/101 [==============================] - 3s 31ms/step - loss: 0.0076\n",
      "Epoch 666/900\n",
      "101/101 [==============================] - 3s 32ms/step - loss: 0.0081\n",
      "Epoch 667/900\n",
      "101/101 [==============================] - 3s 31ms/step - loss: 0.0081\n",
      "Epoch 668/900\n",
      "101/101 [==============================] - 3s 31ms/step - loss: 0.0069\n",
      "Epoch 669/900\n",
      "101/101 [==============================] - 3s 31ms/step - loss: 0.0092\n",
      "Epoch 670/900\n",
      "101/101 [==============================] - 3s 31ms/step - loss: 0.0098\n",
      "Epoch 671/900\n",
      "101/101 [==============================] - 3s 31ms/step - loss: 0.0113\n",
      "Epoch 672/900\n",
      "101/101 [==============================] - 3s 31ms/step - loss: 0.0072\n",
      "Epoch 673/900\n",
      "101/101 [==============================] - 3s 31ms/step - loss: 0.0085\n",
      "Epoch 674/900\n"
     ]
    },
    {
     "name": "stdout",
     "output_type": "stream",
     "text": [
      "101/101 [==============================] - 3s 31ms/step - loss: 0.0085\n",
      "Epoch 675/900\n",
      "101/101 [==============================] - 3s 31ms/step - loss: 0.0071\n",
      "Epoch 676/900\n",
      "101/101 [==============================] - 3s 31ms/step - loss: 0.0085\n",
      "Epoch 677/900\n",
      "101/101 [==============================] - 3s 31ms/step - loss: 0.0094\n",
      "Epoch 678/900\n",
      "101/101 [==============================] - 3s 31ms/step - loss: 0.0090\n",
      "Epoch 679/900\n",
      "101/101 [==============================] - 3s 31ms/step - loss: 0.0081\n",
      "Epoch 680/900\n",
      "101/101 [==============================] - 3s 31ms/step - loss: 0.0092\n",
      "Epoch 681/900\n",
      "101/101 [==============================] - 3s 31ms/step - loss: 0.0102\n",
      "Epoch 682/900\n",
      "101/101 [==============================] - 3s 31ms/step - loss: 0.0080\n",
      "Epoch 683/900\n",
      "101/101 [==============================] - 3s 31ms/step - loss: 0.0084\n",
      "Epoch 684/900\n",
      "101/101 [==============================] - 3s 31ms/step - loss: 0.0101\n",
      "Epoch 685/900\n",
      "101/101 [==============================] - 3s 31ms/step - loss: 0.0095\n",
      "Epoch 686/900\n",
      "101/101 [==============================] - 3s 31ms/step - loss: 0.0092\n",
      "Epoch 687/900\n",
      "101/101 [==============================] - 3s 31ms/step - loss: 0.0095\n",
      "Epoch 688/900\n",
      "101/101 [==============================] - 3s 31ms/step - loss: 0.0085\n",
      "Epoch 689/900\n",
      "101/101 [==============================] - 3s 31ms/step - loss: 0.0079\n",
      "Epoch 690/900\n",
      "101/101 [==============================] - 3s 31ms/step - loss: 0.0080\n",
      "Epoch 691/900\n",
      "101/101 [==============================] - 3s 31ms/step - loss: 0.0089\n",
      "Epoch 692/900\n",
      "101/101 [==============================] - 3s 30ms/step - loss: 0.0075\n",
      "Epoch 693/900\n",
      "101/101 [==============================] - 3s 31ms/step - loss: 0.0092\n",
      "Epoch 694/900\n",
      "101/101 [==============================] - 3s 31ms/step - loss: 0.0095\n",
      "Epoch 695/900\n",
      "101/101 [==============================] - 3s 31ms/step - loss: 0.0078\n",
      "Epoch 696/900\n",
      "101/101 [==============================] - 3s 31ms/step - loss: 0.0071\n",
      "Epoch 697/900\n",
      "101/101 [==============================] - 3s 31ms/step - loss: 0.0071\n",
      "Epoch 698/900\n",
      "101/101 [==============================] - 3s 31ms/step - loss: 0.0081\n",
      "Epoch 699/900\n",
      "101/101 [==============================] - 3s 31ms/step - loss: 0.0092\n",
      "Epoch 700/900\n",
      "101/101 [==============================] - 3s 31ms/step - loss: 0.0102\n",
      "Epoch 701/900\n",
      "101/101 [==============================] - 3s 31ms/step - loss: 0.0079\n",
      "Epoch 702/900\n",
      "101/101 [==============================] - 3s 31ms/step - loss: 0.0089\n",
      "Epoch 703/900\n",
      "101/101 [==============================] - 3s 31ms/step - loss: 0.0085\n",
      "Epoch 704/900\n",
      "101/101 [==============================] - 3s 31ms/step - loss: 0.0081\n",
      "Epoch 705/900\n",
      "101/101 [==============================] - 3s 34ms/step - loss: 0.0095\n",
      "Epoch 706/900\n",
      "101/101 [==============================] - 3s 31ms/step - loss: 0.0090\n",
      "Epoch 707/900\n",
      "101/101 [==============================] - 3s 31ms/step - loss: 0.0084\n",
      "Epoch 708/900\n",
      "101/101 [==============================] - 3s 31ms/step - loss: 0.0069\n",
      "Epoch 709/900\n",
      "101/101 [==============================] - 3s 31ms/step - loss: 0.0096\n",
      "Epoch 710/900\n",
      "101/101 [==============================] - 3s 31ms/step - loss: 0.0084\n",
      "Epoch 711/900\n",
      "101/101 [==============================] - 3s 32ms/step - loss: 0.0109\n",
      "Epoch 712/900\n",
      "101/101 [==============================] - 3s 31ms/step - loss: 0.0071\n",
      "Epoch 713/900\n",
      "101/101 [==============================] - 3s 31ms/step - loss: 0.0091\n",
      "Epoch 714/900\n",
      "101/101 [==============================] - 3s 31ms/step - loss: 0.0092\n",
      "Epoch 715/900\n",
      "101/101 [==============================] - 3s 31ms/step - loss: 0.0070\n",
      "Epoch 716/900\n",
      "101/101 [==============================] - 3s 32ms/step - loss: 0.0087\n",
      "Epoch 717/900\n",
      "101/101 [==============================] - 3s 31ms/step - loss: 0.0078\n",
      "Epoch 718/900\n",
      "101/101 [==============================] - 3s 31ms/step - loss: 0.0086\n",
      "Epoch 719/900\n",
      "101/101 [==============================] - 3s 32ms/step - loss: 0.0091\n",
      "Epoch 720/900\n",
      "101/101 [==============================] - 3s 31ms/step - loss: 0.0072\n",
      "Epoch 721/900\n",
      "101/101 [==============================] - 3s 31ms/step - loss: 0.0074\n",
      "Epoch 722/900\n",
      "101/101 [==============================] - 3s 31ms/step - loss: 0.0088\n",
      "Epoch 723/900\n",
      "101/101 [==============================] - 3s 31ms/step - loss: 0.0091\n",
      "Epoch 724/900\n",
      "101/101 [==============================] - 3s 31ms/step - loss: 0.0055\n",
      "Epoch 725/900\n",
      "101/101 [==============================] - 3s 31ms/step - loss: 0.0085\n",
      "Epoch 726/900\n",
      "101/101 [==============================] - 3s 31ms/step - loss: 0.0098\n",
      "Epoch 727/900\n",
      "101/101 [==============================] - 3s 31ms/step - loss: 0.0071\n",
      "Epoch 728/900\n",
      "101/101 [==============================] - 3s 32ms/step - loss: 0.0113\n",
      "Epoch 729/900\n",
      "101/101 [==============================] - 3s 32ms/step - loss: 0.0066\n",
      "Epoch 730/900\n",
      "101/101 [==============================] - 3s 31ms/step - loss: 0.0065\n",
      "Epoch 731/900\n",
      "101/101 [==============================] - 3s 31ms/step - loss: 0.0076\n",
      "Epoch 732/900\n",
      "101/101 [==============================] - 3s 31ms/step - loss: 0.0085\n",
      "Epoch 733/900\n",
      "101/101 [==============================] - 3s 31ms/step - loss: 0.0080\n",
      "Epoch 734/900\n",
      "101/101 [==============================] - 3s 31ms/step - loss: 0.0078\n",
      "Epoch 735/900\n",
      "101/101 [==============================] - 3s 31ms/step - loss: 0.0084\n",
      "Epoch 736/900\n",
      "101/101 [==============================] - 3s 31ms/step - loss: 0.0087\n",
      "Epoch 737/900\n",
      "101/101 [==============================] - 3s 31ms/step - loss: 0.0081\n",
      "Epoch 738/900\n",
      "101/101 [==============================] - 3s 31ms/step - loss: 0.0088\n",
      "Epoch 739/900\n",
      "101/101 [==============================] - 3s 31ms/step - loss: 0.0106\n",
      "Epoch 740/900\n",
      "101/101 [==============================] - 3s 31ms/step - loss: 0.0098\n",
      "Epoch 741/900\n",
      "101/101 [==============================] - 3s 31ms/step - loss: 0.0096\n",
      "Epoch 742/900\n",
      "101/101 [==============================] - 3s 31ms/step - loss: 0.0065\n",
      "Epoch 743/900\n",
      "101/101 [==============================] - 3s 31ms/step - loss: 0.0080\n",
      "Epoch 744/900\n",
      "101/101 [==============================] - 3s 31ms/step - loss: 0.0075\n",
      "Epoch 745/900\n",
      "101/101 [==============================] - 3s 31ms/step - loss: 0.0074\n",
      "Epoch 746/900\n",
      "101/101 [==============================] - 3s 31ms/step - loss: 0.0054\n",
      "Epoch 747/900\n",
      "101/101 [==============================] - 3s 31ms/step - loss: 0.0050\n",
      "Epoch 748/900\n",
      "101/101 [==============================] - 3s 30ms/step - loss: 0.0061\n",
      "Epoch 749/900\n",
      "101/101 [==============================] - 3s 31ms/step - loss: 0.0104\n",
      "Epoch 750/900\n",
      "101/101 [==============================] - 3s 31ms/step - loss: 0.0080\n",
      "Epoch 751/900\n",
      "101/101 [==============================] - 3s 31ms/step - loss: 0.0071\n",
      "Epoch 752/900\n",
      "101/101 [==============================] - 3s 31ms/step - loss: 0.0081\n",
      "Epoch 753/900\n",
      "101/101 [==============================] - 3s 31ms/step - loss: 0.0073\n",
      "Epoch 754/900\n",
      "101/101 [==============================] - 3s 31ms/step - loss: 0.0105\n",
      "Epoch 755/900\n",
      "101/101 [==============================] - 3s 31ms/step - loss: 0.0093\n",
      "Epoch 756/900\n",
      "101/101 [==============================] - 3s 31ms/step - loss: 0.0075\n",
      "Epoch 757/900\n",
      "101/101 [==============================] - 3s 31ms/step - loss: 0.0077\n",
      "Epoch 758/900\n",
      "101/101 [==============================] - 3s 31ms/step - loss: 0.0086\n",
      "Epoch 759/900\n",
      "101/101 [==============================] - 3s 31ms/step - loss: 0.0114\n",
      "Epoch 760/900\n",
      "101/101 [==============================] - 3s 31ms/step - loss: 0.0075\n",
      "Epoch 761/900\n",
      "101/101 [==============================] - 3s 31ms/step - loss: 0.0084\n",
      "Epoch 762/900\n",
      "101/101 [==============================] - 3s 31ms/step - loss: 0.0081\n",
      "Epoch 763/900\n",
      "101/101 [==============================] - 3s 32ms/step - loss: 0.0086\n",
      "Epoch 764/900\n",
      "101/101 [==============================] - 3s 31ms/step - loss: 0.0095\n",
      "Epoch 765/900\n",
      "101/101 [==============================] - 3s 32ms/step - loss: 0.0072\n",
      "Epoch 766/900\n",
      "101/101 [==============================] - 3s 31ms/step - loss: 0.0074\n",
      "Epoch 767/900\n",
      "101/101 [==============================] - 3s 31ms/step - loss: 0.0073\n",
      "Epoch 768/900\n",
      "101/101 [==============================] - 3s 32ms/step - loss: 0.0063\n",
      "Epoch 769/900\n",
      "101/101 [==============================] - 3s 31ms/step - loss: 0.0068\n",
      "Epoch 770/900\n"
     ]
    },
    {
     "name": "stdout",
     "output_type": "stream",
     "text": [
      "101/101 [==============================] - 3s 31ms/step - loss: 0.0076\n",
      "Epoch 771/900\n",
      "101/101 [==============================] - 3s 31ms/step - loss: 0.0078\n",
      "Epoch 772/900\n",
      "101/101 [==============================] - 3s 31ms/step - loss: 0.0088\n",
      "Epoch 773/900\n",
      "101/101 [==============================] - 3s 31ms/step - loss: 0.0080\n",
      "Epoch 774/900\n",
      "101/101 [==============================] - 3s 31ms/step - loss: 0.0084\n",
      "Epoch 775/900\n",
      "101/101 [==============================] - 3s 31ms/step - loss: 0.0082\n",
      "Epoch 776/900\n",
      "101/101 [==============================] - 3s 31ms/step - loss: 0.0081\n",
      "Epoch 777/900\n",
      "101/101 [==============================] - 3s 31ms/step - loss: 0.0068\n",
      "Epoch 778/900\n",
      "101/101 [==============================] - 3s 31ms/step - loss: 0.0066\n",
      "Epoch 779/900\n",
      "101/101 [==============================] - 3s 31ms/step - loss: 0.0082\n",
      "Epoch 780/900\n",
      "101/101 [==============================] - 3s 31ms/step - loss: 0.0087\n",
      "Epoch 781/900\n",
      "101/101 [==============================] - 3s 32ms/step - loss: 0.0068\n",
      "Epoch 782/900\n",
      "101/101 [==============================] - 3s 31ms/step - loss: 0.0078\n",
      "Epoch 783/900\n",
      "101/101 [==============================] - 3s 31ms/step - loss: 0.0081\n",
      "Epoch 784/900\n",
      "101/101 [==============================] - 3s 31ms/step - loss: 0.0065\n",
      "Epoch 785/900\n",
      "101/101 [==============================] - 3s 31ms/step - loss: 0.0074\n",
      "Epoch 786/900\n",
      "101/101 [==============================] - 3s 31ms/step - loss: 0.0089\n",
      "Epoch 787/900\n",
      "101/101 [==============================] - 3s 31ms/step - loss: 0.0067\n",
      "Epoch 788/900\n",
      "101/101 [==============================] - 3s 31ms/step - loss: 0.0064\n",
      "Epoch 789/900\n",
      "101/101 [==============================] - 3s 31ms/step - loss: 0.0087\n",
      "Epoch 790/900\n",
      "101/101 [==============================] - 3s 31ms/step - loss: 0.0059\n",
      "Epoch 791/900\n",
      "101/101 [==============================] - 3s 31ms/step - loss: 0.0083\n",
      "Epoch 792/900\n",
      "101/101 [==============================] - 3s 31ms/step - loss: 0.0084\n",
      "Epoch 793/900\n",
      "101/101 [==============================] - 3s 31ms/step - loss: 0.0074\n",
      "Epoch 794/900\n",
      "101/101 [==============================] - 3s 31ms/step - loss: 0.0084\n",
      "Epoch 795/900\n",
      "101/101 [==============================] - 3s 31ms/step - loss: 0.0065\n",
      "Epoch 796/900\n",
      "101/101 [==============================] - 3s 31ms/step - loss: 0.0086\n",
      "Epoch 797/900\n",
      "101/101 [==============================] - 3s 31ms/step - loss: 0.0072\n",
      "Epoch 798/900\n",
      "101/101 [==============================] - 3s 31ms/step - loss: 0.0083\n",
      "Epoch 799/900\n",
      "101/101 [==============================] - 3s 31ms/step - loss: 0.0076\n",
      "Epoch 800/900\n",
      "101/101 [==============================] - 3s 31ms/step - loss: 0.0078\n",
      "Epoch 801/900\n",
      "101/101 [==============================] - 3s 31ms/step - loss: 0.0070\n",
      "Epoch 802/900\n",
      "101/101 [==============================] - 3s 31ms/step - loss: 0.0108\n",
      "Epoch 803/900\n",
      "101/101 [==============================] - 3s 31ms/step - loss: 0.0089\n",
      "Epoch 804/900\n",
      "101/101 [==============================] - 3s 30ms/step - loss: 0.0065\n",
      "Epoch 805/900\n",
      "101/101 [==============================] - 3s 31ms/step - loss: 0.0067\n",
      "Epoch 806/900\n",
      "101/101 [==============================] - 3s 31ms/step - loss: 0.0077\n",
      "Epoch 807/900\n",
      "101/101 [==============================] - 3s 31ms/step - loss: 0.0082\n",
      "Epoch 808/900\n",
      "101/101 [==============================] - 3s 31ms/step - loss: 0.0083\n",
      "Epoch 809/900\n",
      "101/101 [==============================] - 3s 31ms/step - loss: 0.0069\n",
      "Epoch 810/900\n",
      "101/101 [==============================] - 3s 31ms/step - loss: 0.0081\n",
      "Epoch 811/900\n",
      "101/101 [==============================] - 3s 32ms/step - loss: 0.0067\n",
      "Epoch 812/900\n",
      "101/101 [==============================] - 4s 41ms/step - loss: 0.0080\n",
      "Epoch 813/900\n",
      "101/101 [==============================] - 3s 34ms/step - loss: 0.0048\n",
      "Epoch 814/900\n",
      "101/101 [==============================] - 3s 33ms/step - loss: 0.0077\n",
      "Epoch 815/900\n",
      "101/101 [==============================] - 3s 31ms/step - loss: 0.0054\n",
      "Epoch 816/900\n",
      "101/101 [==============================] - 3s 34ms/step - loss: 0.0083\n",
      "Epoch 817/900\n",
      "101/101 [==============================] - 3s 33ms/step - loss: 0.0064\n",
      "Epoch 818/900\n",
      "101/101 [==============================] - 3s 31ms/step - loss: 0.0096\n",
      "Epoch 819/900\n",
      "101/101 [==============================] - 3s 33ms/step - loss: 0.0083\n",
      "Epoch 820/900\n",
      "101/101 [==============================] - 3s 31ms/step - loss: 0.0066\n",
      "Epoch 821/900\n",
      "101/101 [==============================] - 3s 31ms/step - loss: 0.0074\n",
      "Epoch 822/900\n",
      "101/101 [==============================] - 3s 31ms/step - loss: 0.0077\n",
      "Epoch 823/900\n",
      "101/101 [==============================] - 3s 31ms/step - loss: 0.0058\n",
      "Epoch 824/900\n",
      "101/101 [==============================] - 3s 31ms/step - loss: 0.0076\n",
      "Epoch 825/900\n",
      "101/101 [==============================] - 3s 31ms/step - loss: 0.0067\n",
      "Epoch 826/900\n",
      "101/101 [==============================] - 3s 31ms/step - loss: 0.0064\n",
      "Epoch 827/900\n",
      "101/101 [==============================] - 3s 31ms/step - loss: 0.0069\n",
      "Epoch 828/900\n",
      "101/101 [==============================] - 3s 32ms/step - loss: 0.0064\n",
      "Epoch 829/900\n",
      "101/101 [==============================] - 3s 31ms/step - loss: 0.0082\n",
      "Epoch 830/900\n",
      "101/101 [==============================] - 3s 31ms/step - loss: 0.0084\n",
      "Epoch 831/900\n",
      "101/101 [==============================] - 3s 31ms/step - loss: 0.0071\n",
      "Epoch 832/900\n",
      "101/101 [==============================] - 3s 31ms/step - loss: 0.0044\n",
      "Epoch 833/900\n",
      "101/101 [==============================] - 3s 31ms/step - loss: 0.0072\n",
      "Epoch 834/900\n",
      "101/101 [==============================] - 3s 31ms/step - loss: 0.0051\n",
      "Epoch 835/900\n",
      "101/101 [==============================] - 3s 32ms/step - loss: 0.0070\n",
      "Epoch 836/900\n",
      "101/101 [==============================] - 3s 31ms/step - loss: 0.0090\n",
      "Epoch 837/900\n",
      "101/101 [==============================] - 3s 31ms/step - loss: 0.0074\n",
      "Epoch 838/900\n",
      "101/101 [==============================] - 3s 31ms/step - loss: 0.0073\n",
      "Epoch 839/900\n",
      "101/101 [==============================] - 3s 31ms/step - loss: 0.0081\n",
      "Epoch 840/900\n",
      "101/101 [==============================] - 3s 31ms/step - loss: 0.0056\n",
      "Epoch 841/900\n",
      "101/101 [==============================] - 3s 31ms/step - loss: 0.0075\n",
      "Epoch 842/900\n",
      "101/101 [==============================] - 3s 31ms/step - loss: 0.0058\n",
      "Epoch 843/900\n",
      "101/101 [==============================] - 3s 31ms/step - loss: 0.0053\n",
      "Epoch 844/900\n",
      "101/101 [==============================] - 3s 31ms/step - loss: 0.0065\n",
      "Epoch 845/900\n",
      "101/101 [==============================] - 3s 31ms/step - loss: 0.0070\n",
      "Epoch 846/900\n",
      "101/101 [==============================] - 3s 31ms/step - loss: 0.0082:\n",
      "Epoch 847/900\n",
      "101/101 [==============================] - 3s 31ms/step - loss: 0.0068\n",
      "Epoch 848/900\n",
      "101/101 [==============================] - 3s 31ms/step - loss: 0.0046\n",
      "Epoch 849/900\n",
      "101/101 [==============================] - 3s 31ms/step - loss: 0.0062\n",
      "Epoch 850/900\n",
      "101/101 [==============================] - 3s 31ms/step - loss: 0.0064\n",
      "Epoch 851/900\n",
      "101/101 [==============================] - 3s 31ms/step - loss: 0.0068\n",
      "Epoch 852/900\n",
      "101/101 [==============================] - 3s 31ms/step - loss: 0.0082\n",
      "Epoch 853/900\n",
      "101/101 [==============================] - 3s 31ms/step - loss: 0.0068\n",
      "Epoch 854/900\n",
      "101/101 [==============================] - 3s 31ms/step - loss: 0.0074\n",
      "Epoch 855/900\n",
      "101/101 [==============================] - 3s 31ms/step - loss: 0.0067\n",
      "Epoch 856/900\n",
      "101/101 [==============================] - 3s 32ms/step - loss: 0.0074\n",
      "Epoch 857/900\n",
      "101/101 [==============================] - 3s 32ms/step - loss: 0.0052\n",
      "Epoch 858/900\n",
      "101/101 [==============================] - 3s 31ms/step - loss: 0.0053\n",
      "Epoch 859/900\n",
      "101/101 [==============================] - 3s 31ms/step - loss: 0.0062\n",
      "Epoch 860/900\n",
      "101/101 [==============================] - 3s 31ms/step - loss: 0.0082\n",
      "Epoch 861/900\n",
      "101/101 [==============================] - 3s 31ms/step - loss: 0.0060\n",
      "Epoch 862/900\n",
      "101/101 [==============================] - 3s 31ms/step - loss: 0.0056\n",
      "Epoch 863/900\n",
      "101/101 [==============================] - 3s 31ms/step - loss: 0.0090\n",
      "Epoch 864/900\n",
      "101/101 [==============================] - 3s 31ms/step - loss: 0.0086\n",
      "Epoch 865/900\n",
      "101/101 [==============================] - 3s 31ms/step - loss: 0.0064\n",
      "Epoch 866/900\n"
     ]
    },
    {
     "name": "stdout",
     "output_type": "stream",
     "text": [
      "101/101 [==============================] - 3s 33ms/step - loss: 0.0061\n",
      "Epoch 867/900\n",
      "101/101 [==============================] - 3s 31ms/step - loss: 0.0085\n",
      "Epoch 868/900\n",
      "101/101 [==============================] - 3s 31ms/step - loss: 0.0075\n",
      "Epoch 869/900\n",
      "101/101 [==============================] - 3s 31ms/step - loss: 0.0057\n",
      "Epoch 870/900\n",
      "101/101 [==============================] - 3s 31ms/step - loss: 0.0093\n",
      "Epoch 871/900\n",
      "101/101 [==============================] - 3s 31ms/step - loss: 0.0054\n",
      "Epoch 872/900\n",
      "101/101 [==============================] - 3s 31ms/step - loss: 0.0086\n",
      "Epoch 873/900\n",
      "101/101 [==============================] - 3s 31ms/step - loss: 0.0070\n",
      "Epoch 874/900\n",
      "101/101 [==============================] - 3s 31ms/step - loss: 0.0063\n",
      "Epoch 875/900\n",
      "101/101 [==============================] - 3s 32ms/step - loss: 0.0078\n",
      "Epoch 876/900\n",
      "101/101 [==============================] - 3s 31ms/step - loss: 0.0070\n",
      "Epoch 877/900\n",
      "101/101 [==============================] - 3s 31ms/step - loss: 0.0064\n",
      "Epoch 878/900\n",
      "101/101 [==============================] - 3s 31ms/step - loss: 0.0064\n",
      "Epoch 879/900\n",
      "101/101 [==============================] - 3s 31ms/step - loss: 0.0073\n",
      "Epoch 880/900\n",
      "101/101 [==============================] - 3s 31ms/step - loss: 0.0060\n",
      "Epoch 881/900\n",
      "101/101 [==============================] - 3s 31ms/step - loss: 0.0066\n",
      "Epoch 882/900\n",
      "101/101 [==============================] - 3s 31ms/step - loss: 0.0059\n",
      "Epoch 883/900\n",
      "101/101 [==============================] - 3s 31ms/step - loss: 0.0054\n",
      "Epoch 884/900\n",
      "101/101 [==============================] - 3s 31ms/step - loss: 0.0071\n",
      "Epoch 885/900\n",
      "101/101 [==============================] - 3s 32ms/step - loss: 0.0069\n",
      "Epoch 886/900\n",
      "101/101 [==============================] - 3s 31ms/step - loss: 0.0092\n",
      "Epoch 887/900\n",
      "101/101 [==============================] - 3s 31ms/step - loss: 0.0076\n",
      "Epoch 888/900\n",
      "101/101 [==============================] - 3s 31ms/step - loss: 0.0110\n",
      "Epoch 889/900\n",
      "101/101 [==============================] - 3s 31ms/step - loss: 0.0069\n",
      "Epoch 890/900\n",
      "101/101 [==============================] - 3s 31ms/step - loss: 0.0067\n",
      "Epoch 891/900\n",
      "101/101 [==============================] - 3s 31ms/step - loss: 0.0074\n",
      "Epoch 892/900\n",
      "101/101 [==============================] - 3s 30ms/step - loss: 0.0072\n",
      "Epoch 893/900\n",
      "101/101 [==============================] - 3s 30ms/step - loss: 0.0076\n",
      "Epoch 894/900\n",
      "101/101 [==============================] - 3s 31ms/step - loss: 0.0067\n",
      "Epoch 895/900\n",
      "101/101 [==============================] - 3s 32ms/step - loss: 0.0061\n",
      "Epoch 896/900\n",
      "101/101 [==============================] - 3s 31ms/step - loss: 0.0078\n",
      "Epoch 897/900\n",
      "101/101 [==============================] - 3s 31ms/step - loss: 0.0070\n",
      "Epoch 898/900\n",
      "101/101 [==============================] - 3s 31ms/step - loss: 0.0068\n",
      "Epoch 899/900\n",
      "101/101 [==============================] - 3s 31ms/step - loss: 0.0070\n",
      "Epoch 900/900\n",
      "101/101 [==============================] - 3s 31ms/step - loss: 0.0058\n"
     ]
    }
   ],
   "source": [
    "lstm_model = Sequential()\n",
    "\n",
    "lstm_model.add(LSTM(units = 90, \n",
    "                   return_sequences = True, \n",
    "                   input_shape = (X_train.shape[1], 1)))\n",
    "lstm_model.add(Dropout(0.7))\n",
    "\n",
    "lstm_model.add(LSTM(units = 90,return_sequences = True))\n",
    "lstm_model.add(Dropout(0.7))\n",
    "\n",
    "lstm_model.add(LSTM(units = 90,return_sequences = True))\n",
    "lstm_model.add(Dropout(0.7))\n",
    "\n",
    "lstm_model.add(LSTM(units = 90))\n",
    "lstm_model.add(Dropout(0.7))\n",
    "\n",
    "lstm_model.add(Dense(units = 1)) \n",
    "\n",
    "\n",
    "lstm_model.compile(optimizer = 'adam', \n",
    "                  loss = 'mean_squared_error')\n",
    "                 \n",
    "history=lstm_model.fit(X_train, \n",
    "              y_train, \n",
    "              epochs = 900, \n",
    "              batch_size = 1)\n"
   ]
  },
  {
   "cell_type": "code",
   "execution_count": 64,
   "metadata": {},
   "outputs": [
    {
     "name": "stdout",
     "output_type": "stream",
     "text": [
      "_________________________________________________________________\n",
      "Layer (type)                 Output Shape              Param #   \n",
      "=================================================================\n",
      "lstm_1 (LSTM)                (None, 8, 90)             33120     \n",
      "_________________________________________________________________\n",
      "dropout_1 (Dropout)          (None, 8, 90)             0         \n",
      "_________________________________________________________________\n",
      "lstm_2 (LSTM)                (None, 8, 90)             65160     \n",
      "_________________________________________________________________\n",
      "dropout_2 (Dropout)          (None, 8, 90)             0         \n",
      "_________________________________________________________________\n",
      "lstm_3 (LSTM)                (None, 8, 90)             65160     \n",
      "_________________________________________________________________\n",
      "dropout_3 (Dropout)          (None, 8, 90)             0         \n",
      "_________________________________________________________________\n",
      "lstm_4 (LSTM)                (None, 90)                65160     \n",
      "_________________________________________________________________\n",
      "dropout_4 (Dropout)          (None, 90)                0         \n",
      "_________________________________________________________________\n",
      "dense_1 (Dense)              (None, 1)                 91        \n",
      "=================================================================\n",
      "Total params: 228,691\n",
      "Trainable params: 228,691\n",
      "Non-trainable params: 0\n",
      "_________________________________________________________________\n"
     ]
    }
   ],
   "source": [
    "lstm_model.summary()"
   ]
  },
  {
   "cell_type": "code",
   "execution_count": 65,
   "metadata": {},
   "outputs": [],
   "source": [
    "true_loan_count = dataset_test.iloc[:, 1:2].values"
   ]
  },
  {
   "cell_type": "code",
   "execution_count": 66,
   "metadata": {
    "scrolled": true
   },
   "outputs": [
    {
     "data": {
      "text/plain": [
       "array([[194570],\n",
       "       [193545],\n",
       "       [196149],\n",
       "       [190241],\n",
       "       [189141],\n",
       "       [210487],\n",
       "       [206549],\n",
       "       [174618]])"
      ]
     },
     "execution_count": 66,
     "metadata": {},
     "output_type": "execute_result"
    }
   ],
   "source": [
    "true_loan_count"
   ]
  },
  {
   "cell_type": "code",
   "execution_count": 67,
   "metadata": {},
   "outputs": [
    {
     "data": {
      "text/plain": [
       "((109, 2), (8, 2))"
      ]
     },
     "execution_count": 67,
     "metadata": {},
     "output_type": "execute_result"
    }
   ],
   "source": [
    "dataset_train.shape, dataset_test.shape"
   ]
  },
  {
   "cell_type": "code",
   "execution_count": 68,
   "metadata": {},
   "outputs": [],
   "source": [
    "dataset_total = pd.concat((dataset_train['Count'],\n",
    "                           dataset_test['Count']),\n",
    "                          axis=0)\n",
    "inputs = dataset_total[len(dataset_total) - len(dataset_test) - 8:].values\n",
    "inputs = inputs.reshape(-1, 1)\n",
    "inputs = sc.transform(inputs)\n",
    "#inputs"
   ]
  },
  {
   "cell_type": "code",
   "execution_count": 69,
   "metadata": {},
   "outputs": [],
   "source": [
    "X_test = []\n",
    "for i in range(8, 16):\n",
    "    X_test.append(inputs[i-8:i, 0])\n",
    "X_test = np.array(X_test)\n",
    "X_test = np.reshape(X_test, (X_test.shape[0], X_test.shape[1], 1))\n",
    "predicted_loans = lstm_model.predict(X_test)\n",
    "predicted_loans = sc.inverse_transform(predicted_loans)"
   ]
  },
  {
   "cell_type": "code",
   "execution_count": 70,
   "metadata": {},
   "outputs": [
    {
     "data": {
      "image/png": "[encoded data removed]",
      "text/plain": [
       "<Figure size 1440x360 with 1 Axes>"
      ]
     },
     "metadata": {
      "needs_background": "light"
     },
     "output_type": "display_data"
    },
    {
     "name": "stdout",
     "output_type": "stream",
     "text": [
      "RMSE Train Score: 5762.00\n",
      "MSE Train Score: 33200682.4385 \n",
      "\n",
      "RMSE Test Score: 6534.2960 \n",
      "MSE Test Score: 42697024.6312 \n"
     ]
    }
   ],
   "source": [
    "plt.figure(figsize=(20, 5))\n",
    "plt.subplot(121)\n",
    "plt.plot(true_loan_count, color='black', label='True Count')\n",
    "plt.plot(predicted_loans, color='green', label='Predicted Count')\n",
    "plt.title('LendingClub Rejection Prediction')\n",
    "plt.xlabel('Week')\n",
    "plt.ylabel('Number of Loans')\n",
    "plt.legend()\n",
    "plt.show()\n",
    "\n",
    "\n",
    "# make predictions\n",
    "import math\n",
    "trainPredict = lstm_model.predict(X_train)\n",
    "testPredict = lstm_model.predict(X_test)\n",
    "# invert predictions\n",
    "trainPredict = sc.inverse_transform(trainPredict)\n",
    "trainY = sc.inverse_transform([y_train])\n",
    "\n",
    "testPredict = sc.inverse_transform(testPredict)\n",
    "testY = sc.inverse_transform([y_test])\n",
    "# calculate root mean squared error\n",
    "trainScore1 = math.sqrt(mean_squared_error(trainY[0], trainPredict[:,0]))\n",
    "print(f'RMSE Train Score: {trainScore1:.2f}' )\n",
    "trainScore2 = mean_squared_error(trainY[0], trainPredict[:,0])\n",
    "print('MSE Train Score: %.4f ' % (trainScore2))\n",
    "\n",
    "testScore3 = math.sqrt(mean_squared_error(testY[0], testPredict[:,0]))\n",
    "print('\\nRMSE Test Score: %.4f ' % (testScore3))\n",
    "testScore4 = mean_squared_error(testY[0], testPredict[:,0])\n",
    "print('MSE Test Score: %.4f ' % (testScore4))"
   ]
  },
  {
   "cell_type": "markdown",
   "metadata": {},
   "source": [
    "_From the plot the model didn't do that well, it is overfitting.  It is predicting more rejections. The root mean square of the  actual and the predicted are not close at all._"
   ]
  },
  {
   "cell_type": "code",
   "execution_count": 71,
   "metadata": {},
   "outputs": [
    {
     "name": "stderr",
     "output_type": "stream",
     "text": [
      "W0708 03:08:03.673815 4586948032 legend.py:1289] No handles with labels found to put in legend.\n"
     ]
    },
    {
     "data": {
      "image/png": "[encoded data removed]",
      "text/plain": [
       "<Figure size 1080x576 with 1 Axes>"
      ]
     },
     "metadata": {
      "needs_background": "light"
     },
     "output_type": "display_data"
    }
   ],
   "source": [
    "plt.title('LendingClub Rejection Residuals')\n",
    "plt.xlabel('Week')\n",
    "plt.ylabel('Count')\n",
    "plt.legend()\n",
    "residual = testY - testPredict\n",
    "plt.boxplot(residual)\n",
    "plt.show()"
   ]
  },
  {
   "cell_type": "code",
   "execution_count": 72,
   "metadata": {},
   "outputs": [
    {
     "data": {
      "text/plain": [
       "[<matplotlib.lines.Line2D at 0x119a66748>]"
      ]
     },
     "execution_count": 72,
     "metadata": {},
     "output_type": "execute_result"
    },
    {
     "data": {
      "image/png": "[encoded data removed]",
      "text/plain": [
       "<Figure size 1080x576 with 1 Axes>"
      ]
     },
     "metadata": {
      "needs_background": "light"
     },
     "output_type": "display_data"
    }
   ],
   "source": [
    "plt.title('LendingClub Epochs vs Loss')\n",
    "plt.xlabel('Epochs')\n",
    "plt.ylabel('Loss')\n",
    "plt.plot(history.history['loss'])"
   ]
  },
  {
   "cell_type": "code",
   "execution_count": null,
   "metadata": {},
   "outputs": [],
   "source": []
  }
 ],
 "metadata": {
  "kernelspec": {
   "display_name": "Python 3",
   "language": "python",
   "name": "python3"
  },
  "language_info": {
   "codemirror_mode": {
    "name": "ipython",
    "version": 3
   },
   "file_extension": ".py",
   "mimetype": "text/x-python",
   "name": "python",
   "nbconvert_exporter": "python",
   "pygments_lexer": "ipython3",
   "version": "3.7.1"
  }
 },
 "nbformat": 4,
 "nbformat_minor": 2
}
