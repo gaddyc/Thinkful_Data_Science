{
 "cells": [
  {
   "cell_type": "markdown",
   "metadata": {},
   "source": [
    "# Capstone Proposal \n",
    "\n",
    "## Charla Gaddy"
   ]
  },
  {
   "cell_type": "markdown",
   "metadata": {},
   "source": [
    "-----------------------"
   ]
  },
  {
   "cell_type": "markdown",
   "metadata": {},
   "source": [
    "## Introduction\n",
    "\n",
    "LendingClub is a US peer-to-peer lending company. They enable borrowers to create unsecured personal loans between $1,000 - $40,000 with a standard loan period of three years. Investors can search and browse the loan listings on LendingClub website and select loans that they want to invest in based on the information supplied about the borrower. Investors make money from interest. LendingClub makes money by charging borrowers an origination fee and investors a service fee.\n",
    "\n",
    "This analysis will be a valuable resource for all parties involved.  The loan applicants can compare their information to what was modeled to see approved for a loan or not.  The investors and LendingClub will benefit to see the percentage of loans that get approved and paid back. Forecasting how many loans that are approved for the next month will benefit investors. They will be able to have funds ready to loan to their peers and possibly know how many loans they will be able to fund.\n",
    "\n",
    "## Data Source\n",
    "Data will be downloaded directly from the Lending club website.\n",
    "\n",
    "https://www.lendingclub.com/info/download-data.action\n",
    "\n",
    "\n",
    "## Analysis\n",
    "\n",
    "__Supervised Learning__\n",
    "\n",
    "_Predict how many loans will be issued and of those loans how many will default or pay in full.  This classification analysis will use Random Forest, Support Vector Machine, Extreme Gradient Boost and Logistic Regression to determine the accuracy and the ROC/AUC scores. The best model will be tuned to see if the score will increase therefore making a stronger model to present to the investors._\n",
    "\n",
    "__Unsupervised Learning__\n",
    "\n",
    "_K-means clustering algorithm will be used to find groups in the data which have not been explicitly labeled. Rather than defining groups before looking at the data, Kmeans clustering allows you to find and analyze the groups that have formed organically. We want to see what other groups exist in the data, which may create a better understanding of features that are not necesarily evident._\n",
    "\n",
    "\n",
    "__Time Series__\n",
    "\n",
    "_How many loans will be approved for the next month? I will check for trends and seasonality in the data.  Determine if the data is stationary and if not use differencing and investigate ACF, PACF and AIC to determine the best model. ARIMA, SARIMA and Prophet are the models that I will be exploring to forecast._\n",
    "\n",
    "__TensorFlow & Keras__\n",
    "\n",
    "_I will use neural networks to classify who will pay or default on the loan. I am anticipating only using one layer for this model._\n",
    "\n",
    "## Challenges\n",
    "_Getting a well-trained model may take many train-test iterations and many grid-searches to find the best parameters. I haven't checked to see if the data is stationary or not but my hope is that if it's not stationary that only one step is needed. Right now the biggest challenge will be time.  Each algorithm will take time to run._"
   ]
  },
  {
   "cell_type": "code",
   "execution_count": null,
   "metadata": {},
   "outputs": [],
   "source": []
  }
 ],
 "metadata": {
  "kernelspec": {
   "display_name": "Python 3",
   "language": "python",
   "name": "python3"
  },
  "language_info": {
   "codemirror_mode": {
    "name": "ipython",
    "version": 3
   },
   "file_extension": ".py",
   "mimetype": "text/x-python",
   "name": "python",
   "nbconvert_exporter": "python",
   "pygments_lexer": "ipython3",
   "version": "3.7.1"
  }
 },
 "nbformat": 4,
 "nbformat_minor": 2
}
