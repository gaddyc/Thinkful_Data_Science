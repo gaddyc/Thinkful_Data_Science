{
 "cells": [
  {
   "cell_type": "markdown",
   "metadata": {},
   "source": [
    "# Sort in 60 Minutes\n"
   ]
  },
  {
   "cell_type": "markdown",
   "metadata": {},
   "source": [
    "## DRILL\n",
    "\n",
    "Return to the [sorting wiki page](https://en.wikipedia.org/wiki/Sorting_algorithm) and pick an algorithm we haven't covered here (you probably want to pick one of the simpler ones, but it's up to you. Implement it in Python below and see how it compares in sorting our short and long lists. You should be able to easily find guides on how to implement any of the algorithms. Can you figure out why it runs faster or slower than our other sorting algorithms?\n",
    "\n",
    "Some good sorts to try are:\n",
    "* Heap Sort\n",
    "* Selection Sort\n",
    "* QuickSort"
   ]
  },
  {
   "cell_type": "markdown",
   "metadata": {},
   "source": [
    "# Heap Sort\n",
    "\n",
    "\n",
    "https://en.wikipedia.org/wiki/Heapsort\n",
    "\n",
    "### Overview\n",
    "The heapsort algorithm can be divided into two parts.\n",
    "\n",
    "In the first step, a heap is built out of the data. The heap is often placed in an array with the layout of a complete binary tree. The complete binary tree maps the binary tree structure into the array indices; each array index represents a node; the index of the node's parent, left child branch, or right child branch are simple expressions. For a zero-based array, the root node is stored at index 0; if i is the index of the current node, then\n",
    "\n",
    "    iParent(i)     = floor((i-1) / 2) where floor functions map a real number to the smallest leading integer.\n",
    "    iLeftChild(i)  = 2*i + 1\n",
    "    iRightChild(i) = 2*i + 2\n",
    "    \n",
    "In the second step, a sorted array is created by repeatedly removing the largest element from the heap (the root of the heap), and inserting it into the array. The heap is updated after each removal to maintain the heap property. Once all objects have been removed from the heap, the result is a sorted array.\n",
    "\n",
    "Heapsort can be performed in place. The array can be split into two parts, the sorted array and the heap. The storage of heaps as arrays is diagrammed here. The heap's invariant is preserved after each extraction, so the only cost is that of extraction.\n",
    "\n",
    "### Pseudocode\n",
    "\n",
    "The following is a simple way to implement the algorithm in pseudocode. Arrays are zero-based\n",
    "and swap is used to exchange two elements of the array. Movement 'down' means from the root \n",
    "towards the leaves, or from lower indices to higher. Note that during the sort, the largest \n",
    "element is at the root of the heap at a[0], while at the end of the sort, the largest element is in a[end].\n",
    "\n",
    "procedure heapsort(a, count) is\n",
    "    input: an unordered array a of length count\n",
    " \n",
    "    (Build the heap in array a so that largest value is at the root)\n",
    "    heapify(a, count)\n",
    "\n",
    "    (The following loop maintains the invariants that a[0:end] is a heap and every element\n",
    "     beyond end is greater than everything before it (so a[end:count] is in sorted order))\n",
    "    end ← count - 1\n",
    "    while end > 0 do\n",
    "        (a[0] is the root and largest value. The swap moves it in front of the sorted elements.)\n",
    "        swap(a[end], a[0])\n",
    "        (the heap size is reduced by one)\n",
    "        end ← end - 1\n",
    "        (the swap ruined the heap property, so restore it)\n",
    "        siftDown(a, 0, end)\n",
    "        \n",
    "The sorting routine uses two subroutines, heapify and siftDown. The former is the common in-place\n",
    "heap construction routine, while the latter is a common subroutine for implementing heapify."
   ]
  },
  {
   "cell_type": "code",
   "execution_count": 20,
   "metadata": {},
   "outputs": [
    {
     "data": {
      "text/plain": [
       "list"
      ]
     },
     "execution_count": 20,
     "metadata": {},
     "output_type": "execute_result"
    }
   ],
   "source": [
    "import time\n",
    "import random\n",
    "\n",
    "# Set seed.\n",
    "random.seed(a=100)\n",
    "\n",
    "# Create our default list.\n",
    "short_list = list(random.sample(range(1000000), 10))\n",
    "long_list = list(random.sample(range(1000000), 10000))"
   ]
  },
  {
   "cell_type": "code",
   "execution_count": 33,
   "metadata": {},
   "outputs": [],
   "source": [
    "def heapify(nums, heapSize, rootIndex):  \n",
    "    '''(Build the heap in array a so that largest value is at the root)\n",
    "        heapify(a, count)'''\n",
    "    largest = rootIndex\n",
    "    \n",
    "    ''' the root node is stored at index 0; if i is the index of the current node'''\n",
    "    leftChild = (2 * rootIndex) + 1\n",
    "    rightChild = (2 * rootIndex) + 2\n",
    "\n",
    "    ''' If the left child of the root is a valid index, and the element is greater\n",
    "         than the current largest element, then update the largest element. Repeat\n",
    "         for the right child'''\n",
    "    if leftChild < heapSize and nums[leftChild] > nums[largest]:\n",
    "        largest = leftChild\n",
    "\n",
    "    if rightChild < heapSize and nums[rightChild] > nums[largest]:\n",
    "        largest = rightChild\n",
    "\n",
    "    # swap largest index with the root index - if they are not equal\n",
    "    if largest != rootIndex:\n",
    "        nums[rootIndex], nums[largest] = nums[largest], nums[rootIndex]\n",
    "        # start again, making sure root is actually the largest\n",
    "        heapify(nums, heapSize, largest)\n",
    " "
   ]
  },
  {
   "cell_type": "code",
   "execution_count": 34,
   "metadata": {},
   "outputs": [],
   "source": [
    "def heapSort(nums):  \n",
    "    '''n=length of the lsit, 1st '-1' is the range, \n",
    "        we stop at the last variable in the array the 2nd '-1' we iterate \n",
    "        backwards, from right to left'''\n",
    "    n = len(nums)\n",
    "    for i in range(n, -1, -1):\n",
    "        heapify(nums, n, i)\n",
    "       # print(nums,n,i)\n",
    "    # Move the root of the max heap to the end of\n",
    "    for i in range(n - 1, 0, -1):\n",
    "        nums[i], nums[0] = nums[0], nums[i]\n",
    "        heapify(nums, i, 0)"
   ]
  },
  {
   "cell_type": "code",
   "execution_count": 35,
   "metadata": {},
   "outputs": [
    {
     "name": "stdout",
     "output_type": "stream",
     "text": [
      "[1, 7, 8, 9, 22, 50, 90, 99, 900]\n"
     ]
    }
   ],
   "source": [
    "# test case\n",
    "test = [900, 9, 1, 22, 8, 99, 50, 7, 90]  \n",
    "heapSort(test)  \n",
    "print(test) "
   ]
  },
  {
   "cell_type": "code",
   "execution_count": 36,
   "metadata": {},
   "outputs": [
    {
     "name": "stdout",
     "output_type": "stream",
     "text": [
      "--- 0.00015282630920410156 seconds ---\n"
     ]
    }
   ],
   "source": [
    "# Start the timer.\n",
    "start_time = time.time()\n",
    "\n",
    "# Run our insertion sort.\n",
    "heapSort(short_list)\n",
    "\n",
    "# Print time to show runtime.\n",
    "print(\"--- %s seconds ---\" % (time.time() - start_time))\n",
    "#print(heapSort(short_list))"
   ]
  },
  {
   "cell_type": "code",
   "execution_count": 37,
   "metadata": {},
   "outputs": [
    {
     "name": "stdout",
     "output_type": "stream",
     "text": [
      "--- 0.1390688419342041 seconds ---\n"
     ]
    }
   ],
   "source": [
    "# Test on long list.\n",
    "start_time = time.time()\n",
    "\n",
    "heapSort(long_list)\n",
    "\n",
    "print(\"--- %s seconds ---\" % (time.time() - start_time))"
   ]
  },
  {
   "cell_type": "code",
   "execution_count": null,
   "metadata": {},
   "outputs": [],
   "source": []
  }
 ],
 "metadata": {
  "kernelspec": {
   "display_name": "Python 3",
   "language": "python",
   "name": "python3"
  },
  "language_info": {
   "codemirror_mode": {
    "name": "ipython",
    "version": 3
   },
   "file_extension": ".py",
   "mimetype": "text/x-python",
   "name": "python",
   "nbconvert_exporter": "python",
   "pygments_lexer": "ipython3",
   "version": "3.7.1"
  }
 },
 "nbformat": 4,
 "nbformat_minor": 2
}
